{
 "cells": [
  {
   "cell_type": "code",
   "execution_count": null,
   "metadata": {},
   "outputs": [],
   "source": [
    "import pandas as pd\n",
    "import plotly.graph_objects as go\n",
    "from collections import Counter\n",
    "import networkx as nx\n",
    "import matplotlib.pyplot as plt\n",
    "from plotly.subplots import make_subplots\n",
    "import numpy as np\n",
    "\n",
    "df = pd.read_excel(r\"G:\\_2020\\20.013_ka Bioökonomie 2020\\3_Bioökonomie-Cluster\\Python\\WKO_bot\\Datenbank nach Branchen\\WKO_database_branchen_gesamt.xlsx\", index=False)"
   ]
  },
  {
   "cell_type": "code",
   "execution_count": null,
   "metadata": {},
   "outputs": [],
   "source": [
    "df_drop = df.drop_duplicates()\n",
    "df_drop = df_drop.drop_duplicates(subset=['company_name', 'branche_layer_3'])\n",
    "duplicateRowsDF = df_drop[df_drop.duplicated(['company_name'], keep=False)]\n",
    "duplicateRowsDF.sort_values('company_name')\n",
    "duplicateRowsDF.set_index(['company_name', 'branche_layer_3'], inplace=True)"
   ]
  },
  {
   "cell_type": "code",
   "execution_count": null,
   "metadata": {},
   "outputs": [],
   "source": [
    "size_factor = 100\n",
    "\n",
    "layer_3 = df_drop[['branche_layer_1', 'branche_layer_2', 'branche_layer_3']].drop_duplicates(subset=['branche_layer_3'])\n",
    "dups = df_drop.pivot_table(index = 'branche_layer_3', aggfunc ='size') \n",
    "dups = dups.reset_index()\n",
    "dups.rename(columns={0: \"members\"}, inplace=True)\n",
    "layer_3.reset_index(inplace=True)\n",
    "layer_3['members'] = dups['members']\n",
    "layer_3.drop(columns=['index'], inplace=True)\n",
    "layer_3['size'] = (layer_3['members']/(max(layer_3['members']) - min(layer_3['members']))) * size_factor\n",
    "\n",
    "\n",
    "layer_2 = df_drop[['branche_layer_1', 'branche_layer_2']].drop_duplicates(subset=['branche_layer_2'])\n",
    "dups = df_drop.pivot_table(index = 'branche_layer_2', aggfunc ='size') \n",
    "dups = dups.reset_index()\n",
    "dups.rename(columns={0: \"members\"}, inplace=True)\n",
    "layer_2.reset_index(inplace=True)\n",
    "layer_2['members'] = dups['members']\n",
    "layer_2.drop(columns=['index'], inplace=True)\n",
    "layer_2['size'] =(layer_2['members']/(max(layer_2['members']) - min(layer_3['members']))) * size_factor\n",
    "\n",
    "\n",
    "layer_1 = df_drop['branche_layer_1'].drop_duplicates()\n",
    "dups = df_drop.pivot_table(index = 'branche_layer_1', aggfunc ='size') \n",
    "dups = dups.reset_index()\n",
    "dups.rename(columns={0: \"members\"}, inplace=True)\n",
    "layer_1 = layer_1.to_frame()\n",
    "layer_1.reset_index(inplace=True)\n",
    "layer_1['members'] = dups['members']\n",
    "layer_1.drop(columns=['index'], inplace=True)\n",
    "layer_1['size'] =(layer_1['members']/(max(layer_1['members']) - min(layer_3['members']))) * size_factor\n"
   ]
  },
  {
   "cell_type": "code",
   "execution_count": 139,
   "metadata": {},
   "outputs": [
    {
     "name": "stdout",
     "output_type": "stream",
     "text": [
      "                                      branche_layer_3  size    weight\n",
      "0                                    Agrarunternehmer  1466  0.193327\n",
      "1                                           Bootbauer   127  0.016748\n",
      "2      Briefumschlag- und Papierausstattungsindustrie     1  0.000132\n",
      "3              Büro- und Organisationsmittelindustrie    13  0.001714\n",
      "4                           Bürsten- und Pinselmacher    17  0.002242\n",
      "..                                                ...   ...       ...\n",
      "76                        Wärmeversorgungsunternehmen   290  0.038243\n",
      "77                         Zigarettenpapierkonfektion     1  0.000132\n",
      "78                       industrielle Bautischlereien    41  0.005407\n",
      "79  sonstige Sanitär-, Heizungs- und Lüftungstechn...   196  0.025847\n",
      "80               sonstige holzverarbeitende Industrie   125  0.016484\n",
      "\n",
      "[81 rows x 3 columns]\n"
     ]
    }
   ],
   "source": [
    "edge_li = []\n",
    "for index, new_df in duplicateRowsDF.groupby(level=0):\n",
    "    #print(\"New Group\")\n",
    "    li = []\n",
    "    for L3, row in new_df.iterrows():\n",
    "        #print(L3[0], L3[1], len(new_df))\n",
    "        li.append(L3[1])\n",
    "    for i in range(0,len(li)):\n",
    "        A = li[i]\n",
    "        for j in range(i+1, len(li)):\n",
    "            B = li[j]\n",
    "            edge = [A, B]\n",
    "            edge_li.append(edge)\n",
    "edge_df = pd.DataFrame(edge_li, columns= ['A','B'])\n",
    "edge_info = edge_df.groupby(edge_df.columns.tolist(),as_index=False).size()\n",
    "edge_info = edge_info.reset_index()\n",
    "edge_info.rename(columns={0: \"size\"}, inplace=True)\n",
    "edge_info[\"weight\"] = (edge_info[\"size\"]/(max(edge_info[\"size\"])-min(edge_info[\"size\"])))\n",
    "\n",
    "dups = df_drop.pivot_table(index = 'branche_layer_3', aggfunc ='size') \n",
    "dups = dups.reset_index()\n",
    "dups.rename(columns={0: \"size\"}, inplace=True)\n",
    "dups[\"weight\"] = (dups[\"size\"]/(max(dups[\"size\"])-min(dups[\"size\"])))\n",
    "print(dups)"
   ]
  },
  {
   "cell_type": "code",
   "execution_count": 162,
   "metadata": {},
   "outputs": [
    {
     "data": {
      "text/html": [
       "<div>\n",
       "<style scoped>\n",
       "    .dataframe tbody tr th:only-of-type {\n",
       "        vertical-align: middle;\n",
       "    }\n",
       "\n",
       "    .dataframe tbody tr th {\n",
       "        vertical-align: top;\n",
       "    }\n",
       "\n",
       "    .dataframe thead th {\n",
       "        text-align: right;\n",
       "    }\n",
       "</style>\n",
       "<table border=\"1\" class=\"dataframe\">\n",
       "  <thead>\n",
       "    <tr style=\"text-align: right;\">\n",
       "      <th></th>\n",
       "      <th>branche_layer_1</th>\n",
       "      <th>branche_layer_2</th>\n",
       "      <th>branche_layer_3</th>\n",
       "      <th>members</th>\n",
       "      <th>size</th>\n",
       "    </tr>\n",
       "  </thead>\n",
       "  <tbody>\n",
       "    <tr>\n",
       "      <th>0</th>\n",
       "      <td>Gewerbe und Handwerk</td>\n",
       "      <td>Gewerbliche Dienstleister (gesamt)</td>\n",
       "      <td>Agrarunternehmer</td>\n",
       "      <td>1466</td>\n",
       "      <td>19.332718</td>\n",
       "    </tr>\n",
       "    <tr>\n",
       "      <th>1</th>\n",
       "      <td>Gewerbe und Handwerk</td>\n",
       "      <td>Tischler und Holzgestalter (gesamt)</td>\n",
       "      <td>Bootbauer</td>\n",
       "      <td>127</td>\n",
       "      <td>1.674799</td>\n",
       "    </tr>\n",
       "    <tr>\n",
       "      <th>2</th>\n",
       "      <td>Industrie</td>\n",
       "      <td>Industr. Hersteller von Produkten aus Papier u...</td>\n",
       "      <td>Briefumschlag- und Papierausstattungsindustrie</td>\n",
       "      <td>1</td>\n",
       "      <td>0.013187</td>\n",
       "    </tr>\n",
       "    <tr>\n",
       "      <th>3</th>\n",
       "      <td>Industrie</td>\n",
       "      <td>Industr. Hersteller von Produkten aus Papier u...</td>\n",
       "      <td>Büro- und Organisationsmittelindustrie</td>\n",
       "      <td>13</td>\n",
       "      <td>0.171436</td>\n",
       "    </tr>\n",
       "    <tr>\n",
       "      <th>4</th>\n",
       "      <td>Gewerbe und Handwerk</td>\n",
       "      <td>Tischler und Holzgestalter (gesamt)</td>\n",
       "      <td>Bürsten- und Pinselmacher</td>\n",
       "      <td>17</td>\n",
       "      <td>0.224186</td>\n",
       "    </tr>\n",
       "    <tr>\n",
       "      <th>...</th>\n",
       "      <td>...</td>\n",
       "      <td>...</td>\n",
       "      <td>...</td>\n",
       "      <td>...</td>\n",
       "      <td>...</td>\n",
       "    </tr>\n",
       "    <tr>\n",
       "      <th>76</th>\n",
       "      <td>Industrie</td>\n",
       "      <td>Industr. Hersteller von Produkten aus Papier u...</td>\n",
       "      <td>Wellpappeindustrie</td>\n",
       "      <td>290</td>\n",
       "      <td>3.824344</td>\n",
       "    </tr>\n",
       "    <tr>\n",
       "      <th>77</th>\n",
       "      <td>Gewerbe und Handwerk</td>\n",
       "      <td>Tischler und Holzgestalter (gesamt)</td>\n",
       "      <td>Wurzelschnitzer</td>\n",
       "      <td>1</td>\n",
       "      <td>0.013187</td>\n",
       "    </tr>\n",
       "    <tr>\n",
       "      <th>78</th>\n",
       "      <td>Gewerbe und Handwerk</td>\n",
       "      <td>Gewerbliche Dienstleister (gesamt)</td>\n",
       "      <td>Wärmeversorgung unter 5 km und unter 5 MW</td>\n",
       "      <td>41</td>\n",
       "      <td>0.540683</td>\n",
       "    </tr>\n",
       "    <tr>\n",
       "      <th>79</th>\n",
       "      <td>Industrie</td>\n",
       "      <td>Gas- und Wärmeversorgungsunternehmungen (gesamt)</td>\n",
       "      <td>Wärmeversorgungsunternehmen</td>\n",
       "      <td>196</td>\n",
       "      <td>2.584729</td>\n",
       "    </tr>\n",
       "    <tr>\n",
       "      <th>80</th>\n",
       "      <td>Industrie</td>\n",
       "      <td>Industr. Hersteller von Produkten aus Papier u...</td>\n",
       "      <td>Zigarettenpapierkonfektion</td>\n",
       "      <td>125</td>\n",
       "      <td>1.648424</td>\n",
       "    </tr>\n",
       "  </tbody>\n",
       "</table>\n",
       "<p>81 rows × 5 columns</p>\n",
       "</div>"
      ],
      "text/plain": [
       "         branche_layer_1                                    branche_layer_2  \\\n",
       "0   Gewerbe und Handwerk                 Gewerbliche Dienstleister (gesamt)   \n",
       "1   Gewerbe und Handwerk                Tischler und Holzgestalter (gesamt)   \n",
       "2              Industrie  Industr. Hersteller von Produkten aus Papier u...   \n",
       "3              Industrie  Industr. Hersteller von Produkten aus Papier u...   \n",
       "4   Gewerbe und Handwerk                Tischler und Holzgestalter (gesamt)   \n",
       "..                   ...                                                ...   \n",
       "76             Industrie  Industr. Hersteller von Produkten aus Papier u...   \n",
       "77  Gewerbe und Handwerk                Tischler und Holzgestalter (gesamt)   \n",
       "78  Gewerbe und Handwerk                 Gewerbliche Dienstleister (gesamt)   \n",
       "79             Industrie   Gas- und Wärmeversorgungsunternehmungen (gesamt)   \n",
       "80             Industrie  Industr. Hersteller von Produkten aus Papier u...   \n",
       "\n",
       "                                   branche_layer_3  members       size  \n",
       "0                                 Agrarunternehmer     1466  19.332718  \n",
       "1                                        Bootbauer      127   1.674799  \n",
       "2   Briefumschlag- und Papierausstattungsindustrie        1   0.013187  \n",
       "3           Büro- und Organisationsmittelindustrie       13   0.171436  \n",
       "4                        Bürsten- und Pinselmacher       17   0.224186  \n",
       "..                                             ...      ...        ...  \n",
       "76                              Wellpappeindustrie      290   3.824344  \n",
       "77                                 Wurzelschnitzer        1   0.013187  \n",
       "78       Wärmeversorgung unter 5 km und unter 5 MW       41   0.540683  \n",
       "79                     Wärmeversorgungsunternehmen      196   2.584729  \n",
       "80                      Zigarettenpapierkonfektion      125   1.648424  \n",
       "\n",
       "[81 rows x 5 columns]"
      ]
     },
     "execution_count": 162,
     "metadata": {},
     "output_type": "execute_result"
    }
   ],
   "source": [
    "layer_3"
   ]
  },
  {
   "cell_type": "code",
   "execution_count": 140,
   "metadata": {},
   "outputs": [],
   "source": [
    "edge_info.to_excel(r\"G:\\_2020\\20.013_ka Bioökonomie 2020\\3_Bioökonomie-Cluster\\Datenbank\\Hilfsfiles\\branchen_edges.xls\", index=False)\n",
    "dups.to_excel(r\"G:\\_2020\\20.013_ka Bioökonomie 2020\\3_Bioökonomie-Cluster\\Datenbank\\Hilfsfiles\\branchen_nodes.xls\", index=False)"
   ]
  },
  {
   "cell_type": "code",
   "execution_count": null,
   "metadata": {},
   "outputs": [],
   "source": [
    "##########################  Visualisierung ######################################"
   ]
  },
  {
   "cell_type": "code",
   "execution_count": null,
   "metadata": {},
   "outputs": [],
   "source": [
    "list_L1 = layer_1[\"branche_layer_1\"].tolist()\n",
    "list_L2 = layer_2[\"branche_layer_2\"].tolist()\n",
    "list_L3 = layer_3[\"branche_layer_3\"].tolist()\n",
    "\n",
    "L3_L2 = dict(zip(layer_3[\"branche_layer_3\"], layer_3[\"branche_layer_2\"]))\n",
    "L2_L1 = dict(zip(layer_3[\"branche_layer_2\"], layer_3[\"branche_layer_1\"]))\n",
    "\n",
    "\n",
    "L3_L2_json = {L2: [node for node in layer_3[\"branche_layer_3\"] if L3_L2[node] == L2]\n",
    "                    for L2 in list_L2}\n",
    "\n",
    "json = {}\n",
    "for L1 in list_L1:\n",
    "    for L in L3_L2_json:\n",
    "        if L2_L1[L] == L1:\n",
    "            json[L1] = {L: L3_L2_json[L] for L in L3_L2_json if L2_L1[L] == L1}\n"
   ]
  },
  {
   "cell_type": "code",
   "execution_count": 214,
   "metadata": {},
   "outputs": [
    {
     "name": "stdout",
     "output_type": "stream",
     "text": [
      "L1=  Gewerbe und Handwerk angs=  2.0943951023931953\n",
      "L2=  Gewerbliche Dienstleister (gesamt) angs=  1.2566370614359172\n",
      "L3=  Agrarunternehmer angs=  1.5707963267948966\n",
      "L3=  Forstunternehmer angs=  3.141592653589793\n",
      "L3=  Holzzerkleinerer angs=  4.71238898038469\n",
      "L3=  Wärmeversorgung unter 5 km und unter 5 MW angs=  6.283185307179586\n",
      "L2=  Tischler und Holzgestalter (gesamt) angs=  2.5132741228718345\n",
      "L3=  Bootbauer angs=  0.6981317007977318\n",
      "L3=  Bürsten- und Pinselmacher angs=  1.3962634015954636\n",
      "L3=  Drechsler angs=  2.0943951023931953\n",
      "L3=  Hobelwerke angs=  2.792526803190927\n",
      "L3=  Holzgestalter angs=  3.490658503988659\n",
      "L3=  Korb- und Möbelflechter angs=  4.1887902047863905\n",
      "L3=  Parkettbodenleger angs=  4.886921905584122\n",
      "L3=  Tischler angs=  5.585053606381854\n",
      "L3=  Wurzelschnitzer angs=  6.283185307179586\n",
      "L2=  Gärtner und Floristen (gesamt) angs=  3.7699111843077517\n",
      "L3=  Floristen (Blumenbinder und Blumeneinzelhändler) angs=  1.2566370614359172\n",
      "L3=  Friedhofsgärtner angs=  2.5132741228718345\n",
      "L3=  Gartenpflege bzw. eingeschränkte Gewerbeumfänge angs=  3.7699111843077517\n",
      "L3=  Kleinhandel mit Schnittblumen angs=  5.026548245743669\n",
      "L3=  Landschaftsgärtner (Garten- und Grünflächengestalter) angs=  6.283185307179586\n",
      "L2=  Sanitär-, Heizungs- und Lüftungstechniker (gesamt) angs=  5.026548245743669\n",
      "L3=  Gas- und Sanitärtechnik angs=  0.7853981633974483\n",
      "L3=  Gaseinrichtungen in mobilen Fahrzeugen und Anlagen angs=  1.5707963267948966\n",
      "L3=  Gastechniker angs=  2.356194490192345\n",
      "L3=  Heizungstechnik angs=  3.141592653589793\n",
      "L3=  Lüftungstechnik angs=  3.9269908169872414\n",
      "L3=  Sanitärtechniker angs=  4.71238898038469\n",
      "L3=  sonstige Sanitär-, Heizungs- und Lüftungstechniker angs=  5.497787143782138\n",
      "L3=  Warmwasserbereitungsanlagen angs=  6.283185307179586\n",
      "L2=  Holzbau (gesamt) angs=  6.283185307179586\n",
      "L3=  Holzbau-Meister angs=  1.5707963267948966\n",
      "L3=  Holzbaugewerbetreibender, eingeschr. auf ausführende Tät. angs=  3.141592653589793\n",
      "L3=  Holzbaugewerbetreibender, eingeschränkt auf Teilbereiche angs=  4.71238898038469\n",
      "L3=  Holzschindelerzeuger angs=  6.283185307179586\n",
      "L1=  Industrie angs=  4.1887902047863905\n",
      "L2=  Industr. Hersteller von Produkten aus Papier und Karton (gesamt) angs=  1.5707963267948966\n",
      "L3=  Briefumschlag- und Papierausstattungsindustrie angs=  0.3490658503988659\n",
      "L3=  Büro- und Organisationsmittelindustrie angs=  0.6981317007977318\n",
      "L3=  Faltschachtelindustrie angs=  1.0471975511965976\n",
      "L3=  Herstellung von Dekorations- und Festartikeln angs=  1.3962634015954636\n",
      "L3=  Herstellung von Etiketten aller Art angs=  1.7453292519943295\n",
      "L3=  Herstellung von Spielkarten und anderer Spielwaren aller Art angs=  2.0943951023931953\n",
      "L3=  Industrie flexibler Verpackungen angs=  2.443460952792061\n",
      "L3=  Industrie hygienischer Papierwaren angs=  2.792526803190927\n",
      "L3=  Industrielle Buchbindereien angs=  3.141592653589793\n",
      "L3=  Kartonagenindustrie angs=  3.490658503988659\n",
      "L3=  Konfektionierung Papier,Karton,Pappe zu Produkten aller Art angs=  3.839724354387525\n",
      "L3=  Packstoffveredelungs- und Zurichteindustrie angs=  4.1887902047863905\n",
      "L3=  Papier- und Kartonveredelungsindustrie angs=  4.537856055185257\n",
      "L3=  Sonstige industrielle Papierverarbeitung angs=  4.886921905584122\n",
      "L3=  Sonstige industrielle Verpackungsherstellung angs=  5.235987755982989\n",
      "L3=  Verpackungsindustrie angs=  5.585053606381854\n",
      "L3=  Wellpappeindustrie angs=  5.93411945678072\n",
      "L3=  Zigarettenpapierkonfektion angs=  6.283185307179586\n",
      "L2=  Holzindustrie (gesamt) angs=  3.141592653589793\n",
      "L3=  Energieholzindustrie angs=  0.39269908169872414\n",
      "L3=  Hobelwarenindustrie angs=  0.7853981633974483\n",
      "L3=  Holzhaus- und Hallenbauindustrie angs=  1.1780972450961724\n",
      "L3=  Holzimprägnier- und -veredelungsindustrie angs=  1.5707963267948966\n",
      "L3=  Holzverpackungs- und -packmittelindustrie angs=  1.9634954084936207\n",
      "L3=  Holzwerkstoffindustrie angs=  2.356194490192345\n",
      "L3=  industrielle Bautischlereien angs=  2.748893571891069\n",
      "L3=  Klavierindustrie angs=  3.141592653589793\n",
      "L3=  Kork- und Korkwarenindustrie angs=  3.5342917352885173\n",
      "L3=  Leimholzindustrie angs=  3.9269908169872414\n",
      "L3=  Möbelindustrie angs=  4.319689898685965\n",
      "L3=  Parkettindustrie angs=  4.71238898038469\n",
      "L3=  Rahmen- und Leistenindustrie angs=  5.105088062083414\n",
      "L3=  Ski- und Sportarktikelindustrie angs=  5.497787143782138\n",
      "L3=  sonstige holzverarbeitende Industrie angs=  5.890486225480862\n",
      "L3=  Sägewerksunternehmungen angs=  6.283185307179586\n",
      "L2=  Gas- und Wärmeversorgungsunternehmungen (gesamt) angs=  4.71238898038469\n",
      "L3=  Gasversorgungsunternehmen angs=  3.141592653589793\n",
      "L3=  Wärmeversorgungsunternehmen angs=  6.283185307179586\n",
      "L2=  Papierindustrie (gesamt) angs=  6.283185307179586\n",
      "L3=  Papier-, Zellstoff-, Holzstoff- und Pappenindustrie angs=  6.283185307179586\n",
      "L1=  Handel angs=  6.283185307179586\n",
      "L2=  Papier- und Spielwarenhandel (gesamt) angs=  2.0943951023931953\n",
      "L3=  Einzelhandel mit Papier-, Schreibwaren und Bürobedarf angs=  0.7853981633974483\n",
      "L3=  Einzelhandel mit Romane, Zeitschriften und Magazine angs=  1.5707963267948966\n",
      "L3=  Großhandel mit Papier-, Schreibwaren und Bürobedarf angs=  2.356194490192345\n",
      "L3=  Großhandel mit Romanen, Zeitschriften und Magazinen angs=  3.141592653589793\n",
      "L3=  Großhandel mit Spielwaren angs=  3.9269908169872414\n",
      "L3=  Handel mit Papier-, Schreibwaren und Bürobedarf angs=  4.71238898038469\n",
      "L3=  Handel mit Post- und Ansichtskarten angs=  5.497787143782138\n",
      "L3=  Papiereinzelhandel im Rahmen einer Trafik angs=  6.283185307179586\n",
      "L2=  Energiehandel (gesamt) angs=  4.1887902047863905\n",
      "L3=  Handel mit festen, mineralischen oder biogenen Brennstoffen angs=  1.5707963267948966\n",
      "L3=  Handel mit Heizölen und Flüssiggas angs=  3.141592653589793\n",
      "L3=  Handel mit sonstigen Mineralölprodukten angs=  4.71238898038469\n",
      "L3=  Handel mit Strom angs=  6.283185307179586\n",
      "L2=  Baustoff-, Eisen-, Hartwaren- und Holzhandel (gesamt) angs=  6.283185307179586\n",
      "L3=  Handel mit Holz angs=  3.141592653589793\n",
      "L3=  Handel mit Holzfabrikaten und Holzhäusern angs=  6.283185307179586\n"
     ]
    }
   ],
   "source": [
    "import random\n",
    "\n",
    "angs_L1 = {}\n",
    "angs_L2 = {}\n",
    "angs_L3 = {}\n",
    "angs_L1_dict = {}\n",
    "angs_L2_dict = {}\n",
    "angs_L3_dict = {}\n",
    "\n",
    "for i, L1 in enumerate(json.keys()):\n",
    "    angs_L1 = np.linspace(0, 2 * np.pi, 1 + len(json.keys()))\n",
    "    angs_L1 = np.delete(angs_L1, [0])   \n",
    "    angs_L1_dict[L1] = angs_L1[i]\n",
    "    print('L1= ', L1, 'angs= ', angs_L1[i])\n",
    "    for j, L2 in enumerate(json[L1].keys()):\n",
    "        angs_L2 = np.linspace(0, 2 * np.pi, 1 + len(json[L1].keys()))\n",
    "        angs_L2 = np.delete(angs_L2, [0])\n",
    "        angs_L2_dict[L2] = angs_L2[j]\n",
    "        print('L2= ', L2, 'angs= ', angs_L2[j])\n",
    "        for k, L3 in enumerate(json[L1][L2]):\n",
    "            angs_L3 = np.linspace(0, 2 * np.pi, 1 + len(json[L1][L2]))\n",
    "            angs_L3 = np.delete(angs_L3, [0])\n",
    "            angs_L3_dict[L3] = angs_L3[k]\n",
    "            print('L3= ', L3, 'angs= ', angs_L3[k])\n"
   ]
  },
  {
   "cell_type": "code",
   "execution_count": 219,
   "metadata": {},
   "outputs": [
    {
     "data": {
      "text/plain": [
       "-0.9899924966004454"
      ]
     },
     "execution_count": 219,
     "metadata": {},
     "output_type": "execute_result"
    }
   ],
   "source": [
    "np.cos(3)"
   ]
  },
  {
   "cell_type": "code",
   "execution_count": 222,
   "metadata": {},
   "outputs": [
    {
     "name": "stdout",
     "output_type": "stream",
     "text": [
      "Agrarunternehmer  angs =  1.5707963267948966\n",
      "Agrarunternehmer [-23.45491503  48.55655277]\n",
      "Forstunternehmer  angs =  3.141592653589793\n",
      "Forstunternehmer [-23.95491503  48.05655277]\n",
      "Holzzerkleinerer  angs =  4.71238898038469\n",
      "Holzzerkleinerer [-23.45491503  47.55655277]\n",
      "Wärmeversorgung unter 5 km und unter 5 MW  angs =  6.283185307179586\n",
      "Wärmeversorgung unter 5 km und unter 5 MW [-22.95491503  48.05655277]\n",
      "Bootbauer  angs =  0.6981317007977318\n",
      "Bootbauer [-23.07189281  48.37794658]\n",
      "Bürsten- und Pinselmacher  angs =  1.3962634015954636\n",
      "Bürsten- und Pinselmacher [-23.36809094  48.54895665]\n",
      "Drechsler  angs =  2.0943951023931953\n",
      "Drechsler [-23.70491503  48.48956547]\n",
      "Hobelwerke  angs =  2.792526803190927\n",
      "Hobelwerke [-23.92476134  48.22756284]\n",
      "Holzgestalter  angs =  3.490658503988659\n",
      "Holzgestalter [-23.92476134  47.8855427 ]\n",
      "Korb- und Möbelflechter  angs =  4.1887902047863905\n",
      "Korb- und Möbelflechter [-23.70491503  47.62354007]\n",
      "Parkettbodenleger  angs =  4.886921905584122\n",
      "Parkettbodenleger [-23.36809094  47.56414889]\n",
      "Tischler  angs =  5.585053606381854\n",
      "Tischler [-23.07189281  47.73515897]\n",
      "Wurzelschnitzer  angs =  6.283185307179586\n",
      "Wurzelschnitzer [-22.95491503  48.05655277]\n",
      "Floristen (Blumenbinder und Blumeneinzelhändler)  angs =  1.2566370614359172\n",
      "Floristen (Blumenbinder und Blumeneinzelhändler) [-23.30040653  48.53208103]\n",
      "Friedhofsgärtner  angs =  2.5132741228718345\n",
      "Friedhofsgärtner [-23.85942353  48.3504454 ]\n",
      "Gartenpflege bzw. eingeschränkte Gewerbeumfänge  angs =  3.7699111843077517\n",
      "Gartenpflege bzw. eingeschränkte Gewerbeumfänge [-23.85942353  47.76266014]\n",
      "Kleinhandel mit Schnittblumen  angs =  5.026548245743669\n",
      "Kleinhandel mit Schnittblumen [-23.30040653  47.58102451]\n",
      "Landschaftsgärtner (Garten- und Grünflächengestalter)  angs =  6.283185307179586\n",
      "Landschaftsgärtner (Garten- und Grünflächengestalter) [-22.95491503  48.05655277]\n",
      "Gas- und Sanitärtechnik  angs =  0.7853981633974483\n",
      "Gas- und Sanitärtechnik [-23.10136164  48.41010616]\n",
      "Gaseinrichtungen in mobilen Fahrzeugen und Anlagen  angs =  1.5707963267948966\n",
      "Gaseinrichtungen in mobilen Fahrzeugen und Anlagen [-23.45491503  48.55655277]\n",
      "Gastechniker  angs =  2.356194490192345\n",
      "Gastechniker [-23.80846842  48.41010616]\n",
      "Heizungstechnik  angs =  3.141592653589793\n",
      "Heizungstechnik [-23.95491503  48.05655277]\n",
      "Lüftungstechnik  angs =  3.9269908169872414\n",
      "Lüftungstechnik [-23.80846842  47.70299938]\n",
      "Sanitärtechniker  angs =  4.71238898038469\n",
      "Sanitärtechniker [-23.45491503  47.55655277]\n",
      "sonstige Sanitär-, Heizungs- und Lüftungstechniker  angs =  5.497787143782138\n",
      "sonstige Sanitär-, Heizungs- und Lüftungstechniker [-23.10136164  47.70299938]\n",
      "Warmwasserbereitungsanlagen  angs =  6.283185307179586\n",
      "Warmwasserbereitungsanlagen [-22.95491503  48.05655277]\n",
      "Holzbau-Meister  angs =  1.5707963267948966\n",
      "Holzbau-Meister [-23.45491503  48.55655277]\n",
      "Holzbaugewerbetreibender, eingeschr. auf ausführende Tät.  angs =  3.141592653589793\n",
      "Holzbaugewerbetreibender, eingeschr. auf ausführende Tät. [-23.95491503  48.05655277]\n",
      "Holzbaugewerbetreibender, eingeschränkt auf Teilbereiche  angs =  4.71238898038469\n",
      "Holzbaugewerbetreibender, eingeschränkt auf Teilbereiche [-23.45491503  47.55655277]\n",
      "Holzschindelerzeuger  angs =  6.283185307179586\n",
      "Holzschindelerzeuger [-22.95491503  48.05655277]\n",
      "Briefumschlag- und Papierausstattungsindustrie  angs =  0.3490658503988659\n",
      "Briefumschlag- und Papierausstattungsindustrie [-22.98506872  48.22756284]\n",
      "Büro- und Organisationsmittelindustrie  angs =  0.6981317007977318\n",
      "Büro- und Organisationsmittelindustrie [-23.07189281  48.37794658]\n",
      "Faltschachtelindustrie  angs =  1.0471975511965976\n",
      "Faltschachtelindustrie [-23.20491503  48.48956547]\n",
      "Herstellung von Dekorations- und Festartikeln  angs =  1.3962634015954636\n",
      "Herstellung von Dekorations- und Festartikeln [-23.36809094  48.54895665]\n",
      "Herstellung von Etiketten aller Art  angs =  1.7453292519943295\n",
      "Herstellung von Etiketten aller Art [-23.54173912  48.54895665]\n",
      "Herstellung von Spielkarten und anderer Spielwaren aller Art  angs =  2.0943951023931953\n",
      "Herstellung von Spielkarten und anderer Spielwaren aller Art [-23.70491503  48.48956547]\n",
      "Industrie flexibler Verpackungen  angs =  2.443460952792061\n",
      "Industrie flexibler Verpackungen [-23.83793725  48.37794658]\n",
      "Industrie hygienischer Papierwaren  angs =  2.792526803190927\n",
      "Industrie hygienischer Papierwaren [-23.92476134  48.22756284]\n",
      "Industrielle Buchbindereien  angs =  3.141592653589793\n",
      "Industrielle Buchbindereien [-23.95491503  48.05655277]\n",
      "Kartonagenindustrie  angs =  3.490658503988659\n",
      "Kartonagenindustrie [-23.92476134  47.8855427 ]\n",
      "Konfektionierung Papier,Karton,Pappe zu Produkten aller Art  angs =  3.839724354387525\n",
      "Konfektionierung Papier,Karton,Pappe zu Produkten aller Art [-23.83793725  47.73515897]\n",
      "Packstoffveredelungs- und Zurichteindustrie  angs =  4.1887902047863905\n",
      "Packstoffveredelungs- und Zurichteindustrie [-23.70491503  47.62354007]\n",
      "Papier- und Kartonveredelungsindustrie  angs =  4.537856055185257\n",
      "Papier- und Kartonveredelungsindustrie [-23.54173912  47.56414889]\n",
      "Sonstige industrielle Papierverarbeitung  angs =  4.886921905584122\n",
      "Sonstige industrielle Papierverarbeitung [-23.36809094  47.56414889]\n",
      "Sonstige industrielle Verpackungsherstellung  angs =  5.235987755982989\n",
      "Sonstige industrielle Verpackungsherstellung [-23.20491503  47.62354007]\n",
      "Verpackungsindustrie  angs =  5.585053606381854\n",
      "Verpackungsindustrie [-23.07189281  47.73515897]\n",
      "Wellpappeindustrie  angs =  5.93411945678072\n",
      "Wellpappeindustrie [-22.98506872  47.8855427 ]\n",
      "Zigarettenpapierkonfektion  angs =  6.283185307179586\n",
      "Zigarettenpapierkonfektion [-22.95491503  48.05655277]\n",
      "Energieholzindustrie  angs =  0.39269908169872414\n",
      "Energieholzindustrie [-22.99297526  48.24789449]\n",
      "Hobelwarenindustrie  angs =  0.7853981633974483\n",
      "Hobelwarenindustrie [-23.10136164  48.41010616]\n",
      "Holzhaus- und Hallenbauindustrie  angs =  1.1780972450961724\n",
      "Holzhaus- und Hallenbauindustrie [-23.26357331  48.51849254]\n",
      "Holzimprägnier- und -veredelungsindustrie  angs =  1.5707963267948966\n",
      "Holzimprägnier- und -veredelungsindustrie [-23.45491503  48.55655277]\n",
      "Holzverpackungs- und -packmittelindustrie  angs =  1.9634954084936207\n",
      "Holzverpackungs- und -packmittelindustrie [-23.64625674  48.51849254]\n",
      "Holzwerkstoffindustrie  angs =  2.356194490192345\n",
      "Holzwerkstoffindustrie [-23.80846842  48.41010616]\n",
      "industrielle Bautischlereien  angs =  2.748893571891069\n",
      "industrielle Bautischlereien [-23.91685479  48.24789449]\n",
      "Klavierindustrie  angs =  3.141592653589793\n",
      "Klavierindustrie [-23.95491503  48.05655277]\n",
      "Kork- und Korkwarenindustrie  angs =  3.5342917352885173\n",
      "Kork- und Korkwarenindustrie [-23.91685479  47.86521105]\n",
      "Leimholzindustrie  angs =  3.9269908169872414\n",
      "Leimholzindustrie [-23.80846842  47.70299938]\n",
      "Möbelindustrie  angs =  4.319689898685965\n",
      "Möbelindustrie [-23.64625674  47.594613  ]\n",
      "Parkettindustrie  angs =  4.71238898038469\n",
      "Parkettindustrie [-23.45491503  47.55655277]\n",
      "Rahmen- und Leistenindustrie  angs =  5.105088062083414\n",
      "Rahmen- und Leistenindustrie [-23.26357331  47.594613  ]\n",
      "Ski- und Sportarktikelindustrie  angs =  5.497787143782138\n",
      "Ski- und Sportarktikelindustrie [-23.10136164  47.70299938]\n",
      "sonstige holzverarbeitende Industrie  angs =  5.890486225480862\n",
      "sonstige holzverarbeitende Industrie [-22.99297526  47.86521105]\n",
      "Sägewerksunternehmungen  angs =  6.283185307179586\n",
      "Sägewerksunternehmungen [-22.95491503  48.05655277]\n",
      "Gasversorgungsunternehmen  angs =  3.141592653589793\n",
      "Gasversorgungsunternehmen [-23.95491503  48.05655277]\n",
      "Wärmeversorgungsunternehmen  angs =  6.283185307179586\n",
      "Wärmeversorgungsunternehmen [-22.95491503  48.05655277]\n",
      "Papier-, Zellstoff-, Holzstoff- und Pappenindustrie  angs =  6.283185307179586\n",
      "Papier-, Zellstoff-, Holzstoff- und Pappenindustrie [-22.95491503  48.05655277]\n",
      "Einzelhandel mit Papier-, Schreibwaren und Bürobedarf  angs =  0.7853981633974483\n",
      "Einzelhandel mit Papier-, Schreibwaren und Bürobedarf [-23.10136164  48.41010616]\n",
      "Einzelhandel mit Romane, Zeitschriften und Magazine  angs =  1.5707963267948966\n",
      "Einzelhandel mit Romane, Zeitschriften und Magazine [-23.45491503  48.55655277]\n",
      "Großhandel mit Papier-, Schreibwaren und Bürobedarf  angs =  2.356194490192345\n",
      "Großhandel mit Papier-, Schreibwaren und Bürobedarf [-23.80846842  48.41010616]\n",
      "Großhandel mit Romanen, Zeitschriften und Magazinen  angs =  3.141592653589793\n",
      "Großhandel mit Romanen, Zeitschriften und Magazinen [-23.95491503  48.05655277]\n",
      "Großhandel mit Spielwaren  angs =  3.9269908169872414\n",
      "Großhandel mit Spielwaren [-23.80846842  47.70299938]\n",
      "Handel mit Papier-, Schreibwaren und Bürobedarf  angs =  4.71238898038469\n",
      "Handel mit Papier-, Schreibwaren und Bürobedarf [-23.45491503  47.55655277]\n",
      "Handel mit Post- und Ansichtskarten  angs =  5.497787143782138\n",
      "Handel mit Post- und Ansichtskarten [-23.10136164  47.70299938]\n",
      "Papiereinzelhandel im Rahmen einer Trafik  angs =  6.283185307179586\n",
      "Papiereinzelhandel im Rahmen einer Trafik [-22.95491503  48.05655277]\n",
      "Handel mit festen, mineralischen oder biogenen Brennstoffen  angs =  1.5707963267948966\n",
      "Handel mit festen, mineralischen oder biogenen Brennstoffen [-23.45491503  48.55655277]\n",
      "Handel mit Heizölen und Flüssiggas  angs =  3.141592653589793\n",
      "Handel mit Heizölen und Flüssiggas [-23.95491503  48.05655277]\n",
      "Handel mit sonstigen Mineralölprodukten  angs =  4.71238898038469\n",
      "Handel mit sonstigen Mineralölprodukten [-23.45491503  47.55655277]\n",
      "Handel mit Strom  angs =  6.283185307179586\n",
      "Handel mit Strom [-22.95491503  48.05655277]\n",
      "Handel mit Holz  angs =  3.141592653589793\n",
      "Handel mit Holz [-23.95491503  48.05655277]\n",
      "Handel mit Holzfabrikaten und Holzhäusern  angs =  6.283185307179586\n",
      "Handel mit Holzfabrikaten und Holzhäusern [-22.95491503  48.05655277]\n",
      "('Agrarunternehmer', 'Floristen (Blumenbinder und Blumeneinzelhändler)') -23.454915028125253 48.55655277069771 0.001081081081081081\n",
      "('Agrarunternehmer', 'Forstunternehmer') -23.454915028125253 48.55655277069771 0.06\n",
      "('Agrarunternehmer', 'Gartenpflege bzw. eingeschränkte Gewerbeumfänge') -23.454915028125253 48.55655277069771 0.013513513513513514\n",
      "('Agrarunternehmer', 'Gas- und Sanitärtechnik') -23.454915028125253 48.55655277069771 0.002162162162162162\n",
      "('Agrarunternehmer', 'Großhandel mit Spielwaren') -23.454915028125253 48.55655277069771 0.0002702702702702703\n",
      "('Agrarunternehmer', 'Handel mit Heizölen und Flüssiggas') -23.454915028125253 48.55655277069771 0.0002702702702702703\n",
      "('Agrarunternehmer', 'Handel mit Holz') -23.454915028125253 48.55655277069771 0.015135135135135135\n",
      "('Agrarunternehmer', 'Handel mit Holzfabrikaten und Holzhäusern') -23.454915028125253 48.55655277069771 0.0005405405405405405\n",
      "('Agrarunternehmer', 'Handel mit festen, mineralischen oder biogenen Brennstoffen') -23.454915028125253 48.55655277069771 0.00972972972972973\n",
      "('Agrarunternehmer', 'Handel mit sonstigen Mineralölprodukten') -23.454915028125253 48.55655277069771 0.0002702702702702703\n",
      "('Agrarunternehmer', 'Heizungstechnik') -23.454915028125253 48.55655277069771 0.0024324324324324323\n",
      "('Agrarunternehmer', 'Hobelwerke') -23.454915028125253 48.55655277069771 0.0002702702702702703\n",
      "('Agrarunternehmer', 'Holzbau-Meister') -23.454915028125253 48.55655277069771 0.0005405405405405405\n",
      "('Agrarunternehmer', 'Holzbaugewerbetreibender, eingeschr. auf ausführende Tät.') -23.454915028125253 48.55655277069771 0.0005405405405405405\n",
      "('Agrarunternehmer', 'Holzgestalter') -23.454915028125253 48.55655277069771 0.0005405405405405405\n",
      "('Agrarunternehmer', 'Holzzerkleinerer') -23.454915028125253 48.55655277069771 0.0075675675675675675\n",
      "('Agrarunternehmer', 'Landschaftsgärtner (Garten- und Grünflächengestalter)') -23.454915028125253 48.55655277069771 0.004054054054054054\n",
      "('Agrarunternehmer', 'Papiereinzelhandel im Rahmen einer Trafik') -23.454915028125253 48.55655277069771 0.0002702702702702703\n",
      "('Agrarunternehmer', 'Sanitärtechniker') -23.454915028125253 48.55655277069771 0.0008108108108108108\n",
      "('Agrarunternehmer', 'Sägewerksunternehmungen') -23.454915028125253 48.55655277069771 0.002972972972972973\n",
      "('Agrarunternehmer', 'Tischler') -23.454915028125253 48.55655277069771 0.007027027027027027\n",
      "('Agrarunternehmer', 'Wärmeversorgung unter 5 km und unter 5 MW') -23.454915028125253 48.55655277069771 0.0016216216216216215\n",
      "('Agrarunternehmer', 'Wärmeversorgungsunternehmen') -23.454915028125253 48.55655277069771 0.0005405405405405405\n",
      "('Agrarunternehmer', 'sonstige Sanitär-, Heizungs- und Lüftungstechniker') -23.454915028125253 48.55655277069771 0.0008108108108108108\n",
      "('Floristen (Blumenbinder und Blumeneinzelhändler)', 'Einzelhandel mit Papier-, Schreibwaren und Bürobedarf') -23.300406530937778 48.53208102884528 0.0008108108108108108\n",
      "('Floristen (Blumenbinder und Blumeneinzelhändler)', 'Forstunternehmer') -23.300406530937778 48.53208102884528 0.0013513513513513514\n",
      "('Floristen (Blumenbinder und Blumeneinzelhändler)', 'Friedhofsgärtner') -23.300406530937778 48.53208102884528 0.006216216216216216\n",
      "('Floristen (Blumenbinder und Blumeneinzelhändler)', 'Gartenpflege bzw. eingeschränkte Gewerbeumfänge') -23.300406530937778 48.53208102884528 0.0016216216216216215\n",
      "('Floristen (Blumenbinder und Blumeneinzelhändler)', 'Gas- und Sanitärtechnik') -23.300406530937778 48.53208102884528 0.001081081081081081\n",
      "('Floristen (Blumenbinder und Blumeneinzelhändler)', 'Handel mit Heizölen und Flüssiggas') -23.300406530937778 48.53208102884528 0.0008108108108108108\n",
      "('Floristen (Blumenbinder und Blumeneinzelhändler)', 'Handel mit Holz') -23.300406530937778 48.53208102884528 0.002162162162162162\n",
      "('Floristen (Blumenbinder und Blumeneinzelhändler)', 'Handel mit Papier-, Schreibwaren und Bürobedarf') -23.300406530937778 48.53208102884528 0.0002702702702702703\n",
      "('Floristen (Blumenbinder und Blumeneinzelhändler)', 'Handel mit festen, mineralischen oder biogenen Brennstoffen') -23.300406530937778 48.53208102884528 0.0013513513513513514\n",
      "('Floristen (Blumenbinder und Blumeneinzelhändler)', 'Handel mit sonstigen Mineralölprodukten') -23.300406530937778 48.53208102884528 0.001081081081081081\n",
      "('Floristen (Blumenbinder und Blumeneinzelhändler)', 'Heizungstechnik') -23.300406530937778 48.53208102884528 0.0013513513513513514\n",
      "('Floristen (Blumenbinder und Blumeneinzelhändler)', 'Holzbau-Meister') -23.300406530937778 48.53208102884528 0.0002702702702702703\n",
      "('Floristen (Blumenbinder und Blumeneinzelhändler)', 'Holzgestalter') -23.300406530937778 48.53208102884528 0.0002702702702702703\n",
      "('Floristen (Blumenbinder und Blumeneinzelhändler)', 'Holzzerkleinerer') -23.300406530937778 48.53208102884528 0.0002702702702702703\n",
      "('Floristen (Blumenbinder und Blumeneinzelhändler)', 'Kleinhandel mit Schnittblumen') -23.300406530937778 48.53208102884528 0.005675675675675676\n",
      "('Floristen (Blumenbinder und Blumeneinzelhändler)', 'Landschaftsgärtner (Garten- und Grünflächengestalter)') -23.300406530937778 48.53208102884528 0.018108108108108107\n",
      "('Floristen (Blumenbinder und Blumeneinzelhändler)', 'Lüftungstechnik') -23.300406530937778 48.53208102884528 0.0002702702702702703\n",
      "('Floristen (Blumenbinder und Blumeneinzelhändler)', 'Möbelindustrie') -23.300406530937778 48.53208102884528 0.0002702702702702703\n",
      "('Floristen (Blumenbinder und Blumeneinzelhändler)', 'Papiereinzelhandel im Rahmen einer Trafik') -23.300406530937778 48.53208102884528 0.0002702702702702703\n",
      "('Floristen (Blumenbinder und Blumeneinzelhändler)', 'Sägewerksunternehmungen') -23.300406530937778 48.53208102884528 0.0008108108108108108\n",
      "('Floristen (Blumenbinder und Blumeneinzelhändler)', 'Tischler') -23.300406530937778 48.53208102884528 0.002702702702702703\n",
      "('Forstunternehmer', 'Bootbauer') -23.954915028125253 48.05655277069771 0.0002702702702702703\n",
      "('Forstunternehmer', 'Drechsler') -23.954915028125253 48.05655277069771 0.0002702702702702703\n",
      "('Forstunternehmer', 'Friedhofsgärtner') -23.954915028125253 48.05655277069771 0.0013513513513513514\n",
      "('Forstunternehmer', 'Gartenpflege bzw. eingeschränkte Gewerbeumfänge') -23.954915028125253 48.05655277069771 0.07\n",
      "('Forstunternehmer', 'Gas- und Sanitärtechnik') -23.954915028125253 48.05655277069771 0.005945945945945946\n",
      "('Forstunternehmer', 'Handel mit Heizölen und Flüssiggas') -23.954915028125253 48.05655277069771 0.0002702702702702703\n",
      "('Forstunternehmer', 'Handel mit Holz') -23.954915028125253 48.05655277069771 0.13567567567567568\n",
      "('Forstunternehmer', 'Handel mit Holzfabrikaten und Holzhäusern') -23.954915028125253 48.05655277069771 0.0013513513513513514\n",
      "('Forstunternehmer', 'Handel mit Strom') -23.954915028125253 48.05655277069771 0.0002702702702702703\n",
      "('Forstunternehmer', 'Handel mit festen, mineralischen oder biogenen Brennstoffen') -23.954915028125253 48.05655277069771 0.027297297297297296\n",
      "('Forstunternehmer', 'Handel mit sonstigen Mineralölprodukten') -23.954915028125253 48.05655277069771 0.0005405405405405405\n",
      "('Forstunternehmer', 'Heizungstechnik') -23.954915028125253 48.05655277069771 0.005135135135135135\n",
      "('Forstunternehmer', 'Holzbau-Meister') -23.954915028125253 48.05655277069771 0.004864864864864865\n",
      "('Forstunternehmer', 'Holzbaugewerbetreibender, eingeschr. auf ausführende Tät.') -23.954915028125253 48.05655277069771 0.004324324324324324\n",
      "('Forstunternehmer', 'Holzbaugewerbetreibender, eingeschränkt auf Teilbereiche') -23.954915028125253 48.05655277069771 0.0013513513513513514\n",
      "('Forstunternehmer', 'Holzgestalter') -23.954915028125253 48.05655277069771 0.0018918918918918919\n",
      "('Forstunternehmer', 'Holzschindelerzeuger') -23.954915028125253 48.05655277069771 0.0016216216216216215\n",
      "('Forstunternehmer', 'Holzverpackungs- und -packmittelindustrie') -23.954915028125253 48.05655277069771 0.0002702702702702703\n",
      "('Forstunternehmer', 'Holzzerkleinerer') -23.954915028125253 48.05655277069771 0.02702702702702703\n",
      "('Forstunternehmer', 'Landschaftsgärtner (Garten- und Grünflächengestalter)') -23.954915028125253 48.05655277069771 0.024324324324324326\n",
      "('Forstunternehmer', 'Lüftungstechnik') -23.954915028125253 48.05655277069771 0.0005405405405405405\n",
      "('Forstunternehmer', 'Papiereinzelhandel im Rahmen einer Trafik') -23.954915028125253 48.05655277069771 0.0002702702702702703\n",
      "('Forstunternehmer', 'Parkettbodenleger') -23.954915028125253 48.05655277069771 0.0002702702702702703\n",
      "('Forstunternehmer', 'Rahmen- und Leistenindustrie') -23.954915028125253 48.05655277069771 0.0002702702702702703\n",
      "('Forstunternehmer', 'Sanitärtechniker') -23.954915028125253 48.05655277069771 0.0008108108108108108\n",
      "('Forstunternehmer', 'Sägewerksunternehmungen') -23.954915028125253 48.05655277069771 0.014594594594594595\n",
      "('Forstunternehmer', 'Tischler') -23.954915028125253 48.05655277069771 0.01783783783783784\n",
      "('Forstunternehmer', 'Wärmeversorgung unter 5 km und unter 5 MW') -23.954915028125253 48.05655277069771 0.005675675675675676\n",
      "('Forstunternehmer', 'Wärmeversorgungsunternehmen') -23.954915028125253 48.05655277069771 0.002162162162162162\n",
      "('Forstunternehmer', 'sonstige Sanitär-, Heizungs- und Lüftungstechniker') -23.954915028125253 48.05655277069771 0.0013513513513513514\n",
      "('Forstunternehmer', 'sonstige holzverarbeitende Industrie') -23.954915028125253 48.05655277069771 0.0005405405405405405\n",
      "('Gartenpflege bzw. eingeschränkte Gewerbeumfänge', 'Drechsler') -23.859423525312728 47.76266014455147 0.0002702702702702703\n",
      "('Gartenpflege bzw. eingeschränkte Gewerbeumfänge', 'Friedhofsgärtner') -23.859423525312728 47.76266014455147 0.003243243243243243\n",
      "('Gartenpflege bzw. eingeschränkte Gewerbeumfänge', 'Gas- und Sanitärtechnik') -23.859423525312728 47.76266014455147 0.0024324324324324323\n",
      "('Gartenpflege bzw. eingeschränkte Gewerbeumfänge', 'Handel mit Holz') -23.859423525312728 47.76266014455147 0.014324324324324324\n",
      "('Gartenpflege bzw. eingeschränkte Gewerbeumfänge', 'Handel mit Holzfabrikaten und Holzhäusern') -23.859423525312728 47.76266014455147 0.0005405405405405405\n",
      "('Gartenpflege bzw. eingeschränkte Gewerbeumfänge', 'Handel mit Papier-, Schreibwaren und Bürobedarf') -23.859423525312728 47.76266014455147 0.0002702702702702703\n",
      "('Gartenpflege bzw. eingeschränkte Gewerbeumfänge', 'Handel mit Strom') -23.859423525312728 47.76266014455147 0.0002702702702702703\n",
      "('Gartenpflege bzw. eingeschränkte Gewerbeumfänge', 'Handel mit festen, mineralischen oder biogenen Brennstoffen') -23.859423525312728 47.76266014455147 0.003243243243243243\n",
      "('Gartenpflege bzw. eingeschränkte Gewerbeumfänge', 'Heizungstechnik') -23.859423525312728 47.76266014455147 0.0018918918918918919\n",
      "('Gartenpflege bzw. eingeschränkte Gewerbeumfänge', 'Holzbau-Meister') -23.859423525312728 47.76266014455147 0.0005405405405405405\n",
      "('Gartenpflege bzw. eingeschränkte Gewerbeumfänge', 'Holzbaugewerbetreibender, eingeschr. auf ausführende Tät.') -23.859423525312728 47.76266014455147 0.001081081081081081\n",
      "('Gartenpflege bzw. eingeschränkte Gewerbeumfänge', 'Holzbaugewerbetreibender, eingeschränkt auf Teilbereiche') -23.859423525312728 47.76266014455147 0.0002702702702702703\n",
      "('Gartenpflege bzw. eingeschränkte Gewerbeumfänge', 'Holzzerkleinerer') -23.859423525312728 47.76266014455147 0.002972972972972973\n",
      "('Gartenpflege bzw. eingeschränkte Gewerbeumfänge', 'Kleinhandel mit Schnittblumen') -23.859423525312728 47.76266014455147 0.0018918918918918919\n",
      "('Gartenpflege bzw. eingeschränkte Gewerbeumfänge', 'Landschaftsgärtner (Garten- und Grünflächengestalter)') -23.859423525312728 47.76266014455147 0.009189189189189189\n",
      "('Gartenpflege bzw. eingeschränkte Gewerbeumfänge', 'Papiereinzelhandel im Rahmen einer Trafik') -23.859423525312728 47.76266014455147 0.0002702702702702703\n",
      "('Gartenpflege bzw. eingeschränkte Gewerbeumfänge', 'Sanitärtechniker') -23.859423525312728 47.76266014455147 0.0008108108108108108\n",
      "('Gartenpflege bzw. eingeschränkte Gewerbeumfänge', 'Sägewerksunternehmungen') -23.859423525312728 47.76266014455147 0.001081081081081081\n",
      "('Gartenpflege bzw. eingeschränkte Gewerbeumfänge', 'Tischler') -23.859423525312728 47.76266014455147 0.007027027027027027\n",
      "('Gartenpflege bzw. eingeschränkte Gewerbeumfänge', 'Wärmeversorgung unter 5 km und unter 5 MW') -23.859423525312728 47.76266014455147 0.0002702702702702703\n",
      "('Gartenpflege bzw. eingeschränkte Gewerbeumfänge', 'Wärmeversorgungsunternehmen') -23.859423525312728 47.76266014455147 0.0002702702702702703\n",
      "('Gartenpflege bzw. eingeschränkte Gewerbeumfänge', 'sonstige Sanitär-, Heizungs- und Lüftungstechniker') -23.859423525312728 47.76266014455147 0.0016216216216216215\n",
      "('Gas- und Sanitärtechnik', 'Bootbauer') -23.10136163753198 48.41010616129098 0.0002702702702702703\n",
      "('Gas- und Sanitärtechnik', 'Drechsler') -23.10136163753198 48.41010616129098 0.0005405405405405405\n",
      "('Gas- und Sanitärtechnik', 'Friedhofsgärtner') -23.10136163753198 48.41010616129098 0.0005405405405405405\n",
      "('Gas- und Sanitärtechnik', 'Gastechniker') -23.10136163753198 48.41010616129098 0.0016216216216216215\n",
      "('Gas- und Sanitärtechnik', 'Gasversorgungsunternehmen') -23.10136163753198 48.41010616129098 0.005135135135135135\n",
      "('Gas- und Sanitärtechnik', 'Handel mit Heizölen und Flüssiggas') -23.10136163753198 48.41010616129098 0.003243243243243243\n",
      "('Gas- und Sanitärtechnik', 'Handel mit Holz') -23.10136163753198 48.41010616129098 0.012432432432432432\n",
      "('Gas- und Sanitärtechnik', 'Handel mit Holzfabrikaten und Holzhäusern') -23.10136163753198 48.41010616129098 0.0002702702702702703\n",
      "('Gas- und Sanitärtechnik', 'Handel mit Strom') -23.10136163753198 48.41010616129098 0.0002702702702702703\n",
      "('Gas- und Sanitärtechnik', 'Handel mit festen, mineralischen oder biogenen Brennstoffen') -23.10136163753198 48.41010616129098 0.008648648648648649\n",
      "('Gas- und Sanitärtechnik', 'Handel mit sonstigen Mineralölprodukten') -23.10136163753198 48.41010616129098 0.0008108108108108108\n",
      "('Gas- und Sanitärtechnik', 'Heizungstechnik') -23.10136163753198 48.41010616129098 1.0002702702702704\n",
      "('Gas- und Sanitärtechnik', 'Holzbau-Meister') -23.10136163753198 48.41010616129098 0.004864864864864865\n"
     ]
    },
    {
     "name": "stdout",
     "output_type": "stream",
     "text": [
      "('Gas- und Sanitärtechnik', 'Holzbaugewerbetreibender, eingeschr. auf ausführende Tät.') -23.10136163753198 48.41010616129098 0.0013513513513513514\n",
      "('Gas- und Sanitärtechnik', 'Holzbaugewerbetreibender, eingeschränkt auf Teilbereiche') -23.10136163753198 48.41010616129098 0.0005405405405405405\n",
      "('Gas- und Sanitärtechnik', 'Holzhaus- und Hallenbauindustrie') -23.10136163753198 48.41010616129098 0.0005405405405405405\n",
      "('Gas- und Sanitärtechnik', 'Holzzerkleinerer') -23.10136163753198 48.41010616129098 0.0008108108108108108\n",
      "('Gas- und Sanitärtechnik', 'Landschaftsgärtner (Garten- und Grünflächengestalter)') -23.10136163753198 48.41010616129098 0.004054054054054054\n",
      "('Gas- und Sanitärtechnik', 'Lüftungstechnik') -23.10136163753198 48.41010616129098 0.23324324324324325\n",
      "('Gas- und Sanitärtechnik', 'Möbelindustrie') -23.10136163753198 48.41010616129098 0.0002702702702702703\n",
      "('Gas- und Sanitärtechnik', 'Parkettbodenleger') -23.10136163753198 48.41010616129098 0.0005405405405405405\n",
      "('Gas- und Sanitärtechnik', 'Sanitärtechniker') -23.10136163753198 48.41010616129098 0.005405405405405406\n",
      "('Gas- und Sanitärtechnik', 'Sägewerksunternehmungen') -23.10136163753198 48.41010616129098 0.0016216216216216215\n",
      "('Gas- und Sanitärtechnik', 'Tischler') -23.10136163753198 48.41010616129098 0.01\n",
      "('Gas- und Sanitärtechnik', 'Wurzelschnitzer') -23.10136163753198 48.41010616129098 0.0002702702702702703\n",
      "('Gas- und Sanitärtechnik', 'Wärmeversorgung unter 5 km und unter 5 MW') -23.10136163753198 48.41010616129098 0.002972972972972973\n",
      "('Gas- und Sanitärtechnik', 'Wärmeversorgungsunternehmen') -23.10136163753198 48.41010616129098 0.008648648648648649\n",
      "('Gas- und Sanitärtechnik', 'sonstige Sanitär-, Heizungs- und Lüftungstechniker') -23.10136163753198 48.41010616129098 0.005405405405405406\n",
      "('Gas- und Sanitärtechnik', 'sonstige holzverarbeitende Industrie') -23.10136163753198 48.41010616129098 0.001081081081081081\n",
      "('Großhandel mit Spielwaren', 'Einzelhandel mit Papier-, Schreibwaren und Bürobedarf') -23.808468418718526 47.70299938010443 0.0005405405405405405\n",
      "('Großhandel mit Spielwaren', 'Großhandel mit Papier-, Schreibwaren und Bürobedarf') -23.808468418718526 47.70299938010443 0.0013513513513513514\n",
      "('Großhandel mit Spielwaren', 'Handel mit Papier-, Schreibwaren und Bürobedarf') -23.808468418718526 47.70299938010443 0.0002702702702702703\n",
      "('Großhandel mit Spielwaren', 'Holzgestalter') -23.808468418718526 47.70299938010443 0.0002702702702702703\n",
      "('Großhandel mit Spielwaren', 'Tischler') -23.808468418718526 47.70299938010443 0.0002702702702702703\n",
      "('Großhandel mit Spielwaren', 'industrielle Bautischlereien') -23.808468418718526 47.70299938010443 0.0002702702702702703\n",
      "('Handel mit Heizölen und Flüssiggas', 'Einzelhandel mit Papier-, Schreibwaren und Bürobedarf') -23.954915028125253 48.05655277069771 0.0002702702702702703\n",
      "('Handel mit Heizölen und Flüssiggas', 'Energieholzindustrie') -23.954915028125253 48.05655277069771 0.0002702702702702703\n",
      "('Handel mit Heizölen und Flüssiggas', 'Gaseinrichtungen in mobilen Fahrzeugen und Anlagen') -23.954915028125253 48.05655277069771 0.0002702702702702703\n",
      "('Handel mit Heizölen und Flüssiggas', 'Gastechniker') -23.954915028125253 48.05655277069771 0.0002702702702702703\n",
      "('Handel mit Heizölen und Flüssiggas', 'Gasversorgungsunternehmen') -23.954915028125253 48.05655277069771 0.0013513513513513514\n",
      "('Handel mit Heizölen und Flüssiggas', 'Handel mit Holz') -23.954915028125253 48.05655277069771 0.0024324324324324323\n",
      "('Handel mit Heizölen und Flüssiggas', 'Handel mit Holzfabrikaten und Holzhäusern') -23.954915028125253 48.05655277069771 0.0002702702702702703\n",
      "('Handel mit Heizölen und Flüssiggas', 'Handel mit Post- und Ansichtskarten') -23.954915028125253 48.05655277069771 0.0002702702702702703\n",
      "('Handel mit Heizölen und Flüssiggas', 'Handel mit Strom') -23.954915028125253 48.05655277069771 0.0035135135135135136\n",
      "('Handel mit Heizölen und Flüssiggas', 'Handel mit sonstigen Mineralölprodukten') -23.954915028125253 48.05655277069771 0.012972972972972972\n",
      "('Handel mit Heizölen und Flüssiggas', 'Heizungstechnik') -23.954915028125253 48.05655277069771 0.0013513513513513514\n",
      "('Handel mit Heizölen und Flüssiggas', 'Holzbau-Meister') -23.954915028125253 48.05655277069771 0.0002702702702702703\n",
      "('Handel mit Heizölen und Flüssiggas', 'Holzzerkleinerer') -23.954915028125253 48.05655277069771 0.0005405405405405405\n",
      "('Handel mit Heizölen und Flüssiggas', 'Landschaftsgärtner (Garten- und Grünflächengestalter)') -23.954915028125253 48.05655277069771 0.0002702702702702703\n",
      "('Handel mit Heizölen und Flüssiggas', 'Sägewerksunternehmungen') -23.954915028125253 48.05655277069771 0.0005405405405405405\n",
      "('Handel mit Heizölen und Flüssiggas', 'Handel mit festen, mineralischen oder biogenen Brennstoffen') -23.954915028125253 48.05655277069771 0.024324324324324326\n",
      "('Handel mit Holz', 'Bootbauer') -23.954915028125253 48.05655277069771 0.0002702702702702703\n",
      "('Handel mit Holz', 'Drechsler') -23.954915028125253 48.05655277069771 0.0005405405405405405\n",
      "('Handel mit Holz', 'Einzelhandel mit Papier-, Schreibwaren und Bürobedarf') -23.954915028125253 48.05655277069771 0.0002702702702702703\n",
      "('Handel mit Holz', 'Friedhofsgärtner') -23.954915028125253 48.05655277069771 0.0005405405405405405\n",
      "('Handel mit Holz', 'Gasversorgungsunternehmen') -23.954915028125253 48.05655277069771 0.0002702702702702703\n",
      "('Handel mit Holz', 'Großhandel mit Papier-, Schreibwaren und Bürobedarf') -23.954915028125253 48.05655277069771 0.0002702702702702703\n",
      "('Handel mit Holz', 'Handel mit Holzfabrikaten und Holzhäusern') -23.954915028125253 48.05655277069771 0.03405405405405405\n",
      "('Handel mit Holz', 'Handel mit Papier-, Schreibwaren und Bürobedarf') -23.954915028125253 48.05655277069771 0.0002702702702702703\n",
      "('Handel mit Holz', 'Handel mit Strom') -23.954915028125253 48.05655277069771 0.0002702702702702703\n",
      "('Handel mit Holz', 'Handel mit sonstigen Mineralölprodukten') -23.954915028125253 48.05655277069771 0.0008108108108108108\n",
      "('Handel mit Holz', 'Heizungstechnik') -23.954915028125253 48.05655277069771 0.01108108108108108\n",
      "('Handel mit Holz', 'Hobelwarenindustrie') -23.954915028125253 48.05655277069771 0.0016216216216216215\n",
      "('Handel mit Holz', 'Hobelwerke') -23.954915028125253 48.05655277069771 0.0008108108108108108\n",
      "('Handel mit Holz', 'Holzbau-Meister') -23.954915028125253 48.05655277069771 0.041891891891891894\n",
      "('Handel mit Holz', 'Holzbaugewerbetreibender, eingeschr. auf ausführende Tät.') -23.954915028125253 48.05655277069771 0.02054054054054054\n",
      "('Handel mit Holz', 'Holzbaugewerbetreibender, eingeschränkt auf Teilbereiche') -23.954915028125253 48.05655277069771 0.006486486486486486\n",
      "('Handel mit Holz', 'Holzgestalter') -23.954915028125253 48.05655277069771 0.008108108108108109\n",
      "('Handel mit Holz', 'Holzhaus- und Hallenbauindustrie') -23.954915028125253 48.05655277069771 0.001081081081081081\n",
      "('Handel mit Holz', 'Holzimprägnier- und -veredelungsindustrie') -23.954915028125253 48.05655277069771 0.0002702702702702703\n",
      "('Handel mit Holz', 'Holzschindelerzeuger') -23.954915028125253 48.05655277069771 0.002162162162162162\n",
      "('Handel mit Holz', 'Holzverpackungs- und -packmittelindustrie') -23.954915028125253 48.05655277069771 0.0008108108108108108\n",
      "('Handel mit Holz', 'Holzzerkleinerer') -23.954915028125253 48.05655277069771 0.013513513513513514\n",
      "('Handel mit Holz', 'Kleinhandel mit Schnittblumen') -23.954915028125253 48.05655277069771 0.0005405405405405405\n",
      "('Handel mit Holz', 'Landschaftsgärtner (Garten- und Grünflächengestalter)') -23.954915028125253 48.05655277069771 0.008378378378378378\n",
      "('Handel mit Holz', 'Leimholzindustrie') -23.954915028125253 48.05655277069771 0.002162162162162162\n",
      "('Handel mit Holz', 'Lüftungstechnik') -23.954915028125253 48.05655277069771 0.005135135135135135\n",
      "('Handel mit Holz', 'Möbelindustrie') -23.954915028125253 48.05655277069771 0.0005405405405405405\n",
      "('Handel mit Holz', 'Papiereinzelhandel im Rahmen einer Trafik') -23.954915028125253 48.05655277069771 0.0002702702702702703\n",
      "('Handel mit Holz', 'Parkettbodenleger') -23.954915028125253 48.05655277069771 0.002972972972972973\n",
      "('Handel mit Holz', 'Parkettindustrie') -23.954915028125253 48.05655277069771 0.0016216216216216215\n",
      "('Handel mit Holz', 'Rahmen- und Leistenindustrie') -23.954915028125253 48.05655277069771 0.0002702702702702703\n",
      "('Handel mit Holz', 'Sanitärtechniker') -23.954915028125253 48.05655277069771 0.0013513513513513514\n",
      "('Handel mit Holz', 'Sonstige industrielle Papierverarbeitung') -23.954915028125253 48.05655277069771 0.0002702702702702703\n",
      "('Handel mit Holz', 'Sägewerksunternehmungen') -23.954915028125253 48.05655277069771 0.07891891891891892\n",
      "('Handel mit Holz', 'Tischler') -23.954915028125253 48.05655277069771 0.11324324324324324\n",
      "('Handel mit Holz', 'Wärmeversorgung unter 5 km und unter 5 MW') -23.954915028125253 48.05655277069771 0.0037837837837837837\n",
      "('Handel mit Holz', 'Wärmeversorgungsunternehmen') -23.954915028125253 48.05655277069771 0.0018918918918918919\n",
      "('Handel mit Holz', 'industrielle Bautischlereien') -23.954915028125253 48.05655277069771 0.0024324324324324323\n",
      "('Handel mit Holz', 'sonstige Sanitär-, Heizungs- und Lüftungstechniker') -23.954915028125253 48.05655277069771 0.001081081081081081\n",
      "('Handel mit Holz', 'sonstige holzverarbeitende Industrie') -23.954915028125253 48.05655277069771 0.008378378378378378\n",
      "('Handel mit Holz', 'Handel mit festen, mineralischen oder biogenen Brennstoffen') -23.954915028125253 48.05655277069771 0.026216216216216216\n",
      "('Handel mit Holzfabrikaten und Holzhäusern', 'Handel mit Strom') -22.954915028125253 48.05655277069771 0.0002702702702702703\n",
      "('Handel mit Holzfabrikaten und Holzhäusern', 'Heizungstechnik') -22.954915028125253 48.05655277069771 0.0005405405405405405\n",
      "('Handel mit Holzfabrikaten und Holzhäusern', 'Hobelwarenindustrie') -22.954915028125253 48.05655277069771 0.0002702702702702703\n",
      "('Handel mit Holzfabrikaten und Holzhäusern', 'Holzbau-Meister') -22.954915028125253 48.05655277069771 0.003243243243243243\n",
      "('Handel mit Holzfabrikaten und Holzhäusern', 'Holzbaugewerbetreibender, eingeschr. auf ausführende Tät.') -22.954915028125253 48.05655277069771 0.0018918918918918919\n",
      "('Handel mit Holzfabrikaten und Holzhäusern', 'Holzbaugewerbetreibender, eingeschränkt auf Teilbereiche') -22.954915028125253 48.05655277069771 0.0013513513513513514\n",
      "('Handel mit Holzfabrikaten und Holzhäusern', 'Landschaftsgärtner (Garten- und Grünflächengestalter)') -22.954915028125253 48.05655277069771 0.0002702702702702703\n",
      "('Handel mit Holzfabrikaten und Holzhäusern', 'Leimholzindustrie') -22.954915028125253 48.05655277069771 0.0002702702702702703\n",
      "('Handel mit Holzfabrikaten und Holzhäusern', 'Parkettbodenleger') -22.954915028125253 48.05655277069771 0.0018918918918918919\n",
      "('Handel mit Holzfabrikaten und Holzhäusern', 'Parkettindustrie') -22.954915028125253 48.05655277069771 0.0002702702702702703\n",
      "('Handel mit Holzfabrikaten und Holzhäusern', 'Sägewerksunternehmungen') -22.954915028125253 48.05655277069771 0.0016216216216216215\n",
      "('Handel mit Holzfabrikaten und Holzhäusern', 'Tischler') -22.954915028125253 48.05655277069771 0.01108108108108108\n",
      "('Handel mit Holzfabrikaten und Holzhäusern', 'Wärmeversorgung unter 5 km und unter 5 MW') -22.954915028125253 48.05655277069771 0.0008108108108108108\n",
      "('Handel mit Holzfabrikaten und Holzhäusern', 'Wärmeversorgungsunternehmen') -22.954915028125253 48.05655277069771 0.0005405405405405405\n",
      "('Handel mit Holzfabrikaten und Holzhäusern', 'industrielle Bautischlereien') -22.954915028125253 48.05655277069771 0.0002702702702702703\n",
      "('Handel mit Holzfabrikaten und Holzhäusern', 'sonstige holzverarbeitende Industrie') -22.954915028125253 48.05655277069771 0.0016216216216216215\n",
      "('Handel mit Holzfabrikaten und Holzhäusern', 'Handel mit festen, mineralischen oder biogenen Brennstoffen') -22.954915028125253 48.05655277069771 0.0008108108108108108\n",
      "('Handel mit festen, mineralischen oder biogenen Brennstoffen', 'Energieholzindustrie') -23.454915028125253 48.55655277069771 0.0005405405405405405\n",
      "('Handel mit festen, mineralischen oder biogenen Brennstoffen', 'Gastechniker') -23.454915028125253 48.55655277069771 0.0002702702702702703\n",
      "('Handel mit festen, mineralischen oder biogenen Brennstoffen', 'Gasversorgungsunternehmen') -23.454915028125253 48.55655277069771 0.002162162162162162\n",
      "('Handel mit festen, mineralischen oder biogenen Brennstoffen', 'Handel mit Strom') -23.454915028125253 48.55655277069771 0.0045945945945945945\n",
      "('Handel mit festen, mineralischen oder biogenen Brennstoffen', 'Handel mit sonstigen Mineralölprodukten') -23.454915028125253 48.55655277069771 0.01027027027027027\n",
      "('Handel mit festen, mineralischen oder biogenen Brennstoffen', 'Heizungstechnik') -23.454915028125253 48.55655277069771 0.00972972972972973\n",
      "('Handel mit festen, mineralischen oder biogenen Brennstoffen', 'Holzbau-Meister') -23.454915028125253 48.55655277069771 0.0018918918918918919\n",
      "('Handel mit festen, mineralischen oder biogenen Brennstoffen', 'Holzbaugewerbetreibender, eingeschr. auf ausführende Tät.') -23.454915028125253 48.55655277069771 0.0005405405405405405\n",
      "('Handel mit festen, mineralischen oder biogenen Brennstoffen', 'Holzgestalter') -23.454915028125253 48.55655277069771 0.0002702702702702703\n",
      "('Handel mit festen, mineralischen oder biogenen Brennstoffen', 'Holzzerkleinerer') -23.454915028125253 48.55655277069771 0.005945945945945946\n",
      "('Handel mit festen, mineralischen oder biogenen Brennstoffen', 'Landschaftsgärtner (Garten- und Grünflächengestalter)') -23.454915028125253 48.55655277069771 0.0024324324324324323\n",
      "('Handel mit festen, mineralischen oder biogenen Brennstoffen', 'Lüftungstechnik') -23.454915028125253 48.55655277069771 0.004054054054054054\n",
      "('Handel mit festen, mineralischen oder biogenen Brennstoffen', 'Sanitärtechniker') -23.454915028125253 48.55655277069771 0.0002702702702702703\n",
      "('Handel mit festen, mineralischen oder biogenen Brennstoffen', 'Sägewerksunternehmungen') -23.454915028125253 48.55655277069771 0.0037837837837837837\n",
      "('Handel mit festen, mineralischen oder biogenen Brennstoffen', 'Tischler') -23.454915028125253 48.55655277069771 0.002162162162162162\n",
      "('Handel mit festen, mineralischen oder biogenen Brennstoffen', 'Wärmeversorgung unter 5 km und unter 5 MW') -23.454915028125253 48.55655277069771 0.005135135135135135\n",
      "('Handel mit festen, mineralischen oder biogenen Brennstoffen', 'Wärmeversorgungsunternehmen') -23.454915028125253 48.55655277069771 0.004054054054054054\n",
      "('Handel mit festen, mineralischen oder biogenen Brennstoffen', 'sonstige holzverarbeitende Industrie') -23.454915028125253 48.55655277069771 0.0002702702702702703\n",
      "('Handel mit sonstigen Mineralölprodukten', 'Gasversorgungsunternehmen') -23.454915028125253 47.55655277069771 0.0002702702702702703\n",
      "('Handel mit sonstigen Mineralölprodukten', 'Handel mit Strom') -23.454915028125253 47.55655277069771 0.0013513513513513514\n",
      "('Handel mit sonstigen Mineralölprodukten', 'Heizungstechnik') -23.454915028125253 47.55655277069771 0.0008108108108108108\n",
      "('Handel mit sonstigen Mineralölprodukten', 'Holzzerkleinerer') -23.454915028125253 47.55655277069771 0.0002702702702702703\n",
      "('Handel mit sonstigen Mineralölprodukten', 'Landschaftsgärtner (Garten- und Grünflächengestalter)') -23.454915028125253 47.55655277069771 0.0005405405405405405\n",
      "('Handel mit sonstigen Mineralölprodukten', 'Wärmeversorgung unter 5 km und unter 5 MW') -23.454915028125253 47.55655277069771 0.0005405405405405405\n",
      "('Handel mit sonstigen Mineralölprodukten', 'Wärmeversorgungsunternehmen') -23.454915028125253 47.55655277069771 0.0002702702702702703\n",
      "('Heizungstechnik', 'Drechsler') -23.954915028125253 48.05655277069771 0.0005405405405405405\n",
      "('Heizungstechnik', 'Gastechniker') -23.954915028125253 48.05655277069771 0.012702702702702703\n",
      "('Heizungstechnik', 'Gasversorgungsunternehmen') -23.954915028125253 48.05655277069771 0.002702702702702703\n",
      "('Heizungstechnik', 'Handel mit Strom') -23.954915028125253 48.05655277069771 0.0013513513513513514\n",
      "('Heizungstechnik', 'Holzbau-Meister') -23.954915028125253 48.05655277069771 0.004054054054054054\n",
      "('Heizungstechnik', 'Holzbaugewerbetreibender, eingeschr. auf ausführende Tät.') -23.954915028125253 48.05655277069771 0.001081081081081081\n",
      "('Heizungstechnik', 'Holzbaugewerbetreibender, eingeschränkt auf Teilbereiche') -23.954915028125253 48.05655277069771 0.0005405405405405405\n",
      "('Heizungstechnik', 'Holzhaus- und Hallenbauindustrie') -23.954915028125253 48.05655277069771 0.0005405405405405405\n",
      "('Heizungstechnik', 'Holzzerkleinerer') -23.954915028125253 48.05655277069771 0.0008108108108108108\n",
      "('Heizungstechnik', 'Korb- und Möbelflechter') -23.954915028125253 48.05655277069771 0.0002702702702702703\n",
      "('Heizungstechnik', 'Landschaftsgärtner (Garten- und Grünflächengestalter)') -23.954915028125253 48.05655277069771 0.003243243243243243\n",
      "('Heizungstechnik', 'Lüftungstechnik') -23.954915028125253 48.05655277069771 0.252972972972973\n",
      "('Heizungstechnik', 'Parkettbodenleger') -23.954915028125253 48.05655277069771 0.0002702702702702703\n",
      "('Heizungstechnik', 'Sanitärtechniker') -23.954915028125253 48.05655277069771 0.05810810810810811\n",
      "('Heizungstechnik', 'Sägewerksunternehmungen') -23.954915028125253 48.05655277069771 0.0016216216216216215\n",
      "('Heizungstechnik', 'Tischler') -23.954915028125253 48.05655277069771 0.008648648648648649\n",
      "('Heizungstechnik', 'Wärmeversorgung unter 5 km und unter 5 MW') -23.954915028125253 48.05655277069771 0.004054054054054054\n",
      "('Heizungstechnik', 'Wärmeversorgungsunternehmen') -23.954915028125253 48.05655277069771 0.011351351351351352\n",
      "('Heizungstechnik', 'sonstige Sanitär-, Heizungs- und Lüftungstechniker') -23.954915028125253 48.05655277069771 0.002162162162162162\n",
      "('Heizungstechnik', 'sonstige holzverarbeitende Industrie') -23.954915028125253 48.05655277069771 0.0008108108108108108\n",
      "('Hobelwerke', 'Holzbau-Meister') -23.924761338518206 48.22756284236054 0.0002702702702702703\n",
      "('Hobelwerke', 'Parkettbodenleger') -23.924761338518206 48.22756284236054 0.0002702702702702703\n",
      "('Hobelwerke', 'Sägewerksunternehmungen') -23.924761338518206 48.22756284236054 0.0005405405405405405\n",
      "('Hobelwerke', 'Tischler') -23.924761338518206 48.22756284236054 0.0002702702702702703\n",
      "('Holzbau-Meister', 'Drechsler') -23.454915028125253 48.55655277069771 0.0002702702702702703\n",
      "('Holzbau-Meister', 'Hobelwarenindustrie') -23.454915028125253 48.55655277069771 0.0002702702702702703\n",
      "('Holzbau-Meister', 'Holzbaugewerbetreibender, eingeschr. auf ausführende Tät.') -23.454915028125253 48.55655277069771 0.002162162162162162\n",
      "('Holzbau-Meister', 'Holzbaugewerbetreibender, eingeschränkt auf Teilbereiche') -23.454915028125253 48.55655277069771 0.0005405405405405405\n",
      "('Holzbau-Meister', 'Holzgestalter') -23.454915028125253 48.55655277069771 0.0005405405405405405\n",
      "('Holzbau-Meister', 'Holzhaus- und Hallenbauindustrie') -23.454915028125253 48.55655277069771 0.0008108108108108108\n",
      "('Holzbau-Meister', 'Landschaftsgärtner (Garten- und Grünflächengestalter)') -23.454915028125253 48.55655277069771 0.001081081081081081\n",
      "('Holzbau-Meister', 'Leimholzindustrie') -23.454915028125253 48.55655277069771 0.0002702702702702703\n",
      "('Holzbau-Meister', 'Lüftungstechnik') -23.454915028125253 48.55655277069771 0.0016216216216216215\n",
      "('Holzbau-Meister', 'Parkettbodenleger') -23.454915028125253 48.55655277069771 0.001081081081081081\n",
      "('Holzbau-Meister', 'Sägewerksunternehmungen') -23.454915028125253 48.55655277069771 0.015675675675675675\n",
      "('Holzbau-Meister', 'Tischler') -23.454915028125253 48.55655277069771 0.02\n",
      "('Holzbau-Meister', 'Wärmeversorgung unter 5 km und unter 5 MW') -23.454915028125253 48.55655277069771 0.0005405405405405405\n",
      "('Holzbau-Meister', 'Wärmeversorgungsunternehmen') -23.454915028125253 48.55655277069771 0.0002702702702702703\n",
      "('Holzbau-Meister', 'industrielle Bautischlereien') -23.454915028125253 48.55655277069771 0.001081081081081081\n",
      "('Holzbau-Meister', 'sonstige holzverarbeitende Industrie') -23.454915028125253 48.55655277069771 0.0035135135135135136\n",
      "('Holzbaugewerbetreibender, eingeschr. auf ausführende Tät.', 'Einzelhandel mit Papier-, Schreibwaren und Bürobedarf') -23.954915028125253 48.05655277069771 0.0002702702702702703\n",
      "('Holzbaugewerbetreibender, eingeschr. auf ausführende Tät.', 'Holzbaugewerbetreibender, eingeschränkt auf Teilbereiche') -23.954915028125253 48.05655277069771 0.0005405405405405405\n",
      "('Holzbaugewerbetreibender, eingeschr. auf ausführende Tät.', 'Holzgestalter') -23.954915028125253 48.05655277069771 0.0005405405405405405\n",
      "('Holzbaugewerbetreibender, eingeschr. auf ausführende Tät.', 'Holzschindelerzeuger') -23.954915028125253 48.05655277069771 0.0008108108108108108\n",
      "('Holzbaugewerbetreibender, eingeschr. auf ausführende Tät.', 'Landschaftsgärtner (Garten- und Grünflächengestalter)') -23.954915028125253 48.05655277069771 0.001081081081081081\n",
      "('Holzbaugewerbetreibender, eingeschr. auf ausführende Tät.', 'Lüftungstechnik') -23.954915028125253 48.05655277069771 0.0002702702702702703\n",
      "('Holzbaugewerbetreibender, eingeschr. auf ausführende Tät.', 'Parkettbodenleger') -23.954915028125253 48.05655277069771 0.0005405405405405405\n",
      "('Holzbaugewerbetreibender, eingeschr. auf ausführende Tät.', 'Sanitärtechniker') -23.954915028125253 48.05655277069771 0.0002702702702702703\n",
      "('Holzbaugewerbetreibender, eingeschr. auf ausführende Tät.', 'Sägewerksunternehmungen') -23.954915028125253 48.05655277069771 0.004324324324324324\n",
      "('Holzbaugewerbetreibender, eingeschr. auf ausführende Tät.', 'Tischler') -23.954915028125253 48.05655277069771 0.007027027027027027\n",
      "('Holzbaugewerbetreibender, eingeschr. auf ausführende Tät.', 'sonstige holzverarbeitende Industrie') -23.954915028125253 48.05655277069771 0.0005405405405405405\n",
      "('Holzgestalter', 'Bootbauer') -23.924761338518206 47.88554269903487 0.0005405405405405405\n",
      "('Holzgestalter', 'Holzbaugewerbetreibender, eingeschränkt auf Teilbereiche') -23.924761338518206 47.88554269903487 0.0002702702702702703\n",
      "('Holzgestalter', 'Holzschindelerzeuger') -23.924761338518206 47.88554269903487 0.0002702702702702703\n",
      "('Holzgestalter', 'Holzzerkleinerer') -23.924761338518206 47.88554269903487 0.0005405405405405405\n",
      "('Holzgestalter', 'Landschaftsgärtner (Garten- und Grünflächengestalter)') -23.924761338518206 47.88554269903487 0.0002702702702702703\n",
      "('Holzgestalter', 'Parkettbodenleger') -23.924761338518206 47.88554269903487 0.0013513513513513514\n",
      "('Holzgestalter', 'Sägewerksunternehmungen') -23.924761338518206 47.88554269903487 0.0035135135135135136\n",
      "('Holzgestalter', 'Tischler') -23.924761338518206 47.88554269903487 0.0016216216216216215\n",
      "('Holzgestalter', 'Wärmeversorgungsunternehmen') -23.924761338518206 47.88554269903487 0.0005405405405405405\n",
      "('Holzzerkleinerer', 'Energieholzindustrie') -23.454915028125253 47.55655277069771 0.0002702702702702703\n",
      "('Holzzerkleinerer', 'Handel mit Strom') -23.454915028125253 47.55655277069771 0.0005405405405405405\n",
      "('Holzzerkleinerer', 'Holzbaugewerbetreibender, eingeschränkt auf Teilbereiche') -23.454915028125253 47.55655277069771 0.0002702702702702703\n",
      "('Holzzerkleinerer', 'Landschaftsgärtner (Garten- und Grünflächengestalter)') -23.454915028125253 47.55655277069771 0.0002702702702702703\n",
      "('Holzzerkleinerer', 'Lüftungstechnik') -23.454915028125253 47.55655277069771 0.0005405405405405405\n",
      "('Holzzerkleinerer', 'Sägewerksunternehmungen') -23.454915028125253 47.55655277069771 0.0008108108108108108\n",
      "('Holzzerkleinerer', 'Tischler') -23.454915028125253 47.55655277069771 0.001081081081081081\n",
      "('Holzzerkleinerer', 'Wärmeversorgung unter 5 km und unter 5 MW') -23.454915028125253 47.55655277069771 0.0016216216216216215\n",
      "('Holzzerkleinerer', 'sonstige Sanitär-, Heizungs- und Lüftungstechniker') -23.454915028125253 47.55655277069771 0.0002702702702702703\n",
      "('Landschaftsgärtner (Garten- und Grünflächengestalter)', 'Bootbauer') -22.954915028125253 48.05655277069771 0.0002702702702702703\n",
      "('Landschaftsgärtner (Garten- und Grünflächengestalter)', 'Einzelhandel mit Papier-, Schreibwaren und Bürobedarf') -22.954915028125253 48.05655277069771 0.0002702702702702703\n",
      "('Landschaftsgärtner (Garten- und Grünflächengestalter)', 'Friedhofsgärtner') -22.954915028125253 48.05655277069771 0.002702702702702703\n",
      "('Landschaftsgärtner (Garten- und Grünflächengestalter)', 'Handel mit Papier-, Schreibwaren und Bürobedarf') -22.954915028125253 48.05655277069771 0.0002702702702702703\n",
      "('Landschaftsgärtner (Garten- und Grünflächengestalter)', 'Handel mit Strom') -22.954915028125253 48.05655277069771 0.0002702702702702703\n",
      "('Landschaftsgärtner (Garten- und Grünflächengestalter)', 'Kleinhandel mit Schnittblumen') -22.954915028125253 48.05655277069771 0.0024324324324324323\n",
      "('Landschaftsgärtner (Garten- und Grünflächengestalter)', 'Lüftungstechnik') -22.954915028125253 48.05655277069771 0.001081081081081081\n",
      "('Landschaftsgärtner (Garten- und Grünflächengestalter)', 'Papiereinzelhandel im Rahmen einer Trafik') -22.954915028125253 48.05655277069771 0.0002702702702702703\n",
      "('Landschaftsgärtner (Garten- und Grünflächengestalter)', 'Parkettbodenleger') -22.954915028125253 48.05655277069771 0.0002702702702702703\n"
     ]
    },
    {
     "name": "stdout",
     "output_type": "stream",
     "text": [
      "('Landschaftsgärtner (Garten- und Grünflächengestalter)', 'Sanitärtechniker') -22.954915028125253 48.05655277069771 0.0005405405405405405\n",
      "('Landschaftsgärtner (Garten- und Grünflächengestalter)', 'Sägewerksunternehmungen') -22.954915028125253 48.05655277069771 0.0008108108108108108\n",
      "('Landschaftsgärtner (Garten- und Grünflächengestalter)', 'Tischler') -22.954915028125253 48.05655277069771 0.0037837837837837837\n",
      "('Landschaftsgärtner (Garten- und Grünflächengestalter)', 'Wärmeversorgung unter 5 km und unter 5 MW') -22.954915028125253 48.05655277069771 0.0013513513513513514\n",
      "('Landschaftsgärtner (Garten- und Grünflächengestalter)', 'Wärmeversorgungsunternehmen') -22.954915028125253 48.05655277069771 0.0013513513513513514\n",
      "('Landschaftsgärtner (Garten- und Grünflächengestalter)', 'sonstige Sanitär-, Heizungs- und Lüftungstechniker') -22.954915028125253 48.05655277069771 0.0002702702702702703\n",
      "('Landschaftsgärtner (Garten- und Grünflächengestalter)', 'sonstige holzverarbeitende Industrie') -22.954915028125253 48.05655277069771 0.0002702702702702703\n",
      "('Papiereinzelhandel im Rahmen einer Trafik', 'Einzelhandel mit Papier-, Schreibwaren und Bürobedarf') -22.954915028125253 48.05655277069771 0.0005405405405405405\n",
      "('Papiereinzelhandel im Rahmen einer Trafik', 'Einzelhandel mit Romane, Zeitschriften und Magazine') -22.954915028125253 48.05655277069771 0.0002702702702702703\n",
      "('Papiereinzelhandel im Rahmen einer Trafik', 'Handel mit Papier-, Schreibwaren und Bürobedarf') -22.954915028125253 48.05655277069771 0.01\n",
      "('Papiereinzelhandel im Rahmen einer Trafik', 'Sägewerksunternehmungen') -22.954915028125253 48.05655277069771 0.0005405405405405405\n",
      "('Papiereinzelhandel im Rahmen einer Trafik', 'Tischler') -22.954915028125253 48.05655277069771 0.001081081081081081\n",
      "('Sanitärtechniker', 'Friedhofsgärtner') -23.454915028125253 47.55655277069771 0.0002702702702702703\n",
      "('Sanitärtechniker', 'Gastechniker') -23.454915028125253 47.55655277069771 0.01\n",
      "('Sanitärtechniker', 'Gasversorgungsunternehmen') -23.454915028125253 47.55655277069771 0.0008108108108108108\n",
      "('Sanitärtechniker', 'Handel mit Strom') -23.454915028125253 47.55655277069771 0.0002702702702702703\n",
      "('Sanitärtechniker', 'Lüftungstechnik') -23.454915028125253 47.55655277069771 0.0024324324324324323\n",
      "('Sanitärtechniker', 'Tischler') -23.454915028125253 47.55655277069771 0.0005405405405405405\n",
      "('Sanitärtechniker', 'Wärmeversorgung unter 5 km und unter 5 MW') -23.454915028125253 47.55655277069771 0.0005405405405405405\n",
      "('Sanitärtechniker', 'Wärmeversorgungsunternehmen') -23.454915028125253 47.55655277069771 0.0013513513513513514\n",
      "('Sanitärtechniker', 'sonstige Sanitär-, Heizungs- und Lüftungstechniker') -23.454915028125253 47.55655277069771 0.0024324324324324323\n",
      "('Sägewerksunternehmungen', 'Hobelwarenindustrie') -22.954915028125253 48.05655277069771 0.0002702702702702703\n",
      "('Sägewerksunternehmungen', 'Holzbaugewerbetreibender, eingeschränkt auf Teilbereiche') -22.954915028125253 48.05655277069771 0.001081081081081081\n",
      "('Sägewerksunternehmungen', 'Holzhaus- und Hallenbauindustrie') -22.954915028125253 48.05655277069771 0.0002702702702702703\n",
      "('Sägewerksunternehmungen', 'Holzverpackungs- und -packmittelindustrie') -22.954915028125253 48.05655277069771 0.0008108108108108108\n",
      "('Sägewerksunternehmungen', 'Holzwerkstoffindustrie') -22.954915028125253 48.05655277069771 0.0008108108108108108\n",
      "('Sägewerksunternehmungen', 'Leimholzindustrie') -22.954915028125253 48.05655277069771 0.0013513513513513514\n",
      "('Sägewerksunternehmungen', 'Lüftungstechnik') -22.954915028125253 48.05655277069771 0.0002702702702702703\n",
      "('Sägewerksunternehmungen', 'Parkettbodenleger') -22.954915028125253 48.05655277069771 0.0002702702702702703\n",
      "('Sägewerksunternehmungen', 'Parkettindustrie') -22.954915028125253 48.05655277069771 0.0005405405405405405\n",
      "('Sägewerksunternehmungen', 'Rahmen- und Leistenindustrie') -22.954915028125253 48.05655277069771 0.0002702702702702703\n",
      "('Sägewerksunternehmungen', 'Ski- und Sportarktikelindustrie') -22.954915028125253 48.05655277069771 0.0002702702702702703\n",
      "('Sägewerksunternehmungen', 'Tischler') -22.954915028125253 48.05655277069771 0.009189189189189189\n",
      "('Sägewerksunternehmungen', 'Wärmeversorgung unter 5 km und unter 5 MW') -22.954915028125253 48.05655277069771 0.002702702702702703\n",
      "('Sägewerksunternehmungen', 'Wärmeversorgungsunternehmen') -22.954915028125253 48.05655277069771 0.0005405405405405405\n",
      "('Sägewerksunternehmungen', 'industrielle Bautischlereien') -22.954915028125253 48.05655277069771 0.0013513513513513514\n",
      "('Sägewerksunternehmungen', 'sonstige holzverarbeitende Industrie') -22.954915028125253 48.05655277069771 0.005675675675675676\n",
      "('Tischler', 'Bootbauer') -23.071892806565764 47.73515896585444 0.0008108108108108108\n",
      "('Tischler', 'Drechsler') -23.071892806565764 47.73515896585444 0.0008108108108108108\n",
      "('Tischler', 'Einzelhandel mit Papier-, Schreibwaren und Bürobedarf') -23.071892806565764 47.73515896585444 0.0008108108108108108\n",
      "('Tischler', 'Einzelhandel mit Romane, Zeitschriften und Magazine') -23.071892806565764 47.73515896585444 0.0002702702702702703\n",
      "('Tischler', 'Friedhofsgärtner') -23.071892806565764 47.73515896585444 0.0013513513513513514\n",
      "('Tischler', 'Handel mit Papier-, Schreibwaren und Bürobedarf') -23.071892806565764 47.73515896585444 0.0013513513513513514\n",
      "('Tischler', 'Holzbaugewerbetreibender, eingeschränkt auf Teilbereiche') -23.071892806565764 47.73515896585444 0.0005405405405405405\n",
      "('Tischler', 'Holzschindelerzeuger') -23.071892806565764 47.73515896585444 0.0002702702702702703\n",
      "('Tischler', 'Kleinhandel mit Schnittblumen') -23.071892806565764 47.73515896585444 0.0005405405405405405\n",
      "('Tischler', 'Lüftungstechnik') -23.071892806565764 47.73515896585444 0.002162162162162162\n",
      "('Tischler', 'Möbelindustrie') -23.071892806565764 47.73515896585444 0.0008108108108108108\n",
      "('Tischler', 'Parkettbodenleger') -23.071892806565764 47.73515896585444 0.0035135135135135136\n",
      "('Tischler', 'Wärmeversorgung unter 5 km und unter 5 MW') -23.071892806565764 47.73515896585444 0.001081081081081081\n",
      "('Tischler', 'Wärmeversorgungsunternehmen') -23.071892806565764 47.73515896585444 0.0002702702702702703\n",
      "('Tischler', 'industrielle Bautischlereien') -23.071892806565764 47.73515896585444 0.0005405405405405405\n",
      "('Tischler', 'sonstige Sanitär-, Heizungs- und Lüftungstechniker') -23.071892806565764 47.73515896585444 0.001081081081081081\n",
      "('Tischler', 'sonstige holzverarbeitende Industrie') -23.071892806565764 47.73515896585444 0.0005405405405405405\n",
      "('Wärmeversorgung unter 5 km und unter 5 MW', 'Gasversorgungsunternehmen') -22.954915028125253 48.05655277069771 0.0002702702702702703\n",
      "('Wärmeversorgung unter 5 km und unter 5 MW', 'Handel mit Strom') -22.954915028125253 48.05655277069771 0.0002702702702702703\n",
      "('Wärmeversorgung unter 5 km und unter 5 MW', 'Holzschindelerzeuger') -22.954915028125253 48.05655277069771 0.0002702702702702703\n",
      "('Wärmeversorgung unter 5 km und unter 5 MW', 'Kleinhandel mit Schnittblumen') -22.954915028125253 48.05655277069771 0.0002702702702702703\n",
      "('Wärmeversorgung unter 5 km und unter 5 MW', 'Lüftungstechnik') -22.954915028125253 48.05655277069771 0.0018918918918918919\n",
      "('Wärmeversorgung unter 5 km und unter 5 MW', 'Parkettbodenleger') -22.954915028125253 48.05655277069771 0.0002702702702702703\n",
      "('Wärmeversorgung unter 5 km und unter 5 MW', 'Wärmeversorgungsunternehmen') -22.954915028125253 48.05655277069771 0.0016216216216216215\n",
      "('Wärmeversorgung unter 5 km und unter 5 MW', 'sonstige holzverarbeitende Industrie') -22.954915028125253 48.05655277069771 0.0008108108108108108\n",
      "('Wärmeversorgungsunternehmen', 'Energieholzindustrie') -22.954915028125253 48.05655277069771 0.0002702702702702703\n",
      "('Wärmeversorgungsunternehmen', 'Gastechniker') -22.954915028125253 48.05655277069771 0.0016216216216216215\n",
      "('Wärmeversorgungsunternehmen', 'Gasversorgungsunternehmen') -22.954915028125253 48.05655277069771 0.004324324324324324\n",
      "('Wärmeversorgungsunternehmen', 'Handel mit Strom') -22.954915028125253 48.05655277069771 0.0005405405405405405\n",
      "('Wärmeversorgungsunternehmen', 'Lüftungstechnik') -22.954915028125253 48.05655277069771 0.0024324324324324323\n",
      "('Wärmeversorgungsunternehmen', 'Papier-, Zellstoff-, Holzstoff- und Pappenindustrie') -22.954915028125253 48.05655277069771 0.0008108108108108108\n",
      "('Wärmeversorgungsunternehmen', 'Sonstige industrielle Papierverarbeitung') -22.954915028125253 48.05655277069771 0.0002702702702702703\n",
      "('Wärmeversorgungsunternehmen', 'sonstige Sanitär-, Heizungs- und Lüftungstechniker') -22.954915028125253 48.05655277069771 0.0002702702702702703\n",
      "('Wärmeversorgungsunternehmen', 'sonstige holzverarbeitende Industrie') -22.954915028125253 48.05655277069771 0.001081081081081081\n",
      "('sonstige Sanitär-, Heizungs- und Lüftungstechniker', 'Gastechniker') -23.10136163753198 47.70299938010443 0.0002702702702702703\n",
      "('sonstige Sanitär-, Heizungs- und Lüftungstechniker', 'Lüftungstechnik') -23.10136163753198 47.70299938010443 0.0008108108108108108\n",
      "('Bootbauer', 'Drechsler') -23.071892806565764 48.377946575540975 0.0002702702702702703\n",
      "('Drechsler', 'Handel mit Papier-, Schreibwaren und Bürobedarf') -23.704915028125253 48.48956547258992 0.0002702702702702703\n",
      "('Drechsler', 'Parkettbodenleger') -23.704915028125253 48.48956547258992 0.0002702702702702703\n",
      "('Büro- und Organisationsmittelindustrie', 'Großhandel mit Papier-, Schreibwaren und Bürobedarf') -23.071892806565764 48.377946575540975 0.0008108108108108108\n",
      "('Büro- und Organisationsmittelindustrie', 'Papier-, Zellstoff-, Holzstoff- und Pappenindustrie') -23.071892806565764 48.377946575540975 0.0005405405405405405\n",
      "('Büro- und Organisationsmittelindustrie', 'Sonstige industrielle Papierverarbeitung') -23.071892806565764 48.377946575540975 0.0002702702702702703\n",
      "('Büro- und Organisationsmittelindustrie', 'Sonstige industrielle Verpackungsherstellung') -23.071892806565764 48.377946575540975 0.0002702702702702703\n",
      "('Großhandel mit Papier-, Schreibwaren und Bürobedarf', 'Einzelhandel mit Papier-, Schreibwaren und Bürobedarf') -23.808468418718526 48.41010616129098 0.012702702702702703\n",
      "('Großhandel mit Papier-, Schreibwaren und Bürobedarf', 'Einzelhandel mit Romane, Zeitschriften und Magazine') -23.808468418718526 48.41010616129098 0.002162162162162162\n",
      "('Großhandel mit Papier-, Schreibwaren und Bürobedarf', 'Großhandel mit Romanen, Zeitschriften und Magazinen') -23.808468418718526 48.41010616129098 0.0002702702702702703\n",
      "('Großhandel mit Papier-, Schreibwaren und Bürobedarf', 'Handel mit Papier-, Schreibwaren und Bürobedarf') -23.808468418718526 48.41010616129098 0.002162162162162162\n",
      "('Großhandel mit Papier-, Schreibwaren und Bürobedarf', 'Handel mit Post- und Ansichtskarten') -23.808468418718526 48.41010616129098 0.0008108108108108108\n",
      "('Großhandel mit Papier-, Schreibwaren und Bürobedarf', 'Herstellung von Dekorations- und Festartikeln') -23.808468418718526 48.41010616129098 0.0002702702702702703\n",
      "('Großhandel mit Papier-, Schreibwaren und Bürobedarf', 'Herstellung von Spielkarten und anderer Spielwaren aller Art') -23.808468418718526 48.41010616129098 0.0002702702702702703\n",
      "('Großhandel mit Papier-, Schreibwaren und Bürobedarf', 'Kartonagenindustrie') -23.808468418718526 48.41010616129098 0.0002702702702702703\n",
      "('Großhandel mit Papier-, Schreibwaren und Bürobedarf', 'Möbelindustrie') -23.808468418718526 48.41010616129098 0.0002702702702702703\n",
      "('Großhandel mit Papier-, Schreibwaren und Bürobedarf', 'Papier- und Kartonveredelungsindustrie') -23.808468418718526 48.41010616129098 0.001081081081081081\n",
      "('Großhandel mit Papier-, Schreibwaren und Bürobedarf', 'Papier-, Zellstoff-, Holzstoff- und Pappenindustrie') -23.808468418718526 48.41010616129098 0.0016216216216216215\n",
      "('Großhandel mit Papier-, Schreibwaren und Bürobedarf', 'Sonstige industrielle Papierverarbeitung') -23.808468418718526 48.41010616129098 0.0005405405405405405\n",
      "('Großhandel mit Papier-, Schreibwaren und Bürobedarf', 'Verpackungsindustrie') -23.808468418718526 48.41010616129098 0.0008108108108108108\n",
      "('Großhandel mit Papier-, Schreibwaren und Bürobedarf', 'Wellpappeindustrie') -23.808468418718526 48.41010616129098 0.0005405405405405405\n",
      "('Papier-, Zellstoff-, Holzstoff- und Pappenindustrie', 'Gasversorgungsunternehmen') -22.954915028125253 48.05655277069771 0.0002702702702702703\n",
      "('Papier-, Zellstoff-, Holzstoff- und Pappenindustrie', 'Handel mit Papier-, Schreibwaren und Bürobedarf') -22.954915028125253 48.05655277069771 0.0002702702702702703\n",
      "('Papier-, Zellstoff-, Holzstoff- und Pappenindustrie', 'Industrie hygienischer Papierwaren') -22.954915028125253 48.05655277069771 0.0002702702702702703\n",
      "('Papier-, Zellstoff-, Holzstoff- und Pappenindustrie', 'Kartonagenindustrie') -22.954915028125253 48.05655277069771 0.0002702702702702703\n",
      "('Papier-, Zellstoff-, Holzstoff- und Pappenindustrie', 'Papier- und Kartonveredelungsindustrie') -22.954915028125253 48.05655277069771 0.0016216216216216215\n",
      "('Papier-, Zellstoff-, Holzstoff- und Pappenindustrie', 'Sonstige industrielle Papierverarbeitung') -22.954915028125253 48.05655277069771 0.0008108108108108108\n",
      "('Papier-, Zellstoff-, Holzstoff- und Pappenindustrie', 'Verpackungsindustrie') -22.954915028125253 48.05655277069771 0.0005405405405405405\n",
      "('Papier-, Zellstoff-, Holzstoff- und Pappenindustrie', 'Wellpappeindustrie') -22.954915028125253 48.05655277069771 0.0008108108108108108\n",
      "('Sonstige industrielle Papierverarbeitung', 'Einzelhandel mit Papier-, Schreibwaren und Bürobedarf') -23.36809093929179 47.564148894191604 0.0002702702702702703\n",
      "('Sonstige industrielle Papierverarbeitung', 'Herstellung von Spielkarten und anderer Spielwaren aller Art') -23.36809093929179 47.564148894191604 0.0002702702702702703\n",
      "('Sonstige industrielle Papierverarbeitung', 'Industrielle Buchbindereien') -23.36809093929179 47.564148894191604 0.0005405405405405405\n",
      "('Sonstige industrielle Papierverarbeitung', 'Kartonagenindustrie') -23.36809093929179 47.564148894191604 0.0002702702702702703\n",
      "('Sonstige industrielle Papierverarbeitung', 'Leimholzindustrie') -23.36809093929179 47.564148894191604 0.0002702702702702703\n",
      "('Sonstige industrielle Papierverarbeitung', 'Papier- und Kartonveredelungsindustrie') -23.36809093929179 47.564148894191604 0.0002702702702702703\n",
      "('Sonstige industrielle Papierverarbeitung', 'Verpackungsindustrie') -23.36809093929179 47.564148894191604 0.0002702702702702703\n",
      "('Sonstige industrielle Papierverarbeitung', 'Wellpappeindustrie') -23.36809093929179 47.564148894191604 0.0002702702702702703\n",
      "('Sonstige industrielle Papierverarbeitung', 'sonstige holzverarbeitende Industrie') -23.36809093929179 47.564148894191604 0.0002702702702702703\n",
      "('Sonstige industrielle Verpackungsherstellung', 'sonstige holzverarbeitende Industrie') -23.204915028125253 47.62354006880549 0.0002702702702702703\n",
      "('Handel mit Papier-, Schreibwaren und Bürobedarf', 'Einzelhandel mit Papier-, Schreibwaren und Bürobedarf') -23.454915028125253 47.55655277069771 0.002702702702702703\n",
      "('Handel mit Papier-, Schreibwaren und Bürobedarf', 'Einzelhandel mit Romane, Zeitschriften und Magazine') -23.454915028125253 47.55655277069771 0.0008108108108108108\n",
      "('Handel mit Papier-, Schreibwaren und Bürobedarf', 'Großhandel mit Romanen, Zeitschriften und Magazinen') -23.454915028125253 47.55655277069771 0.0005405405405405405\n",
      "('Handel mit Papier-, Schreibwaren und Bürobedarf', 'Handel mit Post- und Ansichtskarten') -23.454915028125253 47.55655277069771 0.0002702702702702703\n",
      "('Handel mit Papier-, Schreibwaren und Bürobedarf', 'Industrie flexibler Verpackungen') -23.454915028125253 47.55655277069771 0.0002702702702702703\n",
      "('Handel mit Papier-, Schreibwaren und Bürobedarf', 'Verpackungsindustrie') -23.454915028125253 47.55655277069771 0.0002702702702702703\n",
      "('Parkettbodenleger', 'Einzelhandel mit Papier-, Schreibwaren und Bürobedarf') -23.36809093929179 47.564148894191604 0.0002702702702702703\n",
      "('Einzelhandel mit Papier-, Schreibwaren und Bürobedarf', 'Einzelhandel mit Romane, Zeitschriften und Magazine') -23.10136163753198 48.41010616129098 0.002162162162162162\n",
      "('Einzelhandel mit Papier-, Schreibwaren und Bürobedarf', 'Großhandel mit Romanen, Zeitschriften und Magazinen') -23.10136163753198 48.41010616129098 0.0002702702702702703\n",
      "('Einzelhandel mit Papier-, Schreibwaren und Bürobedarf', 'Handel mit Post- und Ansichtskarten') -23.10136163753198 48.41010616129098 0.0035135135135135136\n",
      "('Einzelhandel mit Papier-, Schreibwaren und Bürobedarf', 'Herstellung von Spielkarten und anderer Spielwaren aller Art') -23.10136163753198 48.41010616129098 0.0002702702702702703\n",
      "('Einzelhandel mit Romane, Zeitschriften und Magazine', 'Handel mit Post- und Ansichtskarten') -23.454915028125253 48.55655277069771 0.002162162162162162\n",
      "('Großhandel mit Romanen, Zeitschriften und Magazinen', 'Handel mit Post- und Ansichtskarten') -23.954915028125253 48.05655277069771 0.0002702702702702703\n",
      "('Faltschachtelindustrie', 'Kartonagenindustrie') -23.204915028125253 48.48956547258992 0.0002702702702702703\n",
      "('Faltschachtelindustrie', 'Papier- und Kartonveredelungsindustrie') -23.204915028125253 48.48956547258992 0.0002702702702702703\n",
      "('Faltschachtelindustrie', 'Wellpappeindustrie') -23.204915028125253 48.48956547258992 0.0002702702702702703\n",
      "('Kartonagenindustrie', 'Konfektionierung Papier,Karton,Pappe zu Produkten aller Art') -23.924761338518206 47.88554269903487 0.0002702702702702703\n",
      "('Kartonagenindustrie', 'Packstoffveredelungs- und Zurichteindustrie') -23.924761338518206 47.88554269903487 0.0002702702702702703\n",
      "('Kartonagenindustrie', 'Papier- und Kartonveredelungsindustrie') -23.924761338518206 47.88554269903487 0.0013513513513513514\n",
      "('Kartonagenindustrie', 'Verpackungsindustrie') -23.924761338518206 47.88554269903487 0.0005405405405405405\n",
      "('Kartonagenindustrie', 'Wellpappeindustrie') -23.924761338518206 47.88554269903487 0.0005405405405405405\n",
      "('Papier- und Kartonveredelungsindustrie', 'Packstoffveredelungs- und Zurichteindustrie') -23.54173911695872 47.564148894191604 0.0002702702702702703\n",
      "('Papier- und Kartonveredelungsindustrie', 'Verpackungsindustrie') -23.54173911695872 47.564148894191604 0.0005405405405405405\n",
      "('Papier- und Kartonveredelungsindustrie', 'Wellpappeindustrie') -23.54173911695872 47.564148894191604 0.001081081081081081\n",
      "('Friedhofsgärtner', 'Kleinhandel mit Schnittblumen') -23.859423525312728 48.350445396843945 0.005945945945945946\n",
      "('Lüftungstechnik', 'Gastechniker') -23.808468418718526 47.70299938010443 0.0013513513513513514\n",
      "('Lüftungstechnik', 'Gasversorgungsunternehmen') -23.808468418718526 47.70299938010443 0.0005405405405405405\n",
      "('Lüftungstechnik', 'Handel mit Strom') -23.808468418718526 47.70299938010443 0.0005405405405405405\n",
      "('Lüftungstechnik', 'Holzhaus- und Hallenbauindustrie') -23.808468418718526 47.70299938010443 0.0002702702702702703\n",
      "('Lüftungstechnik', 'Korb- und Möbelflechter') -23.808468418718526 47.70299938010443 0.0002702702702702703\n",
      "('Lüftungstechnik', 'sonstige holzverarbeitende Industrie') -23.808468418718526 47.70299938010443 0.0002702702702702703\n",
      "('Möbelindustrie', 'sonstige holzverarbeitende Industrie') -23.6462567443078 47.59461300444206 0.0008108108108108108\n",
      "('Möbelindustrie', 'industrielle Bautischlereien') -23.6462567443078 47.59461300444206 0.0002702702702702703\n",
      "('Handel mit Strom', 'Gastechniker') -22.954915028125253 48.05655277069771 0.0002702702702702703\n",
      "('Handel mit Strom', 'Gasversorgungsunternehmen') -22.954915028125253 48.05655277069771 0.002972972972972973\n",
      "('Holzbaugewerbetreibender, eingeschränkt auf Teilbereiche', 'industrielle Bautischlereien') -23.454915028125253 47.55655277069771 0.0002702702702702703\n",
      "('Holzbaugewerbetreibender, eingeschränkt auf Teilbereiche', 'sonstige holzverarbeitende Industrie') -23.454915028125253 47.55655277069771 0.0005405405405405405\n",
      "('Holzverpackungs- und -packmittelindustrie', 'Hobelwarenindustrie') -23.6462567443078 48.51849253695335 0.0002702702702702703\n",
      "('Holzverpackungs- und -packmittelindustrie', 'Rahmen- und Leistenindustrie') -23.6462567443078 48.51849253695335 0.0002702702702702703\n",
      "('sonstige holzverarbeitende Industrie', 'Gaseinrichtungen in mobilen Fahrzeugen und Anlagen') -22.99297526186961 47.865211054515164 0.0002702702702702703\n",
      "('sonstige holzverarbeitende Industrie', 'Holzimprägnier- und -veredelungsindustrie') -22.99297526186961 47.865211054515164 0.0002702702702702703\n",
      "('sonstige holzverarbeitende Industrie', 'Leimholzindustrie') -22.99297526186961 47.865211054515164 0.0005405405405405405\n",
      "('sonstige holzverarbeitende Industrie', 'Parkettindustrie') -22.99297526186961 47.865211054515164 0.0005405405405405405\n",
      "('sonstige holzverarbeitende Industrie', 'Ski- und Sportarktikelindustrie') -22.99297526186961 47.865211054515164 0.0002702702702702703\n",
      "('sonstige holzverarbeitende Industrie', 'industrielle Bautischlereien') -22.99297526186961 47.865211054515164 0.001081081081081081\n",
      "('sonstige holzverarbeitende Industrie', 'Verpackungsindustrie') -22.99297526186961 47.865211054515164 0.0002702702702702703\n",
      "('Gastechniker', 'Gasversorgungsunternehmen') -23.808468418718526 48.41010616129098 0.0008108108108108108\n",
      "('Holzhaus- und Hallenbauindustrie', 'industrielle Bautischlereien') -23.263573311942707 48.51849253695335 0.0008108108108108108\n",
      "('Verpackungsindustrie', 'Konfektionierung Papier,Karton,Pappe zu Produkten aller Art') -23.071892806565764 47.73515896585444 0.0002702702702702703\n",
      "('industrielle Bautischlereien', 'Leimholzindustrie') -23.916854794380896 48.24789448688025 0.0002702702702702703\n",
      "('Hobelwarenindustrie', 'Leimholzindustrie') -23.10136163753198 48.41010616129098 0.0002702702702702703\n",
      "('Herstellung von Etiketten aller Art', 'Konfektionierung Papier,Karton,Pappe zu Produkten aller Art') -23.54173911695872 48.54895664720381 0.0005405405405405405\n",
      "('Holzwerkstoffindustrie', 'Ski- und Sportarktikelindustrie') -23.808468418718526 48.41010616129098 0.0002702702702702703\n"
     ]
    },
    {
     "data": {
      "application/vnd.plotly.v1+json": {
       "config": {
        "plotlyServerURL": "https://plot.ly"
       },
       "data": [
        {
         "hoverinfo": "text",
         "line": {
          "color": "cornflowerblue",
          "width": 0.021621621621621623
         },
         "mode": "lines",
         "text": "0.001081081081081081",
         "type": "scatter",
         "x": [
          -23.454915028125253,
          -23.300406530937778,
          null
         ],
         "y": [
          48.55655277069771,
          48.53208102884528,
          null
         ]
        },
        {
         "hoverinfo": "text",
         "line": {
          "color": "cornflowerblue",
          "width": 1.2
         },
         "mode": "lines",
         "text": "0.06",
         "type": "scatter",
         "x": [
          -23.454915028125253,
          -23.954915028125253,
          null
         ],
         "y": [
          48.55655277069771,
          48.05655277069771,
          null
         ]
        },
        {
         "hoverinfo": "text",
         "line": {
          "color": "cornflowerblue",
          "width": 0.2702702702702703
         },
         "mode": "lines",
         "text": "0.013513513513513514",
         "type": "scatter",
         "x": [
          -23.454915028125253,
          -23.859423525312728,
          null
         ],
         "y": [
          48.55655277069771,
          47.76266014455147,
          null
         ]
        },
        {
         "hoverinfo": "text",
         "line": {
          "color": "cornflowerblue",
          "width": 0.043243243243243246
         },
         "mode": "lines",
         "text": "0.002162162162162162",
         "type": "scatter",
         "x": [
          -23.454915028125253,
          -23.10136163753198,
          null
         ],
         "y": [
          48.55655277069771,
          48.41010616129098,
          null
         ]
        },
        {
         "hoverinfo": "text",
         "line": {
          "color": "cornflowerblue",
          "width": 0.005405405405405406
         },
         "mode": "lines",
         "text": "0.0002702702702702703",
         "type": "scatter",
         "x": [
          -23.454915028125253,
          -23.808468418718526,
          null
         ],
         "y": [
          48.55655277069771,
          47.70299938010443,
          null
         ]
        },
        {
         "hoverinfo": "text",
         "line": {
          "color": "cornflowerblue",
          "width": 0.005405405405405406
         },
         "mode": "lines",
         "text": "0.0002702702702702703",
         "type": "scatter",
         "x": [
          -23.454915028125253,
          -23.954915028125253,
          null
         ],
         "y": [
          48.55655277069771,
          48.05655277069771,
          null
         ]
        },
        {
         "hoverinfo": "text",
         "line": {
          "color": "cornflowerblue",
          "width": 0.3027027027027027
         },
         "mode": "lines",
         "text": "0.015135135135135135",
         "type": "scatter",
         "x": [
          -23.454915028125253,
          -23.954915028125253,
          null
         ],
         "y": [
          48.55655277069771,
          48.05655277069771,
          null
         ]
        },
        {
         "hoverinfo": "text",
         "line": {
          "color": "cornflowerblue",
          "width": 0.010810810810810811
         },
         "mode": "lines",
         "text": "0.0005405405405405405",
         "type": "scatter",
         "x": [
          -23.454915028125253,
          -22.954915028125253,
          null
         ],
         "y": [
          48.55655277069771,
          48.05655277069771,
          null
         ]
        },
        {
         "hoverinfo": "text",
         "line": {
          "color": "cornflowerblue",
          "width": 0.19459459459459458
         },
         "mode": "lines",
         "text": "0.00972972972972973",
         "type": "scatter",
         "x": [
          -23.454915028125253,
          -23.454915028125253,
          null
         ],
         "y": [
          48.55655277069771,
          48.55655277069771,
          null
         ]
        },
        {
         "hoverinfo": "text",
         "line": {
          "color": "cornflowerblue",
          "width": 0.005405405405405406
         },
         "mode": "lines",
         "text": "0.0002702702702702703",
         "type": "scatter",
         "x": [
          -23.454915028125253,
          -23.454915028125253,
          null
         ],
         "y": [
          48.55655277069771,
          47.55655277069771,
          null
         ]
        },
        {
         "hoverinfo": "text",
         "line": {
          "color": "cornflowerblue",
          "width": 0.048648648648648644
         },
         "mode": "lines",
         "text": "0.0024324324324324323",
         "type": "scatter",
         "x": [
          -23.454915028125253,
          -23.954915028125253,
          null
         ],
         "y": [
          48.55655277069771,
          48.05655277069771,
          null
         ]
        },
        {
         "hoverinfo": "text",
         "line": {
          "color": "cornflowerblue",
          "width": 0.005405405405405406
         },
         "mode": "lines",
         "text": "0.0002702702702702703",
         "type": "scatter",
         "x": [
          -23.454915028125253,
          -23.924761338518206,
          null
         ],
         "y": [
          48.55655277069771,
          48.22756284236054,
          null
         ]
        },
        {
         "hoverinfo": "text",
         "line": {
          "color": "cornflowerblue",
          "width": 0.010810810810810811
         },
         "mode": "lines",
         "text": "0.0005405405405405405",
         "type": "scatter",
         "x": [
          -23.454915028125253,
          -23.454915028125253,
          null
         ],
         "y": [
          48.55655277069771,
          48.55655277069771,
          null
         ]
        },
        {
         "hoverinfo": "text",
         "line": {
          "color": "cornflowerblue",
          "width": 0.010810810810810811
         },
         "mode": "lines",
         "text": "0.0005405405405405405",
         "type": "scatter",
         "x": [
          -23.454915028125253,
          -23.954915028125253,
          null
         ],
         "y": [
          48.55655277069771,
          48.05655277069771,
          null
         ]
        },
        {
         "hoverinfo": "text",
         "line": {
          "color": "cornflowerblue",
          "width": 0.010810810810810811
         },
         "mode": "lines",
         "text": "0.0005405405405405405",
         "type": "scatter",
         "x": [
          -23.454915028125253,
          -23.924761338518206,
          null
         ],
         "y": [
          48.55655277069771,
          47.88554269903487,
          null
         ]
        },
        {
         "hoverinfo": "text",
         "line": {
          "color": "cornflowerblue",
          "width": 0.15135135135135136
         },
         "mode": "lines",
         "text": "0.0075675675675675675",
         "type": "scatter",
         "x": [
          -23.454915028125253,
          -23.454915028125253,
          null
         ],
         "y": [
          48.55655277069771,
          47.55655277069771,
          null
         ]
        },
        {
         "hoverinfo": "text",
         "line": {
          "color": "cornflowerblue",
          "width": 0.08108108108108109
         },
         "mode": "lines",
         "text": "0.004054054054054054",
         "type": "scatter",
         "x": [
          -23.454915028125253,
          -22.954915028125253,
          null
         ],
         "y": [
          48.55655277069771,
          48.05655277069771,
          null
         ]
        },
        {
         "hoverinfo": "text",
         "line": {
          "color": "cornflowerblue",
          "width": 0.005405405405405406
         },
         "mode": "lines",
         "text": "0.0002702702702702703",
         "type": "scatter",
         "x": [
          -23.454915028125253,
          -22.954915028125253,
          null
         ],
         "y": [
          48.55655277069771,
          48.05655277069771,
          null
         ]
        },
        {
         "hoverinfo": "text",
         "line": {
          "color": "cornflowerblue",
          "width": 0.016216216216216217
         },
         "mode": "lines",
         "text": "0.0008108108108108108",
         "type": "scatter",
         "x": [
          -23.454915028125253,
          -23.454915028125253,
          null
         ],
         "y": [
          48.55655277069771,
          47.55655277069771,
          null
         ]
        },
        {
         "hoverinfo": "text",
         "line": {
          "color": "cornflowerblue",
          "width": 0.05945945945945946
         },
         "mode": "lines",
         "text": "0.002972972972972973",
         "type": "scatter",
         "x": [
          -23.454915028125253,
          -22.954915028125253,
          null
         ],
         "y": [
          48.55655277069771,
          48.05655277069771,
          null
         ]
        },
        {
         "hoverinfo": "text",
         "line": {
          "color": "cornflowerblue",
          "width": 0.14054054054054055
         },
         "mode": "lines",
         "text": "0.007027027027027027",
         "type": "scatter",
         "x": [
          -23.454915028125253,
          -23.071892806565764,
          null
         ],
         "y": [
          48.55655277069771,
          47.73515896585444,
          null
         ]
        },
        {
         "hoverinfo": "text",
         "line": {
          "color": "cornflowerblue",
          "width": 0.032432432432432434
         },
         "mode": "lines",
         "text": "0.0016216216216216215",
         "type": "scatter",
         "x": [
          -23.454915028125253,
          -22.954915028125253,
          null
         ],
         "y": [
          48.55655277069771,
          48.05655277069771,
          null
         ]
        },
        {
         "hoverinfo": "text",
         "line": {
          "color": "cornflowerblue",
          "width": 0.010810810810810811
         },
         "mode": "lines",
         "text": "0.0005405405405405405",
         "type": "scatter",
         "x": [
          -23.454915028125253,
          -22.954915028125253,
          null
         ],
         "y": [
          48.55655277069771,
          48.05655277069771,
          null
         ]
        },
        {
         "hoverinfo": "text",
         "line": {
          "color": "cornflowerblue",
          "width": 0.016216216216216217
         },
         "mode": "lines",
         "text": "0.0008108108108108108",
         "type": "scatter",
         "x": [
          -23.454915028125253,
          -23.10136163753198,
          null
         ],
         "y": [
          48.55655277069771,
          47.70299938010443,
          null
         ]
        },
        {
         "hoverinfo": "text",
         "line": {
          "color": "cornflowerblue",
          "width": 0.016216216216216217
         },
         "mode": "lines",
         "text": "0.0008108108108108108",
         "type": "scatter",
         "x": [
          -23.300406530937778,
          -23.10136163753198,
          null
         ],
         "y": [
          48.53208102884528,
          48.41010616129098,
          null
         ]
        },
        {
         "hoverinfo": "text",
         "line": {
          "color": "cornflowerblue",
          "width": 0.02702702702702703
         },
         "mode": "lines",
         "text": "0.0013513513513513514",
         "type": "scatter",
         "x": [
          -23.300406530937778,
          -23.954915028125253,
          null
         ],
         "y": [
          48.53208102884528,
          48.05655277069771,
          null
         ]
        },
        {
         "hoverinfo": "text",
         "line": {
          "color": "cornflowerblue",
          "width": 0.12432432432432432
         },
         "mode": "lines",
         "text": "0.006216216216216216",
         "type": "scatter",
         "x": [
          -23.300406530937778,
          -23.859423525312728,
          null
         ],
         "y": [
          48.53208102884528,
          48.350445396843945,
          null
         ]
        },
        {
         "hoverinfo": "text",
         "line": {
          "color": "cornflowerblue",
          "width": 0.032432432432432434
         },
         "mode": "lines",
         "text": "0.0016216216216216215",
         "type": "scatter",
         "x": [
          -23.300406530937778,
          -23.859423525312728,
          null
         ],
         "y": [
          48.53208102884528,
          47.76266014455147,
          null
         ]
        },
        {
         "hoverinfo": "text",
         "line": {
          "color": "cornflowerblue",
          "width": 0.021621621621621623
         },
         "mode": "lines",
         "text": "0.001081081081081081",
         "type": "scatter",
         "x": [
          -23.300406530937778,
          -23.10136163753198,
          null
         ],
         "y": [
          48.53208102884528,
          48.41010616129098,
          null
         ]
        },
        {
         "hoverinfo": "text",
         "line": {
          "color": "cornflowerblue",
          "width": 0.016216216216216217
         },
         "mode": "lines",
         "text": "0.0008108108108108108",
         "type": "scatter",
         "x": [
          -23.300406530937778,
          -23.954915028125253,
          null
         ],
         "y": [
          48.53208102884528,
          48.05655277069771,
          null
         ]
        },
        {
         "hoverinfo": "text",
         "line": {
          "color": "cornflowerblue",
          "width": 0.043243243243243246
         },
         "mode": "lines",
         "text": "0.002162162162162162",
         "type": "scatter",
         "x": [
          -23.300406530937778,
          -23.954915028125253,
          null
         ],
         "y": [
          48.53208102884528,
          48.05655277069771,
          null
         ]
        },
        {
         "hoverinfo": "text",
         "line": {
          "color": "cornflowerblue",
          "width": 0.005405405405405406
         },
         "mode": "lines",
         "text": "0.0002702702702702703",
         "type": "scatter",
         "x": [
          -23.300406530937778,
          -23.454915028125253,
          null
         ],
         "y": [
          48.53208102884528,
          47.55655277069771,
          null
         ]
        },
        {
         "hoverinfo": "text",
         "line": {
          "color": "cornflowerblue",
          "width": 0.02702702702702703
         },
         "mode": "lines",
         "text": "0.0013513513513513514",
         "type": "scatter",
         "x": [
          -23.300406530937778,
          -23.454915028125253,
          null
         ],
         "y": [
          48.53208102884528,
          48.55655277069771,
          null
         ]
        },
        {
         "hoverinfo": "text",
         "line": {
          "color": "cornflowerblue",
          "width": 0.021621621621621623
         },
         "mode": "lines",
         "text": "0.001081081081081081",
         "type": "scatter",
         "x": [
          -23.300406530937778,
          -23.454915028125253,
          null
         ],
         "y": [
          48.53208102884528,
          47.55655277069771,
          null
         ]
        },
        {
         "hoverinfo": "text",
         "line": {
          "color": "cornflowerblue",
          "width": 0.02702702702702703
         },
         "mode": "lines",
         "text": "0.0013513513513513514",
         "type": "scatter",
         "x": [
          -23.300406530937778,
          -23.954915028125253,
          null
         ],
         "y": [
          48.53208102884528,
          48.05655277069771,
          null
         ]
        },
        {
         "hoverinfo": "text",
         "line": {
          "color": "cornflowerblue",
          "width": 0.005405405405405406
         },
         "mode": "lines",
         "text": "0.0002702702702702703",
         "type": "scatter",
         "x": [
          -23.300406530937778,
          -23.454915028125253,
          null
         ],
         "y": [
          48.53208102884528,
          48.55655277069771,
          null
         ]
        },
        {
         "hoverinfo": "text",
         "line": {
          "color": "cornflowerblue",
          "width": 0.005405405405405406
         },
         "mode": "lines",
         "text": "0.0002702702702702703",
         "type": "scatter",
         "x": [
          -23.300406530937778,
          -23.924761338518206,
          null
         ],
         "y": [
          48.53208102884528,
          47.88554269903487,
          null
         ]
        },
        {
         "hoverinfo": "text",
         "line": {
          "color": "cornflowerblue",
          "width": 0.005405405405405406
         },
         "mode": "lines",
         "text": "0.0002702702702702703",
         "type": "scatter",
         "x": [
          -23.300406530937778,
          -23.454915028125253,
          null
         ],
         "y": [
          48.53208102884528,
          47.55655277069771,
          null
         ]
        },
        {
         "hoverinfo": "text",
         "line": {
          "color": "cornflowerblue",
          "width": 0.11351351351351352
         },
         "mode": "lines",
         "text": "0.005675675675675676",
         "type": "scatter",
         "x": [
          -23.300406530937778,
          -23.300406530937778,
          null
         ],
         "y": [
          48.53208102884528,
          47.58102451255013,
          null
         ]
        },
        {
         "hoverinfo": "text",
         "line": {
          "color": "cornflowerblue",
          "width": 0.3621621621621621
         },
         "mode": "lines",
         "text": "0.018108108108108107",
         "type": "scatter",
         "x": [
          -23.300406530937778,
          -22.954915028125253,
          null
         ],
         "y": [
          48.53208102884528,
          48.05655277069771,
          null
         ]
        },
        {
         "hoverinfo": "text",
         "line": {
          "color": "cornflowerblue",
          "width": 0.005405405405405406
         },
         "mode": "lines",
         "text": "0.0002702702702702703",
         "type": "scatter",
         "x": [
          -23.300406530937778,
          -23.808468418718526,
          null
         ],
         "y": [
          48.53208102884528,
          47.70299938010443,
          null
         ]
        },
        {
         "hoverinfo": "text",
         "line": {
          "color": "cornflowerblue",
          "width": 0.005405405405405406
         },
         "mode": "lines",
         "text": "0.0002702702702702703",
         "type": "scatter",
         "x": [
          -23.300406530937778,
          -23.6462567443078,
          null
         ],
         "y": [
          48.53208102884528,
          47.59461300444206,
          null
         ]
        },
        {
         "hoverinfo": "text",
         "line": {
          "color": "cornflowerblue",
          "width": 0.005405405405405406
         },
         "mode": "lines",
         "text": "0.0002702702702702703",
         "type": "scatter",
         "x": [
          -23.300406530937778,
          -22.954915028125253,
          null
         ],
         "y": [
          48.53208102884528,
          48.05655277069771,
          null
         ]
        },
        {
         "hoverinfo": "text",
         "line": {
          "color": "cornflowerblue",
          "width": 0.016216216216216217
         },
         "mode": "lines",
         "text": "0.0008108108108108108",
         "type": "scatter",
         "x": [
          -23.300406530937778,
          -22.954915028125253,
          null
         ],
         "y": [
          48.53208102884528,
          48.05655277069771,
          null
         ]
        },
        {
         "hoverinfo": "text",
         "line": {
          "color": "cornflowerblue",
          "width": 0.05405405405405406
         },
         "mode": "lines",
         "text": "0.002702702702702703",
         "type": "scatter",
         "x": [
          -23.300406530937778,
          -23.071892806565764,
          null
         ],
         "y": [
          48.53208102884528,
          47.73515896585444,
          null
         ]
        },
        {
         "hoverinfo": "text",
         "line": {
          "color": "cornflowerblue",
          "width": 0.005405405405405406
         },
         "mode": "lines",
         "text": "0.0002702702702702703",
         "type": "scatter",
         "x": [
          -23.954915028125253,
          -23.071892806565764,
          null
         ],
         "y": [
          48.05655277069771,
          48.377946575540975,
          null
         ]
        },
        {
         "hoverinfo": "text",
         "line": {
          "color": "cornflowerblue",
          "width": 0.005405405405405406
         },
         "mode": "lines",
         "text": "0.0002702702702702703",
         "type": "scatter",
         "x": [
          -23.954915028125253,
          -23.704915028125253,
          null
         ],
         "y": [
          48.05655277069771,
          48.48956547258992,
          null
         ]
        },
        {
         "hoverinfo": "text",
         "line": {
          "color": "cornflowerblue",
          "width": 0.02702702702702703
         },
         "mode": "lines",
         "text": "0.0013513513513513514",
         "type": "scatter",
         "x": [
          -23.954915028125253,
          -23.859423525312728,
          null
         ],
         "y": [
          48.05655277069771,
          48.350445396843945,
          null
         ]
        },
        {
         "hoverinfo": "text",
         "line": {
          "color": "cornflowerblue",
          "width": 1.4000000000000001
         },
         "mode": "lines",
         "text": "0.07",
         "type": "scatter",
         "x": [
          -23.954915028125253,
          -23.859423525312728,
          null
         ],
         "y": [
          48.05655277069771,
          47.76266014455147,
          null
         ]
        },
        {
         "hoverinfo": "text",
         "line": {
          "color": "cornflowerblue",
          "width": 0.11891891891891893
         },
         "mode": "lines",
         "text": "0.005945945945945946",
         "type": "scatter",
         "x": [
          -23.954915028125253,
          -23.10136163753198,
          null
         ],
         "y": [
          48.05655277069771,
          48.41010616129098,
          null
         ]
        },
        {
         "hoverinfo": "text",
         "line": {
          "color": "cornflowerblue",
          "width": 0.005405405405405406
         },
         "mode": "lines",
         "text": "0.0002702702702702703",
         "type": "scatter",
         "x": [
          -23.954915028125253,
          -23.954915028125253,
          null
         ],
         "y": [
          48.05655277069771,
          48.05655277069771,
          null
         ]
        },
        {
         "hoverinfo": "text",
         "line": {
          "color": "cornflowerblue",
          "width": 2.7135135135135133
         },
         "mode": "lines",
         "text": "0.13567567567567568",
         "type": "scatter",
         "x": [
          -23.954915028125253,
          -23.954915028125253,
          null
         ],
         "y": [
          48.05655277069771,
          48.05655277069771,
          null
         ]
        },
        {
         "hoverinfo": "text",
         "line": {
          "color": "cornflowerblue",
          "width": 0.02702702702702703
         },
         "mode": "lines",
         "text": "0.0013513513513513514",
         "type": "scatter",
         "x": [
          -23.954915028125253,
          -22.954915028125253,
          null
         ],
         "y": [
          48.05655277069771,
          48.05655277069771,
          null
         ]
        },
        {
         "hoverinfo": "text",
         "line": {
          "color": "cornflowerblue",
          "width": 0.005405405405405406
         },
         "mode": "lines",
         "text": "0.0002702702702702703",
         "type": "scatter",
         "x": [
          -23.954915028125253,
          -22.954915028125253,
          null
         ],
         "y": [
          48.05655277069771,
          48.05655277069771,
          null
         ]
        },
        {
         "hoverinfo": "text",
         "line": {
          "color": "cornflowerblue",
          "width": 0.5459459459459459
         },
         "mode": "lines",
         "text": "0.027297297297297296",
         "type": "scatter",
         "x": [
          -23.954915028125253,
          -23.454915028125253,
          null
         ],
         "y": [
          48.05655277069771,
          48.55655277069771,
          null
         ]
        },
        {
         "hoverinfo": "text",
         "line": {
          "color": "cornflowerblue",
          "width": 0.010810810810810811
         },
         "mode": "lines",
         "text": "0.0005405405405405405",
         "type": "scatter",
         "x": [
          -23.954915028125253,
          -23.454915028125253,
          null
         ],
         "y": [
          48.05655277069771,
          47.55655277069771,
          null
         ]
        },
        {
         "hoverinfo": "text",
         "line": {
          "color": "cornflowerblue",
          "width": 0.1027027027027027
         },
         "mode": "lines",
         "text": "0.005135135135135135",
         "type": "scatter",
         "x": [
          -23.954915028125253,
          -23.954915028125253,
          null
         ],
         "y": [
          48.05655277069771,
          48.05655277069771,
          null
         ]
        },
        {
         "hoverinfo": "text",
         "line": {
          "color": "cornflowerblue",
          "width": 0.09729729729729729
         },
         "mode": "lines",
         "text": "0.004864864864864865",
         "type": "scatter",
         "x": [
          -23.954915028125253,
          -23.454915028125253,
          null
         ],
         "y": [
          48.05655277069771,
          48.55655277069771,
          null
         ]
        },
        {
         "hoverinfo": "text",
         "line": {
          "color": "cornflowerblue",
          "width": 0.08648648648648649
         },
         "mode": "lines",
         "text": "0.004324324324324324",
         "type": "scatter",
         "x": [
          -23.954915028125253,
          -23.954915028125253,
          null
         ],
         "y": [
          48.05655277069771,
          48.05655277069771,
          null
         ]
        },
        {
         "hoverinfo": "text",
         "line": {
          "color": "cornflowerblue",
          "width": 0.02702702702702703
         },
         "mode": "lines",
         "text": "0.0013513513513513514",
         "type": "scatter",
         "x": [
          -23.954915028125253,
          -23.454915028125253,
          null
         ],
         "y": [
          48.05655277069771,
          47.55655277069771,
          null
         ]
        },
        {
         "hoverinfo": "text",
         "line": {
          "color": "cornflowerblue",
          "width": 0.03783783783783784
         },
         "mode": "lines",
         "text": "0.0018918918918918919",
         "type": "scatter",
         "x": [
          -23.954915028125253,
          -23.924761338518206,
          null
         ],
         "y": [
          48.05655277069771,
          47.88554269903487,
          null
         ]
        },
        {
         "hoverinfo": "text",
         "line": {
          "color": "cornflowerblue",
          "width": 0.032432432432432434
         },
         "mode": "lines",
         "text": "0.0016216216216216215",
         "type": "scatter",
         "x": [
          -23.954915028125253,
          -22.954915028125253,
          null
         ],
         "y": [
          48.05655277069771,
          48.05655277069771,
          null
         ]
        },
        {
         "hoverinfo": "text",
         "line": {
          "color": "cornflowerblue",
          "width": 0.005405405405405406
         },
         "mode": "lines",
         "text": "0.0002702702702702703",
         "type": "scatter",
         "x": [
          -23.954915028125253,
          -23.6462567443078,
          null
         ],
         "y": [
          48.05655277069771,
          48.51849253695335,
          null
         ]
        },
        {
         "hoverinfo": "text",
         "line": {
          "color": "cornflowerblue",
          "width": 0.5405405405405406
         },
         "mode": "lines",
         "text": "0.02702702702702703",
         "type": "scatter",
         "x": [
          -23.954915028125253,
          -23.454915028125253,
          null
         ],
         "y": [
          48.05655277069771,
          47.55655277069771,
          null
         ]
        },
        {
         "hoverinfo": "text",
         "line": {
          "color": "cornflowerblue",
          "width": 0.4864864864864865
         },
         "mode": "lines",
         "text": "0.024324324324324326",
         "type": "scatter",
         "x": [
          -23.954915028125253,
          -22.954915028125253,
          null
         ],
         "y": [
          48.05655277069771,
          48.05655277069771,
          null
         ]
        },
        {
         "hoverinfo": "text",
         "line": {
          "color": "cornflowerblue",
          "width": 0.010810810810810811
         },
         "mode": "lines",
         "text": "0.0005405405405405405",
         "type": "scatter",
         "x": [
          -23.954915028125253,
          -23.808468418718526,
          null
         ],
         "y": [
          48.05655277069771,
          47.70299938010443,
          null
         ]
        },
        {
         "hoverinfo": "text",
         "line": {
          "color": "cornflowerblue",
          "width": 0.005405405405405406
         },
         "mode": "lines",
         "text": "0.0002702702702702703",
         "type": "scatter",
         "x": [
          -23.954915028125253,
          -22.954915028125253,
          null
         ],
         "y": [
          48.05655277069771,
          48.05655277069771,
          null
         ]
        },
        {
         "hoverinfo": "text",
         "line": {
          "color": "cornflowerblue",
          "width": 0.005405405405405406
         },
         "mode": "lines",
         "text": "0.0002702702702702703",
         "type": "scatter",
         "x": [
          -23.954915028125253,
          -23.36809093929179,
          null
         ],
         "y": [
          48.05655277069771,
          47.564148894191604,
          null
         ]
        },
        {
         "hoverinfo": "text",
         "line": {
          "color": "cornflowerblue",
          "width": 0.005405405405405406
         },
         "mode": "lines",
         "text": "0.0002702702702702703",
         "type": "scatter",
         "x": [
          -23.954915028125253,
          -23.263573311942707,
          null
         ],
         "y": [
          48.05655277069771,
          47.59461300444206,
          null
         ]
        },
        {
         "hoverinfo": "text",
         "line": {
          "color": "cornflowerblue",
          "width": 0.016216216216216217
         },
         "mode": "lines",
         "text": "0.0008108108108108108",
         "type": "scatter",
         "x": [
          -23.954915028125253,
          -23.454915028125253,
          null
         ],
         "y": [
          48.05655277069771,
          47.55655277069771,
          null
         ]
        },
        {
         "hoverinfo": "text",
         "line": {
          "color": "cornflowerblue",
          "width": 0.2918918918918919
         },
         "mode": "lines",
         "text": "0.014594594594594595",
         "type": "scatter",
         "x": [
          -23.954915028125253,
          -22.954915028125253,
          null
         ],
         "y": [
          48.05655277069771,
          48.05655277069771,
          null
         ]
        },
        {
         "hoverinfo": "text",
         "line": {
          "color": "cornflowerblue",
          "width": 0.3567567567567568
         },
         "mode": "lines",
         "text": "0.01783783783783784",
         "type": "scatter",
         "x": [
          -23.954915028125253,
          -23.071892806565764,
          null
         ],
         "y": [
          48.05655277069771,
          47.73515896585444,
          null
         ]
        },
        {
         "hoverinfo": "text",
         "line": {
          "color": "cornflowerblue",
          "width": 0.11351351351351352
         },
         "mode": "lines",
         "text": "0.005675675675675676",
         "type": "scatter",
         "x": [
          -23.954915028125253,
          -22.954915028125253,
          null
         ],
         "y": [
          48.05655277069771,
          48.05655277069771,
          null
         ]
        },
        {
         "hoverinfo": "text",
         "line": {
          "color": "cornflowerblue",
          "width": 0.043243243243243246
         },
         "mode": "lines",
         "text": "0.002162162162162162",
         "type": "scatter",
         "x": [
          -23.954915028125253,
          -22.954915028125253,
          null
         ],
         "y": [
          48.05655277069771,
          48.05655277069771,
          null
         ]
        },
        {
         "hoverinfo": "text",
         "line": {
          "color": "cornflowerblue",
          "width": 0.02702702702702703
         },
         "mode": "lines",
         "text": "0.0013513513513513514",
         "type": "scatter",
         "x": [
          -23.954915028125253,
          -23.10136163753198,
          null
         ],
         "y": [
          48.05655277069771,
          47.70299938010443,
          null
         ]
        },
        {
         "hoverinfo": "text",
         "line": {
          "color": "cornflowerblue",
          "width": 0.010810810810810811
         },
         "mode": "lines",
         "text": "0.0005405405405405405",
         "type": "scatter",
         "x": [
          -23.954915028125253,
          -22.99297526186961,
          null
         ],
         "y": [
          48.05655277069771,
          47.865211054515164,
          null
         ]
        },
        {
         "hoverinfo": "text",
         "line": {
          "color": "cornflowerblue",
          "width": 0.005405405405405406
         },
         "mode": "lines",
         "text": "0.0002702702702702703",
         "type": "scatter",
         "x": [
          -23.859423525312728,
          -23.704915028125253,
          null
         ],
         "y": [
          47.76266014455147,
          48.48956547258992,
          null
         ]
        },
        {
         "hoverinfo": "text",
         "line": {
          "color": "cornflowerblue",
          "width": 0.06486486486486487
         },
         "mode": "lines",
         "text": "0.003243243243243243",
         "type": "scatter",
         "x": [
          -23.859423525312728,
          -23.859423525312728,
          null
         ],
         "y": [
          47.76266014455147,
          48.350445396843945,
          null
         ]
        },
        {
         "hoverinfo": "text",
         "line": {
          "color": "cornflowerblue",
          "width": 0.048648648648648644
         },
         "mode": "lines",
         "text": "0.0024324324324324323",
         "type": "scatter",
         "x": [
          -23.859423525312728,
          -23.10136163753198,
          null
         ],
         "y": [
          47.76266014455147,
          48.41010616129098,
          null
         ]
        },
        {
         "hoverinfo": "text",
         "line": {
          "color": "cornflowerblue",
          "width": 0.28648648648648645
         },
         "mode": "lines",
         "text": "0.014324324324324324",
         "type": "scatter",
         "x": [
          -23.859423525312728,
          -23.954915028125253,
          null
         ],
         "y": [
          47.76266014455147,
          48.05655277069771,
          null
         ]
        },
        {
         "hoverinfo": "text",
         "line": {
          "color": "cornflowerblue",
          "width": 0.010810810810810811
         },
         "mode": "lines",
         "text": "0.0005405405405405405",
         "type": "scatter",
         "x": [
          -23.859423525312728,
          -22.954915028125253,
          null
         ],
         "y": [
          47.76266014455147,
          48.05655277069771,
          null
         ]
        },
        {
         "hoverinfo": "text",
         "line": {
          "color": "cornflowerblue",
          "width": 0.005405405405405406
         },
         "mode": "lines",
         "text": "0.0002702702702702703",
         "type": "scatter",
         "x": [
          -23.859423525312728,
          -23.454915028125253,
          null
         ],
         "y": [
          47.76266014455147,
          47.55655277069771,
          null
         ]
        },
        {
         "hoverinfo": "text",
         "line": {
          "color": "cornflowerblue",
          "width": 0.005405405405405406
         },
         "mode": "lines",
         "text": "0.0002702702702702703",
         "type": "scatter",
         "x": [
          -23.859423525312728,
          -22.954915028125253,
          null
         ],
         "y": [
          47.76266014455147,
          48.05655277069771,
          null
         ]
        },
        {
         "hoverinfo": "text",
         "line": {
          "color": "cornflowerblue",
          "width": 0.06486486486486487
         },
         "mode": "lines",
         "text": "0.003243243243243243",
         "type": "scatter",
         "x": [
          -23.859423525312728,
          -23.454915028125253,
          null
         ],
         "y": [
          47.76266014455147,
          48.55655277069771,
          null
         ]
        },
        {
         "hoverinfo": "text",
         "line": {
          "color": "cornflowerblue",
          "width": 0.03783783783783784
         },
         "mode": "lines",
         "text": "0.0018918918918918919",
         "type": "scatter",
         "x": [
          -23.859423525312728,
          -23.954915028125253,
          null
         ],
         "y": [
          47.76266014455147,
          48.05655277069771,
          null
         ]
        },
        {
         "hoverinfo": "text",
         "line": {
          "color": "cornflowerblue",
          "width": 0.010810810810810811
         },
         "mode": "lines",
         "text": "0.0005405405405405405",
         "type": "scatter",
         "x": [
          -23.859423525312728,
          -23.454915028125253,
          null
         ],
         "y": [
          47.76266014455147,
          48.55655277069771,
          null
         ]
        },
        {
         "hoverinfo": "text",
         "line": {
          "color": "cornflowerblue",
          "width": 0.021621621621621623
         },
         "mode": "lines",
         "text": "0.001081081081081081",
         "type": "scatter",
         "x": [
          -23.859423525312728,
          -23.954915028125253,
          null
         ],
         "y": [
          47.76266014455147,
          48.05655277069771,
          null
         ]
        },
        {
         "hoverinfo": "text",
         "line": {
          "color": "cornflowerblue",
          "width": 0.005405405405405406
         },
         "mode": "lines",
         "text": "0.0002702702702702703",
         "type": "scatter",
         "x": [
          -23.859423525312728,
          -23.454915028125253,
          null
         ],
         "y": [
          47.76266014455147,
          47.55655277069771,
          null
         ]
        },
        {
         "hoverinfo": "text",
         "line": {
          "color": "cornflowerblue",
          "width": 0.05945945945945946
         },
         "mode": "lines",
         "text": "0.002972972972972973",
         "type": "scatter",
         "x": [
          -23.859423525312728,
          -23.454915028125253,
          null
         ],
         "y": [
          47.76266014455147,
          47.55655277069771,
          null
         ]
        },
        {
         "hoverinfo": "text",
         "line": {
          "color": "cornflowerblue",
          "width": 0.03783783783783784
         },
         "mode": "lines",
         "text": "0.0018918918918918919",
         "type": "scatter",
         "x": [
          -23.859423525312728,
          -23.300406530937778,
          null
         ],
         "y": [
          47.76266014455147,
          47.58102451255013,
          null
         ]
        },
        {
         "hoverinfo": "text",
         "line": {
          "color": "cornflowerblue",
          "width": 0.1837837837837838
         },
         "mode": "lines",
         "text": "0.009189189189189189",
         "type": "scatter",
         "x": [
          -23.859423525312728,
          -22.954915028125253,
          null
         ],
         "y": [
          47.76266014455147,
          48.05655277069771,
          null
         ]
        },
        {
         "hoverinfo": "text",
         "line": {
          "color": "cornflowerblue",
          "width": 0.005405405405405406
         },
         "mode": "lines",
         "text": "0.0002702702702702703",
         "type": "scatter",
         "x": [
          -23.859423525312728,
          -22.954915028125253,
          null
         ],
         "y": [
          47.76266014455147,
          48.05655277069771,
          null
         ]
        },
        {
         "hoverinfo": "text",
         "line": {
          "color": "cornflowerblue",
          "width": 0.016216216216216217
         },
         "mode": "lines",
         "text": "0.0008108108108108108",
         "type": "scatter",
         "x": [
          -23.859423525312728,
          -23.454915028125253,
          null
         ],
         "y": [
          47.76266014455147,
          47.55655277069771,
          null
         ]
        },
        {
         "hoverinfo": "text",
         "line": {
          "color": "cornflowerblue",
          "width": 0.021621621621621623
         },
         "mode": "lines",
         "text": "0.001081081081081081",
         "type": "scatter",
         "x": [
          -23.859423525312728,
          -22.954915028125253,
          null
         ],
         "y": [
          47.76266014455147,
          48.05655277069771,
          null
         ]
        },
        {
         "hoverinfo": "text",
         "line": {
          "color": "cornflowerblue",
          "width": 0.14054054054054055
         },
         "mode": "lines",
         "text": "0.007027027027027027",
         "type": "scatter",
         "x": [
          -23.859423525312728,
          -23.071892806565764,
          null
         ],
         "y": [
          47.76266014455147,
          47.73515896585444,
          null
         ]
        },
        {
         "hoverinfo": "text",
         "line": {
          "color": "cornflowerblue",
          "width": 0.005405405405405406
         },
         "mode": "lines",
         "text": "0.0002702702702702703",
         "type": "scatter",
         "x": [
          -23.859423525312728,
          -22.954915028125253,
          null
         ],
         "y": [
          47.76266014455147,
          48.05655277069771,
          null
         ]
        },
        {
         "hoverinfo": "text",
         "line": {
          "color": "cornflowerblue",
          "width": 0.005405405405405406
         },
         "mode": "lines",
         "text": "0.0002702702702702703",
         "type": "scatter",
         "x": [
          -23.859423525312728,
          -22.954915028125253,
          null
         ],
         "y": [
          47.76266014455147,
          48.05655277069771,
          null
         ]
        },
        {
         "hoverinfo": "text",
         "line": {
          "color": "cornflowerblue",
          "width": 0.032432432432432434
         },
         "mode": "lines",
         "text": "0.0016216216216216215",
         "type": "scatter",
         "x": [
          -23.859423525312728,
          -23.10136163753198,
          null
         ],
         "y": [
          47.76266014455147,
          47.70299938010443,
          null
         ]
        },
        {
         "hoverinfo": "text",
         "line": {
          "color": "cornflowerblue",
          "width": 0.005405405405405406
         },
         "mode": "lines",
         "text": "0.0002702702702702703",
         "type": "scatter",
         "x": [
          -23.10136163753198,
          -23.071892806565764,
          null
         ],
         "y": [
          48.41010616129098,
          48.377946575540975,
          null
         ]
        },
        {
         "hoverinfo": "text",
         "line": {
          "color": "cornflowerblue",
          "width": 0.010810810810810811
         },
         "mode": "lines",
         "text": "0.0005405405405405405",
         "type": "scatter",
         "x": [
          -23.10136163753198,
          -23.704915028125253,
          null
         ],
         "y": [
          48.41010616129098,
          48.48956547258992,
          null
         ]
        },
        {
         "hoverinfo": "text",
         "line": {
          "color": "cornflowerblue",
          "width": 0.010810810810810811
         },
         "mode": "lines",
         "text": "0.0005405405405405405",
         "type": "scatter",
         "x": [
          -23.10136163753198,
          -23.859423525312728,
          null
         ],
         "y": [
          48.41010616129098,
          48.350445396843945,
          null
         ]
        },
        {
         "hoverinfo": "text",
         "line": {
          "color": "cornflowerblue",
          "width": 0.032432432432432434
         },
         "mode": "lines",
         "text": "0.0016216216216216215",
         "type": "scatter",
         "x": [
          -23.10136163753198,
          -23.808468418718526,
          null
         ],
         "y": [
          48.41010616129098,
          48.41010616129098,
          null
         ]
        },
        {
         "hoverinfo": "text",
         "line": {
          "color": "cornflowerblue",
          "width": 0.1027027027027027
         },
         "mode": "lines",
         "text": "0.005135135135135135",
         "type": "scatter",
         "x": [
          -23.10136163753198,
          -23.954915028125253,
          null
         ],
         "y": [
          48.41010616129098,
          48.05655277069771,
          null
         ]
        },
        {
         "hoverinfo": "text",
         "line": {
          "color": "cornflowerblue",
          "width": 0.06486486486486487
         },
         "mode": "lines",
         "text": "0.003243243243243243",
         "type": "scatter",
         "x": [
          -23.10136163753198,
          -23.954915028125253,
          null
         ],
         "y": [
          48.41010616129098,
          48.05655277069771,
          null
         ]
        },
        {
         "hoverinfo": "text",
         "line": {
          "color": "cornflowerblue",
          "width": 0.24864864864864863
         },
         "mode": "lines",
         "text": "0.012432432432432432",
         "type": "scatter",
         "x": [
          -23.10136163753198,
          -23.954915028125253,
          null
         ],
         "y": [
          48.41010616129098,
          48.05655277069771,
          null
         ]
        },
        {
         "hoverinfo": "text",
         "line": {
          "color": "cornflowerblue",
          "width": 0.005405405405405406
         },
         "mode": "lines",
         "text": "0.0002702702702702703",
         "type": "scatter",
         "x": [
          -23.10136163753198,
          -22.954915028125253,
          null
         ],
         "y": [
          48.41010616129098,
          48.05655277069771,
          null
         ]
        },
        {
         "hoverinfo": "text",
         "line": {
          "color": "cornflowerblue",
          "width": 0.005405405405405406
         },
         "mode": "lines",
         "text": "0.0002702702702702703",
         "type": "scatter",
         "x": [
          -23.10136163753198,
          -22.954915028125253,
          null
         ],
         "y": [
          48.41010616129098,
          48.05655277069771,
          null
         ]
        },
        {
         "hoverinfo": "text",
         "line": {
          "color": "cornflowerblue",
          "width": 0.17297297297297298
         },
         "mode": "lines",
         "text": "0.008648648648648649",
         "type": "scatter",
         "x": [
          -23.10136163753198,
          -23.454915028125253,
          null
         ],
         "y": [
          48.41010616129098,
          48.55655277069771,
          null
         ]
        },
        {
         "hoverinfo": "text",
         "line": {
          "color": "cornflowerblue",
          "width": 0.016216216216216217
         },
         "mode": "lines",
         "text": "0.0008108108108108108",
         "type": "scatter",
         "x": [
          -23.10136163753198,
          -23.454915028125253,
          null
         ],
         "y": [
          48.41010616129098,
          47.55655277069771,
          null
         ]
        },
        {
         "hoverinfo": "text",
         "line": {
          "color": "cornflowerblue",
          "width": 20.00540540540541
         },
         "mode": "lines",
         "text": "1.0002702702702704",
         "type": "scatter",
         "x": [
          -23.10136163753198,
          -23.954915028125253,
          null
         ],
         "y": [
          48.41010616129098,
          48.05655277069771,
          null
         ]
        },
        {
         "hoverinfo": "text",
         "line": {
          "color": "cornflowerblue",
          "width": 0.09729729729729729
         },
         "mode": "lines",
         "text": "0.004864864864864865",
         "type": "scatter",
         "x": [
          -23.10136163753198,
          -23.454915028125253,
          null
         ],
         "y": [
          48.41010616129098,
          48.55655277069771,
          null
         ]
        },
        {
         "hoverinfo": "text",
         "line": {
          "color": "cornflowerblue",
          "width": 0.02702702702702703
         },
         "mode": "lines",
         "text": "0.0013513513513513514",
         "type": "scatter",
         "x": [
          -23.10136163753198,
          -23.954915028125253,
          null
         ],
         "y": [
          48.41010616129098,
          48.05655277069771,
          null
         ]
        },
        {
         "hoverinfo": "text",
         "line": {
          "color": "cornflowerblue",
          "width": 0.010810810810810811
         },
         "mode": "lines",
         "text": "0.0005405405405405405",
         "type": "scatter",
         "x": [
          -23.10136163753198,
          -23.454915028125253,
          null
         ],
         "y": [
          48.41010616129098,
          47.55655277069771,
          null
         ]
        },
        {
         "hoverinfo": "text",
         "line": {
          "color": "cornflowerblue",
          "width": 0.010810810810810811
         },
         "mode": "lines",
         "text": "0.0005405405405405405",
         "type": "scatter",
         "x": [
          -23.10136163753198,
          -23.263573311942707,
          null
         ],
         "y": [
          48.41010616129098,
          48.51849253695335,
          null
         ]
        },
        {
         "hoverinfo": "text",
         "line": {
          "color": "cornflowerblue",
          "width": 0.016216216216216217
         },
         "mode": "lines",
         "text": "0.0008108108108108108",
         "type": "scatter",
         "x": [
          -23.10136163753198,
          -23.454915028125253,
          null
         ],
         "y": [
          48.41010616129098,
          47.55655277069771,
          null
         ]
        },
        {
         "hoverinfo": "text",
         "line": {
          "color": "cornflowerblue",
          "width": 0.08108108108108109
         },
         "mode": "lines",
         "text": "0.004054054054054054",
         "type": "scatter",
         "x": [
          -23.10136163753198,
          -22.954915028125253,
          null
         ],
         "y": [
          48.41010616129098,
          48.05655277069771,
          null
         ]
        },
        {
         "hoverinfo": "text",
         "line": {
          "color": "cornflowerblue",
          "width": 4.664864864864865
         },
         "mode": "lines",
         "text": "0.23324324324324325",
         "type": "scatter",
         "x": [
          -23.10136163753198,
          -23.808468418718526,
          null
         ],
         "y": [
          48.41010616129098,
          47.70299938010443,
          null
         ]
        },
        {
         "hoverinfo": "text",
         "line": {
          "color": "cornflowerblue",
          "width": 0.005405405405405406
         },
         "mode": "lines",
         "text": "0.0002702702702702703",
         "type": "scatter",
         "x": [
          -23.10136163753198,
          -23.6462567443078,
          null
         ],
         "y": [
          48.41010616129098,
          47.59461300444206,
          null
         ]
        },
        {
         "hoverinfo": "text",
         "line": {
          "color": "cornflowerblue",
          "width": 0.010810810810810811
         },
         "mode": "lines",
         "text": "0.0005405405405405405",
         "type": "scatter",
         "x": [
          -23.10136163753198,
          -23.36809093929179,
          null
         ],
         "y": [
          48.41010616129098,
          47.564148894191604,
          null
         ]
        },
        {
         "hoverinfo": "text",
         "line": {
          "color": "cornflowerblue",
          "width": 0.10810810810810811
         },
         "mode": "lines",
         "text": "0.005405405405405406",
         "type": "scatter",
         "x": [
          -23.10136163753198,
          -23.454915028125253,
          null
         ],
         "y": [
          48.41010616129098,
          47.55655277069771,
          null
         ]
        },
        {
         "hoverinfo": "text",
         "line": {
          "color": "cornflowerblue",
          "width": 0.032432432432432434
         },
         "mode": "lines",
         "text": "0.0016216216216216215",
         "type": "scatter",
         "x": [
          -23.10136163753198,
          -22.954915028125253,
          null
         ],
         "y": [
          48.41010616129098,
          48.05655277069771,
          null
         ]
        },
        {
         "hoverinfo": "text",
         "line": {
          "color": "cornflowerblue",
          "width": 0.2
         },
         "mode": "lines",
         "text": "0.01",
         "type": "scatter",
         "x": [
          -23.10136163753198,
          -23.071892806565764,
          null
         ],
         "y": [
          48.41010616129098,
          47.73515896585444,
          null
         ]
        },
        {
         "hoverinfo": "text",
         "line": {
          "color": "cornflowerblue",
          "width": 0.005405405405405406
         },
         "mode": "lines",
         "text": "0.0002702702702702703",
         "type": "scatter",
         "x": [
          -23.10136163753198,
          -22.954915028125253,
          null
         ],
         "y": [
          48.41010616129098,
          48.05655277069771,
          null
         ]
        },
        {
         "hoverinfo": "text",
         "line": {
          "color": "cornflowerblue",
          "width": 0.05945945945945946
         },
         "mode": "lines",
         "text": "0.002972972972972973",
         "type": "scatter",
         "x": [
          -23.10136163753198,
          -22.954915028125253,
          null
         ],
         "y": [
          48.41010616129098,
          48.05655277069771,
          null
         ]
        },
        {
         "hoverinfo": "text",
         "line": {
          "color": "cornflowerblue",
          "width": 0.17297297297297298
         },
         "mode": "lines",
         "text": "0.008648648648648649",
         "type": "scatter",
         "x": [
          -23.10136163753198,
          -22.954915028125253,
          null
         ],
         "y": [
          48.41010616129098,
          48.05655277069771,
          null
         ]
        },
        {
         "hoverinfo": "text",
         "line": {
          "color": "cornflowerblue",
          "width": 0.10810810810810811
         },
         "mode": "lines",
         "text": "0.005405405405405406",
         "type": "scatter",
         "x": [
          -23.10136163753198,
          -23.10136163753198,
          null
         ],
         "y": [
          48.41010616129098,
          47.70299938010443,
          null
         ]
        },
        {
         "hoverinfo": "text",
         "line": {
          "color": "cornflowerblue",
          "width": 0.021621621621621623
         },
         "mode": "lines",
         "text": "0.001081081081081081",
         "type": "scatter",
         "x": [
          -23.10136163753198,
          -22.99297526186961,
          null
         ],
         "y": [
          48.41010616129098,
          47.865211054515164,
          null
         ]
        },
        {
         "hoverinfo": "text",
         "line": {
          "color": "cornflowerblue",
          "width": 0.010810810810810811
         },
         "mode": "lines",
         "text": "0.0005405405405405405",
         "type": "scatter",
         "x": [
          -23.808468418718526,
          -23.10136163753198,
          null
         ],
         "y": [
          47.70299938010443,
          48.41010616129098,
          null
         ]
        },
        {
         "hoverinfo": "text",
         "line": {
          "color": "cornflowerblue",
          "width": 0.02702702702702703
         },
         "mode": "lines",
         "text": "0.0013513513513513514",
         "type": "scatter",
         "x": [
          -23.808468418718526,
          -23.808468418718526,
          null
         ],
         "y": [
          47.70299938010443,
          48.41010616129098,
          null
         ]
        },
        {
         "hoverinfo": "text",
         "line": {
          "color": "cornflowerblue",
          "width": 0.005405405405405406
         },
         "mode": "lines",
         "text": "0.0002702702702702703",
         "type": "scatter",
         "x": [
          -23.808468418718526,
          -23.454915028125253,
          null
         ],
         "y": [
          47.70299938010443,
          47.55655277069771,
          null
         ]
        },
        {
         "hoverinfo": "text",
         "line": {
          "color": "cornflowerblue",
          "width": 0.005405405405405406
         },
         "mode": "lines",
         "text": "0.0002702702702702703",
         "type": "scatter",
         "x": [
          -23.808468418718526,
          -23.924761338518206,
          null
         ],
         "y": [
          47.70299938010443,
          47.88554269903487,
          null
         ]
        },
        {
         "hoverinfo": "text",
         "line": {
          "color": "cornflowerblue",
          "width": 0.005405405405405406
         },
         "mode": "lines",
         "text": "0.0002702702702702703",
         "type": "scatter",
         "x": [
          -23.808468418718526,
          -23.071892806565764,
          null
         ],
         "y": [
          47.70299938010443,
          47.73515896585444,
          null
         ]
        },
        {
         "hoverinfo": "text",
         "line": {
          "color": "cornflowerblue",
          "width": 0.005405405405405406
         },
         "mode": "lines",
         "text": "0.0002702702702702703",
         "type": "scatter",
         "x": [
          -23.808468418718526,
          -23.916854794380896,
          null
         ],
         "y": [
          47.70299938010443,
          48.24789448688025,
          null
         ]
        },
        {
         "hoverinfo": "text",
         "line": {
          "color": "cornflowerblue",
          "width": 0.005405405405405406
         },
         "mode": "lines",
         "text": "0.0002702702702702703",
         "type": "scatter",
         "x": [
          -23.954915028125253,
          -23.10136163753198,
          null
         ],
         "y": [
          48.05655277069771,
          48.41010616129098,
          null
         ]
        },
        {
         "hoverinfo": "text",
         "line": {
          "color": "cornflowerblue",
          "width": 0.005405405405405406
         },
         "mode": "lines",
         "text": "0.0002702702702702703",
         "type": "scatter",
         "x": [
          -23.954915028125253,
          -22.99297526186961,
          null
         ],
         "y": [
          48.05655277069771,
          48.24789448688025,
          null
         ]
        },
        {
         "hoverinfo": "text",
         "line": {
          "color": "cornflowerblue",
          "width": 0.005405405405405406
         },
         "mode": "lines",
         "text": "0.0002702702702702703",
         "type": "scatter",
         "x": [
          -23.954915028125253,
          -23.454915028125253,
          null
         ],
         "y": [
          48.05655277069771,
          48.55655277069771,
          null
         ]
        },
        {
         "hoverinfo": "text",
         "line": {
          "color": "cornflowerblue",
          "width": 0.005405405405405406
         },
         "mode": "lines",
         "text": "0.0002702702702702703",
         "type": "scatter",
         "x": [
          -23.954915028125253,
          -23.808468418718526,
          null
         ],
         "y": [
          48.05655277069771,
          48.41010616129098,
          null
         ]
        },
        {
         "hoverinfo": "text",
         "line": {
          "color": "cornflowerblue",
          "width": 0.02702702702702703
         },
         "mode": "lines",
         "text": "0.0013513513513513514",
         "type": "scatter",
         "x": [
          -23.954915028125253,
          -23.954915028125253,
          null
         ],
         "y": [
          48.05655277069771,
          48.05655277069771,
          null
         ]
        },
        {
         "hoverinfo": "text",
         "line": {
          "color": "cornflowerblue",
          "width": 0.048648648648648644
         },
         "mode": "lines",
         "text": "0.0024324324324324323",
         "type": "scatter",
         "x": [
          -23.954915028125253,
          -23.954915028125253,
          null
         ],
         "y": [
          48.05655277069771,
          48.05655277069771,
          null
         ]
        },
        {
         "hoverinfo": "text",
         "line": {
          "color": "cornflowerblue",
          "width": 0.005405405405405406
         },
         "mode": "lines",
         "text": "0.0002702702702702703",
         "type": "scatter",
         "x": [
          -23.954915028125253,
          -22.954915028125253,
          null
         ],
         "y": [
          48.05655277069771,
          48.05655277069771,
          null
         ]
        },
        {
         "hoverinfo": "text",
         "line": {
          "color": "cornflowerblue",
          "width": 0.005405405405405406
         },
         "mode": "lines",
         "text": "0.0002702702702702703",
         "type": "scatter",
         "x": [
          -23.954915028125253,
          -23.10136163753198,
          null
         ],
         "y": [
          48.05655277069771,
          47.70299938010443,
          null
         ]
        },
        {
         "hoverinfo": "text",
         "line": {
          "color": "cornflowerblue",
          "width": 0.07027027027027027
         },
         "mode": "lines",
         "text": "0.0035135135135135136",
         "type": "scatter",
         "x": [
          -23.954915028125253,
          -22.954915028125253,
          null
         ],
         "y": [
          48.05655277069771,
          48.05655277069771,
          null
         ]
        },
        {
         "hoverinfo": "text",
         "line": {
          "color": "cornflowerblue",
          "width": 0.2594594594594595
         },
         "mode": "lines",
         "text": "0.012972972972972972",
         "type": "scatter",
         "x": [
          -23.954915028125253,
          -23.454915028125253,
          null
         ],
         "y": [
          48.05655277069771,
          47.55655277069771,
          null
         ]
        },
        {
         "hoverinfo": "text",
         "line": {
          "color": "cornflowerblue",
          "width": 0.02702702702702703
         },
         "mode": "lines",
         "text": "0.0013513513513513514",
         "type": "scatter",
         "x": [
          -23.954915028125253,
          -23.954915028125253,
          null
         ],
         "y": [
          48.05655277069771,
          48.05655277069771,
          null
         ]
        },
        {
         "hoverinfo": "text",
         "line": {
          "color": "cornflowerblue",
          "width": 0.005405405405405406
         },
         "mode": "lines",
         "text": "0.0002702702702702703",
         "type": "scatter",
         "x": [
          -23.954915028125253,
          -23.454915028125253,
          null
         ],
         "y": [
          48.05655277069771,
          48.55655277069771,
          null
         ]
        },
        {
         "hoverinfo": "text",
         "line": {
          "color": "cornflowerblue",
          "width": 0.010810810810810811
         },
         "mode": "lines",
         "text": "0.0005405405405405405",
         "type": "scatter",
         "x": [
          -23.954915028125253,
          -23.454915028125253,
          null
         ],
         "y": [
          48.05655277069771,
          47.55655277069771,
          null
         ]
        },
        {
         "hoverinfo": "text",
         "line": {
          "color": "cornflowerblue",
          "width": 0.005405405405405406
         },
         "mode": "lines",
         "text": "0.0002702702702702703",
         "type": "scatter",
         "x": [
          -23.954915028125253,
          -22.954915028125253,
          null
         ],
         "y": [
          48.05655277069771,
          48.05655277069771,
          null
         ]
        },
        {
         "hoverinfo": "text",
         "line": {
          "color": "cornflowerblue",
          "width": 0.010810810810810811
         },
         "mode": "lines",
         "text": "0.0005405405405405405",
         "type": "scatter",
         "x": [
          -23.954915028125253,
          -22.954915028125253,
          null
         ],
         "y": [
          48.05655277069771,
          48.05655277069771,
          null
         ]
        },
        {
         "hoverinfo": "text",
         "line": {
          "color": "cornflowerblue",
          "width": 0.4864864864864865
         },
         "mode": "lines",
         "text": "0.024324324324324326",
         "type": "scatter",
         "x": [
          -23.954915028125253,
          -23.454915028125253,
          null
         ],
         "y": [
          48.05655277069771,
          48.55655277069771,
          null
         ]
        },
        {
         "hoverinfo": "text",
         "line": {
          "color": "cornflowerblue",
          "width": 0.005405405405405406
         },
         "mode": "lines",
         "text": "0.0002702702702702703",
         "type": "scatter",
         "x": [
          -23.954915028125253,
          -23.071892806565764,
          null
         ],
         "y": [
          48.05655277069771,
          48.377946575540975,
          null
         ]
        },
        {
         "hoverinfo": "text",
         "line": {
          "color": "cornflowerblue",
          "width": 0.010810810810810811
         },
         "mode": "lines",
         "text": "0.0005405405405405405",
         "type": "scatter",
         "x": [
          -23.954915028125253,
          -23.704915028125253,
          null
         ],
         "y": [
          48.05655277069771,
          48.48956547258992,
          null
         ]
        },
        {
         "hoverinfo": "text",
         "line": {
          "color": "cornflowerblue",
          "width": 0.005405405405405406
         },
         "mode": "lines",
         "text": "0.0002702702702702703",
         "type": "scatter",
         "x": [
          -23.954915028125253,
          -23.10136163753198,
          null
         ],
         "y": [
          48.05655277069771,
          48.41010616129098,
          null
         ]
        },
        {
         "hoverinfo": "text",
         "line": {
          "color": "cornflowerblue",
          "width": 0.010810810810810811
         },
         "mode": "lines",
         "text": "0.0005405405405405405",
         "type": "scatter",
         "x": [
          -23.954915028125253,
          -23.859423525312728,
          null
         ],
         "y": [
          48.05655277069771,
          48.350445396843945,
          null
         ]
        },
        {
         "hoverinfo": "text",
         "line": {
          "color": "cornflowerblue",
          "width": 0.005405405405405406
         },
         "mode": "lines",
         "text": "0.0002702702702702703",
         "type": "scatter",
         "x": [
          -23.954915028125253,
          -23.954915028125253,
          null
         ],
         "y": [
          48.05655277069771,
          48.05655277069771,
          null
         ]
        },
        {
         "hoverinfo": "text",
         "line": {
          "color": "cornflowerblue",
          "width": 0.005405405405405406
         },
         "mode": "lines",
         "text": "0.0002702702702702703",
         "type": "scatter",
         "x": [
          -23.954915028125253,
          -23.808468418718526,
          null
         ],
         "y": [
          48.05655277069771,
          48.41010616129098,
          null
         ]
        },
        {
         "hoverinfo": "text",
         "line": {
          "color": "cornflowerblue",
          "width": 0.681081081081081
         },
         "mode": "lines",
         "text": "0.03405405405405405",
         "type": "scatter",
         "x": [
          -23.954915028125253,
          -22.954915028125253,
          null
         ],
         "y": [
          48.05655277069771,
          48.05655277069771,
          null
         ]
        },
        {
         "hoverinfo": "text",
         "line": {
          "color": "cornflowerblue",
          "width": 0.005405405405405406
         },
         "mode": "lines",
         "text": "0.0002702702702702703",
         "type": "scatter",
         "x": [
          -23.954915028125253,
          -23.454915028125253,
          null
         ],
         "y": [
          48.05655277069771,
          47.55655277069771,
          null
         ]
        },
        {
         "hoverinfo": "text",
         "line": {
          "color": "cornflowerblue",
          "width": 0.005405405405405406
         },
         "mode": "lines",
         "text": "0.0002702702702702703",
         "type": "scatter",
         "x": [
          -23.954915028125253,
          -22.954915028125253,
          null
         ],
         "y": [
          48.05655277069771,
          48.05655277069771,
          null
         ]
        },
        {
         "hoverinfo": "text",
         "line": {
          "color": "cornflowerblue",
          "width": 0.016216216216216217
         },
         "mode": "lines",
         "text": "0.0008108108108108108",
         "type": "scatter",
         "x": [
          -23.954915028125253,
          -23.454915028125253,
          null
         ],
         "y": [
          48.05655277069771,
          47.55655277069771,
          null
         ]
        },
        {
         "hoverinfo": "text",
         "line": {
          "color": "cornflowerblue",
          "width": 0.2216216216216216
         },
         "mode": "lines",
         "text": "0.01108108108108108",
         "type": "scatter",
         "x": [
          -23.954915028125253,
          -23.954915028125253,
          null
         ],
         "y": [
          48.05655277069771,
          48.05655277069771,
          null
         ]
        },
        {
         "hoverinfo": "text",
         "line": {
          "color": "cornflowerblue",
          "width": 0.032432432432432434
         },
         "mode": "lines",
         "text": "0.0016216216216216215",
         "type": "scatter",
         "x": [
          -23.954915028125253,
          -23.10136163753198,
          null
         ],
         "y": [
          48.05655277069771,
          48.41010616129098,
          null
         ]
        },
        {
         "hoverinfo": "text",
         "line": {
          "color": "cornflowerblue",
          "width": 0.016216216216216217
         },
         "mode": "lines",
         "text": "0.0008108108108108108",
         "type": "scatter",
         "x": [
          -23.954915028125253,
          -23.924761338518206,
          null
         ],
         "y": [
          48.05655277069771,
          48.22756284236054,
          null
         ]
        },
        {
         "hoverinfo": "text",
         "line": {
          "color": "cornflowerblue",
          "width": 0.8378378378378379
         },
         "mode": "lines",
         "text": "0.041891891891891894",
         "type": "scatter",
         "x": [
          -23.954915028125253,
          -23.454915028125253,
          null
         ],
         "y": [
          48.05655277069771,
          48.55655277069771,
          null
         ]
        },
        {
         "hoverinfo": "text",
         "line": {
          "color": "cornflowerblue",
          "width": 0.4108108108108108
         },
         "mode": "lines",
         "text": "0.02054054054054054",
         "type": "scatter",
         "x": [
          -23.954915028125253,
          -23.954915028125253,
          null
         ],
         "y": [
          48.05655277069771,
          48.05655277069771,
          null
         ]
        },
        {
         "hoverinfo": "text",
         "line": {
          "color": "cornflowerblue",
          "width": 0.12972972972972974
         },
         "mode": "lines",
         "text": "0.006486486486486486",
         "type": "scatter",
         "x": [
          -23.954915028125253,
          -23.454915028125253,
          null
         ],
         "y": [
          48.05655277069771,
          47.55655277069771,
          null
         ]
        },
        {
         "hoverinfo": "text",
         "line": {
          "color": "cornflowerblue",
          "width": 0.16216216216216217
         },
         "mode": "lines",
         "text": "0.008108108108108109",
         "type": "scatter",
         "x": [
          -23.954915028125253,
          -23.924761338518206,
          null
         ],
         "y": [
          48.05655277069771,
          47.88554269903487,
          null
         ]
        },
        {
         "hoverinfo": "text",
         "line": {
          "color": "cornflowerblue",
          "width": 0.021621621621621623
         },
         "mode": "lines",
         "text": "0.001081081081081081",
         "type": "scatter",
         "x": [
          -23.954915028125253,
          -23.263573311942707,
          null
         ],
         "y": [
          48.05655277069771,
          48.51849253695335,
          null
         ]
        },
        {
         "hoverinfo": "text",
         "line": {
          "color": "cornflowerblue",
          "width": 0.005405405405405406
         },
         "mode": "lines",
         "text": "0.0002702702702702703",
         "type": "scatter",
         "x": [
          -23.954915028125253,
          -23.454915028125253,
          null
         ],
         "y": [
          48.05655277069771,
          48.55655277069771,
          null
         ]
        },
        {
         "hoverinfo": "text",
         "line": {
          "color": "cornflowerblue",
          "width": 0.043243243243243246
         },
         "mode": "lines",
         "text": "0.002162162162162162",
         "type": "scatter",
         "x": [
          -23.954915028125253,
          -22.954915028125253,
          null
         ],
         "y": [
          48.05655277069771,
          48.05655277069771,
          null
         ]
        },
        {
         "hoverinfo": "text",
         "line": {
          "color": "cornflowerblue",
          "width": 0.016216216216216217
         },
         "mode": "lines",
         "text": "0.0008108108108108108",
         "type": "scatter",
         "x": [
          -23.954915028125253,
          -23.6462567443078,
          null
         ],
         "y": [
          48.05655277069771,
          48.51849253695335,
          null
         ]
        },
        {
         "hoverinfo": "text",
         "line": {
          "color": "cornflowerblue",
          "width": 0.2702702702702703
         },
         "mode": "lines",
         "text": "0.013513513513513514",
         "type": "scatter",
         "x": [
          -23.954915028125253,
          -23.454915028125253,
          null
         ],
         "y": [
          48.05655277069771,
          47.55655277069771,
          null
         ]
        },
        {
         "hoverinfo": "text",
         "line": {
          "color": "cornflowerblue",
          "width": 0.010810810810810811
         },
         "mode": "lines",
         "text": "0.0005405405405405405",
         "type": "scatter",
         "x": [
          -23.954915028125253,
          -23.300406530937778,
          null
         ],
         "y": [
          48.05655277069771,
          47.58102451255013,
          null
         ]
        },
        {
         "hoverinfo": "text",
         "line": {
          "color": "cornflowerblue",
          "width": 0.16756756756756755
         },
         "mode": "lines",
         "text": "0.008378378378378378",
         "type": "scatter",
         "x": [
          -23.954915028125253,
          -22.954915028125253,
          null
         ],
         "y": [
          48.05655277069771,
          48.05655277069771,
          null
         ]
        },
        {
         "hoverinfo": "text",
         "line": {
          "color": "cornflowerblue",
          "width": 0.043243243243243246
         },
         "mode": "lines",
         "text": "0.002162162162162162",
         "type": "scatter",
         "x": [
          -23.954915028125253,
          -23.808468418718526,
          null
         ],
         "y": [
          48.05655277069771,
          47.70299938010443,
          null
         ]
        },
        {
         "hoverinfo": "text",
         "line": {
          "color": "cornflowerblue",
          "width": 0.1027027027027027
         },
         "mode": "lines",
         "text": "0.005135135135135135",
         "type": "scatter",
         "x": [
          -23.954915028125253,
          -23.808468418718526,
          null
         ],
         "y": [
          48.05655277069771,
          47.70299938010443,
          null
         ]
        },
        {
         "hoverinfo": "text",
         "line": {
          "color": "cornflowerblue",
          "width": 0.010810810810810811
         },
         "mode": "lines",
         "text": "0.0005405405405405405",
         "type": "scatter",
         "x": [
          -23.954915028125253,
          -23.6462567443078,
          null
         ],
         "y": [
          48.05655277069771,
          47.59461300444206,
          null
         ]
        },
        {
         "hoverinfo": "text",
         "line": {
          "color": "cornflowerblue",
          "width": 0.005405405405405406
         },
         "mode": "lines",
         "text": "0.0002702702702702703",
         "type": "scatter",
         "x": [
          -23.954915028125253,
          -22.954915028125253,
          null
         ],
         "y": [
          48.05655277069771,
          48.05655277069771,
          null
         ]
        },
        {
         "hoverinfo": "text",
         "line": {
          "color": "cornflowerblue",
          "width": 0.05945945945945946
         },
         "mode": "lines",
         "text": "0.002972972972972973",
         "type": "scatter",
         "x": [
          -23.954915028125253,
          -23.36809093929179,
          null
         ],
         "y": [
          48.05655277069771,
          47.564148894191604,
          null
         ]
        },
        {
         "hoverinfo": "text",
         "line": {
          "color": "cornflowerblue",
          "width": 0.032432432432432434
         },
         "mode": "lines",
         "text": "0.0016216216216216215",
         "type": "scatter",
         "x": [
          -23.954915028125253,
          -23.454915028125253,
          null
         ],
         "y": [
          48.05655277069771,
          47.55655277069771,
          null
         ]
        },
        {
         "hoverinfo": "text",
         "line": {
          "color": "cornflowerblue",
          "width": 0.005405405405405406
         },
         "mode": "lines",
         "text": "0.0002702702702702703",
         "type": "scatter",
         "x": [
          -23.954915028125253,
          -23.263573311942707,
          null
         ],
         "y": [
          48.05655277069771,
          47.59461300444206,
          null
         ]
        },
        {
         "hoverinfo": "text",
         "line": {
          "color": "cornflowerblue",
          "width": 0.02702702702702703
         },
         "mode": "lines",
         "text": "0.0013513513513513514",
         "type": "scatter",
         "x": [
          -23.954915028125253,
          -23.454915028125253,
          null
         ],
         "y": [
          48.05655277069771,
          47.55655277069771,
          null
         ]
        },
        {
         "hoverinfo": "text",
         "line": {
          "color": "cornflowerblue",
          "width": 0.005405405405405406
         },
         "mode": "lines",
         "text": "0.0002702702702702703",
         "type": "scatter",
         "x": [
          -23.954915028125253,
          -23.36809093929179,
          null
         ],
         "y": [
          48.05655277069771,
          47.564148894191604,
          null
         ]
        },
        {
         "hoverinfo": "text",
         "line": {
          "color": "cornflowerblue",
          "width": 1.5783783783783782
         },
         "mode": "lines",
         "text": "0.07891891891891892",
         "type": "scatter",
         "x": [
          -23.954915028125253,
          -22.954915028125253,
          null
         ],
         "y": [
          48.05655277069771,
          48.05655277069771,
          null
         ]
        },
        {
         "hoverinfo": "text",
         "line": {
          "color": "cornflowerblue",
          "width": 2.264864864864865
         },
         "mode": "lines",
         "text": "0.11324324324324324",
         "type": "scatter",
         "x": [
          -23.954915028125253,
          -23.071892806565764,
          null
         ],
         "y": [
          48.05655277069771,
          47.73515896585444,
          null
         ]
        },
        {
         "hoverinfo": "text",
         "line": {
          "color": "cornflowerblue",
          "width": 0.07567567567567568
         },
         "mode": "lines",
         "text": "0.0037837837837837837",
         "type": "scatter",
         "x": [
          -23.954915028125253,
          -22.954915028125253,
          null
         ],
         "y": [
          48.05655277069771,
          48.05655277069771,
          null
         ]
        },
        {
         "hoverinfo": "text",
         "line": {
          "color": "cornflowerblue",
          "width": 0.03783783783783784
         },
         "mode": "lines",
         "text": "0.0018918918918918919",
         "type": "scatter",
         "x": [
          -23.954915028125253,
          -22.954915028125253,
          null
         ],
         "y": [
          48.05655277069771,
          48.05655277069771,
          null
         ]
        },
        {
         "hoverinfo": "text",
         "line": {
          "color": "cornflowerblue",
          "width": 0.048648648648648644
         },
         "mode": "lines",
         "text": "0.0024324324324324323",
         "type": "scatter",
         "x": [
          -23.954915028125253,
          -23.916854794380896,
          null
         ],
         "y": [
          48.05655277069771,
          48.24789448688025,
          null
         ]
        },
        {
         "hoverinfo": "text",
         "line": {
          "color": "cornflowerblue",
          "width": 0.021621621621621623
         },
         "mode": "lines",
         "text": "0.001081081081081081",
         "type": "scatter",
         "x": [
          -23.954915028125253,
          -23.10136163753198,
          null
         ],
         "y": [
          48.05655277069771,
          47.70299938010443,
          null
         ]
        },
        {
         "hoverinfo": "text",
         "line": {
          "color": "cornflowerblue",
          "width": 0.16756756756756755
         },
         "mode": "lines",
         "text": "0.008378378378378378",
         "type": "scatter",
         "x": [
          -23.954915028125253,
          -22.99297526186961,
          null
         ],
         "y": [
          48.05655277069771,
          47.865211054515164,
          null
         ]
        },
        {
         "hoverinfo": "text",
         "line": {
          "color": "cornflowerblue",
          "width": 0.5243243243243243
         },
         "mode": "lines",
         "text": "0.026216216216216216",
         "type": "scatter",
         "x": [
          -23.954915028125253,
          -23.454915028125253,
          null
         ],
         "y": [
          48.05655277069771,
          48.55655277069771,
          null
         ]
        },
        {
         "hoverinfo": "text",
         "line": {
          "color": "cornflowerblue",
          "width": 0.005405405405405406
         },
         "mode": "lines",
         "text": "0.0002702702702702703",
         "type": "scatter",
         "x": [
          -22.954915028125253,
          -22.954915028125253,
          null
         ],
         "y": [
          48.05655277069771,
          48.05655277069771,
          null
         ]
        },
        {
         "hoverinfo": "text",
         "line": {
          "color": "cornflowerblue",
          "width": 0.010810810810810811
         },
         "mode": "lines",
         "text": "0.0005405405405405405",
         "type": "scatter",
         "x": [
          -22.954915028125253,
          -23.954915028125253,
          null
         ],
         "y": [
          48.05655277069771,
          48.05655277069771,
          null
         ]
        },
        {
         "hoverinfo": "text",
         "line": {
          "color": "cornflowerblue",
          "width": 0.005405405405405406
         },
         "mode": "lines",
         "text": "0.0002702702702702703",
         "type": "scatter",
         "x": [
          -22.954915028125253,
          -23.10136163753198,
          null
         ],
         "y": [
          48.05655277069771,
          48.41010616129098,
          null
         ]
        },
        {
         "hoverinfo": "text",
         "line": {
          "color": "cornflowerblue",
          "width": 0.06486486486486487
         },
         "mode": "lines",
         "text": "0.003243243243243243",
         "type": "scatter",
         "x": [
          -22.954915028125253,
          -23.454915028125253,
          null
         ],
         "y": [
          48.05655277069771,
          48.55655277069771,
          null
         ]
        },
        {
         "hoverinfo": "text",
         "line": {
          "color": "cornflowerblue",
          "width": 0.03783783783783784
         },
         "mode": "lines",
         "text": "0.0018918918918918919",
         "type": "scatter",
         "x": [
          -22.954915028125253,
          -23.954915028125253,
          null
         ],
         "y": [
          48.05655277069771,
          48.05655277069771,
          null
         ]
        },
        {
         "hoverinfo": "text",
         "line": {
          "color": "cornflowerblue",
          "width": 0.02702702702702703
         },
         "mode": "lines",
         "text": "0.0013513513513513514",
         "type": "scatter",
         "x": [
          -22.954915028125253,
          -23.454915028125253,
          null
         ],
         "y": [
          48.05655277069771,
          47.55655277069771,
          null
         ]
        },
        {
         "hoverinfo": "text",
         "line": {
          "color": "cornflowerblue",
          "width": 0.005405405405405406
         },
         "mode": "lines",
         "text": "0.0002702702702702703",
         "type": "scatter",
         "x": [
          -22.954915028125253,
          -22.954915028125253,
          null
         ],
         "y": [
          48.05655277069771,
          48.05655277069771,
          null
         ]
        },
        {
         "hoverinfo": "text",
         "line": {
          "color": "cornflowerblue",
          "width": 0.005405405405405406
         },
         "mode": "lines",
         "text": "0.0002702702702702703",
         "type": "scatter",
         "x": [
          -22.954915028125253,
          -23.808468418718526,
          null
         ],
         "y": [
          48.05655277069771,
          47.70299938010443,
          null
         ]
        },
        {
         "hoverinfo": "text",
         "line": {
          "color": "cornflowerblue",
          "width": 0.03783783783783784
         },
         "mode": "lines",
         "text": "0.0018918918918918919",
         "type": "scatter",
         "x": [
          -22.954915028125253,
          -23.36809093929179,
          null
         ],
         "y": [
          48.05655277069771,
          47.564148894191604,
          null
         ]
        },
        {
         "hoverinfo": "text",
         "line": {
          "color": "cornflowerblue",
          "width": 0.005405405405405406
         },
         "mode": "lines",
         "text": "0.0002702702702702703",
         "type": "scatter",
         "x": [
          -22.954915028125253,
          -23.454915028125253,
          null
         ],
         "y": [
          48.05655277069771,
          47.55655277069771,
          null
         ]
        },
        {
         "hoverinfo": "text",
         "line": {
          "color": "cornflowerblue",
          "width": 0.032432432432432434
         },
         "mode": "lines",
         "text": "0.0016216216216216215",
         "type": "scatter",
         "x": [
          -22.954915028125253,
          -22.954915028125253,
          null
         ],
         "y": [
          48.05655277069771,
          48.05655277069771,
          null
         ]
        },
        {
         "hoverinfo": "text",
         "line": {
          "color": "cornflowerblue",
          "width": 0.2216216216216216
         },
         "mode": "lines",
         "text": "0.01108108108108108",
         "type": "scatter",
         "x": [
          -22.954915028125253,
          -23.071892806565764,
          null
         ],
         "y": [
          48.05655277069771,
          47.73515896585444,
          null
         ]
        },
        {
         "hoverinfo": "text",
         "line": {
          "color": "cornflowerblue",
          "width": 0.016216216216216217
         },
         "mode": "lines",
         "text": "0.0008108108108108108",
         "type": "scatter",
         "x": [
          -22.954915028125253,
          -22.954915028125253,
          null
         ],
         "y": [
          48.05655277069771,
          48.05655277069771,
          null
         ]
        },
        {
         "hoverinfo": "text",
         "line": {
          "color": "cornflowerblue",
          "width": 0.010810810810810811
         },
         "mode": "lines",
         "text": "0.0005405405405405405",
         "type": "scatter",
         "x": [
          -22.954915028125253,
          -22.954915028125253,
          null
         ],
         "y": [
          48.05655277069771,
          48.05655277069771,
          null
         ]
        },
        {
         "hoverinfo": "text",
         "line": {
          "color": "cornflowerblue",
          "width": 0.005405405405405406
         },
         "mode": "lines",
         "text": "0.0002702702702702703",
         "type": "scatter",
         "x": [
          -22.954915028125253,
          -23.916854794380896,
          null
         ],
         "y": [
          48.05655277069771,
          48.24789448688025,
          null
         ]
        },
        {
         "hoverinfo": "text",
         "line": {
          "color": "cornflowerblue",
          "width": 0.032432432432432434
         },
         "mode": "lines",
         "text": "0.0016216216216216215",
         "type": "scatter",
         "x": [
          -22.954915028125253,
          -22.99297526186961,
          null
         ],
         "y": [
          48.05655277069771,
          47.865211054515164,
          null
         ]
        },
        {
         "hoverinfo": "text",
         "line": {
          "color": "cornflowerblue",
          "width": 0.016216216216216217
         },
         "mode": "lines",
         "text": "0.0008108108108108108",
         "type": "scatter",
         "x": [
          -22.954915028125253,
          -23.454915028125253,
          null
         ],
         "y": [
          48.05655277069771,
          48.55655277069771,
          null
         ]
        },
        {
         "hoverinfo": "text",
         "line": {
          "color": "cornflowerblue",
          "width": 0.010810810810810811
         },
         "mode": "lines",
         "text": "0.0005405405405405405",
         "type": "scatter",
         "x": [
          -23.454915028125253,
          -22.99297526186961,
          null
         ],
         "y": [
          48.55655277069771,
          48.24789448688025,
          null
         ]
        },
        {
         "hoverinfo": "text",
         "line": {
          "color": "cornflowerblue",
          "width": 0.005405405405405406
         },
         "mode": "lines",
         "text": "0.0002702702702702703",
         "type": "scatter",
         "x": [
          -23.454915028125253,
          -23.808468418718526,
          null
         ],
         "y": [
          48.55655277069771,
          48.41010616129098,
          null
         ]
        },
        {
         "hoverinfo": "text",
         "line": {
          "color": "cornflowerblue",
          "width": 0.043243243243243246
         },
         "mode": "lines",
         "text": "0.002162162162162162",
         "type": "scatter",
         "x": [
          -23.454915028125253,
          -23.954915028125253,
          null
         ],
         "y": [
          48.55655277069771,
          48.05655277069771,
          null
         ]
        },
        {
         "hoverinfo": "text",
         "line": {
          "color": "cornflowerblue",
          "width": 0.0918918918918919
         },
         "mode": "lines",
         "text": "0.0045945945945945945",
         "type": "scatter",
         "x": [
          -23.454915028125253,
          -22.954915028125253,
          null
         ],
         "y": [
          48.55655277069771,
          48.05655277069771,
          null
         ]
        },
        {
         "hoverinfo": "text",
         "line": {
          "color": "cornflowerblue",
          "width": 0.2054054054054054
         },
         "mode": "lines",
         "text": "0.01027027027027027",
         "type": "scatter",
         "x": [
          -23.454915028125253,
          -23.454915028125253,
          null
         ],
         "y": [
          48.55655277069771,
          47.55655277069771,
          null
         ]
        },
        {
         "hoverinfo": "text",
         "line": {
          "color": "cornflowerblue",
          "width": 0.19459459459459458
         },
         "mode": "lines",
         "text": "0.00972972972972973",
         "type": "scatter",
         "x": [
          -23.454915028125253,
          -23.954915028125253,
          null
         ],
         "y": [
          48.55655277069771,
          48.05655277069771,
          null
         ]
        },
        {
         "hoverinfo": "text",
         "line": {
          "color": "cornflowerblue",
          "width": 0.03783783783783784
         },
         "mode": "lines",
         "text": "0.0018918918918918919",
         "type": "scatter",
         "x": [
          -23.454915028125253,
          -23.454915028125253,
          null
         ],
         "y": [
          48.55655277069771,
          48.55655277069771,
          null
         ]
        },
        {
         "hoverinfo": "text",
         "line": {
          "color": "cornflowerblue",
          "width": 0.010810810810810811
         },
         "mode": "lines",
         "text": "0.0005405405405405405",
         "type": "scatter",
         "x": [
          -23.454915028125253,
          -23.954915028125253,
          null
         ],
         "y": [
          48.55655277069771,
          48.05655277069771,
          null
         ]
        },
        {
         "hoverinfo": "text",
         "line": {
          "color": "cornflowerblue",
          "width": 0.005405405405405406
         },
         "mode": "lines",
         "text": "0.0002702702702702703",
         "type": "scatter",
         "x": [
          -23.454915028125253,
          -23.924761338518206,
          null
         ],
         "y": [
          48.55655277069771,
          47.88554269903487,
          null
         ]
        },
        {
         "hoverinfo": "text",
         "line": {
          "color": "cornflowerblue",
          "width": 0.11891891891891893
         },
         "mode": "lines",
         "text": "0.005945945945945946",
         "type": "scatter",
         "x": [
          -23.454915028125253,
          -23.454915028125253,
          null
         ],
         "y": [
          48.55655277069771,
          47.55655277069771,
          null
         ]
        },
        {
         "hoverinfo": "text",
         "line": {
          "color": "cornflowerblue",
          "width": 0.048648648648648644
         },
         "mode": "lines",
         "text": "0.0024324324324324323",
         "type": "scatter",
         "x": [
          -23.454915028125253,
          -22.954915028125253,
          null
         ],
         "y": [
          48.55655277069771,
          48.05655277069771,
          null
         ]
        },
        {
         "hoverinfo": "text",
         "line": {
          "color": "cornflowerblue",
          "width": 0.08108108108108109
         },
         "mode": "lines",
         "text": "0.004054054054054054",
         "type": "scatter",
         "x": [
          -23.454915028125253,
          -23.808468418718526,
          null
         ],
         "y": [
          48.55655277069771,
          47.70299938010443,
          null
         ]
        },
        {
         "hoverinfo": "text",
         "line": {
          "color": "cornflowerblue",
          "width": 0.005405405405405406
         },
         "mode": "lines",
         "text": "0.0002702702702702703",
         "type": "scatter",
         "x": [
          -23.454915028125253,
          -23.454915028125253,
          null
         ],
         "y": [
          48.55655277069771,
          47.55655277069771,
          null
         ]
        },
        {
         "hoverinfo": "text",
         "line": {
          "color": "cornflowerblue",
          "width": 0.07567567567567568
         },
         "mode": "lines",
         "text": "0.0037837837837837837",
         "type": "scatter",
         "x": [
          -23.454915028125253,
          -22.954915028125253,
          null
         ],
         "y": [
          48.55655277069771,
          48.05655277069771,
          null
         ]
        },
        {
         "hoverinfo": "text",
         "line": {
          "color": "cornflowerblue",
          "width": 0.043243243243243246
         },
         "mode": "lines",
         "text": "0.002162162162162162",
         "type": "scatter",
         "x": [
          -23.454915028125253,
          -23.071892806565764,
          null
         ],
         "y": [
          48.55655277069771,
          47.73515896585444,
          null
         ]
        },
        {
         "hoverinfo": "text",
         "line": {
          "color": "cornflowerblue",
          "width": 0.1027027027027027
         },
         "mode": "lines",
         "text": "0.005135135135135135",
         "type": "scatter",
         "x": [
          -23.454915028125253,
          -22.954915028125253,
          null
         ],
         "y": [
          48.55655277069771,
          48.05655277069771,
          null
         ]
        },
        {
         "hoverinfo": "text",
         "line": {
          "color": "cornflowerblue",
          "width": 0.08108108108108109
         },
         "mode": "lines",
         "text": "0.004054054054054054",
         "type": "scatter",
         "x": [
          -23.454915028125253,
          -22.954915028125253,
          null
         ],
         "y": [
          48.55655277069771,
          48.05655277069771,
          null
         ]
        },
        {
         "hoverinfo": "text",
         "line": {
          "color": "cornflowerblue",
          "width": 0.005405405405405406
         },
         "mode": "lines",
         "text": "0.0002702702702702703",
         "type": "scatter",
         "x": [
          -23.454915028125253,
          -22.99297526186961,
          null
         ],
         "y": [
          48.55655277069771,
          47.865211054515164,
          null
         ]
        },
        {
         "hoverinfo": "text",
         "line": {
          "color": "cornflowerblue",
          "width": 0.005405405405405406
         },
         "mode": "lines",
         "text": "0.0002702702702702703",
         "type": "scatter",
         "x": [
          -23.454915028125253,
          -23.954915028125253,
          null
         ],
         "y": [
          47.55655277069771,
          48.05655277069771,
          null
         ]
        },
        {
         "hoverinfo": "text",
         "line": {
          "color": "cornflowerblue",
          "width": 0.02702702702702703
         },
         "mode": "lines",
         "text": "0.0013513513513513514",
         "type": "scatter",
         "x": [
          -23.454915028125253,
          -22.954915028125253,
          null
         ],
         "y": [
          47.55655277069771,
          48.05655277069771,
          null
         ]
        },
        {
         "hoverinfo": "text",
         "line": {
          "color": "cornflowerblue",
          "width": 0.016216216216216217
         },
         "mode": "lines",
         "text": "0.0008108108108108108",
         "type": "scatter",
         "x": [
          -23.454915028125253,
          -23.954915028125253,
          null
         ],
         "y": [
          47.55655277069771,
          48.05655277069771,
          null
         ]
        },
        {
         "hoverinfo": "text",
         "line": {
          "color": "cornflowerblue",
          "width": 0.005405405405405406
         },
         "mode": "lines",
         "text": "0.0002702702702702703",
         "type": "scatter",
         "x": [
          -23.454915028125253,
          -23.454915028125253,
          null
         ],
         "y": [
          47.55655277069771,
          47.55655277069771,
          null
         ]
        },
        {
         "hoverinfo": "text",
         "line": {
          "color": "cornflowerblue",
          "width": 0.010810810810810811
         },
         "mode": "lines",
         "text": "0.0005405405405405405",
         "type": "scatter",
         "x": [
          -23.454915028125253,
          -22.954915028125253,
          null
         ],
         "y": [
          47.55655277069771,
          48.05655277069771,
          null
         ]
        },
        {
         "hoverinfo": "text",
         "line": {
          "color": "cornflowerblue",
          "width": 0.010810810810810811
         },
         "mode": "lines",
         "text": "0.0005405405405405405",
         "type": "scatter",
         "x": [
          -23.454915028125253,
          -22.954915028125253,
          null
         ],
         "y": [
          47.55655277069771,
          48.05655277069771,
          null
         ]
        },
        {
         "hoverinfo": "text",
         "line": {
          "color": "cornflowerblue",
          "width": 0.005405405405405406
         },
         "mode": "lines",
         "text": "0.0002702702702702703",
         "type": "scatter",
         "x": [
          -23.454915028125253,
          -22.954915028125253,
          null
         ],
         "y": [
          47.55655277069771,
          48.05655277069771,
          null
         ]
        },
        {
         "hoverinfo": "text",
         "line": {
          "color": "cornflowerblue",
          "width": 0.010810810810810811
         },
         "mode": "lines",
         "text": "0.0005405405405405405",
         "type": "scatter",
         "x": [
          -23.954915028125253,
          -23.704915028125253,
          null
         ],
         "y": [
          48.05655277069771,
          48.48956547258992,
          null
         ]
        },
        {
         "hoverinfo": "text",
         "line": {
          "color": "cornflowerblue",
          "width": 0.25405405405405407
         },
         "mode": "lines",
         "text": "0.012702702702702703",
         "type": "scatter",
         "x": [
          -23.954915028125253,
          -23.808468418718526,
          null
         ],
         "y": [
          48.05655277069771,
          48.41010616129098,
          null
         ]
        },
        {
         "hoverinfo": "text",
         "line": {
          "color": "cornflowerblue",
          "width": 0.05405405405405406
         },
         "mode": "lines",
         "text": "0.002702702702702703",
         "type": "scatter",
         "x": [
          -23.954915028125253,
          -23.954915028125253,
          null
         ],
         "y": [
          48.05655277069771,
          48.05655277069771,
          null
         ]
        },
        {
         "hoverinfo": "text",
         "line": {
          "color": "cornflowerblue",
          "width": 0.02702702702702703
         },
         "mode": "lines",
         "text": "0.0013513513513513514",
         "type": "scatter",
         "x": [
          -23.954915028125253,
          -22.954915028125253,
          null
         ],
         "y": [
          48.05655277069771,
          48.05655277069771,
          null
         ]
        },
        {
         "hoverinfo": "text",
         "line": {
          "color": "cornflowerblue",
          "width": 0.08108108108108109
         },
         "mode": "lines",
         "text": "0.004054054054054054",
         "type": "scatter",
         "x": [
          -23.954915028125253,
          -23.454915028125253,
          null
         ],
         "y": [
          48.05655277069771,
          48.55655277069771,
          null
         ]
        },
        {
         "hoverinfo": "text",
         "line": {
          "color": "cornflowerblue",
          "width": 0.021621621621621623
         },
         "mode": "lines",
         "text": "0.001081081081081081",
         "type": "scatter",
         "x": [
          -23.954915028125253,
          -23.954915028125253,
          null
         ],
         "y": [
          48.05655277069771,
          48.05655277069771,
          null
         ]
        },
        {
         "hoverinfo": "text",
         "line": {
          "color": "cornflowerblue",
          "width": 0.010810810810810811
         },
         "mode": "lines",
         "text": "0.0005405405405405405",
         "type": "scatter",
         "x": [
          -23.954915028125253,
          -23.454915028125253,
          null
         ],
         "y": [
          48.05655277069771,
          47.55655277069771,
          null
         ]
        },
        {
         "hoverinfo": "text",
         "line": {
          "color": "cornflowerblue",
          "width": 0.010810810810810811
         },
         "mode": "lines",
         "text": "0.0005405405405405405",
         "type": "scatter",
         "x": [
          -23.954915028125253,
          -23.263573311942707,
          null
         ],
         "y": [
          48.05655277069771,
          48.51849253695335,
          null
         ]
        },
        {
         "hoverinfo": "text",
         "line": {
          "color": "cornflowerblue",
          "width": 0.016216216216216217
         },
         "mode": "lines",
         "text": "0.0008108108108108108",
         "type": "scatter",
         "x": [
          -23.954915028125253,
          -23.454915028125253,
          null
         ],
         "y": [
          48.05655277069771,
          47.55655277069771,
          null
         ]
        },
        {
         "hoverinfo": "text",
         "line": {
          "color": "cornflowerblue",
          "width": 0.005405405405405406
         },
         "mode": "lines",
         "text": "0.0002702702702702703",
         "type": "scatter",
         "x": [
          -23.954915028125253,
          -23.704915028125253,
          null
         ],
         "y": [
          48.05655277069771,
          47.62354006880549,
          null
         ]
        },
        {
         "hoverinfo": "text",
         "line": {
          "color": "cornflowerblue",
          "width": 0.06486486486486487
         },
         "mode": "lines",
         "text": "0.003243243243243243",
         "type": "scatter",
         "x": [
          -23.954915028125253,
          -22.954915028125253,
          null
         ],
         "y": [
          48.05655277069771,
          48.05655277069771,
          null
         ]
        },
        {
         "hoverinfo": "text",
         "line": {
          "color": "cornflowerblue",
          "width": 5.05945945945946
         },
         "mode": "lines",
         "text": "0.252972972972973",
         "type": "scatter",
         "x": [
          -23.954915028125253,
          -23.808468418718526,
          null
         ],
         "y": [
          48.05655277069771,
          47.70299938010443,
          null
         ]
        },
        {
         "hoverinfo": "text",
         "line": {
          "color": "cornflowerblue",
          "width": 0.005405405405405406
         },
         "mode": "lines",
         "text": "0.0002702702702702703",
         "type": "scatter",
         "x": [
          -23.954915028125253,
          -23.36809093929179,
          null
         ],
         "y": [
          48.05655277069771,
          47.564148894191604,
          null
         ]
        },
        {
         "hoverinfo": "text",
         "line": {
          "color": "cornflowerblue",
          "width": 1.1621621621621623
         },
         "mode": "lines",
         "text": "0.05810810810810811",
         "type": "scatter",
         "x": [
          -23.954915028125253,
          -23.454915028125253,
          null
         ],
         "y": [
          48.05655277069771,
          47.55655277069771,
          null
         ]
        },
        {
         "hoverinfo": "text",
         "line": {
          "color": "cornflowerblue",
          "width": 0.032432432432432434
         },
         "mode": "lines",
         "text": "0.0016216216216216215",
         "type": "scatter",
         "x": [
          -23.954915028125253,
          -22.954915028125253,
          null
         ],
         "y": [
          48.05655277069771,
          48.05655277069771,
          null
         ]
        },
        {
         "hoverinfo": "text",
         "line": {
          "color": "cornflowerblue",
          "width": 0.17297297297297298
         },
         "mode": "lines",
         "text": "0.008648648648648649",
         "type": "scatter",
         "x": [
          -23.954915028125253,
          -23.071892806565764,
          null
         ],
         "y": [
          48.05655277069771,
          47.73515896585444,
          null
         ]
        },
        {
         "hoverinfo": "text",
         "line": {
          "color": "cornflowerblue",
          "width": 0.08108108108108109
         },
         "mode": "lines",
         "text": "0.004054054054054054",
         "type": "scatter",
         "x": [
          -23.954915028125253,
          -22.954915028125253,
          null
         ],
         "y": [
          48.05655277069771,
          48.05655277069771,
          null
         ]
        },
        {
         "hoverinfo": "text",
         "line": {
          "color": "cornflowerblue",
          "width": 0.22702702702702704
         },
         "mode": "lines",
         "text": "0.011351351351351352",
         "type": "scatter",
         "x": [
          -23.954915028125253,
          -22.954915028125253,
          null
         ],
         "y": [
          48.05655277069771,
          48.05655277069771,
          null
         ]
        },
        {
         "hoverinfo": "text",
         "line": {
          "color": "cornflowerblue",
          "width": 0.043243243243243246
         },
         "mode": "lines",
         "text": "0.002162162162162162",
         "type": "scatter",
         "x": [
          -23.954915028125253,
          -23.10136163753198,
          null
         ],
         "y": [
          48.05655277069771,
          47.70299938010443,
          null
         ]
        },
        {
         "hoverinfo": "text",
         "line": {
          "color": "cornflowerblue",
          "width": 0.016216216216216217
         },
         "mode": "lines",
         "text": "0.0008108108108108108",
         "type": "scatter",
         "x": [
          -23.954915028125253,
          -22.99297526186961,
          null
         ],
         "y": [
          48.05655277069771,
          47.865211054515164,
          null
         ]
        },
        {
         "hoverinfo": "text",
         "line": {
          "color": "cornflowerblue",
          "width": 0.005405405405405406
         },
         "mode": "lines",
         "text": "0.0002702702702702703",
         "type": "scatter",
         "x": [
          -23.924761338518206,
          -23.454915028125253,
          null
         ],
         "y": [
          48.22756284236054,
          48.55655277069771,
          null
         ]
        },
        {
         "hoverinfo": "text",
         "line": {
          "color": "cornflowerblue",
          "width": 0.005405405405405406
         },
         "mode": "lines",
         "text": "0.0002702702702702703",
         "type": "scatter",
         "x": [
          -23.924761338518206,
          -23.36809093929179,
          null
         ],
         "y": [
          48.22756284236054,
          47.564148894191604,
          null
         ]
        },
        {
         "hoverinfo": "text",
         "line": {
          "color": "cornflowerblue",
          "width": 0.010810810810810811
         },
         "mode": "lines",
         "text": "0.0005405405405405405",
         "type": "scatter",
         "x": [
          -23.924761338518206,
          -22.954915028125253,
          null
         ],
         "y": [
          48.22756284236054,
          48.05655277069771,
          null
         ]
        },
        {
         "hoverinfo": "text",
         "line": {
          "color": "cornflowerblue",
          "width": 0.005405405405405406
         },
         "mode": "lines",
         "text": "0.0002702702702702703",
         "type": "scatter",
         "x": [
          -23.924761338518206,
          -23.071892806565764,
          null
         ],
         "y": [
          48.22756284236054,
          47.73515896585444,
          null
         ]
        },
        {
         "hoverinfo": "text",
         "line": {
          "color": "cornflowerblue",
          "width": 0.005405405405405406
         },
         "mode": "lines",
         "text": "0.0002702702702702703",
         "type": "scatter",
         "x": [
          -23.454915028125253,
          -23.704915028125253,
          null
         ],
         "y": [
          48.55655277069771,
          48.48956547258992,
          null
         ]
        },
        {
         "hoverinfo": "text",
         "line": {
          "color": "cornflowerblue",
          "width": 0.005405405405405406
         },
         "mode": "lines",
         "text": "0.0002702702702702703",
         "type": "scatter",
         "x": [
          -23.454915028125253,
          -23.10136163753198,
          null
         ],
         "y": [
          48.55655277069771,
          48.41010616129098,
          null
         ]
        },
        {
         "hoverinfo": "text",
         "line": {
          "color": "cornflowerblue",
          "width": 0.043243243243243246
         },
         "mode": "lines",
         "text": "0.002162162162162162",
         "type": "scatter",
         "x": [
          -23.454915028125253,
          -23.954915028125253,
          null
         ],
         "y": [
          48.55655277069771,
          48.05655277069771,
          null
         ]
        },
        {
         "hoverinfo": "text",
         "line": {
          "color": "cornflowerblue",
          "width": 0.010810810810810811
         },
         "mode": "lines",
         "text": "0.0005405405405405405",
         "type": "scatter",
         "x": [
          -23.454915028125253,
          -23.454915028125253,
          null
         ],
         "y": [
          48.55655277069771,
          47.55655277069771,
          null
         ]
        },
        {
         "hoverinfo": "text",
         "line": {
          "color": "cornflowerblue",
          "width": 0.010810810810810811
         },
         "mode": "lines",
         "text": "0.0005405405405405405",
         "type": "scatter",
         "x": [
          -23.454915028125253,
          -23.924761338518206,
          null
         ],
         "y": [
          48.55655277069771,
          47.88554269903487,
          null
         ]
        },
        {
         "hoverinfo": "text",
         "line": {
          "color": "cornflowerblue",
          "width": 0.016216216216216217
         },
         "mode": "lines",
         "text": "0.0008108108108108108",
         "type": "scatter",
         "x": [
          -23.454915028125253,
          -23.263573311942707,
          null
         ],
         "y": [
          48.55655277069771,
          48.51849253695335,
          null
         ]
        },
        {
         "hoverinfo": "text",
         "line": {
          "color": "cornflowerblue",
          "width": 0.021621621621621623
         },
         "mode": "lines",
         "text": "0.001081081081081081",
         "type": "scatter",
         "x": [
          -23.454915028125253,
          -22.954915028125253,
          null
         ],
         "y": [
          48.55655277069771,
          48.05655277069771,
          null
         ]
        },
        {
         "hoverinfo": "text",
         "line": {
          "color": "cornflowerblue",
          "width": 0.005405405405405406
         },
         "mode": "lines",
         "text": "0.0002702702702702703",
         "type": "scatter",
         "x": [
          -23.454915028125253,
          -23.808468418718526,
          null
         ],
         "y": [
          48.55655277069771,
          47.70299938010443,
          null
         ]
        },
        {
         "hoverinfo": "text",
         "line": {
          "color": "cornflowerblue",
          "width": 0.032432432432432434
         },
         "mode": "lines",
         "text": "0.0016216216216216215",
         "type": "scatter",
         "x": [
          -23.454915028125253,
          -23.808468418718526,
          null
         ],
         "y": [
          48.55655277069771,
          47.70299938010443,
          null
         ]
        },
        {
         "hoverinfo": "text",
         "line": {
          "color": "cornflowerblue",
          "width": 0.021621621621621623
         },
         "mode": "lines",
         "text": "0.001081081081081081",
         "type": "scatter",
         "x": [
          -23.454915028125253,
          -23.36809093929179,
          null
         ],
         "y": [
          48.55655277069771,
          47.564148894191604,
          null
         ]
        },
        {
         "hoverinfo": "text",
         "line": {
          "color": "cornflowerblue",
          "width": 0.31351351351351353
         },
         "mode": "lines",
         "text": "0.015675675675675675",
         "type": "scatter",
         "x": [
          -23.454915028125253,
          -22.954915028125253,
          null
         ],
         "y": [
          48.55655277069771,
          48.05655277069771,
          null
         ]
        },
        {
         "hoverinfo": "text",
         "line": {
          "color": "cornflowerblue",
          "width": 0.4
         },
         "mode": "lines",
         "text": "0.02",
         "type": "scatter",
         "x": [
          -23.454915028125253,
          -23.071892806565764,
          null
         ],
         "y": [
          48.55655277069771,
          47.73515896585444,
          null
         ]
        },
        {
         "hoverinfo": "text",
         "line": {
          "color": "cornflowerblue",
          "width": 0.010810810810810811
         },
         "mode": "lines",
         "text": "0.0005405405405405405",
         "type": "scatter",
         "x": [
          -23.454915028125253,
          -22.954915028125253,
          null
         ],
         "y": [
          48.55655277069771,
          48.05655277069771,
          null
         ]
        },
        {
         "hoverinfo": "text",
         "line": {
          "color": "cornflowerblue",
          "width": 0.005405405405405406
         },
         "mode": "lines",
         "text": "0.0002702702702702703",
         "type": "scatter",
         "x": [
          -23.454915028125253,
          -22.954915028125253,
          null
         ],
         "y": [
          48.55655277069771,
          48.05655277069771,
          null
         ]
        },
        {
         "hoverinfo": "text",
         "line": {
          "color": "cornflowerblue",
          "width": 0.021621621621621623
         },
         "mode": "lines",
         "text": "0.001081081081081081",
         "type": "scatter",
         "x": [
          -23.454915028125253,
          -23.916854794380896,
          null
         ],
         "y": [
          48.55655277069771,
          48.24789448688025,
          null
         ]
        },
        {
         "hoverinfo": "text",
         "line": {
          "color": "cornflowerblue",
          "width": 0.07027027027027027
         },
         "mode": "lines",
         "text": "0.0035135135135135136",
         "type": "scatter",
         "x": [
          -23.454915028125253,
          -22.99297526186961,
          null
         ],
         "y": [
          48.55655277069771,
          47.865211054515164,
          null
         ]
        },
        {
         "hoverinfo": "text",
         "line": {
          "color": "cornflowerblue",
          "width": 0.005405405405405406
         },
         "mode": "lines",
         "text": "0.0002702702702702703",
         "type": "scatter",
         "x": [
          -23.954915028125253,
          -23.10136163753198,
          null
         ],
         "y": [
          48.05655277069771,
          48.41010616129098,
          null
         ]
        },
        {
         "hoverinfo": "text",
         "line": {
          "color": "cornflowerblue",
          "width": 0.010810810810810811
         },
         "mode": "lines",
         "text": "0.0005405405405405405",
         "type": "scatter",
         "x": [
          -23.954915028125253,
          -23.454915028125253,
          null
         ],
         "y": [
          48.05655277069771,
          47.55655277069771,
          null
         ]
        },
        {
         "hoverinfo": "text",
         "line": {
          "color": "cornflowerblue",
          "width": 0.010810810810810811
         },
         "mode": "lines",
         "text": "0.0005405405405405405",
         "type": "scatter",
         "x": [
          -23.954915028125253,
          -23.924761338518206,
          null
         ],
         "y": [
          48.05655277069771,
          47.88554269903487,
          null
         ]
        },
        {
         "hoverinfo": "text",
         "line": {
          "color": "cornflowerblue",
          "width": 0.016216216216216217
         },
         "mode": "lines",
         "text": "0.0008108108108108108",
         "type": "scatter",
         "x": [
          -23.954915028125253,
          -22.954915028125253,
          null
         ],
         "y": [
          48.05655277069771,
          48.05655277069771,
          null
         ]
        },
        {
         "hoverinfo": "text",
         "line": {
          "color": "cornflowerblue",
          "width": 0.021621621621621623
         },
         "mode": "lines",
         "text": "0.001081081081081081",
         "type": "scatter",
         "x": [
          -23.954915028125253,
          -22.954915028125253,
          null
         ],
         "y": [
          48.05655277069771,
          48.05655277069771,
          null
         ]
        },
        {
         "hoverinfo": "text",
         "line": {
          "color": "cornflowerblue",
          "width": 0.005405405405405406
         },
         "mode": "lines",
         "text": "0.0002702702702702703",
         "type": "scatter",
         "x": [
          -23.954915028125253,
          -23.808468418718526,
          null
         ],
         "y": [
          48.05655277069771,
          47.70299938010443,
          null
         ]
        },
        {
         "hoverinfo": "text",
         "line": {
          "color": "cornflowerblue",
          "width": 0.010810810810810811
         },
         "mode": "lines",
         "text": "0.0005405405405405405",
         "type": "scatter",
         "x": [
          -23.954915028125253,
          -23.36809093929179,
          null
         ],
         "y": [
          48.05655277069771,
          47.564148894191604,
          null
         ]
        },
        {
         "hoverinfo": "text",
         "line": {
          "color": "cornflowerblue",
          "width": 0.005405405405405406
         },
         "mode": "lines",
         "text": "0.0002702702702702703",
         "type": "scatter",
         "x": [
          -23.954915028125253,
          -23.454915028125253,
          null
         ],
         "y": [
          48.05655277069771,
          47.55655277069771,
          null
         ]
        },
        {
         "hoverinfo": "text",
         "line": {
          "color": "cornflowerblue",
          "width": 0.08648648648648649
         },
         "mode": "lines",
         "text": "0.004324324324324324",
         "type": "scatter",
         "x": [
          -23.954915028125253,
          -22.954915028125253,
          null
         ],
         "y": [
          48.05655277069771,
          48.05655277069771,
          null
         ]
        },
        {
         "hoverinfo": "text",
         "line": {
          "color": "cornflowerblue",
          "width": 0.14054054054054055
         },
         "mode": "lines",
         "text": "0.007027027027027027",
         "type": "scatter",
         "x": [
          -23.954915028125253,
          -23.071892806565764,
          null
         ],
         "y": [
          48.05655277069771,
          47.73515896585444,
          null
         ]
        },
        {
         "hoverinfo": "text",
         "line": {
          "color": "cornflowerblue",
          "width": 0.010810810810810811
         },
         "mode": "lines",
         "text": "0.0005405405405405405",
         "type": "scatter",
         "x": [
          -23.954915028125253,
          -22.99297526186961,
          null
         ],
         "y": [
          48.05655277069771,
          47.865211054515164,
          null
         ]
        },
        {
         "hoverinfo": "text",
         "line": {
          "color": "cornflowerblue",
          "width": 0.010810810810810811
         },
         "mode": "lines",
         "text": "0.0005405405405405405",
         "type": "scatter",
         "x": [
          -23.924761338518206,
          -23.071892806565764,
          null
         ],
         "y": [
          47.88554269903487,
          48.377946575540975,
          null
         ]
        },
        {
         "hoverinfo": "text",
         "line": {
          "color": "cornflowerblue",
          "width": 0.005405405405405406
         },
         "mode": "lines",
         "text": "0.0002702702702702703",
         "type": "scatter",
         "x": [
          -23.924761338518206,
          -23.454915028125253,
          null
         ],
         "y": [
          47.88554269903487,
          47.55655277069771,
          null
         ]
        },
        {
         "hoverinfo": "text",
         "line": {
          "color": "cornflowerblue",
          "width": 0.005405405405405406
         },
         "mode": "lines",
         "text": "0.0002702702702702703",
         "type": "scatter",
         "x": [
          -23.924761338518206,
          -22.954915028125253,
          null
         ],
         "y": [
          47.88554269903487,
          48.05655277069771,
          null
         ]
        },
        {
         "hoverinfo": "text",
         "line": {
          "color": "cornflowerblue",
          "width": 0.010810810810810811
         },
         "mode": "lines",
         "text": "0.0005405405405405405",
         "type": "scatter",
         "x": [
          -23.924761338518206,
          -23.454915028125253,
          null
         ],
         "y": [
          47.88554269903487,
          47.55655277069771,
          null
         ]
        },
        {
         "hoverinfo": "text",
         "line": {
          "color": "cornflowerblue",
          "width": 0.005405405405405406
         },
         "mode": "lines",
         "text": "0.0002702702702702703",
         "type": "scatter",
         "x": [
          -23.924761338518206,
          -22.954915028125253,
          null
         ],
         "y": [
          47.88554269903487,
          48.05655277069771,
          null
         ]
        },
        {
         "hoverinfo": "text",
         "line": {
          "color": "cornflowerblue",
          "width": 0.02702702702702703
         },
         "mode": "lines",
         "text": "0.0013513513513513514",
         "type": "scatter",
         "x": [
          -23.924761338518206,
          -23.36809093929179,
          null
         ],
         "y": [
          47.88554269903487,
          47.564148894191604,
          null
         ]
        },
        {
         "hoverinfo": "text",
         "line": {
          "color": "cornflowerblue",
          "width": 0.07027027027027027
         },
         "mode": "lines",
         "text": "0.0035135135135135136",
         "type": "scatter",
         "x": [
          -23.924761338518206,
          -22.954915028125253,
          null
         ],
         "y": [
          47.88554269903487,
          48.05655277069771,
          null
         ]
        },
        {
         "hoverinfo": "text",
         "line": {
          "color": "cornflowerblue",
          "width": 0.032432432432432434
         },
         "mode": "lines",
         "text": "0.0016216216216216215",
         "type": "scatter",
         "x": [
          -23.924761338518206,
          -23.071892806565764,
          null
         ],
         "y": [
          47.88554269903487,
          47.73515896585444,
          null
         ]
        },
        {
         "hoverinfo": "text",
         "line": {
          "color": "cornflowerblue",
          "width": 0.010810810810810811
         },
         "mode": "lines",
         "text": "0.0005405405405405405",
         "type": "scatter",
         "x": [
          -23.924761338518206,
          -22.954915028125253,
          null
         ],
         "y": [
          47.88554269903487,
          48.05655277069771,
          null
         ]
        },
        {
         "hoverinfo": "text",
         "line": {
          "color": "cornflowerblue",
          "width": 0.005405405405405406
         },
         "mode": "lines",
         "text": "0.0002702702702702703",
         "type": "scatter",
         "x": [
          -23.454915028125253,
          -22.99297526186961,
          null
         ],
         "y": [
          47.55655277069771,
          48.24789448688025,
          null
         ]
        },
        {
         "hoverinfo": "text",
         "line": {
          "color": "cornflowerblue",
          "width": 0.010810810810810811
         },
         "mode": "lines",
         "text": "0.0005405405405405405",
         "type": "scatter",
         "x": [
          -23.454915028125253,
          -22.954915028125253,
          null
         ],
         "y": [
          47.55655277069771,
          48.05655277069771,
          null
         ]
        },
        {
         "hoverinfo": "text",
         "line": {
          "color": "cornflowerblue",
          "width": 0.005405405405405406
         },
         "mode": "lines",
         "text": "0.0002702702702702703",
         "type": "scatter",
         "x": [
          -23.454915028125253,
          -23.454915028125253,
          null
         ],
         "y": [
          47.55655277069771,
          47.55655277069771,
          null
         ]
        },
        {
         "hoverinfo": "text",
         "line": {
          "color": "cornflowerblue",
          "width": 0.005405405405405406
         },
         "mode": "lines",
         "text": "0.0002702702702702703",
         "type": "scatter",
         "x": [
          -23.454915028125253,
          -22.954915028125253,
          null
         ],
         "y": [
          47.55655277069771,
          48.05655277069771,
          null
         ]
        },
        {
         "hoverinfo": "text",
         "line": {
          "color": "cornflowerblue",
          "width": 0.010810810810810811
         },
         "mode": "lines",
         "text": "0.0005405405405405405",
         "type": "scatter",
         "x": [
          -23.454915028125253,
          -23.808468418718526,
          null
         ],
         "y": [
          47.55655277069771,
          47.70299938010443,
          null
         ]
        },
        {
         "hoverinfo": "text",
         "line": {
          "color": "cornflowerblue",
          "width": 0.016216216216216217
         },
         "mode": "lines",
         "text": "0.0008108108108108108",
         "type": "scatter",
         "x": [
          -23.454915028125253,
          -22.954915028125253,
          null
         ],
         "y": [
          47.55655277069771,
          48.05655277069771,
          null
         ]
        },
        {
         "hoverinfo": "text",
         "line": {
          "color": "cornflowerblue",
          "width": 0.021621621621621623
         },
         "mode": "lines",
         "text": "0.001081081081081081",
         "type": "scatter",
         "x": [
          -23.454915028125253,
          -23.071892806565764,
          null
         ],
         "y": [
          47.55655277069771,
          47.73515896585444,
          null
         ]
        },
        {
         "hoverinfo": "text",
         "line": {
          "color": "cornflowerblue",
          "width": 0.032432432432432434
         },
         "mode": "lines",
         "text": "0.0016216216216216215",
         "type": "scatter",
         "x": [
          -23.454915028125253,
          -22.954915028125253,
          null
         ],
         "y": [
          47.55655277069771,
          48.05655277069771,
          null
         ]
        },
        {
         "hoverinfo": "text",
         "line": {
          "color": "cornflowerblue",
          "width": 0.005405405405405406
         },
         "mode": "lines",
         "text": "0.0002702702702702703",
         "type": "scatter",
         "x": [
          -23.454915028125253,
          -23.10136163753198,
          null
         ],
         "y": [
          47.55655277069771,
          47.70299938010443,
          null
         ]
        },
        {
         "hoverinfo": "text",
         "line": {
          "color": "cornflowerblue",
          "width": 0.005405405405405406
         },
         "mode": "lines",
         "text": "0.0002702702702702703",
         "type": "scatter",
         "x": [
          -22.954915028125253,
          -23.071892806565764,
          null
         ],
         "y": [
          48.05655277069771,
          48.377946575540975,
          null
         ]
        },
        {
         "hoverinfo": "text",
         "line": {
          "color": "cornflowerblue",
          "width": 0.005405405405405406
         },
         "mode": "lines",
         "text": "0.0002702702702702703",
         "type": "scatter",
         "x": [
          -22.954915028125253,
          -23.10136163753198,
          null
         ],
         "y": [
          48.05655277069771,
          48.41010616129098,
          null
         ]
        },
        {
         "hoverinfo": "text",
         "line": {
          "color": "cornflowerblue",
          "width": 0.05405405405405406
         },
         "mode": "lines",
         "text": "0.002702702702702703",
         "type": "scatter",
         "x": [
          -22.954915028125253,
          -23.859423525312728,
          null
         ],
         "y": [
          48.05655277069771,
          48.350445396843945,
          null
         ]
        },
        {
         "hoverinfo": "text",
         "line": {
          "color": "cornflowerblue",
          "width": 0.005405405405405406
         },
         "mode": "lines",
         "text": "0.0002702702702702703",
         "type": "scatter",
         "x": [
          -22.954915028125253,
          -23.454915028125253,
          null
         ],
         "y": [
          48.05655277069771,
          47.55655277069771,
          null
         ]
        },
        {
         "hoverinfo": "text",
         "line": {
          "color": "cornflowerblue",
          "width": 0.005405405405405406
         },
         "mode": "lines",
         "text": "0.0002702702702702703",
         "type": "scatter",
         "x": [
          -22.954915028125253,
          -22.954915028125253,
          null
         ],
         "y": [
          48.05655277069771,
          48.05655277069771,
          null
         ]
        },
        {
         "hoverinfo": "text",
         "line": {
          "color": "cornflowerblue",
          "width": 0.048648648648648644
         },
         "mode": "lines",
         "text": "0.0024324324324324323",
         "type": "scatter",
         "x": [
          -22.954915028125253,
          -23.300406530937778,
          null
         ],
         "y": [
          48.05655277069771,
          47.58102451255013,
          null
         ]
        },
        {
         "hoverinfo": "text",
         "line": {
          "color": "cornflowerblue",
          "width": 0.021621621621621623
         },
         "mode": "lines",
         "text": "0.001081081081081081",
         "type": "scatter",
         "x": [
          -22.954915028125253,
          -23.808468418718526,
          null
         ],
         "y": [
          48.05655277069771,
          47.70299938010443,
          null
         ]
        },
        {
         "hoverinfo": "text",
         "line": {
          "color": "cornflowerblue",
          "width": 0.005405405405405406
         },
         "mode": "lines",
         "text": "0.0002702702702702703",
         "type": "scatter",
         "x": [
          -22.954915028125253,
          -22.954915028125253,
          null
         ],
         "y": [
          48.05655277069771,
          48.05655277069771,
          null
         ]
        },
        {
         "hoverinfo": "text",
         "line": {
          "color": "cornflowerblue",
          "width": 0.005405405405405406
         },
         "mode": "lines",
         "text": "0.0002702702702702703",
         "type": "scatter",
         "x": [
          -22.954915028125253,
          -23.36809093929179,
          null
         ],
         "y": [
          48.05655277069771,
          47.564148894191604,
          null
         ]
        },
        {
         "hoverinfo": "text",
         "line": {
          "color": "cornflowerblue",
          "width": 0.010810810810810811
         },
         "mode": "lines",
         "text": "0.0005405405405405405",
         "type": "scatter",
         "x": [
          -22.954915028125253,
          -23.454915028125253,
          null
         ],
         "y": [
          48.05655277069771,
          47.55655277069771,
          null
         ]
        },
        {
         "hoverinfo": "text",
         "line": {
          "color": "cornflowerblue",
          "width": 0.016216216216216217
         },
         "mode": "lines",
         "text": "0.0008108108108108108",
         "type": "scatter",
         "x": [
          -22.954915028125253,
          -22.954915028125253,
          null
         ],
         "y": [
          48.05655277069771,
          48.05655277069771,
          null
         ]
        },
        {
         "hoverinfo": "text",
         "line": {
          "color": "cornflowerblue",
          "width": 0.07567567567567568
         },
         "mode": "lines",
         "text": "0.0037837837837837837",
         "type": "scatter",
         "x": [
          -22.954915028125253,
          -23.071892806565764,
          null
         ],
         "y": [
          48.05655277069771,
          47.73515896585444,
          null
         ]
        },
        {
         "hoverinfo": "text",
         "line": {
          "color": "cornflowerblue",
          "width": 0.02702702702702703
         },
         "mode": "lines",
         "text": "0.0013513513513513514",
         "type": "scatter",
         "x": [
          -22.954915028125253,
          -22.954915028125253,
          null
         ],
         "y": [
          48.05655277069771,
          48.05655277069771,
          null
         ]
        },
        {
         "hoverinfo": "text",
         "line": {
          "color": "cornflowerblue",
          "width": 0.02702702702702703
         },
         "mode": "lines",
         "text": "0.0013513513513513514",
         "type": "scatter",
         "x": [
          -22.954915028125253,
          -22.954915028125253,
          null
         ],
         "y": [
          48.05655277069771,
          48.05655277069771,
          null
         ]
        },
        {
         "hoverinfo": "text",
         "line": {
          "color": "cornflowerblue",
          "width": 0.005405405405405406
         },
         "mode": "lines",
         "text": "0.0002702702702702703",
         "type": "scatter",
         "x": [
          -22.954915028125253,
          -23.10136163753198,
          null
         ],
         "y": [
          48.05655277069771,
          47.70299938010443,
          null
         ]
        },
        {
         "hoverinfo": "text",
         "line": {
          "color": "cornflowerblue",
          "width": 0.005405405405405406
         },
         "mode": "lines",
         "text": "0.0002702702702702703",
         "type": "scatter",
         "x": [
          -22.954915028125253,
          -22.99297526186961,
          null
         ],
         "y": [
          48.05655277069771,
          47.865211054515164,
          null
         ]
        },
        {
         "hoverinfo": "text",
         "line": {
          "color": "cornflowerblue",
          "width": 0.010810810810810811
         },
         "mode": "lines",
         "text": "0.0005405405405405405",
         "type": "scatter",
         "x": [
          -22.954915028125253,
          -23.10136163753198,
          null
         ],
         "y": [
          48.05655277069771,
          48.41010616129098,
          null
         ]
        },
        {
         "hoverinfo": "text",
         "line": {
          "color": "cornflowerblue",
          "width": 0.005405405405405406
         },
         "mode": "lines",
         "text": "0.0002702702702702703",
         "type": "scatter",
         "x": [
          -22.954915028125253,
          -23.454915028125253,
          null
         ],
         "y": [
          48.05655277069771,
          48.55655277069771,
          null
         ]
        },
        {
         "hoverinfo": "text",
         "line": {
          "color": "cornflowerblue",
          "width": 0.2
         },
         "mode": "lines",
         "text": "0.01",
         "type": "scatter",
         "x": [
          -22.954915028125253,
          -23.454915028125253,
          null
         ],
         "y": [
          48.05655277069771,
          47.55655277069771,
          null
         ]
        },
        {
         "hoverinfo": "text",
         "line": {
          "color": "cornflowerblue",
          "width": 0.010810810810810811
         },
         "mode": "lines",
         "text": "0.0005405405405405405",
         "type": "scatter",
         "x": [
          -22.954915028125253,
          -22.954915028125253,
          null
         ],
         "y": [
          48.05655277069771,
          48.05655277069771,
          null
         ]
        },
        {
         "hoverinfo": "text",
         "line": {
          "color": "cornflowerblue",
          "width": 0.021621621621621623
         },
         "mode": "lines",
         "text": "0.001081081081081081",
         "type": "scatter",
         "x": [
          -22.954915028125253,
          -23.071892806565764,
          null
         ],
         "y": [
          48.05655277069771,
          47.73515896585444,
          null
         ]
        },
        {
         "hoverinfo": "text",
         "line": {
          "color": "cornflowerblue",
          "width": 0.005405405405405406
         },
         "mode": "lines",
         "text": "0.0002702702702702703",
         "type": "scatter",
         "x": [
          -23.454915028125253,
          -23.859423525312728,
          null
         ],
         "y": [
          47.55655277069771,
          48.350445396843945,
          null
         ]
        },
        {
         "hoverinfo": "text",
         "line": {
          "color": "cornflowerblue",
          "width": 0.2
         },
         "mode": "lines",
         "text": "0.01",
         "type": "scatter",
         "x": [
          -23.454915028125253,
          -23.808468418718526,
          null
         ],
         "y": [
          47.55655277069771,
          48.41010616129098,
          null
         ]
        },
        {
         "hoverinfo": "text",
         "line": {
          "color": "cornflowerblue",
          "width": 0.016216216216216217
         },
         "mode": "lines",
         "text": "0.0008108108108108108",
         "type": "scatter",
         "x": [
          -23.454915028125253,
          -23.954915028125253,
          null
         ],
         "y": [
          47.55655277069771,
          48.05655277069771,
          null
         ]
        },
        {
         "hoverinfo": "text",
         "line": {
          "color": "cornflowerblue",
          "width": 0.005405405405405406
         },
         "mode": "lines",
         "text": "0.0002702702702702703",
         "type": "scatter",
         "x": [
          -23.454915028125253,
          -22.954915028125253,
          null
         ],
         "y": [
          47.55655277069771,
          48.05655277069771,
          null
         ]
        },
        {
         "hoverinfo": "text",
         "line": {
          "color": "cornflowerblue",
          "width": 0.048648648648648644
         },
         "mode": "lines",
         "text": "0.0024324324324324323",
         "type": "scatter",
         "x": [
          -23.454915028125253,
          -23.808468418718526,
          null
         ],
         "y": [
          47.55655277069771,
          47.70299938010443,
          null
         ]
        },
        {
         "hoverinfo": "text",
         "line": {
          "color": "cornflowerblue",
          "width": 0.010810810810810811
         },
         "mode": "lines",
         "text": "0.0005405405405405405",
         "type": "scatter",
         "x": [
          -23.454915028125253,
          -23.071892806565764,
          null
         ],
         "y": [
          47.55655277069771,
          47.73515896585444,
          null
         ]
        },
        {
         "hoverinfo": "text",
         "line": {
          "color": "cornflowerblue",
          "width": 0.010810810810810811
         },
         "mode": "lines",
         "text": "0.0005405405405405405",
         "type": "scatter",
         "x": [
          -23.454915028125253,
          -22.954915028125253,
          null
         ],
         "y": [
          47.55655277069771,
          48.05655277069771,
          null
         ]
        },
        {
         "hoverinfo": "text",
         "line": {
          "color": "cornflowerblue",
          "width": 0.02702702702702703
         },
         "mode": "lines",
         "text": "0.0013513513513513514",
         "type": "scatter",
         "x": [
          -23.454915028125253,
          -22.954915028125253,
          null
         ],
         "y": [
          47.55655277069771,
          48.05655277069771,
          null
         ]
        },
        {
         "hoverinfo": "text",
         "line": {
          "color": "cornflowerblue",
          "width": 0.048648648648648644
         },
         "mode": "lines",
         "text": "0.0024324324324324323",
         "type": "scatter",
         "x": [
          -23.454915028125253,
          -23.10136163753198,
          null
         ],
         "y": [
          47.55655277069771,
          47.70299938010443,
          null
         ]
        },
        {
         "hoverinfo": "text",
         "line": {
          "color": "cornflowerblue",
          "width": 0.005405405405405406
         },
         "mode": "lines",
         "text": "0.0002702702702702703",
         "type": "scatter",
         "x": [
          -22.954915028125253,
          -23.10136163753198,
          null
         ],
         "y": [
          48.05655277069771,
          48.41010616129098,
          null
         ]
        },
        {
         "hoverinfo": "text",
         "line": {
          "color": "cornflowerblue",
          "width": 0.021621621621621623
         },
         "mode": "lines",
         "text": "0.001081081081081081",
         "type": "scatter",
         "x": [
          -22.954915028125253,
          -23.454915028125253,
          null
         ],
         "y": [
          48.05655277069771,
          47.55655277069771,
          null
         ]
        },
        {
         "hoverinfo": "text",
         "line": {
          "color": "cornflowerblue",
          "width": 0.005405405405405406
         },
         "mode": "lines",
         "text": "0.0002702702702702703",
         "type": "scatter",
         "x": [
          -22.954915028125253,
          -23.263573311942707,
          null
         ],
         "y": [
          48.05655277069771,
          48.51849253695335,
          null
         ]
        },
        {
         "hoverinfo": "text",
         "line": {
          "color": "cornflowerblue",
          "width": 0.016216216216216217
         },
         "mode": "lines",
         "text": "0.0008108108108108108",
         "type": "scatter",
         "x": [
          -22.954915028125253,
          -23.6462567443078,
          null
         ],
         "y": [
          48.05655277069771,
          48.51849253695335,
          null
         ]
        },
        {
         "hoverinfo": "text",
         "line": {
          "color": "cornflowerblue",
          "width": 0.016216216216216217
         },
         "mode": "lines",
         "text": "0.0008108108108108108",
         "type": "scatter",
         "x": [
          -22.954915028125253,
          -23.808468418718526,
          null
         ],
         "y": [
          48.05655277069771,
          48.41010616129098,
          null
         ]
        },
        {
         "hoverinfo": "text",
         "line": {
          "color": "cornflowerblue",
          "width": 0.02702702702702703
         },
         "mode": "lines",
         "text": "0.0013513513513513514",
         "type": "scatter",
         "x": [
          -22.954915028125253,
          -23.808468418718526,
          null
         ],
         "y": [
          48.05655277069771,
          47.70299938010443,
          null
         ]
        },
        {
         "hoverinfo": "text",
         "line": {
          "color": "cornflowerblue",
          "width": 0.005405405405405406
         },
         "mode": "lines",
         "text": "0.0002702702702702703",
         "type": "scatter",
         "x": [
          -22.954915028125253,
          -23.808468418718526,
          null
         ],
         "y": [
          48.05655277069771,
          47.70299938010443,
          null
         ]
        },
        {
         "hoverinfo": "text",
         "line": {
          "color": "cornflowerblue",
          "width": 0.005405405405405406
         },
         "mode": "lines",
         "text": "0.0002702702702702703",
         "type": "scatter",
         "x": [
          -22.954915028125253,
          -23.36809093929179,
          null
         ],
         "y": [
          48.05655277069771,
          47.564148894191604,
          null
         ]
        },
        {
         "hoverinfo": "text",
         "line": {
          "color": "cornflowerblue",
          "width": 0.010810810810810811
         },
         "mode": "lines",
         "text": "0.0005405405405405405",
         "type": "scatter",
         "x": [
          -22.954915028125253,
          -23.454915028125253,
          null
         ],
         "y": [
          48.05655277069771,
          47.55655277069771,
          null
         ]
        },
        {
         "hoverinfo": "text",
         "line": {
          "color": "cornflowerblue",
          "width": 0.005405405405405406
         },
         "mode": "lines",
         "text": "0.0002702702702702703",
         "type": "scatter",
         "x": [
          -22.954915028125253,
          -23.263573311942707,
          null
         ],
         "y": [
          48.05655277069771,
          47.59461300444206,
          null
         ]
        },
        {
         "hoverinfo": "text",
         "line": {
          "color": "cornflowerblue",
          "width": 0.005405405405405406
         },
         "mode": "lines",
         "text": "0.0002702702702702703",
         "type": "scatter",
         "x": [
          -22.954915028125253,
          -23.10136163753198,
          null
         ],
         "y": [
          48.05655277069771,
          47.70299938010443,
          null
         ]
        },
        {
         "hoverinfo": "text",
         "line": {
          "color": "cornflowerblue",
          "width": 0.1837837837837838
         },
         "mode": "lines",
         "text": "0.009189189189189189",
         "type": "scatter",
         "x": [
          -22.954915028125253,
          -23.071892806565764,
          null
         ],
         "y": [
          48.05655277069771,
          47.73515896585444,
          null
         ]
        },
        {
         "hoverinfo": "text",
         "line": {
          "color": "cornflowerblue",
          "width": 0.05405405405405406
         },
         "mode": "lines",
         "text": "0.002702702702702703",
         "type": "scatter",
         "x": [
          -22.954915028125253,
          -22.954915028125253,
          null
         ],
         "y": [
          48.05655277069771,
          48.05655277069771,
          null
         ]
        },
        {
         "hoverinfo": "text",
         "line": {
          "color": "cornflowerblue",
          "width": 0.010810810810810811
         },
         "mode": "lines",
         "text": "0.0005405405405405405",
         "type": "scatter",
         "x": [
          -22.954915028125253,
          -22.954915028125253,
          null
         ],
         "y": [
          48.05655277069771,
          48.05655277069771,
          null
         ]
        },
        {
         "hoverinfo": "text",
         "line": {
          "color": "cornflowerblue",
          "width": 0.02702702702702703
         },
         "mode": "lines",
         "text": "0.0013513513513513514",
         "type": "scatter",
         "x": [
          -22.954915028125253,
          -23.916854794380896,
          null
         ],
         "y": [
          48.05655277069771,
          48.24789448688025,
          null
         ]
        },
        {
         "hoverinfo": "text",
         "line": {
          "color": "cornflowerblue",
          "width": 0.11351351351351352
         },
         "mode": "lines",
         "text": "0.005675675675675676",
         "type": "scatter",
         "x": [
          -22.954915028125253,
          -22.99297526186961,
          null
         ],
         "y": [
          48.05655277069771,
          47.865211054515164,
          null
         ]
        },
        {
         "hoverinfo": "text",
         "line": {
          "color": "cornflowerblue",
          "width": 0.016216216216216217
         },
         "mode": "lines",
         "text": "0.0008108108108108108",
         "type": "scatter",
         "x": [
          -23.071892806565764,
          -23.071892806565764,
          null
         ],
         "y": [
          47.73515896585444,
          48.377946575540975,
          null
         ]
        },
        {
         "hoverinfo": "text",
         "line": {
          "color": "cornflowerblue",
          "width": 0.016216216216216217
         },
         "mode": "lines",
         "text": "0.0008108108108108108",
         "type": "scatter",
         "x": [
          -23.071892806565764,
          -23.704915028125253,
          null
         ],
         "y": [
          47.73515896585444,
          48.48956547258992,
          null
         ]
        },
        {
         "hoverinfo": "text",
         "line": {
          "color": "cornflowerblue",
          "width": 0.016216216216216217
         },
         "mode": "lines",
         "text": "0.0008108108108108108",
         "type": "scatter",
         "x": [
          -23.071892806565764,
          -23.10136163753198,
          null
         ],
         "y": [
          47.73515896585444,
          48.41010616129098,
          null
         ]
        },
        {
         "hoverinfo": "text",
         "line": {
          "color": "cornflowerblue",
          "width": 0.005405405405405406
         },
         "mode": "lines",
         "text": "0.0002702702702702703",
         "type": "scatter",
         "x": [
          -23.071892806565764,
          -23.454915028125253,
          null
         ],
         "y": [
          47.73515896585444,
          48.55655277069771,
          null
         ]
        },
        {
         "hoverinfo": "text",
         "line": {
          "color": "cornflowerblue",
          "width": 0.02702702702702703
         },
         "mode": "lines",
         "text": "0.0013513513513513514",
         "type": "scatter",
         "x": [
          -23.071892806565764,
          -23.859423525312728,
          null
         ],
         "y": [
          47.73515896585444,
          48.350445396843945,
          null
         ]
        },
        {
         "hoverinfo": "text",
         "line": {
          "color": "cornflowerblue",
          "width": 0.02702702702702703
         },
         "mode": "lines",
         "text": "0.0013513513513513514",
         "type": "scatter",
         "x": [
          -23.071892806565764,
          -23.454915028125253,
          null
         ],
         "y": [
          47.73515896585444,
          47.55655277069771,
          null
         ]
        },
        {
         "hoverinfo": "text",
         "line": {
          "color": "cornflowerblue",
          "width": 0.010810810810810811
         },
         "mode": "lines",
         "text": "0.0005405405405405405",
         "type": "scatter",
         "x": [
          -23.071892806565764,
          -23.454915028125253,
          null
         ],
         "y": [
          47.73515896585444,
          47.55655277069771,
          null
         ]
        },
        {
         "hoverinfo": "text",
         "line": {
          "color": "cornflowerblue",
          "width": 0.005405405405405406
         },
         "mode": "lines",
         "text": "0.0002702702702702703",
         "type": "scatter",
         "x": [
          -23.071892806565764,
          -22.954915028125253,
          null
         ],
         "y": [
          47.73515896585444,
          48.05655277069771,
          null
         ]
        },
        {
         "hoverinfo": "text",
         "line": {
          "color": "cornflowerblue",
          "width": 0.010810810810810811
         },
         "mode": "lines",
         "text": "0.0005405405405405405",
         "type": "scatter",
         "x": [
          -23.071892806565764,
          -23.300406530937778,
          null
         ],
         "y": [
          47.73515896585444,
          47.58102451255013,
          null
         ]
        },
        {
         "hoverinfo": "text",
         "line": {
          "color": "cornflowerblue",
          "width": 0.043243243243243246
         },
         "mode": "lines",
         "text": "0.002162162162162162",
         "type": "scatter",
         "x": [
          -23.071892806565764,
          -23.808468418718526,
          null
         ],
         "y": [
          47.73515896585444,
          47.70299938010443,
          null
         ]
        },
        {
         "hoverinfo": "text",
         "line": {
          "color": "cornflowerblue",
          "width": 0.016216216216216217
         },
         "mode": "lines",
         "text": "0.0008108108108108108",
         "type": "scatter",
         "x": [
          -23.071892806565764,
          -23.6462567443078,
          null
         ],
         "y": [
          47.73515896585444,
          47.59461300444206,
          null
         ]
        },
        {
         "hoverinfo": "text",
         "line": {
          "color": "cornflowerblue",
          "width": 0.07027027027027027
         },
         "mode": "lines",
         "text": "0.0035135135135135136",
         "type": "scatter",
         "x": [
          -23.071892806565764,
          -23.36809093929179,
          null
         ],
         "y": [
          47.73515896585444,
          47.564148894191604,
          null
         ]
        },
        {
         "hoverinfo": "text",
         "line": {
          "color": "cornflowerblue",
          "width": 0.021621621621621623
         },
         "mode": "lines",
         "text": "0.001081081081081081",
         "type": "scatter",
         "x": [
          -23.071892806565764,
          -22.954915028125253,
          null
         ],
         "y": [
          47.73515896585444,
          48.05655277069771,
          null
         ]
        },
        {
         "hoverinfo": "text",
         "line": {
          "color": "cornflowerblue",
          "width": 0.005405405405405406
         },
         "mode": "lines",
         "text": "0.0002702702702702703",
         "type": "scatter",
         "x": [
          -23.071892806565764,
          -22.954915028125253,
          null
         ],
         "y": [
          47.73515896585444,
          48.05655277069771,
          null
         ]
        },
        {
         "hoverinfo": "text",
         "line": {
          "color": "cornflowerblue",
          "width": 0.010810810810810811
         },
         "mode": "lines",
         "text": "0.0005405405405405405",
         "type": "scatter",
         "x": [
          -23.071892806565764,
          -23.916854794380896,
          null
         ],
         "y": [
          47.73515896585444,
          48.24789448688025,
          null
         ]
        },
        {
         "hoverinfo": "text",
         "line": {
          "color": "cornflowerblue",
          "width": 0.021621621621621623
         },
         "mode": "lines",
         "text": "0.001081081081081081",
         "type": "scatter",
         "x": [
          -23.071892806565764,
          -23.10136163753198,
          null
         ],
         "y": [
          47.73515896585444,
          47.70299938010443,
          null
         ]
        },
        {
         "hoverinfo": "text",
         "line": {
          "color": "cornflowerblue",
          "width": 0.010810810810810811
         },
         "mode": "lines",
         "text": "0.0005405405405405405",
         "type": "scatter",
         "x": [
          -23.071892806565764,
          -22.99297526186961,
          null
         ],
         "y": [
          47.73515896585444,
          47.865211054515164,
          null
         ]
        },
        {
         "hoverinfo": "text",
         "line": {
          "color": "cornflowerblue",
          "width": 0.005405405405405406
         },
         "mode": "lines",
         "text": "0.0002702702702702703",
         "type": "scatter",
         "x": [
          -22.954915028125253,
          -23.954915028125253,
          null
         ],
         "y": [
          48.05655277069771,
          48.05655277069771,
          null
         ]
        },
        {
         "hoverinfo": "text",
         "line": {
          "color": "cornflowerblue",
          "width": 0.005405405405405406
         },
         "mode": "lines",
         "text": "0.0002702702702702703",
         "type": "scatter",
         "x": [
          -22.954915028125253,
          -22.954915028125253,
          null
         ],
         "y": [
          48.05655277069771,
          48.05655277069771,
          null
         ]
        },
        {
         "hoverinfo": "text",
         "line": {
          "color": "cornflowerblue",
          "width": 0.005405405405405406
         },
         "mode": "lines",
         "text": "0.0002702702702702703",
         "type": "scatter",
         "x": [
          -22.954915028125253,
          -22.954915028125253,
          null
         ],
         "y": [
          48.05655277069771,
          48.05655277069771,
          null
         ]
        },
        {
         "hoverinfo": "text",
         "line": {
          "color": "cornflowerblue",
          "width": 0.005405405405405406
         },
         "mode": "lines",
         "text": "0.0002702702702702703",
         "type": "scatter",
         "x": [
          -22.954915028125253,
          -23.300406530937778,
          null
         ],
         "y": [
          48.05655277069771,
          47.58102451255013,
          null
         ]
        },
        {
         "hoverinfo": "text",
         "line": {
          "color": "cornflowerblue",
          "width": 0.03783783783783784
         },
         "mode": "lines",
         "text": "0.0018918918918918919",
         "type": "scatter",
         "x": [
          -22.954915028125253,
          -23.808468418718526,
          null
         ],
         "y": [
          48.05655277069771,
          47.70299938010443,
          null
         ]
        },
        {
         "hoverinfo": "text",
         "line": {
          "color": "cornflowerblue",
          "width": 0.005405405405405406
         },
         "mode": "lines",
         "text": "0.0002702702702702703",
         "type": "scatter",
         "x": [
          -22.954915028125253,
          -23.36809093929179,
          null
         ],
         "y": [
          48.05655277069771,
          47.564148894191604,
          null
         ]
        },
        {
         "hoverinfo": "text",
         "line": {
          "color": "cornflowerblue",
          "width": 0.032432432432432434
         },
         "mode": "lines",
         "text": "0.0016216216216216215",
         "type": "scatter",
         "x": [
          -22.954915028125253,
          -22.954915028125253,
          null
         ],
         "y": [
          48.05655277069771,
          48.05655277069771,
          null
         ]
        },
        {
         "hoverinfo": "text",
         "line": {
          "color": "cornflowerblue",
          "width": 0.016216216216216217
         },
         "mode": "lines",
         "text": "0.0008108108108108108",
         "type": "scatter",
         "x": [
          -22.954915028125253,
          -22.99297526186961,
          null
         ],
         "y": [
          48.05655277069771,
          47.865211054515164,
          null
         ]
        },
        {
         "hoverinfo": "text",
         "line": {
          "color": "cornflowerblue",
          "width": 0.005405405405405406
         },
         "mode": "lines",
         "text": "0.0002702702702702703",
         "type": "scatter",
         "x": [
          -22.954915028125253,
          -22.99297526186961,
          null
         ],
         "y": [
          48.05655277069771,
          48.24789448688025,
          null
         ]
        },
        {
         "hoverinfo": "text",
         "line": {
          "color": "cornflowerblue",
          "width": 0.032432432432432434
         },
         "mode": "lines",
         "text": "0.0016216216216216215",
         "type": "scatter",
         "x": [
          -22.954915028125253,
          -23.808468418718526,
          null
         ],
         "y": [
          48.05655277069771,
          48.41010616129098,
          null
         ]
        },
        {
         "hoverinfo": "text",
         "line": {
          "color": "cornflowerblue",
          "width": 0.08648648648648649
         },
         "mode": "lines",
         "text": "0.004324324324324324",
         "type": "scatter",
         "x": [
          -22.954915028125253,
          -23.954915028125253,
          null
         ],
         "y": [
          48.05655277069771,
          48.05655277069771,
          null
         ]
        },
        {
         "hoverinfo": "text",
         "line": {
          "color": "cornflowerblue",
          "width": 0.010810810810810811
         },
         "mode": "lines",
         "text": "0.0005405405405405405",
         "type": "scatter",
         "x": [
          -22.954915028125253,
          -22.954915028125253,
          null
         ],
         "y": [
          48.05655277069771,
          48.05655277069771,
          null
         ]
        },
        {
         "hoverinfo": "text",
         "line": {
          "color": "cornflowerblue",
          "width": 0.048648648648648644
         },
         "mode": "lines",
         "text": "0.0024324324324324323",
         "type": "scatter",
         "x": [
          -22.954915028125253,
          -23.808468418718526,
          null
         ],
         "y": [
          48.05655277069771,
          47.70299938010443,
          null
         ]
        },
        {
         "hoverinfo": "text",
         "line": {
          "color": "cornflowerblue",
          "width": 0.016216216216216217
         },
         "mode": "lines",
         "text": "0.0008108108108108108",
         "type": "scatter",
         "x": [
          -22.954915028125253,
          -22.954915028125253,
          null
         ],
         "y": [
          48.05655277069771,
          48.05655277069771,
          null
         ]
        },
        {
         "hoverinfo": "text",
         "line": {
          "color": "cornflowerblue",
          "width": 0.005405405405405406
         },
         "mode": "lines",
         "text": "0.0002702702702702703",
         "type": "scatter",
         "x": [
          -22.954915028125253,
          -23.36809093929179,
          null
         ],
         "y": [
          48.05655277069771,
          47.564148894191604,
          null
         ]
        },
        {
         "hoverinfo": "text",
         "line": {
          "color": "cornflowerblue",
          "width": 0.005405405405405406
         },
         "mode": "lines",
         "text": "0.0002702702702702703",
         "type": "scatter",
         "x": [
          -22.954915028125253,
          -23.10136163753198,
          null
         ],
         "y": [
          48.05655277069771,
          47.70299938010443,
          null
         ]
        },
        {
         "hoverinfo": "text",
         "line": {
          "color": "cornflowerblue",
          "width": 0.021621621621621623
         },
         "mode": "lines",
         "text": "0.001081081081081081",
         "type": "scatter",
         "x": [
          -22.954915028125253,
          -22.99297526186961,
          null
         ],
         "y": [
          48.05655277069771,
          47.865211054515164,
          null
         ]
        },
        {
         "hoverinfo": "text",
         "line": {
          "color": "cornflowerblue",
          "width": 0.005405405405405406
         },
         "mode": "lines",
         "text": "0.0002702702702702703",
         "type": "scatter",
         "x": [
          -23.10136163753198,
          -23.808468418718526,
          null
         ],
         "y": [
          47.70299938010443,
          48.41010616129098,
          null
         ]
        },
        {
         "hoverinfo": "text",
         "line": {
          "color": "cornflowerblue",
          "width": 0.016216216216216217
         },
         "mode": "lines",
         "text": "0.0008108108108108108",
         "type": "scatter",
         "x": [
          -23.10136163753198,
          -23.808468418718526,
          null
         ],
         "y": [
          47.70299938010443,
          47.70299938010443,
          null
         ]
        },
        {
         "hoverinfo": "text",
         "line": {
          "color": "cornflowerblue",
          "width": 0.005405405405405406
         },
         "mode": "lines",
         "text": "0.0002702702702702703",
         "type": "scatter",
         "x": [
          -23.071892806565764,
          -23.704915028125253,
          null
         ],
         "y": [
          48.377946575540975,
          48.48956547258992,
          null
         ]
        },
        {
         "hoverinfo": "text",
         "line": {
          "color": "cornflowerblue",
          "width": 0.005405405405405406
         },
         "mode": "lines",
         "text": "0.0002702702702702703",
         "type": "scatter",
         "x": [
          -23.704915028125253,
          -23.454915028125253,
          null
         ],
         "y": [
          48.48956547258992,
          47.55655277069771,
          null
         ]
        },
        {
         "hoverinfo": "text",
         "line": {
          "color": "cornflowerblue",
          "width": 0.005405405405405406
         },
         "mode": "lines",
         "text": "0.0002702702702702703",
         "type": "scatter",
         "x": [
          -23.704915028125253,
          -23.36809093929179,
          null
         ],
         "y": [
          48.48956547258992,
          47.564148894191604,
          null
         ]
        },
        {
         "hoverinfo": "text",
         "line": {
          "color": "cornflowerblue",
          "width": 0.016216216216216217
         },
         "mode": "lines",
         "text": "0.0008108108108108108",
         "type": "scatter",
         "x": [
          -23.071892806565764,
          -23.808468418718526,
          null
         ],
         "y": [
          48.377946575540975,
          48.41010616129098,
          null
         ]
        },
        {
         "hoverinfo": "text",
         "line": {
          "color": "cornflowerblue",
          "width": 0.010810810810810811
         },
         "mode": "lines",
         "text": "0.0005405405405405405",
         "type": "scatter",
         "x": [
          -23.071892806565764,
          -22.954915028125253,
          null
         ],
         "y": [
          48.377946575540975,
          48.05655277069771,
          null
         ]
        },
        {
         "hoverinfo": "text",
         "line": {
          "color": "cornflowerblue",
          "width": 0.005405405405405406
         },
         "mode": "lines",
         "text": "0.0002702702702702703",
         "type": "scatter",
         "x": [
          -23.071892806565764,
          -23.36809093929179,
          null
         ],
         "y": [
          48.377946575540975,
          47.564148894191604,
          null
         ]
        },
        {
         "hoverinfo": "text",
         "line": {
          "color": "cornflowerblue",
          "width": 0.005405405405405406
         },
         "mode": "lines",
         "text": "0.0002702702702702703",
         "type": "scatter",
         "x": [
          -23.071892806565764,
          -23.204915028125253,
          null
         ],
         "y": [
          48.377946575540975,
          47.62354006880549,
          null
         ]
        },
        {
         "hoverinfo": "text",
         "line": {
          "color": "cornflowerblue",
          "width": 0.25405405405405407
         },
         "mode": "lines",
         "text": "0.012702702702702703",
         "type": "scatter",
         "x": [
          -23.808468418718526,
          -23.10136163753198,
          null
         ],
         "y": [
          48.41010616129098,
          48.41010616129098,
          null
         ]
        },
        {
         "hoverinfo": "text",
         "line": {
          "color": "cornflowerblue",
          "width": 0.043243243243243246
         },
         "mode": "lines",
         "text": "0.002162162162162162",
         "type": "scatter",
         "x": [
          -23.808468418718526,
          -23.454915028125253,
          null
         ],
         "y": [
          48.41010616129098,
          48.55655277069771,
          null
         ]
        },
        {
         "hoverinfo": "text",
         "line": {
          "color": "cornflowerblue",
          "width": 0.005405405405405406
         },
         "mode": "lines",
         "text": "0.0002702702702702703",
         "type": "scatter",
         "x": [
          -23.808468418718526,
          -23.954915028125253,
          null
         ],
         "y": [
          48.41010616129098,
          48.05655277069771,
          null
         ]
        },
        {
         "hoverinfo": "text",
         "line": {
          "color": "cornflowerblue",
          "width": 0.043243243243243246
         },
         "mode": "lines",
         "text": "0.002162162162162162",
         "type": "scatter",
         "x": [
          -23.808468418718526,
          -23.454915028125253,
          null
         ],
         "y": [
          48.41010616129098,
          47.55655277069771,
          null
         ]
        },
        {
         "hoverinfo": "text",
         "line": {
          "color": "cornflowerblue",
          "width": 0.016216216216216217
         },
         "mode": "lines",
         "text": "0.0008108108108108108",
         "type": "scatter",
         "x": [
          -23.808468418718526,
          -23.10136163753198,
          null
         ],
         "y": [
          48.41010616129098,
          47.70299938010443,
          null
         ]
        },
        {
         "hoverinfo": "text",
         "line": {
          "color": "cornflowerblue",
          "width": 0.005405405405405406
         },
         "mode": "lines",
         "text": "0.0002702702702702703",
         "type": "scatter",
         "x": [
          -23.808468418718526,
          -23.368090939291786,
          null
         ],
         "y": [
          48.41010616129098,
          48.54895664720381,
          null
         ]
        },
        {
         "hoverinfo": "text",
         "line": {
          "color": "cornflowerblue",
          "width": 0.005405405405405406
         },
         "mode": "lines",
         "text": "0.0002702702702702703",
         "type": "scatter",
         "x": [
          -23.808468418718526,
          -23.704915028125253,
          null
         ],
         "y": [
          48.41010616129098,
          48.48956547258992,
          null
         ]
        },
        {
         "hoverinfo": "text",
         "line": {
          "color": "cornflowerblue",
          "width": 0.005405405405405406
         },
         "mode": "lines",
         "text": "0.0002702702702702703",
         "type": "scatter",
         "x": [
          -23.808468418718526,
          -23.924761338518206,
          null
         ],
         "y": [
          48.41010616129098,
          47.88554269903487,
          null
         ]
        },
        {
         "hoverinfo": "text",
         "line": {
          "color": "cornflowerblue",
          "width": 0.005405405405405406
         },
         "mode": "lines",
         "text": "0.0002702702702702703",
         "type": "scatter",
         "x": [
          -23.808468418718526,
          -23.6462567443078,
          null
         ],
         "y": [
          48.41010616129098,
          47.59461300444206,
          null
         ]
        },
        {
         "hoverinfo": "text",
         "line": {
          "color": "cornflowerblue",
          "width": 0.021621621621621623
         },
         "mode": "lines",
         "text": "0.001081081081081081",
         "type": "scatter",
         "x": [
          -23.808468418718526,
          -23.54173911695872,
          null
         ],
         "y": [
          48.41010616129098,
          47.564148894191604,
          null
         ]
        },
        {
         "hoverinfo": "text",
         "line": {
          "color": "cornflowerblue",
          "width": 0.032432432432432434
         },
         "mode": "lines",
         "text": "0.0016216216216216215",
         "type": "scatter",
         "x": [
          -23.808468418718526,
          -22.954915028125253,
          null
         ],
         "y": [
          48.41010616129098,
          48.05655277069771,
          null
         ]
        },
        {
         "hoverinfo": "text",
         "line": {
          "color": "cornflowerblue",
          "width": 0.010810810810810811
         },
         "mode": "lines",
         "text": "0.0005405405405405405",
         "type": "scatter",
         "x": [
          -23.808468418718526,
          -23.36809093929179,
          null
         ],
         "y": [
          48.41010616129098,
          47.564148894191604,
          null
         ]
        },
        {
         "hoverinfo": "text",
         "line": {
          "color": "cornflowerblue",
          "width": 0.016216216216216217
         },
         "mode": "lines",
         "text": "0.0008108108108108108",
         "type": "scatter",
         "x": [
          -23.808468418718526,
          -23.071892806565764,
          null
         ],
         "y": [
          48.41010616129098,
          47.73515896585444,
          null
         ]
        },
        {
         "hoverinfo": "text",
         "line": {
          "color": "cornflowerblue",
          "width": 0.010810810810810811
         },
         "mode": "lines",
         "text": "0.0005405405405405405",
         "type": "scatter",
         "x": [
          -23.808468418718526,
          -22.9850687177323,
          null
         ],
         "y": [
          48.41010616129098,
          47.88554269903487,
          null
         ]
        },
        {
         "hoverinfo": "text",
         "line": {
          "color": "cornflowerblue",
          "width": 0.005405405405405406
         },
         "mode": "lines",
         "text": "0.0002702702702702703",
         "type": "scatter",
         "x": [
          -22.954915028125253,
          -23.954915028125253,
          null
         ],
         "y": [
          48.05655277069771,
          48.05655277069771,
          null
         ]
        },
        {
         "hoverinfo": "text",
         "line": {
          "color": "cornflowerblue",
          "width": 0.005405405405405406
         },
         "mode": "lines",
         "text": "0.0002702702702702703",
         "type": "scatter",
         "x": [
          -22.954915028125253,
          -23.454915028125253,
          null
         ],
         "y": [
          48.05655277069771,
          47.55655277069771,
          null
         ]
        },
        {
         "hoverinfo": "text",
         "line": {
          "color": "cornflowerblue",
          "width": 0.005405405405405406
         },
         "mode": "lines",
         "text": "0.0002702702702702703",
         "type": "scatter",
         "x": [
          -22.954915028125253,
          -23.924761338518206,
          null
         ],
         "y": [
          48.05655277069771,
          48.22756284236054,
          null
         ]
        },
        {
         "hoverinfo": "text",
         "line": {
          "color": "cornflowerblue",
          "width": 0.005405405405405406
         },
         "mode": "lines",
         "text": "0.0002702702702702703",
         "type": "scatter",
         "x": [
          -22.954915028125253,
          -23.924761338518206,
          null
         ],
         "y": [
          48.05655277069771,
          47.88554269903487,
          null
         ]
        },
        {
         "hoverinfo": "text",
         "line": {
          "color": "cornflowerblue",
          "width": 0.032432432432432434
         },
         "mode": "lines",
         "text": "0.0016216216216216215",
         "type": "scatter",
         "x": [
          -22.954915028125253,
          -23.54173911695872,
          null
         ],
         "y": [
          48.05655277069771,
          47.564148894191604,
          null
         ]
        },
        {
         "hoverinfo": "text",
         "line": {
          "color": "cornflowerblue",
          "width": 0.016216216216216217
         },
         "mode": "lines",
         "text": "0.0008108108108108108",
         "type": "scatter",
         "x": [
          -22.954915028125253,
          -23.36809093929179,
          null
         ],
         "y": [
          48.05655277069771,
          47.564148894191604,
          null
         ]
        },
        {
         "hoverinfo": "text",
         "line": {
          "color": "cornflowerblue",
          "width": 0.010810810810810811
         },
         "mode": "lines",
         "text": "0.0005405405405405405",
         "type": "scatter",
         "x": [
          -22.954915028125253,
          -23.071892806565764,
          null
         ],
         "y": [
          48.05655277069771,
          47.73515896585444,
          null
         ]
        },
        {
         "hoverinfo": "text",
         "line": {
          "color": "cornflowerblue",
          "width": 0.016216216216216217
         },
         "mode": "lines",
         "text": "0.0008108108108108108",
         "type": "scatter",
         "x": [
          -22.954915028125253,
          -22.9850687177323,
          null
         ],
         "y": [
          48.05655277069771,
          47.88554269903487,
          null
         ]
        },
        {
         "hoverinfo": "text",
         "line": {
          "color": "cornflowerblue",
          "width": 0.005405405405405406
         },
         "mode": "lines",
         "text": "0.0002702702702702703",
         "type": "scatter",
         "x": [
          -23.36809093929179,
          -23.10136163753198,
          null
         ],
         "y": [
          47.564148894191604,
          48.41010616129098,
          null
         ]
        },
        {
         "hoverinfo": "text",
         "line": {
          "color": "cornflowerblue",
          "width": 0.005405405405405406
         },
         "mode": "lines",
         "text": "0.0002702702702702703",
         "type": "scatter",
         "x": [
          -23.36809093929179,
          -23.704915028125253,
          null
         ],
         "y": [
          47.564148894191604,
          48.48956547258992,
          null
         ]
        },
        {
         "hoverinfo": "text",
         "line": {
          "color": "cornflowerblue",
          "width": 0.010810810810810811
         },
         "mode": "lines",
         "text": "0.0005405405405405405",
         "type": "scatter",
         "x": [
          -23.36809093929179,
          -23.954915028125253,
          null
         ],
         "y": [
          47.564148894191604,
          48.05655277069771,
          null
         ]
        },
        {
         "hoverinfo": "text",
         "line": {
          "color": "cornflowerblue",
          "width": 0.005405405405405406
         },
         "mode": "lines",
         "text": "0.0002702702702702703",
         "type": "scatter",
         "x": [
          -23.36809093929179,
          -23.924761338518206,
          null
         ],
         "y": [
          47.564148894191604,
          47.88554269903487,
          null
         ]
        },
        {
         "hoverinfo": "text",
         "line": {
          "color": "cornflowerblue",
          "width": 0.005405405405405406
         },
         "mode": "lines",
         "text": "0.0002702702702702703",
         "type": "scatter",
         "x": [
          -23.36809093929179,
          -23.808468418718526,
          null
         ],
         "y": [
          47.564148894191604,
          47.70299938010443,
          null
         ]
        },
        {
         "hoverinfo": "text",
         "line": {
          "color": "cornflowerblue",
          "width": 0.005405405405405406
         },
         "mode": "lines",
         "text": "0.0002702702702702703",
         "type": "scatter",
         "x": [
          -23.36809093929179,
          -23.54173911695872,
          null
         ],
         "y": [
          47.564148894191604,
          47.564148894191604,
          null
         ]
        },
        {
         "hoverinfo": "text",
         "line": {
          "color": "cornflowerblue",
          "width": 0.005405405405405406
         },
         "mode": "lines",
         "text": "0.0002702702702702703",
         "type": "scatter",
         "x": [
          -23.36809093929179,
          -23.071892806565764,
          null
         ],
         "y": [
          47.564148894191604,
          47.73515896585444,
          null
         ]
        },
        {
         "hoverinfo": "text",
         "line": {
          "color": "cornflowerblue",
          "width": 0.005405405405405406
         },
         "mode": "lines",
         "text": "0.0002702702702702703",
         "type": "scatter",
         "x": [
          -23.36809093929179,
          -22.9850687177323,
          null
         ],
         "y": [
          47.564148894191604,
          47.88554269903487,
          null
         ]
        },
        {
         "hoverinfo": "text",
         "line": {
          "color": "cornflowerblue",
          "width": 0.005405405405405406
         },
         "mode": "lines",
         "text": "0.0002702702702702703",
         "type": "scatter",
         "x": [
          -23.36809093929179,
          -22.99297526186961,
          null
         ],
         "y": [
          47.564148894191604,
          47.865211054515164,
          null
         ]
        },
        {
         "hoverinfo": "text",
         "line": {
          "color": "cornflowerblue",
          "width": 0.005405405405405406
         },
         "mode": "lines",
         "text": "0.0002702702702702703",
         "type": "scatter",
         "x": [
          -23.204915028125253,
          -22.99297526186961,
          null
         ],
         "y": [
          47.62354006880549,
          47.865211054515164,
          null
         ]
        },
        {
         "hoverinfo": "text",
         "line": {
          "color": "cornflowerblue",
          "width": 0.05405405405405406
         },
         "mode": "lines",
         "text": "0.002702702702702703",
         "type": "scatter",
         "x": [
          -23.454915028125253,
          -23.10136163753198,
          null
         ],
         "y": [
          47.55655277069771,
          48.41010616129098,
          null
         ]
        },
        {
         "hoverinfo": "text",
         "line": {
          "color": "cornflowerblue",
          "width": 0.016216216216216217
         },
         "mode": "lines",
         "text": "0.0008108108108108108",
         "type": "scatter",
         "x": [
          -23.454915028125253,
          -23.454915028125253,
          null
         ],
         "y": [
          47.55655277069771,
          48.55655277069771,
          null
         ]
        },
        {
         "hoverinfo": "text",
         "line": {
          "color": "cornflowerblue",
          "width": 0.010810810810810811
         },
         "mode": "lines",
         "text": "0.0005405405405405405",
         "type": "scatter",
         "x": [
          -23.454915028125253,
          -23.954915028125253,
          null
         ],
         "y": [
          47.55655277069771,
          48.05655277069771,
          null
         ]
        },
        {
         "hoverinfo": "text",
         "line": {
          "color": "cornflowerblue",
          "width": 0.005405405405405406
         },
         "mode": "lines",
         "text": "0.0002702702702702703",
         "type": "scatter",
         "x": [
          -23.454915028125253,
          -23.10136163753198,
          null
         ],
         "y": [
          47.55655277069771,
          47.70299938010443,
          null
         ]
        },
        {
         "hoverinfo": "text",
         "line": {
          "color": "cornflowerblue",
          "width": 0.005405405405405406
         },
         "mode": "lines",
         "text": "0.0002702702702702703",
         "type": "scatter",
         "x": [
          -23.454915028125253,
          -23.837937249684742,
          null
         ],
         "y": [
          47.55655277069771,
          48.377946575540975,
          null
         ]
        },
        {
         "hoverinfo": "text",
         "line": {
          "color": "cornflowerblue",
          "width": 0.005405405405405406
         },
         "mode": "lines",
         "text": "0.0002702702702702703",
         "type": "scatter",
         "x": [
          -23.454915028125253,
          -23.071892806565764,
          null
         ],
         "y": [
          47.55655277069771,
          47.73515896585444,
          null
         ]
        },
        {
         "hoverinfo": "text",
         "line": {
          "color": "cornflowerblue",
          "width": 0.005405405405405406
         },
         "mode": "lines",
         "text": "0.0002702702702702703",
         "type": "scatter",
         "x": [
          -23.36809093929179,
          -23.10136163753198,
          null
         ],
         "y": [
          47.564148894191604,
          48.41010616129098,
          null
         ]
        },
        {
         "hoverinfo": "text",
         "line": {
          "color": "cornflowerblue",
          "width": 0.043243243243243246
         },
         "mode": "lines",
         "text": "0.002162162162162162",
         "type": "scatter",
         "x": [
          -23.10136163753198,
          -23.454915028125253,
          null
         ],
         "y": [
          48.41010616129098,
          48.55655277069771,
          null
         ]
        },
        {
         "hoverinfo": "text",
         "line": {
          "color": "cornflowerblue",
          "width": 0.005405405405405406
         },
         "mode": "lines",
         "text": "0.0002702702702702703",
         "type": "scatter",
         "x": [
          -23.10136163753198,
          -23.954915028125253,
          null
         ],
         "y": [
          48.41010616129098,
          48.05655277069771,
          null
         ]
        },
        {
         "hoverinfo": "text",
         "line": {
          "color": "cornflowerblue",
          "width": 0.07027027027027027
         },
         "mode": "lines",
         "text": "0.0035135135135135136",
         "type": "scatter",
         "x": [
          -23.10136163753198,
          -23.10136163753198,
          null
         ],
         "y": [
          48.41010616129098,
          47.70299938010443,
          null
         ]
        },
        {
         "hoverinfo": "text",
         "line": {
          "color": "cornflowerblue",
          "width": 0.005405405405405406
         },
         "mode": "lines",
         "text": "0.0002702702702702703",
         "type": "scatter",
         "x": [
          -23.10136163753198,
          -23.704915028125253,
          null
         ],
         "y": [
          48.41010616129098,
          48.48956547258992,
          null
         ]
        },
        {
         "hoverinfo": "text",
         "line": {
          "color": "cornflowerblue",
          "width": 0.043243243243243246
         },
         "mode": "lines",
         "text": "0.002162162162162162",
         "type": "scatter",
         "x": [
          -23.454915028125253,
          -23.10136163753198,
          null
         ],
         "y": [
          48.55655277069771,
          47.70299938010443,
          null
         ]
        },
        {
         "hoverinfo": "text",
         "line": {
          "color": "cornflowerblue",
          "width": 0.005405405405405406
         },
         "mode": "lines",
         "text": "0.0002702702702702703",
         "type": "scatter",
         "x": [
          -23.954915028125253,
          -23.10136163753198,
          null
         ],
         "y": [
          48.05655277069771,
          47.70299938010443,
          null
         ]
        },
        {
         "hoverinfo": "text",
         "line": {
          "color": "cornflowerblue",
          "width": 0.005405405405405406
         },
         "mode": "lines",
         "text": "0.0002702702702702703",
         "type": "scatter",
         "x": [
          -23.204915028125253,
          -23.924761338518206,
          null
         ],
         "y": [
          48.48956547258992,
          47.88554269903487,
          null
         ]
        },
        {
         "hoverinfo": "text",
         "line": {
          "color": "cornflowerblue",
          "width": 0.005405405405405406
         },
         "mode": "lines",
         "text": "0.0002702702702702703",
         "type": "scatter",
         "x": [
          -23.204915028125253,
          -23.54173911695872,
          null
         ],
         "y": [
          48.48956547258992,
          47.564148894191604,
          null
         ]
        },
        {
         "hoverinfo": "text",
         "line": {
          "color": "cornflowerblue",
          "width": 0.005405405405405406
         },
         "mode": "lines",
         "text": "0.0002702702702702703",
         "type": "scatter",
         "x": [
          -23.204915028125253,
          -22.9850687177323,
          null
         ],
         "y": [
          48.48956547258992,
          47.88554269903487,
          null
         ]
        },
        {
         "hoverinfo": "text",
         "line": {
          "color": "cornflowerblue",
          "width": 0.005405405405405406
         },
         "mode": "lines",
         "text": "0.0002702702702702703",
         "type": "scatter",
         "x": [
          -23.924761338518206,
          -23.837937249684742,
          null
         ],
         "y": [
          47.88554269903487,
          47.73515896585444,
          null
         ]
        },
        {
         "hoverinfo": "text",
         "line": {
          "color": "cornflowerblue",
          "width": 0.005405405405405406
         },
         "mode": "lines",
         "text": "0.0002702702702702703",
         "type": "scatter",
         "x": [
          -23.924761338518206,
          -23.704915028125253,
          null
         ],
         "y": [
          47.88554269903487,
          47.62354006880549,
          null
         ]
        },
        {
         "hoverinfo": "text",
         "line": {
          "color": "cornflowerblue",
          "width": 0.02702702702702703
         },
         "mode": "lines",
         "text": "0.0013513513513513514",
         "type": "scatter",
         "x": [
          -23.924761338518206,
          -23.54173911695872,
          null
         ],
         "y": [
          47.88554269903487,
          47.564148894191604,
          null
         ]
        },
        {
         "hoverinfo": "text",
         "line": {
          "color": "cornflowerblue",
          "width": 0.010810810810810811
         },
         "mode": "lines",
         "text": "0.0005405405405405405",
         "type": "scatter",
         "x": [
          -23.924761338518206,
          -23.071892806565764,
          null
         ],
         "y": [
          47.88554269903487,
          47.73515896585444,
          null
         ]
        },
        {
         "hoverinfo": "text",
         "line": {
          "color": "cornflowerblue",
          "width": 0.010810810810810811
         },
         "mode": "lines",
         "text": "0.0005405405405405405",
         "type": "scatter",
         "x": [
          -23.924761338518206,
          -22.9850687177323,
          null
         ],
         "y": [
          47.88554269903487,
          47.88554269903487,
          null
         ]
        },
        {
         "hoverinfo": "text",
         "line": {
          "color": "cornflowerblue",
          "width": 0.005405405405405406
         },
         "mode": "lines",
         "text": "0.0002702702702702703",
         "type": "scatter",
         "x": [
          -23.54173911695872,
          -23.704915028125253,
          null
         ],
         "y": [
          47.564148894191604,
          47.62354006880549,
          null
         ]
        },
        {
         "hoverinfo": "text",
         "line": {
          "color": "cornflowerblue",
          "width": 0.010810810810810811
         },
         "mode": "lines",
         "text": "0.0005405405405405405",
         "type": "scatter",
         "x": [
          -23.54173911695872,
          -23.071892806565764,
          null
         ],
         "y": [
          47.564148894191604,
          47.73515896585444,
          null
         ]
        },
        {
         "hoverinfo": "text",
         "line": {
          "color": "cornflowerblue",
          "width": 0.021621621621621623
         },
         "mode": "lines",
         "text": "0.001081081081081081",
         "type": "scatter",
         "x": [
          -23.54173911695872,
          -22.9850687177323,
          null
         ],
         "y": [
          47.564148894191604,
          47.88554269903487,
          null
         ]
        },
        {
         "hoverinfo": "text",
         "line": {
          "color": "cornflowerblue",
          "width": 0.11891891891891893
         },
         "mode": "lines",
         "text": "0.005945945945945946",
         "type": "scatter",
         "x": [
          -23.859423525312728,
          -23.300406530937778,
          null
         ],
         "y": [
          48.350445396843945,
          47.58102451255013,
          null
         ]
        },
        {
         "hoverinfo": "text",
         "line": {
          "color": "cornflowerblue",
          "width": 0.02702702702702703
         },
         "mode": "lines",
         "text": "0.0013513513513513514",
         "type": "scatter",
         "x": [
          -23.808468418718526,
          -23.808468418718526,
          null
         ],
         "y": [
          47.70299938010443,
          48.41010616129098,
          null
         ]
        },
        {
         "hoverinfo": "text",
         "line": {
          "color": "cornflowerblue",
          "width": 0.010810810810810811
         },
         "mode": "lines",
         "text": "0.0005405405405405405",
         "type": "scatter",
         "x": [
          -23.808468418718526,
          -23.954915028125253,
          null
         ],
         "y": [
          47.70299938010443,
          48.05655277069771,
          null
         ]
        },
        {
         "hoverinfo": "text",
         "line": {
          "color": "cornflowerblue",
          "width": 0.010810810810810811
         },
         "mode": "lines",
         "text": "0.0005405405405405405",
         "type": "scatter",
         "x": [
          -23.808468418718526,
          -22.954915028125253,
          null
         ],
         "y": [
          47.70299938010443,
          48.05655277069771,
          null
         ]
        },
        {
         "hoverinfo": "text",
         "line": {
          "color": "cornflowerblue",
          "width": 0.005405405405405406
         },
         "mode": "lines",
         "text": "0.0002702702702702703",
         "type": "scatter",
         "x": [
          -23.808468418718526,
          -23.263573311942707,
          null
         ],
         "y": [
          47.70299938010443,
          48.51849253695335,
          null
         ]
        },
        {
         "hoverinfo": "text",
         "line": {
          "color": "cornflowerblue",
          "width": 0.005405405405405406
         },
         "mode": "lines",
         "text": "0.0002702702702702703",
         "type": "scatter",
         "x": [
          -23.808468418718526,
          -23.704915028125253,
          null
         ],
         "y": [
          47.70299938010443,
          47.62354006880549,
          null
         ]
        },
        {
         "hoverinfo": "text",
         "line": {
          "color": "cornflowerblue",
          "width": 0.005405405405405406
         },
         "mode": "lines",
         "text": "0.0002702702702702703",
         "type": "scatter",
         "x": [
          -23.808468418718526,
          -22.99297526186961,
          null
         ],
         "y": [
          47.70299938010443,
          47.865211054515164,
          null
         ]
        },
        {
         "hoverinfo": "text",
         "line": {
          "color": "cornflowerblue",
          "width": 0.016216216216216217
         },
         "mode": "lines",
         "text": "0.0008108108108108108",
         "type": "scatter",
         "x": [
          -23.6462567443078,
          -22.99297526186961,
          null
         ],
         "y": [
          47.59461300444206,
          47.865211054515164,
          null
         ]
        },
        {
         "hoverinfo": "text",
         "line": {
          "color": "cornflowerblue",
          "width": 0.005405405405405406
         },
         "mode": "lines",
         "text": "0.0002702702702702703",
         "type": "scatter",
         "x": [
          -23.6462567443078,
          -23.916854794380896,
          null
         ],
         "y": [
          47.59461300444206,
          48.24789448688025,
          null
         ]
        },
        {
         "hoverinfo": "text",
         "line": {
          "color": "cornflowerblue",
          "width": 0.005405405405405406
         },
         "mode": "lines",
         "text": "0.0002702702702702703",
         "type": "scatter",
         "x": [
          -22.954915028125253,
          -23.808468418718526,
          null
         ],
         "y": [
          48.05655277069771,
          48.41010616129098,
          null
         ]
        },
        {
         "hoverinfo": "text",
         "line": {
          "color": "cornflowerblue",
          "width": 0.05945945945945946
         },
         "mode": "lines",
         "text": "0.002972972972972973",
         "type": "scatter",
         "x": [
          -22.954915028125253,
          -23.954915028125253,
          null
         ],
         "y": [
          48.05655277069771,
          48.05655277069771,
          null
         ]
        },
        {
         "hoverinfo": "text",
         "line": {
          "color": "cornflowerblue",
          "width": 0.005405405405405406
         },
         "mode": "lines",
         "text": "0.0002702702702702703",
         "type": "scatter",
         "x": [
          -23.454915028125253,
          -23.916854794380896,
          null
         ],
         "y": [
          47.55655277069771,
          48.24789448688025,
          null
         ]
        },
        {
         "hoverinfo": "text",
         "line": {
          "color": "cornflowerblue",
          "width": 0.010810810810810811
         },
         "mode": "lines",
         "text": "0.0005405405405405405",
         "type": "scatter",
         "x": [
          -23.454915028125253,
          -22.99297526186961,
          null
         ],
         "y": [
          47.55655277069771,
          47.865211054515164,
          null
         ]
        },
        {
         "hoverinfo": "text",
         "line": {
          "color": "cornflowerblue",
          "width": 0.005405405405405406
         },
         "mode": "lines",
         "text": "0.0002702702702702703",
         "type": "scatter",
         "x": [
          -23.6462567443078,
          -23.10136163753198,
          null
         ],
         "y": [
          48.51849253695335,
          48.41010616129098,
          null
         ]
        },
        {
         "hoverinfo": "text",
         "line": {
          "color": "cornflowerblue",
          "width": 0.005405405405405406
         },
         "mode": "lines",
         "text": "0.0002702702702702703",
         "type": "scatter",
         "x": [
          -23.6462567443078,
          -23.263573311942707,
          null
         ],
         "y": [
          48.51849253695335,
          47.59461300444206,
          null
         ]
        },
        {
         "hoverinfo": "text",
         "line": {
          "color": "cornflowerblue",
          "width": 0.005405405405405406
         },
         "mode": "lines",
         "text": "0.0002702702702702703",
         "type": "scatter",
         "x": [
          -22.99297526186961,
          -23.454915028125253,
          null
         ],
         "y": [
          47.865211054515164,
          48.55655277069771,
          null
         ]
        },
        {
         "hoverinfo": "text",
         "line": {
          "color": "cornflowerblue",
          "width": 0.005405405405405406
         },
         "mode": "lines",
         "text": "0.0002702702702702703",
         "type": "scatter",
         "x": [
          -22.99297526186961,
          -23.454915028125253,
          null
         ],
         "y": [
          47.865211054515164,
          48.55655277069771,
          null
         ]
        },
        {
         "hoverinfo": "text",
         "line": {
          "color": "cornflowerblue",
          "width": 0.010810810810810811
         },
         "mode": "lines",
         "text": "0.0005405405405405405",
         "type": "scatter",
         "x": [
          -22.99297526186961,
          -23.808468418718526,
          null
         ],
         "y": [
          47.865211054515164,
          47.70299938010443,
          null
         ]
        },
        {
         "hoverinfo": "text",
         "line": {
          "color": "cornflowerblue",
          "width": 0.010810810810810811
         },
         "mode": "lines",
         "text": "0.0005405405405405405",
         "type": "scatter",
         "x": [
          -22.99297526186961,
          -23.454915028125253,
          null
         ],
         "y": [
          47.865211054515164,
          47.55655277069771,
          null
         ]
        },
        {
         "hoverinfo": "text",
         "line": {
          "color": "cornflowerblue",
          "width": 0.005405405405405406
         },
         "mode": "lines",
         "text": "0.0002702702702702703",
         "type": "scatter",
         "x": [
          -22.99297526186961,
          -23.10136163753198,
          null
         ],
         "y": [
          47.865211054515164,
          47.70299938010443,
          null
         ]
        },
        {
         "hoverinfo": "text",
         "line": {
          "color": "cornflowerblue",
          "width": 0.021621621621621623
         },
         "mode": "lines",
         "text": "0.001081081081081081",
         "type": "scatter",
         "x": [
          -22.99297526186961,
          -23.916854794380896,
          null
         ],
         "y": [
          47.865211054515164,
          48.24789448688025,
          null
         ]
        },
        {
         "hoverinfo": "text",
         "line": {
          "color": "cornflowerblue",
          "width": 0.005405405405405406
         },
         "mode": "lines",
         "text": "0.0002702702702702703",
         "type": "scatter",
         "x": [
          -22.99297526186961,
          -23.071892806565764,
          null
         ],
         "y": [
          47.865211054515164,
          47.73515896585444,
          null
         ]
        },
        {
         "hoverinfo": "text",
         "line": {
          "color": "cornflowerblue",
          "width": 0.016216216216216217
         },
         "mode": "lines",
         "text": "0.0008108108108108108",
         "type": "scatter",
         "x": [
          -23.808468418718526,
          -23.954915028125253,
          null
         ],
         "y": [
          48.41010616129098,
          48.05655277069771,
          null
         ]
        },
        {
         "hoverinfo": "text",
         "line": {
          "color": "cornflowerblue",
          "width": 0.016216216216216217
         },
         "mode": "lines",
         "text": "0.0008108108108108108",
         "type": "scatter",
         "x": [
          -23.263573311942707,
          -23.916854794380896,
          null
         ],
         "y": [
          48.51849253695335,
          48.24789448688025,
          null
         ]
        },
        {
         "hoverinfo": "text",
         "line": {
          "color": "cornflowerblue",
          "width": 0.005405405405405406
         },
         "mode": "lines",
         "text": "0.0002702702702702703",
         "type": "scatter",
         "x": [
          -23.071892806565764,
          -23.837937249684742,
          null
         ],
         "y": [
          47.73515896585444,
          47.73515896585444,
          null
         ]
        },
        {
         "hoverinfo": "text",
         "line": {
          "color": "cornflowerblue",
          "width": 0.005405405405405406
         },
         "mode": "lines",
         "text": "0.0002702702702702703",
         "type": "scatter",
         "x": [
          -23.916854794380896,
          -23.808468418718526,
          null
         ],
         "y": [
          48.24789448688025,
          47.70299938010443,
          null
         ]
        },
        {
         "hoverinfo": "text",
         "line": {
          "color": "cornflowerblue",
          "width": 0.005405405405405406
         },
         "mode": "lines",
         "text": "0.0002702702702702703",
         "type": "scatter",
         "x": [
          -23.10136163753198,
          -23.808468418718526,
          null
         ],
         "y": [
          48.41010616129098,
          47.70299938010443,
          null
         ]
        },
        {
         "hoverinfo": "text",
         "line": {
          "color": "cornflowerblue",
          "width": 0.010810810810810811
         },
         "mode": "lines",
         "text": "0.0005405405405405405",
         "type": "scatter",
         "x": [
          -23.54173911695872,
          -23.837937249684742,
          null
         ],
         "y": [
          48.54895664720381,
          47.73515896585444,
          null
         ]
        },
        {
         "hoverinfo": "text",
         "line": {
          "color": "cornflowerblue",
          "width": 0.005405405405405406
         },
         "mode": "lines",
         "text": "0.0002702702702702703",
         "type": "scatter",
         "x": [
          -23.808468418718526,
          -23.10136163753198,
          null
         ],
         "y": [
          48.41010616129098,
          47.70299938010443,
          null
         ]
        },
        {
         "hoverinfo": "text",
         "marker": {
          "color": [
           24,
           22,
           33,
           25,
           33,
           7,
           20,
           47,
           23,
           26,
           14,
           30,
           6,
           27,
           20,
           17,
           20,
           31,
           11,
           18,
           33,
           36,
           23,
           25,
           13,
           7,
           10,
           4,
           17,
           11,
           14,
           2,
           16,
           15,
           16,
           6,
           4,
           6,
           3,
           4,
           3,
           9,
           8,
           6,
           9,
           7,
           22,
           7,
           17,
           14,
           6,
           5,
           4,
           25,
           10,
           13,
           7,
           1,
           2,
           1,
           8,
           11,
           6,
           2,
           8,
           4,
           1,
           2,
           1,
           3,
           2,
           3,
           1,
           1,
           2,
           0,
           0,
           0,
           0,
           0,
           0
          ],
          "colorbar": {
           "thickness": 1,
           "title": {
            "side": "right",
            "text": "Anzahl an Verbindungen"
           },
           "xanchor": "left"
          },
          "colorscale": [
           [
            0,
            "rgb(247,252,245)"
           ],
           [
            0.125,
            "rgb(229,245,224)"
           ],
           [
            0.25,
            "rgb(199,233,192)"
           ],
           [
            0.375,
            "rgb(161,217,155)"
           ],
           [
            0.5,
            "rgb(116,196,118)"
           ],
           [
            0.625,
            "rgb(65,171,93)"
           ],
           [
            0.75,
            "rgb(35,139,69)"
           ],
           [
            0.875,
            "rgb(0,109,44)"
           ],
           [
            1,
            "rgb(0,68,27)"
           ]
          ],
          "line": {
           "width": 2
          },
          "reversescale": true,
          "showscale": true,
          "size": [
           19.332717921666887,
           1.6747988922590002,
           0.013187392852433073,
           0.17143610708162996,
           0.22418567849136228,
           1.3714888566530397,
           6.554134247659238,
           0.9890544639324806,
           0.07912435711459845,
           0.05274957140973229,
           18.646973493340365,
           54.87274165897402,
           2.611103784781749,
           21.28445206382698,
           62.771989977581434,
           0.17143610708162996,
           0.8044309639984174,
           1.252802320981142,
           3.2045364631412365,
           0.09231174996703152,
           0.7253066068838191,
           2.914413820387709,
           53.303441909534484,
           4.088091784254253,
           6.422260319134907,
           0.6989318211789529,
           1.411051035210339,
           9.587234603718844,
           2.0440458921271265,
           60.62244494263484,
           0.013187392852433073,
           0.039562178557299224,
           0.013187392852433073,
           0.10549914281946458,
           0.17143610708162996,
           18.726097850454966,
           8.004747461426875,
           1.8330476064881973,
           3.4287221416325995,
           0.13187392852433075,
           0.013187392852433073,
           0.527495714097323,
           0.11868653567189767,
           0.05274957140973229,
           3.916655677172623,
           0.05274957140973229,
           0.013187392852433073,
           0.07912435711459845,
           0.17143610708162996,
           0.013187392852433073,
           2.4132928919952525,
           0.05274957140973229,
           0.3428722141632599,
           0.013187392852433073,
           24.10655413424766,
           0.1582487142291969,
           14.690755637610446,
           0.5670578926546221,
           0.013187392852433073,
           0.3296848213108269,
           0.4088091784254253,
           3.2836608202558355,
           1.9385467493076618,
           0.1582487142291969,
           0.05274957140973229,
           5.077146248186733,
           0.07912435711459845,
           0.22418567849136228,
           0.039562178557299224,
           13.701701173677963,
           100.01318739285243,
           0.2637478570486615,
           0.026374785704866146,
           0.11868653567189767,
           0.22418567849136228,
           7.147566926018727,
           3.8243439272055917,
           0.013187392852433073,
           0.5406831069497561,
           2.5847289990768822,
           1.6484241065541343
          ]
         },
         "mode": "markers+text",
         "text": [
          "Agrarunternehmer",
          "Floristen (Blumenbinder und Blumeneinzelhändler)",
          "Forstunternehmer",
          "Gartenpflege bzw. eingeschränkte Gewerbeumfänge",
          "Gas- und Sanitärtechnik",
          "Großhandel mit Spielwaren",
          "Handel mit Heizölen und Flüssiggas",
          "Handel mit Holz",
          "Handel mit Holzfabrikaten und Holzhäusern",
          "Handel mit festen, mineralischen oder biogenen Brennstoffen",
          "Handel mit sonstigen Mineralölprodukten",
          "Heizungstechnik",
          "Hobelwerke",
          "Holzbau-Meister",
          "Holzbaugewerbetreibender, eingeschr. auf ausführende Tät.",
          "Holzgestalter",
          "Holzzerkleinerer",
          "Landschaftsgärtner (Garten- und Grünflächengestalter)",
          "Papiereinzelhandel im Rahmen einer Trafik",
          "Sanitärtechniker",
          "Sägewerksunternehmungen",
          "Tischler",
          "Wärmeversorgung unter 5 km und unter 5 MW",
          "Wärmeversorgungsunternehmen",
          "sonstige Sanitär-, Heizungs- und Lüftungstechniker",
          "Bootbauer",
          "Drechsler",
          "Büro- und Organisationsmittelindustrie",
          "Großhandel mit Papier-, Schreibwaren und Bürobedarf",
          "Papier-, Zellstoff-, Holzstoff- und Pappenindustrie",
          "Sonstige industrielle Papierverarbeitung",
          "Sonstige industrielle Verpackungsherstellung",
          "Handel mit Papier-, Schreibwaren und Bürobedarf",
          "Parkettbodenleger",
          "Einzelhandel mit Papier-, Schreibwaren und Bürobedarf",
          "Einzelhandel mit Romane, Zeitschriften und Magazine",
          "Großhandel mit Romanen, Zeitschriften und Magazinen",
          "Handel mit Post- und Ansichtskarten",
          "Herstellung von Spielkarten und anderer Spielwaren aller Art",
          "Energieholzindustrie",
          "Faltschachtelindustrie",
          "Kartonagenindustrie",
          "Papier- und Kartonveredelungsindustrie",
          "Wellpappeindustrie",
          "Friedhofsgärtner",
          "Kleinhandel mit Schnittblumen",
          "Lüftungstechnik",
          "Möbelindustrie",
          "Handel mit Strom",
          "Holzbaugewerbetreibender, eingeschränkt auf Teilbereiche",
          "Holzschindelerzeuger",
          "Holzverpackungs- und -packmittelindustrie",
          "Rahmen- und Leistenindustrie",
          "sonstige holzverarbeitende Industrie",
          "Gastechniker",
          "Gasversorgungsunternehmen",
          "Holzhaus- und Hallenbauindustrie",
          "Wurzelschnitzer",
          "Gaseinrichtungen in mobilen Fahrzeugen und Anlagen",
          "Herstellung von Dekorations- und Festartikeln",
          "Verpackungsindustrie",
          "industrielle Bautischlereien",
          "Hobelwarenindustrie",
          "Holzimprägnier- und -veredelungsindustrie",
          "Leimholzindustrie",
          "Parkettindustrie",
          "Industrie flexibler Verpackungen",
          "Korb- und Möbelflechter",
          "Herstellung von Etiketten aller Art",
          "Konfektionierung Papier,Karton,Pappe zu Produkten aller Art",
          "Holzwerkstoffindustrie",
          "Ski- und Sportarktikelindustrie",
          "Industrie hygienischer Papierwaren",
          "Industrielle Buchbindereien",
          "Packstoffveredelungs- und Zurichteindustrie",
          "Briefumschlag- und Papierausstattungsindustrie",
          "Bürsten- und Pinselmacher",
          "Klavierindustrie",
          "Kork- und Korkwarenindustrie",
          "Warmwasserbereitungsanlagen",
          "Zigarettenpapierkonfektion"
         ],
         "textposition": "bottom center",
         "type": "scatter",
         "x": [
          -23.454915028125253,
          -23.300406530937778,
          -23.954915028125253,
          -23.859423525312728,
          -23.10136163753198,
          -23.808468418718526,
          -23.954915028125253,
          -23.954915028125253,
          -22.954915028125253,
          -23.454915028125253,
          -23.454915028125253,
          -23.954915028125253,
          -23.924761338518206,
          -23.454915028125253,
          -23.954915028125253,
          -23.924761338518206,
          -23.454915028125253,
          -22.954915028125253,
          -22.954915028125253,
          -23.454915028125253,
          -22.954915028125253,
          -23.071892806565764,
          -22.954915028125253,
          -22.954915028125253,
          -23.10136163753198,
          -23.071892806565764,
          -23.704915028125253,
          -23.071892806565764,
          -23.808468418718526,
          -22.954915028125253,
          -23.36809093929179,
          -23.204915028125253,
          -23.454915028125253,
          -23.36809093929179,
          -23.10136163753198,
          -23.454915028125253,
          -23.954915028125253,
          -23.10136163753198,
          -23.704915028125253,
          -22.99297526186961,
          -23.204915028125253,
          -23.924761338518206,
          -23.54173911695872,
          -22.9850687177323,
          -23.859423525312728,
          -23.300406530937778,
          -23.808468418718526,
          -23.6462567443078,
          -22.954915028125253,
          -23.454915028125253,
          -22.954915028125253,
          -23.6462567443078,
          -23.263573311942707,
          -22.99297526186961,
          -23.808468418718526,
          -23.954915028125253,
          -23.263573311942707,
          -22.954915028125253,
          -23.454915028125253,
          -23.368090939291786,
          -23.071892806565764,
          -23.916854794380896,
          -23.10136163753198,
          -23.454915028125253,
          -23.808468418718526,
          -23.454915028125253,
          -23.837937249684742,
          -23.704915028125253,
          -23.54173911695872,
          -23.837937249684742,
          -23.808468418718526,
          -23.10136163753198,
          -23.924761338518206,
          -23.954915028125253,
          -23.704915028125253,
          -22.9850687177323,
          -23.368090939291786,
          -23.954915028125253,
          -23.916854794380896,
          -22.954915028125253,
          -22.954915028125253
         ],
         "y": [
          48.55655277069771,
          48.53208102884528,
          48.05655277069771,
          47.76266014455147,
          48.41010616129098,
          47.70299938010443,
          48.05655277069771,
          48.05655277069771,
          48.05655277069771,
          48.55655277069771,
          47.55655277069771,
          48.05655277069771,
          48.22756284236054,
          48.55655277069771,
          48.05655277069771,
          47.88554269903487,
          47.55655277069771,
          48.05655277069771,
          48.05655277069771,
          47.55655277069771,
          48.05655277069771,
          47.73515896585444,
          48.05655277069771,
          48.05655277069771,
          47.70299938010443,
          48.377946575540975,
          48.48956547258992,
          48.377946575540975,
          48.41010616129098,
          48.05655277069771,
          47.564148894191604,
          47.62354006880549,
          47.55655277069771,
          47.564148894191604,
          48.41010616129098,
          48.55655277069771,
          48.05655277069771,
          47.70299938010443,
          48.48956547258992,
          48.24789448688025,
          48.48956547258992,
          47.88554269903487,
          47.564148894191604,
          47.88554269903487,
          48.350445396843945,
          47.58102451255013,
          47.70299938010443,
          47.59461300444206,
          48.05655277069771,
          47.55655277069771,
          48.05655277069771,
          48.51849253695335,
          47.59461300444206,
          47.865211054515164,
          48.41010616129098,
          48.05655277069771,
          48.51849253695335,
          48.05655277069771,
          48.55655277069771,
          48.54895664720381,
          47.73515896585444,
          48.24789448688025,
          48.41010616129098,
          48.55655277069771,
          47.70299938010443,
          47.55655277069771,
          48.377946575540975,
          47.62354006880549,
          48.54895664720381,
          47.73515896585444,
          48.41010616129098,
          47.70299938010443,
          48.22756284236054,
          48.05655277069771,
          47.62354006880549,
          48.22756284236054,
          48.54895664720381,
          48.05655277069771,
          47.865211054515164,
          48.05655277069771,
          48.05655277069771
         ]
        }
       ],
       "layout": {
        "hovermode": "closest",
        "margin": {
         "b": 20,
         "l": 5,
         "r": 5,
         "t": 20
        },
        "showlegend": false,
        "template": {
         "data": {
          "bar": [
           {
            "error_x": {
             "color": "#2a3f5f"
            },
            "error_y": {
             "color": "#2a3f5f"
            },
            "marker": {
             "line": {
              "color": "#E5ECF6",
              "width": 0.5
             }
            },
            "type": "bar"
           }
          ],
          "barpolar": [
           {
            "marker": {
             "line": {
              "color": "#E5ECF6",
              "width": 0.5
             }
            },
            "type": "barpolar"
           }
          ],
          "carpet": [
           {
            "aaxis": {
             "endlinecolor": "#2a3f5f",
             "gridcolor": "white",
             "linecolor": "white",
             "minorgridcolor": "white",
             "startlinecolor": "#2a3f5f"
            },
            "baxis": {
             "endlinecolor": "#2a3f5f",
             "gridcolor": "white",
             "linecolor": "white",
             "minorgridcolor": "white",
             "startlinecolor": "#2a3f5f"
            },
            "type": "carpet"
           }
          ],
          "choropleth": [
           {
            "colorbar": {
             "outlinewidth": 0,
             "ticks": ""
            },
            "type": "choropleth"
           }
          ],
          "contour": [
           {
            "colorbar": {
             "outlinewidth": 0,
             "ticks": ""
            },
            "colorscale": [
             [
              0,
              "#0d0887"
             ],
             [
              0.1111111111111111,
              "#46039f"
             ],
             [
              0.2222222222222222,
              "#7201a8"
             ],
             [
              0.3333333333333333,
              "#9c179e"
             ],
             [
              0.4444444444444444,
              "#bd3786"
             ],
             [
              0.5555555555555556,
              "#d8576b"
             ],
             [
              0.6666666666666666,
              "#ed7953"
             ],
             [
              0.7777777777777778,
              "#fb9f3a"
             ],
             [
              0.8888888888888888,
              "#fdca26"
             ],
             [
              1,
              "#f0f921"
             ]
            ],
            "type": "contour"
           }
          ],
          "contourcarpet": [
           {
            "colorbar": {
             "outlinewidth": 0,
             "ticks": ""
            },
            "type": "contourcarpet"
           }
          ],
          "heatmap": [
           {
            "colorbar": {
             "outlinewidth": 0,
             "ticks": ""
            },
            "colorscale": [
             [
              0,
              "#0d0887"
             ],
             [
              0.1111111111111111,
              "#46039f"
             ],
             [
              0.2222222222222222,
              "#7201a8"
             ],
             [
              0.3333333333333333,
              "#9c179e"
             ],
             [
              0.4444444444444444,
              "#bd3786"
             ],
             [
              0.5555555555555556,
              "#d8576b"
             ],
             [
              0.6666666666666666,
              "#ed7953"
             ],
             [
              0.7777777777777778,
              "#fb9f3a"
             ],
             [
              0.8888888888888888,
              "#fdca26"
             ],
             [
              1,
              "#f0f921"
             ]
            ],
            "type": "heatmap"
           }
          ],
          "heatmapgl": [
           {
            "colorbar": {
             "outlinewidth": 0,
             "ticks": ""
            },
            "colorscale": [
             [
              0,
              "#0d0887"
             ],
             [
              0.1111111111111111,
              "#46039f"
             ],
             [
              0.2222222222222222,
              "#7201a8"
             ],
             [
              0.3333333333333333,
              "#9c179e"
             ],
             [
              0.4444444444444444,
              "#bd3786"
             ],
             [
              0.5555555555555556,
              "#d8576b"
             ],
             [
              0.6666666666666666,
              "#ed7953"
             ],
             [
              0.7777777777777778,
              "#fb9f3a"
             ],
             [
              0.8888888888888888,
              "#fdca26"
             ],
             [
              1,
              "#f0f921"
             ]
            ],
            "type": "heatmapgl"
           }
          ],
          "histogram": [
           {
            "marker": {
             "colorbar": {
              "outlinewidth": 0,
              "ticks": ""
             }
            },
            "type": "histogram"
           }
          ],
          "histogram2d": [
           {
            "colorbar": {
             "outlinewidth": 0,
             "ticks": ""
            },
            "colorscale": [
             [
              0,
              "#0d0887"
             ],
             [
              0.1111111111111111,
              "#46039f"
             ],
             [
              0.2222222222222222,
              "#7201a8"
             ],
             [
              0.3333333333333333,
              "#9c179e"
             ],
             [
              0.4444444444444444,
              "#bd3786"
             ],
             [
              0.5555555555555556,
              "#d8576b"
             ],
             [
              0.6666666666666666,
              "#ed7953"
             ],
             [
              0.7777777777777778,
              "#fb9f3a"
             ],
             [
              0.8888888888888888,
              "#fdca26"
             ],
             [
              1,
              "#f0f921"
             ]
            ],
            "type": "histogram2d"
           }
          ],
          "histogram2dcontour": [
           {
            "colorbar": {
             "outlinewidth": 0,
             "ticks": ""
            },
            "colorscale": [
             [
              0,
              "#0d0887"
             ],
             [
              0.1111111111111111,
              "#46039f"
             ],
             [
              0.2222222222222222,
              "#7201a8"
             ],
             [
              0.3333333333333333,
              "#9c179e"
             ],
             [
              0.4444444444444444,
              "#bd3786"
             ],
             [
              0.5555555555555556,
              "#d8576b"
             ],
             [
              0.6666666666666666,
              "#ed7953"
             ],
             [
              0.7777777777777778,
              "#fb9f3a"
             ],
             [
              0.8888888888888888,
              "#fdca26"
             ],
             [
              1,
              "#f0f921"
             ]
            ],
            "type": "histogram2dcontour"
           }
          ],
          "mesh3d": [
           {
            "colorbar": {
             "outlinewidth": 0,
             "ticks": ""
            },
            "type": "mesh3d"
           }
          ],
          "parcoords": [
           {
            "line": {
             "colorbar": {
              "outlinewidth": 0,
              "ticks": ""
             }
            },
            "type": "parcoords"
           }
          ],
          "pie": [
           {
            "automargin": true,
            "type": "pie"
           }
          ],
          "scatter": [
           {
            "marker": {
             "colorbar": {
              "outlinewidth": 0,
              "ticks": ""
             }
            },
            "type": "scatter"
           }
          ],
          "scatter3d": [
           {
            "line": {
             "colorbar": {
              "outlinewidth": 0,
              "ticks": ""
             }
            },
            "marker": {
             "colorbar": {
              "outlinewidth": 0,
              "ticks": ""
             }
            },
            "type": "scatter3d"
           }
          ],
          "scattercarpet": [
           {
            "marker": {
             "colorbar": {
              "outlinewidth": 0,
              "ticks": ""
             }
            },
            "type": "scattercarpet"
           }
          ],
          "scattergeo": [
           {
            "marker": {
             "colorbar": {
              "outlinewidth": 0,
              "ticks": ""
             }
            },
            "type": "scattergeo"
           }
          ],
          "scattergl": [
           {
            "marker": {
             "colorbar": {
              "outlinewidth": 0,
              "ticks": ""
             }
            },
            "type": "scattergl"
           }
          ],
          "scattermapbox": [
           {
            "marker": {
             "colorbar": {
              "outlinewidth": 0,
              "ticks": ""
             }
            },
            "type": "scattermapbox"
           }
          ],
          "scatterpolar": [
           {
            "marker": {
             "colorbar": {
              "outlinewidth": 0,
              "ticks": ""
             }
            },
            "type": "scatterpolar"
           }
          ],
          "scatterpolargl": [
           {
            "marker": {
             "colorbar": {
              "outlinewidth": 0,
              "ticks": ""
             }
            },
            "type": "scatterpolargl"
           }
          ],
          "scatterternary": [
           {
            "marker": {
             "colorbar": {
              "outlinewidth": 0,
              "ticks": ""
             }
            },
            "type": "scatterternary"
           }
          ],
          "surface": [
           {
            "colorbar": {
             "outlinewidth": 0,
             "ticks": ""
            },
            "colorscale": [
             [
              0,
              "#0d0887"
             ],
             [
              0.1111111111111111,
              "#46039f"
             ],
             [
              0.2222222222222222,
              "#7201a8"
             ],
             [
              0.3333333333333333,
              "#9c179e"
             ],
             [
              0.4444444444444444,
              "#bd3786"
             ],
             [
              0.5555555555555556,
              "#d8576b"
             ],
             [
              0.6666666666666666,
              "#ed7953"
             ],
             [
              0.7777777777777778,
              "#fb9f3a"
             ],
             [
              0.8888888888888888,
              "#fdca26"
             ],
             [
              1,
              "#f0f921"
             ]
            ],
            "type": "surface"
           }
          ],
          "table": [
           {
            "cells": {
             "fill": {
              "color": "#EBF0F8"
             },
             "line": {
              "color": "white"
             }
            },
            "header": {
             "fill": {
              "color": "#C8D4E3"
             },
             "line": {
              "color": "white"
             }
            },
            "type": "table"
           }
          ]
         },
         "layout": {
          "annotationdefaults": {
           "arrowcolor": "#2a3f5f",
           "arrowhead": 0,
           "arrowwidth": 1
          },
          "coloraxis": {
           "colorbar": {
            "outlinewidth": 0,
            "ticks": ""
           }
          },
          "colorscale": {
           "diverging": [
            [
             0,
             "#8e0152"
            ],
            [
             0.1,
             "#c51b7d"
            ],
            [
             0.2,
             "#de77ae"
            ],
            [
             0.3,
             "#f1b6da"
            ],
            [
             0.4,
             "#fde0ef"
            ],
            [
             0.5,
             "#f7f7f7"
            ],
            [
             0.6,
             "#e6f5d0"
            ],
            [
             0.7,
             "#b8e186"
            ],
            [
             0.8,
             "#7fbc41"
            ],
            [
             0.9,
             "#4d9221"
            ],
            [
             1,
             "#276419"
            ]
           ],
           "sequential": [
            [
             0,
             "#0d0887"
            ],
            [
             0.1111111111111111,
             "#46039f"
            ],
            [
             0.2222222222222222,
             "#7201a8"
            ],
            [
             0.3333333333333333,
             "#9c179e"
            ],
            [
             0.4444444444444444,
             "#bd3786"
            ],
            [
             0.5555555555555556,
             "#d8576b"
            ],
            [
             0.6666666666666666,
             "#ed7953"
            ],
            [
             0.7777777777777778,
             "#fb9f3a"
            ],
            [
             0.8888888888888888,
             "#fdca26"
            ],
            [
             1,
             "#f0f921"
            ]
           ],
           "sequentialminus": [
            [
             0,
             "#0d0887"
            ],
            [
             0.1111111111111111,
             "#46039f"
            ],
            [
             0.2222222222222222,
             "#7201a8"
            ],
            [
             0.3333333333333333,
             "#9c179e"
            ],
            [
             0.4444444444444444,
             "#bd3786"
            ],
            [
             0.5555555555555556,
             "#d8576b"
            ],
            [
             0.6666666666666666,
             "#ed7953"
            ],
            [
             0.7777777777777778,
             "#fb9f3a"
            ],
            [
             0.8888888888888888,
             "#fdca26"
            ],
            [
             1,
             "#f0f921"
            ]
           ]
          },
          "colorway": [
           "#636efa",
           "#EF553B",
           "#00cc96",
           "#ab63fa",
           "#FFA15A",
           "#19d3f3",
           "#FF6692",
           "#B6E880",
           "#FF97FF",
           "#FECB52"
          ],
          "font": {
           "color": "#2a3f5f"
          },
          "geo": {
           "bgcolor": "white",
           "lakecolor": "white",
           "landcolor": "#E5ECF6",
           "showlakes": true,
           "showland": true,
           "subunitcolor": "white"
          },
          "hoverlabel": {
           "align": "left"
          },
          "hovermode": "closest",
          "mapbox": {
           "style": "light"
          },
          "paper_bgcolor": "white",
          "plot_bgcolor": "#E5ECF6",
          "polar": {
           "angularaxis": {
            "gridcolor": "white",
            "linecolor": "white",
            "ticks": ""
           },
           "bgcolor": "#E5ECF6",
           "radialaxis": {
            "gridcolor": "white",
            "linecolor": "white",
            "ticks": ""
           }
          },
          "scene": {
           "xaxis": {
            "backgroundcolor": "#E5ECF6",
            "gridcolor": "white",
            "gridwidth": 2,
            "linecolor": "white",
            "showbackground": true,
            "ticks": "",
            "zerolinecolor": "white"
           },
           "yaxis": {
            "backgroundcolor": "#E5ECF6",
            "gridcolor": "white",
            "gridwidth": 2,
            "linecolor": "white",
            "showbackground": true,
            "ticks": "",
            "zerolinecolor": "white"
           },
           "zaxis": {
            "backgroundcolor": "#E5ECF6",
            "gridcolor": "white",
            "gridwidth": 2,
            "linecolor": "white",
            "showbackground": true,
            "ticks": "",
            "zerolinecolor": "white"
           }
          },
          "shapedefaults": {
           "line": {
            "color": "#2a3f5f"
           }
          },
          "ternary": {
           "aaxis": {
            "gridcolor": "white",
            "linecolor": "white",
            "ticks": ""
           },
           "baxis": {
            "gridcolor": "white",
            "linecolor": "white",
            "ticks": ""
           },
           "bgcolor": "#E5ECF6",
           "caxis": {
            "gridcolor": "white",
            "linecolor": "white",
            "ticks": ""
           }
          },
          "title": {
           "x": 0.05
          },
          "xaxis": {
           "automargin": true,
           "gridcolor": "white",
           "linecolor": "white",
           "ticks": "",
           "title": {
            "standoff": 15
           },
           "zerolinecolor": "white",
           "zerolinewidth": 2
          },
          "yaxis": {
           "automargin": true,
           "gridcolor": "white",
           "linecolor": "white",
           "ticks": "",
           "title": {
            "standoff": 15
           },
           "zerolinecolor": "white",
           "zerolinewidth": 2
          }
         }
        },
        "title": {
         "font": {
          "size": 16
         },
         "text": "Cluster-Netzwerk Bioökonomie"
        },
        "xaxis": {
         "showgrid": false,
         "showticklabels": false,
         "zeroline": false
        },
        "yaxis": {
         "showgrid": false,
         "showticklabels": false,
         "zeroline": false
        }
       }
      },
      "text/html": [
       "<div>\n",
       "        \n",
       "        \n",
       "            <div id=\"2673538c-b1e2-4354-848c-2008b4662505\" class=\"plotly-graph-div\" style=\"height:525px; width:100%;\"></div>\n",
       "            <script type=\"text/javascript\">\n",
       "                require([\"plotly\"], function(Plotly) {\n",
       "                    window.PLOTLYENV=window.PLOTLYENV || {};\n",
       "                    \n",
       "                if (document.getElementById(\"2673538c-b1e2-4354-848c-2008b4662505\")) {\n",
       "                    Plotly.newPlot(\n",
       "                        '2673538c-b1e2-4354-848c-2008b4662505',\n",
       "                        [{\"hoverinfo\": \"text\", \"line\": {\"color\": \"cornflowerblue\", \"width\": 0.021621621621621623}, \"mode\": \"lines\", \"text\": \"0.001081081081081081\", \"type\": \"scatter\", \"x\": [-23.454915028125253, -23.300406530937778, null], \"y\": [48.55655277069771, 48.53208102884528, null]}, {\"hoverinfo\": \"text\", \"line\": {\"color\": \"cornflowerblue\", \"width\": 1.2}, \"mode\": \"lines\", \"text\": \"0.06\", \"type\": \"scatter\", \"x\": [-23.454915028125253, -23.954915028125253, null], \"y\": [48.55655277069771, 48.05655277069771, null]}, {\"hoverinfo\": \"text\", \"line\": {\"color\": \"cornflowerblue\", \"width\": 0.2702702702702703}, \"mode\": \"lines\", \"text\": \"0.013513513513513514\", \"type\": \"scatter\", \"x\": [-23.454915028125253, -23.859423525312728, null], \"y\": [48.55655277069771, 47.76266014455147, null]}, {\"hoverinfo\": \"text\", \"line\": {\"color\": \"cornflowerblue\", \"width\": 0.043243243243243246}, \"mode\": \"lines\", \"text\": \"0.002162162162162162\", \"type\": \"scatter\", \"x\": [-23.454915028125253, -23.10136163753198, null], \"y\": [48.55655277069771, 48.41010616129098, null]}, {\"hoverinfo\": \"text\", \"line\": {\"color\": \"cornflowerblue\", \"width\": 0.005405405405405406}, \"mode\": \"lines\", \"text\": \"0.0002702702702702703\", \"type\": \"scatter\", \"x\": [-23.454915028125253, -23.808468418718526, null], \"y\": [48.55655277069771, 47.70299938010443, null]}, {\"hoverinfo\": \"text\", \"line\": {\"color\": \"cornflowerblue\", \"width\": 0.005405405405405406}, \"mode\": \"lines\", \"text\": \"0.0002702702702702703\", \"type\": \"scatter\", \"x\": [-23.454915028125253, -23.954915028125253, null], \"y\": [48.55655277069771, 48.05655277069771, null]}, {\"hoverinfo\": \"text\", \"line\": {\"color\": \"cornflowerblue\", \"width\": 0.3027027027027027}, \"mode\": \"lines\", \"text\": \"0.015135135135135135\", \"type\": \"scatter\", \"x\": [-23.454915028125253, -23.954915028125253, null], \"y\": [48.55655277069771, 48.05655277069771, null]}, {\"hoverinfo\": \"text\", \"line\": {\"color\": \"cornflowerblue\", \"width\": 0.010810810810810811}, \"mode\": \"lines\", \"text\": \"0.0005405405405405405\", \"type\": \"scatter\", \"x\": [-23.454915028125253, -22.954915028125253, null], \"y\": [48.55655277069771, 48.05655277069771, null]}, {\"hoverinfo\": \"text\", \"line\": {\"color\": \"cornflowerblue\", \"width\": 0.19459459459459458}, \"mode\": \"lines\", \"text\": \"0.00972972972972973\", \"type\": \"scatter\", \"x\": [-23.454915028125253, -23.454915028125253, null], \"y\": [48.55655277069771, 48.55655277069771, null]}, {\"hoverinfo\": \"text\", \"line\": {\"color\": \"cornflowerblue\", \"width\": 0.005405405405405406}, \"mode\": \"lines\", \"text\": \"0.0002702702702702703\", \"type\": \"scatter\", \"x\": [-23.454915028125253, -23.454915028125253, null], \"y\": [48.55655277069771, 47.55655277069771, null]}, {\"hoverinfo\": \"text\", \"line\": {\"color\": \"cornflowerblue\", \"width\": 0.048648648648648644}, \"mode\": \"lines\", \"text\": \"0.0024324324324324323\", \"type\": \"scatter\", \"x\": [-23.454915028125253, -23.954915028125253, null], \"y\": [48.55655277069771, 48.05655277069771, null]}, {\"hoverinfo\": \"text\", \"line\": {\"color\": \"cornflowerblue\", \"width\": 0.005405405405405406}, \"mode\": \"lines\", \"text\": \"0.0002702702702702703\", \"type\": \"scatter\", \"x\": [-23.454915028125253, -23.924761338518206, null], \"y\": [48.55655277069771, 48.22756284236054, null]}, {\"hoverinfo\": \"text\", \"line\": {\"color\": \"cornflowerblue\", \"width\": 0.010810810810810811}, \"mode\": \"lines\", \"text\": \"0.0005405405405405405\", \"type\": \"scatter\", \"x\": [-23.454915028125253, -23.454915028125253, null], \"y\": [48.55655277069771, 48.55655277069771, null]}, {\"hoverinfo\": \"text\", \"line\": {\"color\": \"cornflowerblue\", \"width\": 0.010810810810810811}, \"mode\": \"lines\", \"text\": \"0.0005405405405405405\", \"type\": \"scatter\", \"x\": [-23.454915028125253, -23.954915028125253, null], \"y\": [48.55655277069771, 48.05655277069771, null]}, {\"hoverinfo\": \"text\", \"line\": {\"color\": \"cornflowerblue\", \"width\": 0.010810810810810811}, \"mode\": \"lines\", \"text\": \"0.0005405405405405405\", \"type\": \"scatter\", \"x\": [-23.454915028125253, -23.924761338518206, null], \"y\": [48.55655277069771, 47.88554269903487, null]}, {\"hoverinfo\": \"text\", \"line\": {\"color\": \"cornflowerblue\", \"width\": 0.15135135135135136}, \"mode\": \"lines\", \"text\": \"0.0075675675675675675\", \"type\": \"scatter\", \"x\": [-23.454915028125253, -23.454915028125253, null], \"y\": [48.55655277069771, 47.55655277069771, null]}, {\"hoverinfo\": \"text\", \"line\": {\"color\": \"cornflowerblue\", \"width\": 0.08108108108108109}, \"mode\": \"lines\", \"text\": \"0.004054054054054054\", \"type\": \"scatter\", \"x\": [-23.454915028125253, -22.954915028125253, null], \"y\": [48.55655277069771, 48.05655277069771, null]}, {\"hoverinfo\": \"text\", \"line\": {\"color\": \"cornflowerblue\", \"width\": 0.005405405405405406}, \"mode\": \"lines\", \"text\": \"0.0002702702702702703\", \"type\": \"scatter\", \"x\": [-23.454915028125253, -22.954915028125253, null], \"y\": [48.55655277069771, 48.05655277069771, null]}, {\"hoverinfo\": \"text\", \"line\": {\"color\": \"cornflowerblue\", \"width\": 0.016216216216216217}, \"mode\": \"lines\", \"text\": \"0.0008108108108108108\", \"type\": \"scatter\", \"x\": [-23.454915028125253, -23.454915028125253, null], \"y\": [48.55655277069771, 47.55655277069771, null]}, {\"hoverinfo\": \"text\", \"line\": {\"color\": \"cornflowerblue\", \"width\": 0.05945945945945946}, \"mode\": \"lines\", \"text\": \"0.002972972972972973\", \"type\": \"scatter\", \"x\": [-23.454915028125253, -22.954915028125253, null], \"y\": [48.55655277069771, 48.05655277069771, null]}, {\"hoverinfo\": \"text\", \"line\": {\"color\": \"cornflowerblue\", \"width\": 0.14054054054054055}, \"mode\": \"lines\", \"text\": \"0.007027027027027027\", \"type\": \"scatter\", \"x\": [-23.454915028125253, -23.071892806565764, null], \"y\": [48.55655277069771, 47.73515896585444, null]}, {\"hoverinfo\": \"text\", \"line\": {\"color\": \"cornflowerblue\", \"width\": 0.032432432432432434}, \"mode\": \"lines\", \"text\": \"0.0016216216216216215\", \"type\": \"scatter\", \"x\": [-23.454915028125253, -22.954915028125253, null], \"y\": [48.55655277069771, 48.05655277069771, null]}, {\"hoverinfo\": \"text\", \"line\": {\"color\": \"cornflowerblue\", \"width\": 0.010810810810810811}, \"mode\": \"lines\", \"text\": \"0.0005405405405405405\", \"type\": \"scatter\", \"x\": [-23.454915028125253, -22.954915028125253, null], \"y\": [48.55655277069771, 48.05655277069771, null]}, {\"hoverinfo\": \"text\", \"line\": {\"color\": \"cornflowerblue\", \"width\": 0.016216216216216217}, \"mode\": \"lines\", \"text\": \"0.0008108108108108108\", \"type\": \"scatter\", \"x\": [-23.454915028125253, -23.10136163753198, null], \"y\": [48.55655277069771, 47.70299938010443, null]}, {\"hoverinfo\": \"text\", \"line\": {\"color\": \"cornflowerblue\", \"width\": 0.016216216216216217}, \"mode\": \"lines\", \"text\": \"0.0008108108108108108\", \"type\": \"scatter\", \"x\": [-23.300406530937778, -23.10136163753198, null], \"y\": [48.53208102884528, 48.41010616129098, null]}, {\"hoverinfo\": \"text\", \"line\": {\"color\": \"cornflowerblue\", \"width\": 0.02702702702702703}, \"mode\": \"lines\", \"text\": \"0.0013513513513513514\", \"type\": \"scatter\", \"x\": [-23.300406530937778, -23.954915028125253, null], \"y\": [48.53208102884528, 48.05655277069771, null]}, {\"hoverinfo\": \"text\", \"line\": {\"color\": \"cornflowerblue\", \"width\": 0.12432432432432432}, \"mode\": \"lines\", \"text\": \"0.006216216216216216\", \"type\": \"scatter\", \"x\": [-23.300406530937778, -23.859423525312728, null], \"y\": [48.53208102884528, 48.350445396843945, null]}, {\"hoverinfo\": \"text\", \"line\": {\"color\": \"cornflowerblue\", \"width\": 0.032432432432432434}, \"mode\": \"lines\", \"text\": \"0.0016216216216216215\", \"type\": \"scatter\", \"x\": [-23.300406530937778, -23.859423525312728, null], \"y\": [48.53208102884528, 47.76266014455147, null]}, {\"hoverinfo\": \"text\", \"line\": {\"color\": \"cornflowerblue\", \"width\": 0.021621621621621623}, \"mode\": \"lines\", \"text\": \"0.001081081081081081\", \"type\": \"scatter\", \"x\": [-23.300406530937778, -23.10136163753198, null], \"y\": [48.53208102884528, 48.41010616129098, null]}, {\"hoverinfo\": \"text\", \"line\": {\"color\": \"cornflowerblue\", \"width\": 0.016216216216216217}, \"mode\": \"lines\", \"text\": \"0.0008108108108108108\", \"type\": \"scatter\", \"x\": [-23.300406530937778, -23.954915028125253, null], \"y\": [48.53208102884528, 48.05655277069771, null]}, {\"hoverinfo\": \"text\", \"line\": {\"color\": \"cornflowerblue\", \"width\": 0.043243243243243246}, \"mode\": \"lines\", \"text\": \"0.002162162162162162\", \"type\": \"scatter\", \"x\": [-23.300406530937778, -23.954915028125253, null], \"y\": [48.53208102884528, 48.05655277069771, null]}, {\"hoverinfo\": \"text\", \"line\": {\"color\": \"cornflowerblue\", \"width\": 0.005405405405405406}, \"mode\": \"lines\", \"text\": \"0.0002702702702702703\", \"type\": \"scatter\", \"x\": [-23.300406530937778, -23.454915028125253, null], \"y\": [48.53208102884528, 47.55655277069771, null]}, {\"hoverinfo\": \"text\", \"line\": {\"color\": \"cornflowerblue\", \"width\": 0.02702702702702703}, \"mode\": \"lines\", \"text\": \"0.0013513513513513514\", \"type\": \"scatter\", \"x\": [-23.300406530937778, -23.454915028125253, null], \"y\": [48.53208102884528, 48.55655277069771, null]}, {\"hoverinfo\": \"text\", \"line\": {\"color\": \"cornflowerblue\", \"width\": 0.021621621621621623}, \"mode\": \"lines\", \"text\": \"0.001081081081081081\", \"type\": \"scatter\", \"x\": [-23.300406530937778, -23.454915028125253, null], \"y\": [48.53208102884528, 47.55655277069771, null]}, {\"hoverinfo\": \"text\", \"line\": {\"color\": \"cornflowerblue\", \"width\": 0.02702702702702703}, \"mode\": \"lines\", \"text\": \"0.0013513513513513514\", \"type\": \"scatter\", \"x\": [-23.300406530937778, -23.954915028125253, null], \"y\": [48.53208102884528, 48.05655277069771, null]}, {\"hoverinfo\": \"text\", \"line\": {\"color\": \"cornflowerblue\", \"width\": 0.005405405405405406}, \"mode\": \"lines\", \"text\": \"0.0002702702702702703\", \"type\": \"scatter\", \"x\": [-23.300406530937778, -23.454915028125253, null], \"y\": [48.53208102884528, 48.55655277069771, null]}, {\"hoverinfo\": \"text\", \"line\": {\"color\": \"cornflowerblue\", \"width\": 0.005405405405405406}, \"mode\": \"lines\", \"text\": \"0.0002702702702702703\", \"type\": \"scatter\", \"x\": [-23.300406530937778, -23.924761338518206, null], \"y\": [48.53208102884528, 47.88554269903487, null]}, {\"hoverinfo\": \"text\", \"line\": {\"color\": \"cornflowerblue\", \"width\": 0.005405405405405406}, \"mode\": \"lines\", \"text\": \"0.0002702702702702703\", \"type\": \"scatter\", \"x\": [-23.300406530937778, -23.454915028125253, null], \"y\": [48.53208102884528, 47.55655277069771, null]}, {\"hoverinfo\": \"text\", \"line\": {\"color\": \"cornflowerblue\", \"width\": 0.11351351351351352}, \"mode\": \"lines\", \"text\": \"0.005675675675675676\", \"type\": \"scatter\", \"x\": [-23.300406530937778, -23.300406530937778, null], \"y\": [48.53208102884528, 47.58102451255013, null]}, {\"hoverinfo\": \"text\", \"line\": {\"color\": \"cornflowerblue\", \"width\": 0.3621621621621621}, \"mode\": \"lines\", \"text\": \"0.018108108108108107\", \"type\": \"scatter\", \"x\": [-23.300406530937778, -22.954915028125253, null], \"y\": [48.53208102884528, 48.05655277069771, null]}, {\"hoverinfo\": \"text\", \"line\": {\"color\": \"cornflowerblue\", \"width\": 0.005405405405405406}, \"mode\": \"lines\", \"text\": \"0.0002702702702702703\", \"type\": \"scatter\", \"x\": [-23.300406530937778, -23.808468418718526, null], \"y\": [48.53208102884528, 47.70299938010443, null]}, {\"hoverinfo\": \"text\", \"line\": {\"color\": \"cornflowerblue\", \"width\": 0.005405405405405406}, \"mode\": \"lines\", \"text\": \"0.0002702702702702703\", \"type\": \"scatter\", \"x\": [-23.300406530937778, -23.6462567443078, null], \"y\": [48.53208102884528, 47.59461300444206, null]}, {\"hoverinfo\": \"text\", \"line\": {\"color\": \"cornflowerblue\", \"width\": 0.005405405405405406}, \"mode\": \"lines\", \"text\": \"0.0002702702702702703\", \"type\": \"scatter\", \"x\": [-23.300406530937778, -22.954915028125253, null], \"y\": [48.53208102884528, 48.05655277069771, null]}, {\"hoverinfo\": \"text\", \"line\": {\"color\": \"cornflowerblue\", \"width\": 0.016216216216216217}, \"mode\": \"lines\", \"text\": \"0.0008108108108108108\", \"type\": \"scatter\", \"x\": [-23.300406530937778, -22.954915028125253, null], \"y\": [48.53208102884528, 48.05655277069771, null]}, {\"hoverinfo\": \"text\", \"line\": {\"color\": \"cornflowerblue\", \"width\": 0.05405405405405406}, \"mode\": \"lines\", \"text\": \"0.002702702702702703\", \"type\": \"scatter\", \"x\": [-23.300406530937778, -23.071892806565764, null], \"y\": [48.53208102884528, 47.73515896585444, null]}, {\"hoverinfo\": \"text\", \"line\": {\"color\": \"cornflowerblue\", \"width\": 0.005405405405405406}, \"mode\": \"lines\", \"text\": \"0.0002702702702702703\", \"type\": \"scatter\", \"x\": [-23.954915028125253, -23.071892806565764, null], \"y\": [48.05655277069771, 48.377946575540975, null]}, {\"hoverinfo\": \"text\", \"line\": {\"color\": \"cornflowerblue\", \"width\": 0.005405405405405406}, \"mode\": \"lines\", \"text\": \"0.0002702702702702703\", \"type\": \"scatter\", \"x\": [-23.954915028125253, -23.704915028125253, null], \"y\": [48.05655277069771, 48.48956547258992, null]}, {\"hoverinfo\": \"text\", \"line\": {\"color\": \"cornflowerblue\", \"width\": 0.02702702702702703}, \"mode\": \"lines\", \"text\": \"0.0013513513513513514\", \"type\": \"scatter\", \"x\": [-23.954915028125253, -23.859423525312728, null], \"y\": [48.05655277069771, 48.350445396843945, null]}, {\"hoverinfo\": \"text\", \"line\": {\"color\": \"cornflowerblue\", \"width\": 1.4000000000000001}, \"mode\": \"lines\", \"text\": \"0.07\", \"type\": \"scatter\", \"x\": [-23.954915028125253, -23.859423525312728, null], \"y\": [48.05655277069771, 47.76266014455147, null]}, {\"hoverinfo\": \"text\", \"line\": {\"color\": \"cornflowerblue\", \"width\": 0.11891891891891893}, \"mode\": \"lines\", \"text\": \"0.005945945945945946\", \"type\": \"scatter\", \"x\": [-23.954915028125253, -23.10136163753198, null], \"y\": [48.05655277069771, 48.41010616129098, null]}, {\"hoverinfo\": \"text\", \"line\": {\"color\": \"cornflowerblue\", \"width\": 0.005405405405405406}, \"mode\": \"lines\", \"text\": \"0.0002702702702702703\", \"type\": \"scatter\", \"x\": [-23.954915028125253, -23.954915028125253, null], \"y\": [48.05655277069771, 48.05655277069771, null]}, {\"hoverinfo\": \"text\", \"line\": {\"color\": \"cornflowerblue\", \"width\": 2.7135135135135133}, \"mode\": \"lines\", \"text\": \"0.13567567567567568\", \"type\": \"scatter\", \"x\": [-23.954915028125253, -23.954915028125253, null], \"y\": [48.05655277069771, 48.05655277069771, null]}, {\"hoverinfo\": \"text\", \"line\": {\"color\": \"cornflowerblue\", \"width\": 0.02702702702702703}, \"mode\": \"lines\", \"text\": \"0.0013513513513513514\", \"type\": \"scatter\", \"x\": [-23.954915028125253, -22.954915028125253, null], \"y\": [48.05655277069771, 48.05655277069771, null]}, {\"hoverinfo\": \"text\", \"line\": {\"color\": \"cornflowerblue\", \"width\": 0.005405405405405406}, \"mode\": \"lines\", \"text\": \"0.0002702702702702703\", \"type\": \"scatter\", \"x\": [-23.954915028125253, -22.954915028125253, null], \"y\": [48.05655277069771, 48.05655277069771, null]}, {\"hoverinfo\": \"text\", \"line\": {\"color\": \"cornflowerblue\", \"width\": 0.5459459459459459}, \"mode\": \"lines\", \"text\": \"0.027297297297297296\", \"type\": \"scatter\", \"x\": [-23.954915028125253, -23.454915028125253, null], \"y\": [48.05655277069771, 48.55655277069771, null]}, {\"hoverinfo\": \"text\", \"line\": {\"color\": \"cornflowerblue\", \"width\": 0.010810810810810811}, \"mode\": \"lines\", \"text\": \"0.0005405405405405405\", \"type\": \"scatter\", \"x\": [-23.954915028125253, -23.454915028125253, null], \"y\": [48.05655277069771, 47.55655277069771, null]}, {\"hoverinfo\": \"text\", \"line\": {\"color\": \"cornflowerblue\", \"width\": 0.1027027027027027}, \"mode\": \"lines\", \"text\": \"0.005135135135135135\", \"type\": \"scatter\", \"x\": [-23.954915028125253, -23.954915028125253, null], \"y\": [48.05655277069771, 48.05655277069771, null]}, {\"hoverinfo\": \"text\", \"line\": {\"color\": \"cornflowerblue\", \"width\": 0.09729729729729729}, \"mode\": \"lines\", \"text\": \"0.004864864864864865\", \"type\": \"scatter\", \"x\": [-23.954915028125253, -23.454915028125253, null], \"y\": [48.05655277069771, 48.55655277069771, null]}, {\"hoverinfo\": \"text\", \"line\": {\"color\": \"cornflowerblue\", \"width\": 0.08648648648648649}, \"mode\": \"lines\", \"text\": \"0.004324324324324324\", \"type\": \"scatter\", \"x\": [-23.954915028125253, -23.954915028125253, null], \"y\": [48.05655277069771, 48.05655277069771, null]}, {\"hoverinfo\": \"text\", \"line\": {\"color\": \"cornflowerblue\", \"width\": 0.02702702702702703}, \"mode\": \"lines\", \"text\": \"0.0013513513513513514\", \"type\": \"scatter\", \"x\": [-23.954915028125253, -23.454915028125253, null], \"y\": [48.05655277069771, 47.55655277069771, null]}, {\"hoverinfo\": \"text\", \"line\": {\"color\": \"cornflowerblue\", \"width\": 0.03783783783783784}, \"mode\": \"lines\", \"text\": \"0.0018918918918918919\", \"type\": \"scatter\", \"x\": [-23.954915028125253, -23.924761338518206, null], \"y\": [48.05655277069771, 47.88554269903487, null]}, {\"hoverinfo\": \"text\", \"line\": {\"color\": \"cornflowerblue\", \"width\": 0.032432432432432434}, \"mode\": \"lines\", \"text\": \"0.0016216216216216215\", \"type\": \"scatter\", \"x\": [-23.954915028125253, -22.954915028125253, null], \"y\": [48.05655277069771, 48.05655277069771, null]}, {\"hoverinfo\": \"text\", \"line\": {\"color\": \"cornflowerblue\", \"width\": 0.005405405405405406}, \"mode\": \"lines\", \"text\": \"0.0002702702702702703\", \"type\": \"scatter\", \"x\": [-23.954915028125253, -23.6462567443078, null], \"y\": [48.05655277069771, 48.51849253695335, null]}, {\"hoverinfo\": \"text\", \"line\": {\"color\": \"cornflowerblue\", \"width\": 0.5405405405405406}, \"mode\": \"lines\", \"text\": \"0.02702702702702703\", \"type\": \"scatter\", \"x\": [-23.954915028125253, -23.454915028125253, null], \"y\": [48.05655277069771, 47.55655277069771, null]}, {\"hoverinfo\": \"text\", \"line\": {\"color\": \"cornflowerblue\", \"width\": 0.4864864864864865}, \"mode\": \"lines\", \"text\": \"0.024324324324324326\", \"type\": \"scatter\", \"x\": [-23.954915028125253, -22.954915028125253, null], \"y\": [48.05655277069771, 48.05655277069771, null]}, {\"hoverinfo\": \"text\", \"line\": {\"color\": \"cornflowerblue\", \"width\": 0.010810810810810811}, \"mode\": \"lines\", \"text\": \"0.0005405405405405405\", \"type\": \"scatter\", \"x\": [-23.954915028125253, -23.808468418718526, null], \"y\": [48.05655277069771, 47.70299938010443, null]}, {\"hoverinfo\": \"text\", \"line\": {\"color\": \"cornflowerblue\", \"width\": 0.005405405405405406}, \"mode\": \"lines\", \"text\": \"0.0002702702702702703\", \"type\": \"scatter\", \"x\": [-23.954915028125253, -22.954915028125253, null], \"y\": [48.05655277069771, 48.05655277069771, null]}, {\"hoverinfo\": \"text\", \"line\": {\"color\": \"cornflowerblue\", \"width\": 0.005405405405405406}, \"mode\": \"lines\", \"text\": \"0.0002702702702702703\", \"type\": \"scatter\", \"x\": [-23.954915028125253, -23.36809093929179, null], \"y\": [48.05655277069771, 47.564148894191604, null]}, {\"hoverinfo\": \"text\", \"line\": {\"color\": \"cornflowerblue\", \"width\": 0.005405405405405406}, \"mode\": \"lines\", \"text\": \"0.0002702702702702703\", \"type\": \"scatter\", \"x\": [-23.954915028125253, -23.263573311942707, null], \"y\": [48.05655277069771, 47.59461300444206, null]}, {\"hoverinfo\": \"text\", \"line\": {\"color\": \"cornflowerblue\", \"width\": 0.016216216216216217}, \"mode\": \"lines\", \"text\": \"0.0008108108108108108\", \"type\": \"scatter\", \"x\": [-23.954915028125253, -23.454915028125253, null], \"y\": [48.05655277069771, 47.55655277069771, null]}, {\"hoverinfo\": \"text\", \"line\": {\"color\": \"cornflowerblue\", \"width\": 0.2918918918918919}, \"mode\": \"lines\", \"text\": \"0.014594594594594595\", \"type\": \"scatter\", \"x\": [-23.954915028125253, -22.954915028125253, null], \"y\": [48.05655277069771, 48.05655277069771, null]}, {\"hoverinfo\": \"text\", \"line\": {\"color\": \"cornflowerblue\", \"width\": 0.3567567567567568}, \"mode\": \"lines\", \"text\": \"0.01783783783783784\", \"type\": \"scatter\", \"x\": [-23.954915028125253, -23.071892806565764, null], \"y\": [48.05655277069771, 47.73515896585444, null]}, {\"hoverinfo\": \"text\", \"line\": {\"color\": \"cornflowerblue\", \"width\": 0.11351351351351352}, \"mode\": \"lines\", \"text\": \"0.005675675675675676\", \"type\": \"scatter\", \"x\": [-23.954915028125253, -22.954915028125253, null], \"y\": [48.05655277069771, 48.05655277069771, null]}, {\"hoverinfo\": \"text\", \"line\": {\"color\": \"cornflowerblue\", \"width\": 0.043243243243243246}, \"mode\": \"lines\", \"text\": \"0.002162162162162162\", \"type\": \"scatter\", \"x\": [-23.954915028125253, -22.954915028125253, null], \"y\": [48.05655277069771, 48.05655277069771, null]}, {\"hoverinfo\": \"text\", \"line\": {\"color\": \"cornflowerblue\", \"width\": 0.02702702702702703}, \"mode\": \"lines\", \"text\": \"0.0013513513513513514\", \"type\": \"scatter\", \"x\": [-23.954915028125253, -23.10136163753198, null], \"y\": [48.05655277069771, 47.70299938010443, null]}, {\"hoverinfo\": \"text\", \"line\": {\"color\": \"cornflowerblue\", \"width\": 0.010810810810810811}, \"mode\": \"lines\", \"text\": \"0.0005405405405405405\", \"type\": \"scatter\", \"x\": [-23.954915028125253, -22.99297526186961, null], \"y\": [48.05655277069771, 47.865211054515164, null]}, {\"hoverinfo\": \"text\", \"line\": {\"color\": \"cornflowerblue\", \"width\": 0.005405405405405406}, \"mode\": \"lines\", \"text\": \"0.0002702702702702703\", \"type\": \"scatter\", \"x\": [-23.859423525312728, -23.704915028125253, null], \"y\": [47.76266014455147, 48.48956547258992, null]}, {\"hoverinfo\": \"text\", \"line\": {\"color\": \"cornflowerblue\", \"width\": 0.06486486486486487}, \"mode\": \"lines\", \"text\": \"0.003243243243243243\", \"type\": \"scatter\", \"x\": [-23.859423525312728, -23.859423525312728, null], \"y\": [47.76266014455147, 48.350445396843945, null]}, {\"hoverinfo\": \"text\", \"line\": {\"color\": \"cornflowerblue\", \"width\": 0.048648648648648644}, \"mode\": \"lines\", \"text\": \"0.0024324324324324323\", \"type\": \"scatter\", \"x\": [-23.859423525312728, -23.10136163753198, null], \"y\": [47.76266014455147, 48.41010616129098, null]}, {\"hoverinfo\": \"text\", \"line\": {\"color\": \"cornflowerblue\", \"width\": 0.28648648648648645}, \"mode\": \"lines\", \"text\": \"0.014324324324324324\", \"type\": \"scatter\", \"x\": [-23.859423525312728, -23.954915028125253, null], \"y\": [47.76266014455147, 48.05655277069771, null]}, {\"hoverinfo\": \"text\", \"line\": {\"color\": \"cornflowerblue\", \"width\": 0.010810810810810811}, \"mode\": \"lines\", \"text\": \"0.0005405405405405405\", \"type\": \"scatter\", \"x\": [-23.859423525312728, -22.954915028125253, null], \"y\": [47.76266014455147, 48.05655277069771, null]}, {\"hoverinfo\": \"text\", \"line\": {\"color\": \"cornflowerblue\", \"width\": 0.005405405405405406}, \"mode\": \"lines\", \"text\": \"0.0002702702702702703\", \"type\": \"scatter\", \"x\": [-23.859423525312728, -23.454915028125253, null], \"y\": [47.76266014455147, 47.55655277069771, null]}, {\"hoverinfo\": \"text\", \"line\": {\"color\": \"cornflowerblue\", \"width\": 0.005405405405405406}, \"mode\": \"lines\", \"text\": \"0.0002702702702702703\", \"type\": \"scatter\", \"x\": [-23.859423525312728, -22.954915028125253, null], \"y\": [47.76266014455147, 48.05655277069771, null]}, {\"hoverinfo\": \"text\", \"line\": {\"color\": \"cornflowerblue\", \"width\": 0.06486486486486487}, \"mode\": \"lines\", \"text\": \"0.003243243243243243\", \"type\": \"scatter\", \"x\": [-23.859423525312728, -23.454915028125253, null], \"y\": [47.76266014455147, 48.55655277069771, null]}, {\"hoverinfo\": \"text\", \"line\": {\"color\": \"cornflowerblue\", \"width\": 0.03783783783783784}, \"mode\": \"lines\", \"text\": \"0.0018918918918918919\", \"type\": \"scatter\", \"x\": [-23.859423525312728, -23.954915028125253, null], \"y\": [47.76266014455147, 48.05655277069771, null]}, {\"hoverinfo\": \"text\", \"line\": {\"color\": \"cornflowerblue\", \"width\": 0.010810810810810811}, \"mode\": \"lines\", \"text\": \"0.0005405405405405405\", \"type\": \"scatter\", \"x\": [-23.859423525312728, -23.454915028125253, null], \"y\": [47.76266014455147, 48.55655277069771, null]}, {\"hoverinfo\": \"text\", \"line\": {\"color\": \"cornflowerblue\", \"width\": 0.021621621621621623}, \"mode\": \"lines\", \"text\": \"0.001081081081081081\", \"type\": \"scatter\", \"x\": [-23.859423525312728, -23.954915028125253, null], \"y\": [47.76266014455147, 48.05655277069771, null]}, {\"hoverinfo\": \"text\", \"line\": {\"color\": \"cornflowerblue\", \"width\": 0.005405405405405406}, \"mode\": \"lines\", \"text\": \"0.0002702702702702703\", \"type\": \"scatter\", \"x\": [-23.859423525312728, -23.454915028125253, null], \"y\": [47.76266014455147, 47.55655277069771, null]}, {\"hoverinfo\": \"text\", \"line\": {\"color\": \"cornflowerblue\", \"width\": 0.05945945945945946}, \"mode\": \"lines\", \"text\": \"0.002972972972972973\", \"type\": \"scatter\", \"x\": [-23.859423525312728, -23.454915028125253, null], \"y\": [47.76266014455147, 47.55655277069771, null]}, {\"hoverinfo\": \"text\", \"line\": {\"color\": \"cornflowerblue\", \"width\": 0.03783783783783784}, \"mode\": \"lines\", \"text\": \"0.0018918918918918919\", \"type\": \"scatter\", \"x\": [-23.859423525312728, -23.300406530937778, null], \"y\": [47.76266014455147, 47.58102451255013, null]}, {\"hoverinfo\": \"text\", \"line\": {\"color\": \"cornflowerblue\", \"width\": 0.1837837837837838}, \"mode\": \"lines\", \"text\": \"0.009189189189189189\", \"type\": \"scatter\", \"x\": [-23.859423525312728, -22.954915028125253, null], \"y\": [47.76266014455147, 48.05655277069771, null]}, {\"hoverinfo\": \"text\", \"line\": {\"color\": \"cornflowerblue\", \"width\": 0.005405405405405406}, \"mode\": \"lines\", \"text\": \"0.0002702702702702703\", \"type\": \"scatter\", \"x\": [-23.859423525312728, -22.954915028125253, null], \"y\": [47.76266014455147, 48.05655277069771, null]}, {\"hoverinfo\": \"text\", \"line\": {\"color\": \"cornflowerblue\", \"width\": 0.016216216216216217}, \"mode\": \"lines\", \"text\": \"0.0008108108108108108\", \"type\": \"scatter\", \"x\": [-23.859423525312728, -23.454915028125253, null], \"y\": [47.76266014455147, 47.55655277069771, null]}, {\"hoverinfo\": \"text\", \"line\": {\"color\": \"cornflowerblue\", \"width\": 0.021621621621621623}, \"mode\": \"lines\", \"text\": \"0.001081081081081081\", \"type\": \"scatter\", \"x\": [-23.859423525312728, -22.954915028125253, null], \"y\": [47.76266014455147, 48.05655277069771, null]}, {\"hoverinfo\": \"text\", \"line\": {\"color\": \"cornflowerblue\", \"width\": 0.14054054054054055}, \"mode\": \"lines\", \"text\": \"0.007027027027027027\", \"type\": \"scatter\", \"x\": [-23.859423525312728, -23.071892806565764, null], \"y\": [47.76266014455147, 47.73515896585444, null]}, {\"hoverinfo\": \"text\", \"line\": {\"color\": \"cornflowerblue\", \"width\": 0.005405405405405406}, \"mode\": \"lines\", \"text\": \"0.0002702702702702703\", \"type\": \"scatter\", \"x\": [-23.859423525312728, -22.954915028125253, null], \"y\": [47.76266014455147, 48.05655277069771, null]}, {\"hoverinfo\": \"text\", \"line\": {\"color\": \"cornflowerblue\", \"width\": 0.005405405405405406}, \"mode\": \"lines\", \"text\": \"0.0002702702702702703\", \"type\": \"scatter\", \"x\": [-23.859423525312728, -22.954915028125253, null], \"y\": [47.76266014455147, 48.05655277069771, null]}, {\"hoverinfo\": \"text\", \"line\": {\"color\": \"cornflowerblue\", \"width\": 0.032432432432432434}, \"mode\": \"lines\", \"text\": \"0.0016216216216216215\", \"type\": \"scatter\", \"x\": [-23.859423525312728, -23.10136163753198, null], \"y\": [47.76266014455147, 47.70299938010443, null]}, {\"hoverinfo\": \"text\", \"line\": {\"color\": \"cornflowerblue\", \"width\": 0.005405405405405406}, \"mode\": \"lines\", \"text\": \"0.0002702702702702703\", \"type\": \"scatter\", \"x\": [-23.10136163753198, -23.071892806565764, null], \"y\": [48.41010616129098, 48.377946575540975, null]}, {\"hoverinfo\": \"text\", \"line\": {\"color\": \"cornflowerblue\", \"width\": 0.010810810810810811}, \"mode\": \"lines\", \"text\": \"0.0005405405405405405\", \"type\": \"scatter\", \"x\": [-23.10136163753198, -23.704915028125253, null], \"y\": [48.41010616129098, 48.48956547258992, null]}, {\"hoverinfo\": \"text\", \"line\": {\"color\": \"cornflowerblue\", \"width\": 0.010810810810810811}, \"mode\": \"lines\", \"text\": \"0.0005405405405405405\", \"type\": \"scatter\", \"x\": [-23.10136163753198, -23.859423525312728, null], \"y\": [48.41010616129098, 48.350445396843945, null]}, {\"hoverinfo\": \"text\", \"line\": {\"color\": \"cornflowerblue\", \"width\": 0.032432432432432434}, \"mode\": \"lines\", \"text\": \"0.0016216216216216215\", \"type\": \"scatter\", \"x\": [-23.10136163753198, -23.808468418718526, null], \"y\": [48.41010616129098, 48.41010616129098, null]}, {\"hoverinfo\": \"text\", \"line\": {\"color\": \"cornflowerblue\", \"width\": 0.1027027027027027}, \"mode\": \"lines\", \"text\": \"0.005135135135135135\", \"type\": \"scatter\", \"x\": [-23.10136163753198, -23.954915028125253, null], \"y\": [48.41010616129098, 48.05655277069771, null]}, {\"hoverinfo\": \"text\", \"line\": {\"color\": \"cornflowerblue\", \"width\": 0.06486486486486487}, \"mode\": \"lines\", \"text\": \"0.003243243243243243\", \"type\": \"scatter\", \"x\": [-23.10136163753198, -23.954915028125253, null], \"y\": [48.41010616129098, 48.05655277069771, null]}, {\"hoverinfo\": \"text\", \"line\": {\"color\": \"cornflowerblue\", \"width\": 0.24864864864864863}, \"mode\": \"lines\", \"text\": \"0.012432432432432432\", \"type\": \"scatter\", \"x\": [-23.10136163753198, -23.954915028125253, null], \"y\": [48.41010616129098, 48.05655277069771, null]}, {\"hoverinfo\": \"text\", \"line\": {\"color\": \"cornflowerblue\", \"width\": 0.005405405405405406}, \"mode\": \"lines\", \"text\": \"0.0002702702702702703\", \"type\": \"scatter\", \"x\": [-23.10136163753198, -22.954915028125253, null], \"y\": [48.41010616129098, 48.05655277069771, null]}, {\"hoverinfo\": \"text\", \"line\": {\"color\": \"cornflowerblue\", \"width\": 0.005405405405405406}, \"mode\": \"lines\", \"text\": \"0.0002702702702702703\", \"type\": \"scatter\", \"x\": [-23.10136163753198, -22.954915028125253, null], \"y\": [48.41010616129098, 48.05655277069771, null]}, {\"hoverinfo\": \"text\", \"line\": {\"color\": \"cornflowerblue\", \"width\": 0.17297297297297298}, \"mode\": \"lines\", \"text\": \"0.008648648648648649\", \"type\": \"scatter\", \"x\": [-23.10136163753198, -23.454915028125253, null], \"y\": [48.41010616129098, 48.55655277069771, null]}, {\"hoverinfo\": \"text\", \"line\": {\"color\": \"cornflowerblue\", \"width\": 0.016216216216216217}, \"mode\": \"lines\", \"text\": \"0.0008108108108108108\", \"type\": \"scatter\", \"x\": [-23.10136163753198, -23.454915028125253, null], \"y\": [48.41010616129098, 47.55655277069771, null]}, {\"hoverinfo\": \"text\", \"line\": {\"color\": \"cornflowerblue\", \"width\": 20.00540540540541}, \"mode\": \"lines\", \"text\": \"1.0002702702702704\", \"type\": \"scatter\", \"x\": [-23.10136163753198, -23.954915028125253, null], \"y\": [48.41010616129098, 48.05655277069771, null]}, {\"hoverinfo\": \"text\", \"line\": {\"color\": \"cornflowerblue\", \"width\": 0.09729729729729729}, \"mode\": \"lines\", \"text\": \"0.004864864864864865\", \"type\": \"scatter\", \"x\": [-23.10136163753198, -23.454915028125253, null], \"y\": [48.41010616129098, 48.55655277069771, null]}, {\"hoverinfo\": \"text\", \"line\": {\"color\": \"cornflowerblue\", \"width\": 0.02702702702702703}, \"mode\": \"lines\", \"text\": \"0.0013513513513513514\", \"type\": \"scatter\", \"x\": [-23.10136163753198, -23.954915028125253, null], \"y\": [48.41010616129098, 48.05655277069771, null]}, {\"hoverinfo\": \"text\", \"line\": {\"color\": \"cornflowerblue\", \"width\": 0.010810810810810811}, \"mode\": \"lines\", \"text\": \"0.0005405405405405405\", \"type\": \"scatter\", \"x\": [-23.10136163753198, -23.454915028125253, null], \"y\": [48.41010616129098, 47.55655277069771, null]}, {\"hoverinfo\": \"text\", \"line\": {\"color\": \"cornflowerblue\", \"width\": 0.010810810810810811}, \"mode\": \"lines\", \"text\": \"0.0005405405405405405\", \"type\": \"scatter\", \"x\": [-23.10136163753198, -23.263573311942707, null], \"y\": [48.41010616129098, 48.51849253695335, null]}, {\"hoverinfo\": \"text\", \"line\": {\"color\": \"cornflowerblue\", \"width\": 0.016216216216216217}, \"mode\": \"lines\", \"text\": \"0.0008108108108108108\", \"type\": \"scatter\", \"x\": [-23.10136163753198, -23.454915028125253, null], \"y\": [48.41010616129098, 47.55655277069771, null]}, {\"hoverinfo\": \"text\", \"line\": {\"color\": \"cornflowerblue\", \"width\": 0.08108108108108109}, \"mode\": \"lines\", \"text\": \"0.004054054054054054\", \"type\": \"scatter\", \"x\": [-23.10136163753198, -22.954915028125253, null], \"y\": [48.41010616129098, 48.05655277069771, null]}, {\"hoverinfo\": \"text\", \"line\": {\"color\": \"cornflowerblue\", \"width\": 4.664864864864865}, \"mode\": \"lines\", \"text\": \"0.23324324324324325\", \"type\": \"scatter\", \"x\": [-23.10136163753198, -23.808468418718526, null], \"y\": [48.41010616129098, 47.70299938010443, null]}, {\"hoverinfo\": \"text\", \"line\": {\"color\": \"cornflowerblue\", \"width\": 0.005405405405405406}, \"mode\": \"lines\", \"text\": \"0.0002702702702702703\", \"type\": \"scatter\", \"x\": [-23.10136163753198, -23.6462567443078, null], \"y\": [48.41010616129098, 47.59461300444206, null]}, {\"hoverinfo\": \"text\", \"line\": {\"color\": \"cornflowerblue\", \"width\": 0.010810810810810811}, \"mode\": \"lines\", \"text\": \"0.0005405405405405405\", \"type\": \"scatter\", \"x\": [-23.10136163753198, -23.36809093929179, null], \"y\": [48.41010616129098, 47.564148894191604, null]}, {\"hoverinfo\": \"text\", \"line\": {\"color\": \"cornflowerblue\", \"width\": 0.10810810810810811}, \"mode\": \"lines\", \"text\": \"0.005405405405405406\", \"type\": \"scatter\", \"x\": [-23.10136163753198, -23.454915028125253, null], \"y\": [48.41010616129098, 47.55655277069771, null]}, {\"hoverinfo\": \"text\", \"line\": {\"color\": \"cornflowerblue\", \"width\": 0.032432432432432434}, \"mode\": \"lines\", \"text\": \"0.0016216216216216215\", \"type\": \"scatter\", \"x\": [-23.10136163753198, -22.954915028125253, null], \"y\": [48.41010616129098, 48.05655277069771, null]}, {\"hoverinfo\": \"text\", \"line\": {\"color\": \"cornflowerblue\", \"width\": 0.2}, \"mode\": \"lines\", \"text\": \"0.01\", \"type\": \"scatter\", \"x\": [-23.10136163753198, -23.071892806565764, null], \"y\": [48.41010616129098, 47.73515896585444, null]}, {\"hoverinfo\": \"text\", \"line\": {\"color\": \"cornflowerblue\", \"width\": 0.005405405405405406}, \"mode\": \"lines\", \"text\": \"0.0002702702702702703\", \"type\": \"scatter\", \"x\": [-23.10136163753198, -22.954915028125253, null], \"y\": [48.41010616129098, 48.05655277069771, null]}, {\"hoverinfo\": \"text\", \"line\": {\"color\": \"cornflowerblue\", \"width\": 0.05945945945945946}, \"mode\": \"lines\", \"text\": \"0.002972972972972973\", \"type\": \"scatter\", \"x\": [-23.10136163753198, -22.954915028125253, null], \"y\": [48.41010616129098, 48.05655277069771, null]}, {\"hoverinfo\": \"text\", \"line\": {\"color\": \"cornflowerblue\", \"width\": 0.17297297297297298}, \"mode\": \"lines\", \"text\": \"0.008648648648648649\", \"type\": \"scatter\", \"x\": [-23.10136163753198, -22.954915028125253, null], \"y\": [48.41010616129098, 48.05655277069771, null]}, {\"hoverinfo\": \"text\", \"line\": {\"color\": \"cornflowerblue\", \"width\": 0.10810810810810811}, \"mode\": \"lines\", \"text\": \"0.005405405405405406\", \"type\": \"scatter\", \"x\": [-23.10136163753198, -23.10136163753198, null], \"y\": [48.41010616129098, 47.70299938010443, null]}, {\"hoverinfo\": \"text\", \"line\": {\"color\": \"cornflowerblue\", \"width\": 0.021621621621621623}, \"mode\": \"lines\", \"text\": \"0.001081081081081081\", \"type\": \"scatter\", \"x\": [-23.10136163753198, -22.99297526186961, null], \"y\": [48.41010616129098, 47.865211054515164, null]}, {\"hoverinfo\": \"text\", \"line\": {\"color\": \"cornflowerblue\", \"width\": 0.010810810810810811}, \"mode\": \"lines\", \"text\": \"0.0005405405405405405\", \"type\": \"scatter\", \"x\": [-23.808468418718526, -23.10136163753198, null], \"y\": [47.70299938010443, 48.41010616129098, null]}, {\"hoverinfo\": \"text\", \"line\": {\"color\": \"cornflowerblue\", \"width\": 0.02702702702702703}, \"mode\": \"lines\", \"text\": \"0.0013513513513513514\", \"type\": \"scatter\", \"x\": [-23.808468418718526, -23.808468418718526, null], \"y\": [47.70299938010443, 48.41010616129098, null]}, {\"hoverinfo\": \"text\", \"line\": {\"color\": \"cornflowerblue\", \"width\": 0.005405405405405406}, \"mode\": \"lines\", \"text\": \"0.0002702702702702703\", \"type\": \"scatter\", \"x\": [-23.808468418718526, -23.454915028125253, null], \"y\": [47.70299938010443, 47.55655277069771, null]}, {\"hoverinfo\": \"text\", \"line\": {\"color\": \"cornflowerblue\", \"width\": 0.005405405405405406}, \"mode\": \"lines\", \"text\": \"0.0002702702702702703\", \"type\": \"scatter\", \"x\": [-23.808468418718526, -23.924761338518206, null], \"y\": [47.70299938010443, 47.88554269903487, null]}, {\"hoverinfo\": \"text\", \"line\": {\"color\": \"cornflowerblue\", \"width\": 0.005405405405405406}, \"mode\": \"lines\", \"text\": \"0.0002702702702702703\", \"type\": \"scatter\", \"x\": [-23.808468418718526, -23.071892806565764, null], \"y\": [47.70299938010443, 47.73515896585444, null]}, {\"hoverinfo\": \"text\", \"line\": {\"color\": \"cornflowerblue\", \"width\": 0.005405405405405406}, \"mode\": \"lines\", \"text\": \"0.0002702702702702703\", \"type\": \"scatter\", \"x\": [-23.808468418718526, -23.916854794380896, null], \"y\": [47.70299938010443, 48.24789448688025, null]}, {\"hoverinfo\": \"text\", \"line\": {\"color\": \"cornflowerblue\", \"width\": 0.005405405405405406}, \"mode\": \"lines\", \"text\": \"0.0002702702702702703\", \"type\": \"scatter\", \"x\": [-23.954915028125253, -23.10136163753198, null], \"y\": [48.05655277069771, 48.41010616129098, null]}, {\"hoverinfo\": \"text\", \"line\": {\"color\": \"cornflowerblue\", \"width\": 0.005405405405405406}, \"mode\": \"lines\", \"text\": \"0.0002702702702702703\", \"type\": \"scatter\", \"x\": [-23.954915028125253, -22.99297526186961, null], \"y\": [48.05655277069771, 48.24789448688025, null]}, {\"hoverinfo\": \"text\", \"line\": {\"color\": \"cornflowerblue\", \"width\": 0.005405405405405406}, \"mode\": \"lines\", \"text\": \"0.0002702702702702703\", \"type\": \"scatter\", \"x\": [-23.954915028125253, -23.454915028125253, null], \"y\": [48.05655277069771, 48.55655277069771, null]}, {\"hoverinfo\": \"text\", \"line\": {\"color\": \"cornflowerblue\", \"width\": 0.005405405405405406}, \"mode\": \"lines\", \"text\": \"0.0002702702702702703\", \"type\": \"scatter\", \"x\": [-23.954915028125253, -23.808468418718526, null], \"y\": [48.05655277069771, 48.41010616129098, null]}, {\"hoverinfo\": \"text\", \"line\": {\"color\": \"cornflowerblue\", \"width\": 0.02702702702702703}, \"mode\": \"lines\", \"text\": \"0.0013513513513513514\", \"type\": \"scatter\", \"x\": [-23.954915028125253, -23.954915028125253, null], \"y\": [48.05655277069771, 48.05655277069771, null]}, {\"hoverinfo\": \"text\", \"line\": {\"color\": \"cornflowerblue\", \"width\": 0.048648648648648644}, \"mode\": \"lines\", \"text\": \"0.0024324324324324323\", \"type\": \"scatter\", \"x\": [-23.954915028125253, -23.954915028125253, null], \"y\": [48.05655277069771, 48.05655277069771, null]}, {\"hoverinfo\": \"text\", \"line\": {\"color\": \"cornflowerblue\", \"width\": 0.005405405405405406}, \"mode\": \"lines\", \"text\": \"0.0002702702702702703\", \"type\": \"scatter\", \"x\": [-23.954915028125253, -22.954915028125253, null], \"y\": [48.05655277069771, 48.05655277069771, null]}, {\"hoverinfo\": \"text\", \"line\": {\"color\": \"cornflowerblue\", \"width\": 0.005405405405405406}, \"mode\": \"lines\", \"text\": \"0.0002702702702702703\", \"type\": \"scatter\", \"x\": [-23.954915028125253, -23.10136163753198, null], \"y\": [48.05655277069771, 47.70299938010443, null]}, {\"hoverinfo\": \"text\", \"line\": {\"color\": \"cornflowerblue\", \"width\": 0.07027027027027027}, \"mode\": \"lines\", \"text\": \"0.0035135135135135136\", \"type\": \"scatter\", \"x\": [-23.954915028125253, -22.954915028125253, null], \"y\": [48.05655277069771, 48.05655277069771, null]}, {\"hoverinfo\": \"text\", \"line\": {\"color\": \"cornflowerblue\", \"width\": 0.2594594594594595}, \"mode\": \"lines\", \"text\": \"0.012972972972972972\", \"type\": \"scatter\", \"x\": [-23.954915028125253, -23.454915028125253, null], \"y\": [48.05655277069771, 47.55655277069771, null]}, {\"hoverinfo\": \"text\", \"line\": {\"color\": \"cornflowerblue\", \"width\": 0.02702702702702703}, \"mode\": \"lines\", \"text\": \"0.0013513513513513514\", \"type\": \"scatter\", \"x\": [-23.954915028125253, -23.954915028125253, null], \"y\": [48.05655277069771, 48.05655277069771, null]}, {\"hoverinfo\": \"text\", \"line\": {\"color\": \"cornflowerblue\", \"width\": 0.005405405405405406}, \"mode\": \"lines\", \"text\": \"0.0002702702702702703\", \"type\": \"scatter\", \"x\": [-23.954915028125253, -23.454915028125253, null], \"y\": [48.05655277069771, 48.55655277069771, null]}, {\"hoverinfo\": \"text\", \"line\": {\"color\": \"cornflowerblue\", \"width\": 0.010810810810810811}, \"mode\": \"lines\", \"text\": \"0.0005405405405405405\", \"type\": \"scatter\", \"x\": [-23.954915028125253, -23.454915028125253, null], \"y\": [48.05655277069771, 47.55655277069771, null]}, {\"hoverinfo\": \"text\", \"line\": {\"color\": \"cornflowerblue\", \"width\": 0.005405405405405406}, \"mode\": \"lines\", \"text\": \"0.0002702702702702703\", \"type\": \"scatter\", \"x\": [-23.954915028125253, -22.954915028125253, null], \"y\": [48.05655277069771, 48.05655277069771, null]}, {\"hoverinfo\": \"text\", \"line\": {\"color\": \"cornflowerblue\", \"width\": 0.010810810810810811}, \"mode\": \"lines\", \"text\": \"0.0005405405405405405\", \"type\": \"scatter\", \"x\": [-23.954915028125253, -22.954915028125253, null], \"y\": [48.05655277069771, 48.05655277069771, null]}, {\"hoverinfo\": \"text\", \"line\": {\"color\": \"cornflowerblue\", \"width\": 0.4864864864864865}, \"mode\": \"lines\", \"text\": \"0.024324324324324326\", \"type\": \"scatter\", \"x\": [-23.954915028125253, -23.454915028125253, null], \"y\": [48.05655277069771, 48.55655277069771, null]}, {\"hoverinfo\": \"text\", \"line\": {\"color\": \"cornflowerblue\", \"width\": 0.005405405405405406}, \"mode\": \"lines\", \"text\": \"0.0002702702702702703\", \"type\": \"scatter\", \"x\": [-23.954915028125253, -23.071892806565764, null], \"y\": [48.05655277069771, 48.377946575540975, null]}, {\"hoverinfo\": \"text\", \"line\": {\"color\": \"cornflowerblue\", \"width\": 0.010810810810810811}, \"mode\": \"lines\", \"text\": \"0.0005405405405405405\", \"type\": \"scatter\", \"x\": [-23.954915028125253, -23.704915028125253, null], \"y\": [48.05655277069771, 48.48956547258992, null]}, {\"hoverinfo\": \"text\", \"line\": {\"color\": \"cornflowerblue\", \"width\": 0.005405405405405406}, \"mode\": \"lines\", \"text\": \"0.0002702702702702703\", \"type\": \"scatter\", \"x\": [-23.954915028125253, -23.10136163753198, null], \"y\": [48.05655277069771, 48.41010616129098, null]}, {\"hoverinfo\": \"text\", \"line\": {\"color\": \"cornflowerblue\", \"width\": 0.010810810810810811}, \"mode\": \"lines\", \"text\": \"0.0005405405405405405\", \"type\": \"scatter\", \"x\": [-23.954915028125253, -23.859423525312728, null], \"y\": [48.05655277069771, 48.350445396843945, null]}, {\"hoverinfo\": \"text\", \"line\": {\"color\": \"cornflowerblue\", \"width\": 0.005405405405405406}, \"mode\": \"lines\", \"text\": \"0.0002702702702702703\", \"type\": \"scatter\", \"x\": [-23.954915028125253, -23.954915028125253, null], \"y\": [48.05655277069771, 48.05655277069771, null]}, {\"hoverinfo\": \"text\", \"line\": {\"color\": \"cornflowerblue\", \"width\": 0.005405405405405406}, \"mode\": \"lines\", \"text\": \"0.0002702702702702703\", \"type\": \"scatter\", \"x\": [-23.954915028125253, -23.808468418718526, null], \"y\": [48.05655277069771, 48.41010616129098, null]}, {\"hoverinfo\": \"text\", \"line\": {\"color\": \"cornflowerblue\", \"width\": 0.681081081081081}, \"mode\": \"lines\", \"text\": \"0.03405405405405405\", \"type\": \"scatter\", \"x\": [-23.954915028125253, -22.954915028125253, null], \"y\": [48.05655277069771, 48.05655277069771, null]}, {\"hoverinfo\": \"text\", \"line\": {\"color\": \"cornflowerblue\", \"width\": 0.005405405405405406}, \"mode\": \"lines\", \"text\": \"0.0002702702702702703\", \"type\": \"scatter\", \"x\": [-23.954915028125253, -23.454915028125253, null], \"y\": [48.05655277069771, 47.55655277069771, null]}, {\"hoverinfo\": \"text\", \"line\": {\"color\": \"cornflowerblue\", \"width\": 0.005405405405405406}, \"mode\": \"lines\", \"text\": \"0.0002702702702702703\", \"type\": \"scatter\", \"x\": [-23.954915028125253, -22.954915028125253, null], \"y\": [48.05655277069771, 48.05655277069771, null]}, {\"hoverinfo\": \"text\", \"line\": {\"color\": \"cornflowerblue\", \"width\": 0.016216216216216217}, \"mode\": \"lines\", \"text\": \"0.0008108108108108108\", \"type\": \"scatter\", \"x\": [-23.954915028125253, -23.454915028125253, null], \"y\": [48.05655277069771, 47.55655277069771, null]}, {\"hoverinfo\": \"text\", \"line\": {\"color\": \"cornflowerblue\", \"width\": 0.2216216216216216}, \"mode\": \"lines\", \"text\": \"0.01108108108108108\", \"type\": \"scatter\", \"x\": [-23.954915028125253, -23.954915028125253, null], \"y\": [48.05655277069771, 48.05655277069771, null]}, {\"hoverinfo\": \"text\", \"line\": {\"color\": \"cornflowerblue\", \"width\": 0.032432432432432434}, \"mode\": \"lines\", \"text\": \"0.0016216216216216215\", \"type\": \"scatter\", \"x\": [-23.954915028125253, -23.10136163753198, null], \"y\": [48.05655277069771, 48.41010616129098, null]}, {\"hoverinfo\": \"text\", \"line\": {\"color\": \"cornflowerblue\", \"width\": 0.016216216216216217}, \"mode\": \"lines\", \"text\": \"0.0008108108108108108\", \"type\": \"scatter\", \"x\": [-23.954915028125253, -23.924761338518206, null], \"y\": [48.05655277069771, 48.22756284236054, null]}, {\"hoverinfo\": \"text\", \"line\": {\"color\": \"cornflowerblue\", \"width\": 0.8378378378378379}, \"mode\": \"lines\", \"text\": \"0.041891891891891894\", \"type\": \"scatter\", \"x\": [-23.954915028125253, -23.454915028125253, null], \"y\": [48.05655277069771, 48.55655277069771, null]}, {\"hoverinfo\": \"text\", \"line\": {\"color\": \"cornflowerblue\", \"width\": 0.4108108108108108}, \"mode\": \"lines\", \"text\": \"0.02054054054054054\", \"type\": \"scatter\", \"x\": [-23.954915028125253, -23.954915028125253, null], \"y\": [48.05655277069771, 48.05655277069771, null]}, {\"hoverinfo\": \"text\", \"line\": {\"color\": \"cornflowerblue\", \"width\": 0.12972972972972974}, \"mode\": \"lines\", \"text\": \"0.006486486486486486\", \"type\": \"scatter\", \"x\": [-23.954915028125253, -23.454915028125253, null], \"y\": [48.05655277069771, 47.55655277069771, null]}, {\"hoverinfo\": \"text\", \"line\": {\"color\": \"cornflowerblue\", \"width\": 0.16216216216216217}, \"mode\": \"lines\", \"text\": \"0.008108108108108109\", \"type\": \"scatter\", \"x\": [-23.954915028125253, -23.924761338518206, null], \"y\": [48.05655277069771, 47.88554269903487, null]}, {\"hoverinfo\": \"text\", \"line\": {\"color\": \"cornflowerblue\", \"width\": 0.021621621621621623}, \"mode\": \"lines\", \"text\": \"0.001081081081081081\", \"type\": \"scatter\", \"x\": [-23.954915028125253, -23.263573311942707, null], \"y\": [48.05655277069771, 48.51849253695335, null]}, {\"hoverinfo\": \"text\", \"line\": {\"color\": \"cornflowerblue\", \"width\": 0.005405405405405406}, \"mode\": \"lines\", \"text\": \"0.0002702702702702703\", \"type\": \"scatter\", \"x\": [-23.954915028125253, -23.454915028125253, null], \"y\": [48.05655277069771, 48.55655277069771, null]}, {\"hoverinfo\": \"text\", \"line\": {\"color\": \"cornflowerblue\", \"width\": 0.043243243243243246}, \"mode\": \"lines\", \"text\": \"0.002162162162162162\", \"type\": \"scatter\", \"x\": [-23.954915028125253, -22.954915028125253, null], \"y\": [48.05655277069771, 48.05655277069771, null]}, {\"hoverinfo\": \"text\", \"line\": {\"color\": \"cornflowerblue\", \"width\": 0.016216216216216217}, \"mode\": \"lines\", \"text\": \"0.0008108108108108108\", \"type\": \"scatter\", \"x\": [-23.954915028125253, -23.6462567443078, null], \"y\": [48.05655277069771, 48.51849253695335, null]}, {\"hoverinfo\": \"text\", \"line\": {\"color\": \"cornflowerblue\", \"width\": 0.2702702702702703}, \"mode\": \"lines\", \"text\": \"0.013513513513513514\", \"type\": \"scatter\", \"x\": [-23.954915028125253, -23.454915028125253, null], \"y\": [48.05655277069771, 47.55655277069771, null]}, {\"hoverinfo\": \"text\", \"line\": {\"color\": \"cornflowerblue\", \"width\": 0.010810810810810811}, \"mode\": \"lines\", \"text\": \"0.0005405405405405405\", \"type\": \"scatter\", \"x\": [-23.954915028125253, -23.300406530937778, null], \"y\": [48.05655277069771, 47.58102451255013, null]}, {\"hoverinfo\": \"text\", \"line\": {\"color\": \"cornflowerblue\", \"width\": 0.16756756756756755}, \"mode\": \"lines\", \"text\": \"0.008378378378378378\", \"type\": \"scatter\", \"x\": [-23.954915028125253, -22.954915028125253, null], \"y\": [48.05655277069771, 48.05655277069771, null]}, {\"hoverinfo\": \"text\", \"line\": {\"color\": \"cornflowerblue\", \"width\": 0.043243243243243246}, \"mode\": \"lines\", \"text\": \"0.002162162162162162\", \"type\": \"scatter\", \"x\": [-23.954915028125253, -23.808468418718526, null], \"y\": [48.05655277069771, 47.70299938010443, null]}, {\"hoverinfo\": \"text\", \"line\": {\"color\": \"cornflowerblue\", \"width\": 0.1027027027027027}, \"mode\": \"lines\", \"text\": \"0.005135135135135135\", \"type\": \"scatter\", \"x\": [-23.954915028125253, -23.808468418718526, null], \"y\": [48.05655277069771, 47.70299938010443, null]}, {\"hoverinfo\": \"text\", \"line\": {\"color\": \"cornflowerblue\", \"width\": 0.010810810810810811}, \"mode\": \"lines\", \"text\": \"0.0005405405405405405\", \"type\": \"scatter\", \"x\": [-23.954915028125253, -23.6462567443078, null], \"y\": [48.05655277069771, 47.59461300444206, null]}, {\"hoverinfo\": \"text\", \"line\": {\"color\": \"cornflowerblue\", \"width\": 0.005405405405405406}, \"mode\": \"lines\", \"text\": \"0.0002702702702702703\", \"type\": \"scatter\", \"x\": [-23.954915028125253, -22.954915028125253, null], \"y\": [48.05655277069771, 48.05655277069771, null]}, {\"hoverinfo\": \"text\", \"line\": {\"color\": \"cornflowerblue\", \"width\": 0.05945945945945946}, \"mode\": \"lines\", \"text\": \"0.002972972972972973\", \"type\": \"scatter\", \"x\": [-23.954915028125253, -23.36809093929179, null], \"y\": [48.05655277069771, 47.564148894191604, null]}, {\"hoverinfo\": \"text\", \"line\": {\"color\": \"cornflowerblue\", \"width\": 0.032432432432432434}, \"mode\": \"lines\", \"text\": \"0.0016216216216216215\", \"type\": \"scatter\", \"x\": [-23.954915028125253, -23.454915028125253, null], \"y\": [48.05655277069771, 47.55655277069771, null]}, {\"hoverinfo\": \"text\", \"line\": {\"color\": \"cornflowerblue\", \"width\": 0.005405405405405406}, \"mode\": \"lines\", \"text\": \"0.0002702702702702703\", \"type\": \"scatter\", \"x\": [-23.954915028125253, -23.263573311942707, null], \"y\": [48.05655277069771, 47.59461300444206, null]}, {\"hoverinfo\": \"text\", \"line\": {\"color\": \"cornflowerblue\", \"width\": 0.02702702702702703}, \"mode\": \"lines\", \"text\": \"0.0013513513513513514\", \"type\": \"scatter\", \"x\": [-23.954915028125253, -23.454915028125253, null], \"y\": [48.05655277069771, 47.55655277069771, null]}, {\"hoverinfo\": \"text\", \"line\": {\"color\": \"cornflowerblue\", \"width\": 0.005405405405405406}, \"mode\": \"lines\", \"text\": \"0.0002702702702702703\", \"type\": \"scatter\", \"x\": [-23.954915028125253, -23.36809093929179, null], \"y\": [48.05655277069771, 47.564148894191604, null]}, {\"hoverinfo\": \"text\", \"line\": {\"color\": \"cornflowerblue\", \"width\": 1.5783783783783782}, \"mode\": \"lines\", \"text\": \"0.07891891891891892\", \"type\": \"scatter\", \"x\": [-23.954915028125253, -22.954915028125253, null], \"y\": [48.05655277069771, 48.05655277069771, null]}, {\"hoverinfo\": \"text\", \"line\": {\"color\": \"cornflowerblue\", \"width\": 2.264864864864865}, \"mode\": \"lines\", \"text\": \"0.11324324324324324\", \"type\": \"scatter\", \"x\": [-23.954915028125253, -23.071892806565764, null], \"y\": [48.05655277069771, 47.73515896585444, null]}, {\"hoverinfo\": \"text\", \"line\": {\"color\": \"cornflowerblue\", \"width\": 0.07567567567567568}, \"mode\": \"lines\", \"text\": \"0.0037837837837837837\", \"type\": \"scatter\", \"x\": [-23.954915028125253, -22.954915028125253, null], \"y\": [48.05655277069771, 48.05655277069771, null]}, {\"hoverinfo\": \"text\", \"line\": {\"color\": \"cornflowerblue\", \"width\": 0.03783783783783784}, \"mode\": \"lines\", \"text\": \"0.0018918918918918919\", \"type\": \"scatter\", \"x\": [-23.954915028125253, -22.954915028125253, null], \"y\": [48.05655277069771, 48.05655277069771, null]}, {\"hoverinfo\": \"text\", \"line\": {\"color\": \"cornflowerblue\", \"width\": 0.048648648648648644}, \"mode\": \"lines\", \"text\": \"0.0024324324324324323\", \"type\": \"scatter\", \"x\": [-23.954915028125253, -23.916854794380896, null], \"y\": [48.05655277069771, 48.24789448688025, null]}, {\"hoverinfo\": \"text\", \"line\": {\"color\": \"cornflowerblue\", \"width\": 0.021621621621621623}, \"mode\": \"lines\", \"text\": \"0.001081081081081081\", \"type\": \"scatter\", \"x\": [-23.954915028125253, -23.10136163753198, null], \"y\": [48.05655277069771, 47.70299938010443, null]}, {\"hoverinfo\": \"text\", \"line\": {\"color\": \"cornflowerblue\", \"width\": 0.16756756756756755}, \"mode\": \"lines\", \"text\": \"0.008378378378378378\", \"type\": \"scatter\", \"x\": [-23.954915028125253, -22.99297526186961, null], \"y\": [48.05655277069771, 47.865211054515164, null]}, {\"hoverinfo\": \"text\", \"line\": {\"color\": \"cornflowerblue\", \"width\": 0.5243243243243243}, \"mode\": \"lines\", \"text\": \"0.026216216216216216\", \"type\": \"scatter\", \"x\": [-23.954915028125253, -23.454915028125253, null], \"y\": [48.05655277069771, 48.55655277069771, null]}, {\"hoverinfo\": \"text\", \"line\": {\"color\": \"cornflowerblue\", \"width\": 0.005405405405405406}, \"mode\": \"lines\", \"text\": \"0.0002702702702702703\", \"type\": \"scatter\", \"x\": [-22.954915028125253, -22.954915028125253, null], \"y\": [48.05655277069771, 48.05655277069771, null]}, {\"hoverinfo\": \"text\", \"line\": {\"color\": \"cornflowerblue\", \"width\": 0.010810810810810811}, \"mode\": \"lines\", \"text\": \"0.0005405405405405405\", \"type\": \"scatter\", \"x\": [-22.954915028125253, -23.954915028125253, null], \"y\": [48.05655277069771, 48.05655277069771, null]}, {\"hoverinfo\": \"text\", \"line\": {\"color\": \"cornflowerblue\", \"width\": 0.005405405405405406}, \"mode\": \"lines\", \"text\": \"0.0002702702702702703\", \"type\": \"scatter\", \"x\": [-22.954915028125253, -23.10136163753198, null], \"y\": [48.05655277069771, 48.41010616129098, null]}, {\"hoverinfo\": \"text\", \"line\": {\"color\": \"cornflowerblue\", \"width\": 0.06486486486486487}, \"mode\": \"lines\", \"text\": \"0.003243243243243243\", \"type\": \"scatter\", \"x\": [-22.954915028125253, -23.454915028125253, null], \"y\": [48.05655277069771, 48.55655277069771, null]}, {\"hoverinfo\": \"text\", \"line\": {\"color\": \"cornflowerblue\", \"width\": 0.03783783783783784}, \"mode\": \"lines\", \"text\": \"0.0018918918918918919\", \"type\": \"scatter\", \"x\": [-22.954915028125253, -23.954915028125253, null], \"y\": [48.05655277069771, 48.05655277069771, null]}, {\"hoverinfo\": \"text\", \"line\": {\"color\": \"cornflowerblue\", \"width\": 0.02702702702702703}, \"mode\": \"lines\", \"text\": \"0.0013513513513513514\", \"type\": \"scatter\", \"x\": [-22.954915028125253, -23.454915028125253, null], \"y\": [48.05655277069771, 47.55655277069771, null]}, {\"hoverinfo\": \"text\", \"line\": {\"color\": \"cornflowerblue\", \"width\": 0.005405405405405406}, \"mode\": \"lines\", \"text\": \"0.0002702702702702703\", \"type\": \"scatter\", \"x\": [-22.954915028125253, -22.954915028125253, null], \"y\": [48.05655277069771, 48.05655277069771, null]}, {\"hoverinfo\": \"text\", \"line\": {\"color\": \"cornflowerblue\", \"width\": 0.005405405405405406}, \"mode\": \"lines\", \"text\": \"0.0002702702702702703\", \"type\": \"scatter\", \"x\": [-22.954915028125253, -23.808468418718526, null], \"y\": [48.05655277069771, 47.70299938010443, null]}, {\"hoverinfo\": \"text\", \"line\": {\"color\": \"cornflowerblue\", \"width\": 0.03783783783783784}, \"mode\": \"lines\", \"text\": \"0.0018918918918918919\", \"type\": \"scatter\", \"x\": [-22.954915028125253, -23.36809093929179, null], \"y\": [48.05655277069771, 47.564148894191604, null]}, {\"hoverinfo\": \"text\", \"line\": {\"color\": \"cornflowerblue\", \"width\": 0.005405405405405406}, \"mode\": \"lines\", \"text\": \"0.0002702702702702703\", \"type\": \"scatter\", \"x\": [-22.954915028125253, -23.454915028125253, null], \"y\": [48.05655277069771, 47.55655277069771, null]}, {\"hoverinfo\": \"text\", \"line\": {\"color\": \"cornflowerblue\", \"width\": 0.032432432432432434}, \"mode\": \"lines\", \"text\": \"0.0016216216216216215\", \"type\": \"scatter\", \"x\": [-22.954915028125253, -22.954915028125253, null], \"y\": [48.05655277069771, 48.05655277069771, null]}, {\"hoverinfo\": \"text\", \"line\": {\"color\": \"cornflowerblue\", \"width\": 0.2216216216216216}, \"mode\": \"lines\", \"text\": \"0.01108108108108108\", \"type\": \"scatter\", \"x\": [-22.954915028125253, -23.071892806565764, null], \"y\": [48.05655277069771, 47.73515896585444, null]}, {\"hoverinfo\": \"text\", \"line\": {\"color\": \"cornflowerblue\", \"width\": 0.016216216216216217}, \"mode\": \"lines\", \"text\": \"0.0008108108108108108\", \"type\": \"scatter\", \"x\": [-22.954915028125253, -22.954915028125253, null], \"y\": [48.05655277069771, 48.05655277069771, null]}, {\"hoverinfo\": \"text\", \"line\": {\"color\": \"cornflowerblue\", \"width\": 0.010810810810810811}, \"mode\": \"lines\", \"text\": \"0.0005405405405405405\", \"type\": \"scatter\", \"x\": [-22.954915028125253, -22.954915028125253, null], \"y\": [48.05655277069771, 48.05655277069771, null]}, {\"hoverinfo\": \"text\", \"line\": {\"color\": \"cornflowerblue\", \"width\": 0.005405405405405406}, \"mode\": \"lines\", \"text\": \"0.0002702702702702703\", \"type\": \"scatter\", \"x\": [-22.954915028125253, -23.916854794380896, null], \"y\": [48.05655277069771, 48.24789448688025, null]}, {\"hoverinfo\": \"text\", \"line\": {\"color\": \"cornflowerblue\", \"width\": 0.032432432432432434}, \"mode\": \"lines\", \"text\": \"0.0016216216216216215\", \"type\": \"scatter\", \"x\": [-22.954915028125253, -22.99297526186961, null], \"y\": [48.05655277069771, 47.865211054515164, null]}, {\"hoverinfo\": \"text\", \"line\": {\"color\": \"cornflowerblue\", \"width\": 0.016216216216216217}, \"mode\": \"lines\", \"text\": \"0.0008108108108108108\", \"type\": \"scatter\", \"x\": [-22.954915028125253, -23.454915028125253, null], \"y\": [48.05655277069771, 48.55655277069771, null]}, {\"hoverinfo\": \"text\", \"line\": {\"color\": \"cornflowerblue\", \"width\": 0.010810810810810811}, \"mode\": \"lines\", \"text\": \"0.0005405405405405405\", \"type\": \"scatter\", \"x\": [-23.454915028125253, -22.99297526186961, null], \"y\": [48.55655277069771, 48.24789448688025, null]}, {\"hoverinfo\": \"text\", \"line\": {\"color\": \"cornflowerblue\", \"width\": 0.005405405405405406}, \"mode\": \"lines\", \"text\": \"0.0002702702702702703\", \"type\": \"scatter\", \"x\": [-23.454915028125253, -23.808468418718526, null], \"y\": [48.55655277069771, 48.41010616129098, null]}, {\"hoverinfo\": \"text\", \"line\": {\"color\": \"cornflowerblue\", \"width\": 0.043243243243243246}, \"mode\": \"lines\", \"text\": \"0.002162162162162162\", \"type\": \"scatter\", \"x\": [-23.454915028125253, -23.954915028125253, null], \"y\": [48.55655277069771, 48.05655277069771, null]}, {\"hoverinfo\": \"text\", \"line\": {\"color\": \"cornflowerblue\", \"width\": 0.0918918918918919}, \"mode\": \"lines\", \"text\": \"0.0045945945945945945\", \"type\": \"scatter\", \"x\": [-23.454915028125253, -22.954915028125253, null], \"y\": [48.55655277069771, 48.05655277069771, null]}, {\"hoverinfo\": \"text\", \"line\": {\"color\": \"cornflowerblue\", \"width\": 0.2054054054054054}, \"mode\": \"lines\", \"text\": \"0.01027027027027027\", \"type\": \"scatter\", \"x\": [-23.454915028125253, -23.454915028125253, null], \"y\": [48.55655277069771, 47.55655277069771, null]}, {\"hoverinfo\": \"text\", \"line\": {\"color\": \"cornflowerblue\", \"width\": 0.19459459459459458}, \"mode\": \"lines\", \"text\": \"0.00972972972972973\", \"type\": \"scatter\", \"x\": [-23.454915028125253, -23.954915028125253, null], \"y\": [48.55655277069771, 48.05655277069771, null]}, {\"hoverinfo\": \"text\", \"line\": {\"color\": \"cornflowerblue\", \"width\": 0.03783783783783784}, \"mode\": \"lines\", \"text\": \"0.0018918918918918919\", \"type\": \"scatter\", \"x\": [-23.454915028125253, -23.454915028125253, null], \"y\": [48.55655277069771, 48.55655277069771, null]}, {\"hoverinfo\": \"text\", \"line\": {\"color\": \"cornflowerblue\", \"width\": 0.010810810810810811}, \"mode\": \"lines\", \"text\": \"0.0005405405405405405\", \"type\": \"scatter\", \"x\": [-23.454915028125253, -23.954915028125253, null], \"y\": [48.55655277069771, 48.05655277069771, null]}, {\"hoverinfo\": \"text\", \"line\": {\"color\": \"cornflowerblue\", \"width\": 0.005405405405405406}, \"mode\": \"lines\", \"text\": \"0.0002702702702702703\", \"type\": \"scatter\", \"x\": [-23.454915028125253, -23.924761338518206, null], \"y\": [48.55655277069771, 47.88554269903487, null]}, {\"hoverinfo\": \"text\", \"line\": {\"color\": \"cornflowerblue\", \"width\": 0.11891891891891893}, \"mode\": \"lines\", \"text\": \"0.005945945945945946\", \"type\": \"scatter\", \"x\": [-23.454915028125253, -23.454915028125253, null], \"y\": [48.55655277069771, 47.55655277069771, null]}, {\"hoverinfo\": \"text\", \"line\": {\"color\": \"cornflowerblue\", \"width\": 0.048648648648648644}, \"mode\": \"lines\", \"text\": \"0.0024324324324324323\", \"type\": \"scatter\", \"x\": [-23.454915028125253, -22.954915028125253, null], \"y\": [48.55655277069771, 48.05655277069771, null]}, {\"hoverinfo\": \"text\", \"line\": {\"color\": \"cornflowerblue\", \"width\": 0.08108108108108109}, \"mode\": \"lines\", \"text\": \"0.004054054054054054\", \"type\": \"scatter\", \"x\": [-23.454915028125253, -23.808468418718526, null], \"y\": [48.55655277069771, 47.70299938010443, null]}, {\"hoverinfo\": \"text\", \"line\": {\"color\": \"cornflowerblue\", \"width\": 0.005405405405405406}, \"mode\": \"lines\", \"text\": \"0.0002702702702702703\", \"type\": \"scatter\", \"x\": [-23.454915028125253, -23.454915028125253, null], \"y\": [48.55655277069771, 47.55655277069771, null]}, {\"hoverinfo\": \"text\", \"line\": {\"color\": \"cornflowerblue\", \"width\": 0.07567567567567568}, \"mode\": \"lines\", \"text\": \"0.0037837837837837837\", \"type\": \"scatter\", \"x\": [-23.454915028125253, -22.954915028125253, null], \"y\": [48.55655277069771, 48.05655277069771, null]}, {\"hoverinfo\": \"text\", \"line\": {\"color\": \"cornflowerblue\", \"width\": 0.043243243243243246}, \"mode\": \"lines\", \"text\": \"0.002162162162162162\", \"type\": \"scatter\", \"x\": [-23.454915028125253, -23.071892806565764, null], \"y\": [48.55655277069771, 47.73515896585444, null]}, {\"hoverinfo\": \"text\", \"line\": {\"color\": \"cornflowerblue\", \"width\": 0.1027027027027027}, \"mode\": \"lines\", \"text\": \"0.005135135135135135\", \"type\": \"scatter\", \"x\": [-23.454915028125253, -22.954915028125253, null], \"y\": [48.55655277069771, 48.05655277069771, null]}, {\"hoverinfo\": \"text\", \"line\": {\"color\": \"cornflowerblue\", \"width\": 0.08108108108108109}, \"mode\": \"lines\", \"text\": \"0.004054054054054054\", \"type\": \"scatter\", \"x\": [-23.454915028125253, -22.954915028125253, null], \"y\": [48.55655277069771, 48.05655277069771, null]}, {\"hoverinfo\": \"text\", \"line\": {\"color\": \"cornflowerblue\", \"width\": 0.005405405405405406}, \"mode\": \"lines\", \"text\": \"0.0002702702702702703\", \"type\": \"scatter\", \"x\": [-23.454915028125253, -22.99297526186961, null], \"y\": [48.55655277069771, 47.865211054515164, null]}, {\"hoverinfo\": \"text\", \"line\": {\"color\": \"cornflowerblue\", \"width\": 0.005405405405405406}, \"mode\": \"lines\", \"text\": \"0.0002702702702702703\", \"type\": \"scatter\", \"x\": [-23.454915028125253, -23.954915028125253, null], \"y\": [47.55655277069771, 48.05655277069771, null]}, {\"hoverinfo\": \"text\", \"line\": {\"color\": \"cornflowerblue\", \"width\": 0.02702702702702703}, \"mode\": \"lines\", \"text\": \"0.0013513513513513514\", \"type\": \"scatter\", \"x\": [-23.454915028125253, -22.954915028125253, null], \"y\": [47.55655277069771, 48.05655277069771, null]}, {\"hoverinfo\": \"text\", \"line\": {\"color\": \"cornflowerblue\", \"width\": 0.016216216216216217}, \"mode\": \"lines\", \"text\": \"0.0008108108108108108\", \"type\": \"scatter\", \"x\": [-23.454915028125253, -23.954915028125253, null], \"y\": [47.55655277069771, 48.05655277069771, null]}, {\"hoverinfo\": \"text\", \"line\": {\"color\": \"cornflowerblue\", \"width\": 0.005405405405405406}, \"mode\": \"lines\", \"text\": \"0.0002702702702702703\", \"type\": \"scatter\", \"x\": [-23.454915028125253, -23.454915028125253, null], \"y\": [47.55655277069771, 47.55655277069771, null]}, {\"hoverinfo\": \"text\", \"line\": {\"color\": \"cornflowerblue\", \"width\": 0.010810810810810811}, \"mode\": \"lines\", \"text\": \"0.0005405405405405405\", \"type\": \"scatter\", \"x\": [-23.454915028125253, -22.954915028125253, null], \"y\": [47.55655277069771, 48.05655277069771, null]}, {\"hoverinfo\": \"text\", \"line\": {\"color\": \"cornflowerblue\", \"width\": 0.010810810810810811}, \"mode\": \"lines\", \"text\": \"0.0005405405405405405\", \"type\": \"scatter\", \"x\": [-23.454915028125253, -22.954915028125253, null], \"y\": [47.55655277069771, 48.05655277069771, null]}, {\"hoverinfo\": \"text\", \"line\": {\"color\": \"cornflowerblue\", \"width\": 0.005405405405405406}, \"mode\": \"lines\", \"text\": \"0.0002702702702702703\", \"type\": \"scatter\", \"x\": [-23.454915028125253, -22.954915028125253, null], \"y\": [47.55655277069771, 48.05655277069771, null]}, {\"hoverinfo\": \"text\", \"line\": {\"color\": \"cornflowerblue\", \"width\": 0.010810810810810811}, \"mode\": \"lines\", \"text\": \"0.0005405405405405405\", \"type\": \"scatter\", \"x\": [-23.954915028125253, -23.704915028125253, null], \"y\": [48.05655277069771, 48.48956547258992, null]}, {\"hoverinfo\": \"text\", \"line\": {\"color\": \"cornflowerblue\", \"width\": 0.25405405405405407}, \"mode\": \"lines\", \"text\": \"0.012702702702702703\", \"type\": \"scatter\", \"x\": [-23.954915028125253, -23.808468418718526, null], \"y\": [48.05655277069771, 48.41010616129098, null]}, {\"hoverinfo\": \"text\", \"line\": {\"color\": \"cornflowerblue\", \"width\": 0.05405405405405406}, \"mode\": \"lines\", \"text\": \"0.002702702702702703\", \"type\": \"scatter\", \"x\": [-23.954915028125253, -23.954915028125253, null], \"y\": [48.05655277069771, 48.05655277069771, null]}, {\"hoverinfo\": \"text\", \"line\": {\"color\": \"cornflowerblue\", \"width\": 0.02702702702702703}, \"mode\": \"lines\", \"text\": \"0.0013513513513513514\", \"type\": \"scatter\", \"x\": [-23.954915028125253, -22.954915028125253, null], \"y\": [48.05655277069771, 48.05655277069771, null]}, {\"hoverinfo\": \"text\", \"line\": {\"color\": \"cornflowerblue\", \"width\": 0.08108108108108109}, \"mode\": \"lines\", \"text\": \"0.004054054054054054\", \"type\": \"scatter\", \"x\": [-23.954915028125253, -23.454915028125253, null], \"y\": [48.05655277069771, 48.55655277069771, null]}, {\"hoverinfo\": \"text\", \"line\": {\"color\": \"cornflowerblue\", \"width\": 0.021621621621621623}, \"mode\": \"lines\", \"text\": \"0.001081081081081081\", \"type\": \"scatter\", \"x\": [-23.954915028125253, -23.954915028125253, null], \"y\": [48.05655277069771, 48.05655277069771, null]}, {\"hoverinfo\": \"text\", \"line\": {\"color\": \"cornflowerblue\", \"width\": 0.010810810810810811}, \"mode\": \"lines\", \"text\": \"0.0005405405405405405\", \"type\": \"scatter\", \"x\": [-23.954915028125253, -23.454915028125253, null], \"y\": [48.05655277069771, 47.55655277069771, null]}, {\"hoverinfo\": \"text\", \"line\": {\"color\": \"cornflowerblue\", \"width\": 0.010810810810810811}, \"mode\": \"lines\", \"text\": \"0.0005405405405405405\", \"type\": \"scatter\", \"x\": [-23.954915028125253, -23.263573311942707, null], \"y\": [48.05655277069771, 48.51849253695335, null]}, {\"hoverinfo\": \"text\", \"line\": {\"color\": \"cornflowerblue\", \"width\": 0.016216216216216217}, \"mode\": \"lines\", \"text\": \"0.0008108108108108108\", \"type\": \"scatter\", \"x\": [-23.954915028125253, -23.454915028125253, null], \"y\": [48.05655277069771, 47.55655277069771, null]}, {\"hoverinfo\": \"text\", \"line\": {\"color\": \"cornflowerblue\", \"width\": 0.005405405405405406}, \"mode\": \"lines\", \"text\": \"0.0002702702702702703\", \"type\": \"scatter\", \"x\": [-23.954915028125253, -23.704915028125253, null], \"y\": [48.05655277069771, 47.62354006880549, null]}, {\"hoverinfo\": \"text\", \"line\": {\"color\": \"cornflowerblue\", \"width\": 0.06486486486486487}, \"mode\": \"lines\", \"text\": \"0.003243243243243243\", \"type\": \"scatter\", \"x\": [-23.954915028125253, -22.954915028125253, null], \"y\": [48.05655277069771, 48.05655277069771, null]}, {\"hoverinfo\": \"text\", \"line\": {\"color\": \"cornflowerblue\", \"width\": 5.05945945945946}, \"mode\": \"lines\", \"text\": \"0.252972972972973\", \"type\": \"scatter\", \"x\": [-23.954915028125253, -23.808468418718526, null], \"y\": [48.05655277069771, 47.70299938010443, null]}, {\"hoverinfo\": \"text\", \"line\": {\"color\": \"cornflowerblue\", \"width\": 0.005405405405405406}, \"mode\": \"lines\", \"text\": \"0.0002702702702702703\", \"type\": \"scatter\", \"x\": [-23.954915028125253, -23.36809093929179, null], \"y\": [48.05655277069771, 47.564148894191604, null]}, {\"hoverinfo\": \"text\", \"line\": {\"color\": \"cornflowerblue\", \"width\": 1.1621621621621623}, \"mode\": \"lines\", \"text\": \"0.05810810810810811\", \"type\": \"scatter\", \"x\": [-23.954915028125253, -23.454915028125253, null], \"y\": [48.05655277069771, 47.55655277069771, null]}, {\"hoverinfo\": \"text\", \"line\": {\"color\": \"cornflowerblue\", \"width\": 0.032432432432432434}, \"mode\": \"lines\", \"text\": \"0.0016216216216216215\", \"type\": \"scatter\", \"x\": [-23.954915028125253, -22.954915028125253, null], \"y\": [48.05655277069771, 48.05655277069771, null]}, {\"hoverinfo\": \"text\", \"line\": {\"color\": \"cornflowerblue\", \"width\": 0.17297297297297298}, \"mode\": \"lines\", \"text\": \"0.008648648648648649\", \"type\": \"scatter\", \"x\": [-23.954915028125253, -23.071892806565764, null], \"y\": [48.05655277069771, 47.73515896585444, null]}, {\"hoverinfo\": \"text\", \"line\": {\"color\": \"cornflowerblue\", \"width\": 0.08108108108108109}, \"mode\": \"lines\", \"text\": \"0.004054054054054054\", \"type\": \"scatter\", \"x\": [-23.954915028125253, -22.954915028125253, null], \"y\": [48.05655277069771, 48.05655277069771, null]}, {\"hoverinfo\": \"text\", \"line\": {\"color\": \"cornflowerblue\", \"width\": 0.22702702702702704}, \"mode\": \"lines\", \"text\": \"0.011351351351351352\", \"type\": \"scatter\", \"x\": [-23.954915028125253, -22.954915028125253, null], \"y\": [48.05655277069771, 48.05655277069771, null]}, {\"hoverinfo\": \"text\", \"line\": {\"color\": \"cornflowerblue\", \"width\": 0.043243243243243246}, \"mode\": \"lines\", \"text\": \"0.002162162162162162\", \"type\": \"scatter\", \"x\": [-23.954915028125253, -23.10136163753198, null], \"y\": [48.05655277069771, 47.70299938010443, null]}, {\"hoverinfo\": \"text\", \"line\": {\"color\": \"cornflowerblue\", \"width\": 0.016216216216216217}, \"mode\": \"lines\", \"text\": \"0.0008108108108108108\", \"type\": \"scatter\", \"x\": [-23.954915028125253, -22.99297526186961, null], \"y\": [48.05655277069771, 47.865211054515164, null]}, {\"hoverinfo\": \"text\", \"line\": {\"color\": \"cornflowerblue\", \"width\": 0.005405405405405406}, \"mode\": \"lines\", \"text\": \"0.0002702702702702703\", \"type\": \"scatter\", \"x\": [-23.924761338518206, -23.454915028125253, null], \"y\": [48.22756284236054, 48.55655277069771, null]}, {\"hoverinfo\": \"text\", \"line\": {\"color\": \"cornflowerblue\", \"width\": 0.005405405405405406}, \"mode\": \"lines\", \"text\": \"0.0002702702702702703\", \"type\": \"scatter\", \"x\": [-23.924761338518206, -23.36809093929179, null], \"y\": [48.22756284236054, 47.564148894191604, null]}, {\"hoverinfo\": \"text\", \"line\": {\"color\": \"cornflowerblue\", \"width\": 0.010810810810810811}, \"mode\": \"lines\", \"text\": \"0.0005405405405405405\", \"type\": \"scatter\", \"x\": [-23.924761338518206, -22.954915028125253, null], \"y\": [48.22756284236054, 48.05655277069771, null]}, {\"hoverinfo\": \"text\", \"line\": {\"color\": \"cornflowerblue\", \"width\": 0.005405405405405406}, \"mode\": \"lines\", \"text\": \"0.0002702702702702703\", \"type\": \"scatter\", \"x\": [-23.924761338518206, -23.071892806565764, null], \"y\": [48.22756284236054, 47.73515896585444, null]}, {\"hoverinfo\": \"text\", \"line\": {\"color\": \"cornflowerblue\", \"width\": 0.005405405405405406}, \"mode\": \"lines\", \"text\": \"0.0002702702702702703\", \"type\": \"scatter\", \"x\": [-23.454915028125253, -23.704915028125253, null], \"y\": [48.55655277069771, 48.48956547258992, null]}, {\"hoverinfo\": \"text\", \"line\": {\"color\": \"cornflowerblue\", \"width\": 0.005405405405405406}, \"mode\": \"lines\", \"text\": \"0.0002702702702702703\", \"type\": \"scatter\", \"x\": [-23.454915028125253, -23.10136163753198, null], \"y\": [48.55655277069771, 48.41010616129098, null]}, {\"hoverinfo\": \"text\", \"line\": {\"color\": \"cornflowerblue\", \"width\": 0.043243243243243246}, \"mode\": \"lines\", \"text\": \"0.002162162162162162\", \"type\": \"scatter\", \"x\": [-23.454915028125253, -23.954915028125253, null], \"y\": [48.55655277069771, 48.05655277069771, null]}, {\"hoverinfo\": \"text\", \"line\": {\"color\": \"cornflowerblue\", \"width\": 0.010810810810810811}, \"mode\": \"lines\", \"text\": \"0.0005405405405405405\", \"type\": \"scatter\", \"x\": [-23.454915028125253, -23.454915028125253, null], \"y\": [48.55655277069771, 47.55655277069771, null]}, {\"hoverinfo\": \"text\", \"line\": {\"color\": \"cornflowerblue\", \"width\": 0.010810810810810811}, \"mode\": \"lines\", \"text\": \"0.0005405405405405405\", \"type\": \"scatter\", \"x\": [-23.454915028125253, -23.924761338518206, null], \"y\": [48.55655277069771, 47.88554269903487, null]}, {\"hoverinfo\": \"text\", \"line\": {\"color\": \"cornflowerblue\", \"width\": 0.016216216216216217}, \"mode\": \"lines\", \"text\": \"0.0008108108108108108\", \"type\": \"scatter\", \"x\": [-23.454915028125253, -23.263573311942707, null], \"y\": [48.55655277069771, 48.51849253695335, null]}, {\"hoverinfo\": \"text\", \"line\": {\"color\": \"cornflowerblue\", \"width\": 0.021621621621621623}, \"mode\": \"lines\", \"text\": \"0.001081081081081081\", \"type\": \"scatter\", \"x\": [-23.454915028125253, -22.954915028125253, null], \"y\": [48.55655277069771, 48.05655277069771, null]}, {\"hoverinfo\": \"text\", \"line\": {\"color\": \"cornflowerblue\", \"width\": 0.005405405405405406}, \"mode\": \"lines\", \"text\": \"0.0002702702702702703\", \"type\": \"scatter\", \"x\": [-23.454915028125253, -23.808468418718526, null], \"y\": [48.55655277069771, 47.70299938010443, null]}, {\"hoverinfo\": \"text\", \"line\": {\"color\": \"cornflowerblue\", \"width\": 0.032432432432432434}, \"mode\": \"lines\", \"text\": \"0.0016216216216216215\", \"type\": \"scatter\", \"x\": [-23.454915028125253, -23.808468418718526, null], \"y\": [48.55655277069771, 47.70299938010443, null]}, {\"hoverinfo\": \"text\", \"line\": {\"color\": \"cornflowerblue\", \"width\": 0.021621621621621623}, \"mode\": \"lines\", \"text\": \"0.001081081081081081\", \"type\": \"scatter\", \"x\": [-23.454915028125253, -23.36809093929179, null], \"y\": [48.55655277069771, 47.564148894191604, null]}, {\"hoverinfo\": \"text\", \"line\": {\"color\": \"cornflowerblue\", \"width\": 0.31351351351351353}, \"mode\": \"lines\", \"text\": \"0.015675675675675675\", \"type\": \"scatter\", \"x\": [-23.454915028125253, -22.954915028125253, null], \"y\": [48.55655277069771, 48.05655277069771, null]}, {\"hoverinfo\": \"text\", \"line\": {\"color\": \"cornflowerblue\", \"width\": 0.4}, \"mode\": \"lines\", \"text\": \"0.02\", \"type\": \"scatter\", \"x\": [-23.454915028125253, -23.071892806565764, null], \"y\": [48.55655277069771, 47.73515896585444, null]}, {\"hoverinfo\": \"text\", \"line\": {\"color\": \"cornflowerblue\", \"width\": 0.010810810810810811}, \"mode\": \"lines\", \"text\": \"0.0005405405405405405\", \"type\": \"scatter\", \"x\": [-23.454915028125253, -22.954915028125253, null], \"y\": [48.55655277069771, 48.05655277069771, null]}, {\"hoverinfo\": \"text\", \"line\": {\"color\": \"cornflowerblue\", \"width\": 0.005405405405405406}, \"mode\": \"lines\", \"text\": \"0.0002702702702702703\", \"type\": \"scatter\", \"x\": [-23.454915028125253, -22.954915028125253, null], \"y\": [48.55655277069771, 48.05655277069771, null]}, {\"hoverinfo\": \"text\", \"line\": {\"color\": \"cornflowerblue\", \"width\": 0.021621621621621623}, \"mode\": \"lines\", \"text\": \"0.001081081081081081\", \"type\": \"scatter\", \"x\": [-23.454915028125253, -23.916854794380896, null], \"y\": [48.55655277069771, 48.24789448688025, null]}, {\"hoverinfo\": \"text\", \"line\": {\"color\": \"cornflowerblue\", \"width\": 0.07027027027027027}, \"mode\": \"lines\", \"text\": \"0.0035135135135135136\", \"type\": \"scatter\", \"x\": [-23.454915028125253, -22.99297526186961, null], \"y\": [48.55655277069771, 47.865211054515164, null]}, {\"hoverinfo\": \"text\", \"line\": {\"color\": \"cornflowerblue\", \"width\": 0.005405405405405406}, \"mode\": \"lines\", \"text\": \"0.0002702702702702703\", \"type\": \"scatter\", \"x\": [-23.954915028125253, -23.10136163753198, null], \"y\": [48.05655277069771, 48.41010616129098, null]}, {\"hoverinfo\": \"text\", \"line\": {\"color\": \"cornflowerblue\", \"width\": 0.010810810810810811}, \"mode\": \"lines\", \"text\": \"0.0005405405405405405\", \"type\": \"scatter\", \"x\": [-23.954915028125253, -23.454915028125253, null], \"y\": [48.05655277069771, 47.55655277069771, null]}, {\"hoverinfo\": \"text\", \"line\": {\"color\": \"cornflowerblue\", \"width\": 0.010810810810810811}, \"mode\": \"lines\", \"text\": \"0.0005405405405405405\", \"type\": \"scatter\", \"x\": [-23.954915028125253, -23.924761338518206, null], \"y\": [48.05655277069771, 47.88554269903487, null]}, {\"hoverinfo\": \"text\", \"line\": {\"color\": \"cornflowerblue\", \"width\": 0.016216216216216217}, \"mode\": \"lines\", \"text\": \"0.0008108108108108108\", \"type\": \"scatter\", \"x\": [-23.954915028125253, -22.954915028125253, null], \"y\": [48.05655277069771, 48.05655277069771, null]}, {\"hoverinfo\": \"text\", \"line\": {\"color\": \"cornflowerblue\", \"width\": 0.021621621621621623}, \"mode\": \"lines\", \"text\": \"0.001081081081081081\", \"type\": \"scatter\", \"x\": [-23.954915028125253, -22.954915028125253, null], \"y\": [48.05655277069771, 48.05655277069771, null]}, {\"hoverinfo\": \"text\", \"line\": {\"color\": \"cornflowerblue\", \"width\": 0.005405405405405406}, \"mode\": \"lines\", \"text\": \"0.0002702702702702703\", \"type\": \"scatter\", \"x\": [-23.954915028125253, -23.808468418718526, null], \"y\": [48.05655277069771, 47.70299938010443, null]}, {\"hoverinfo\": \"text\", \"line\": {\"color\": \"cornflowerblue\", \"width\": 0.010810810810810811}, \"mode\": \"lines\", \"text\": \"0.0005405405405405405\", \"type\": \"scatter\", \"x\": [-23.954915028125253, -23.36809093929179, null], \"y\": [48.05655277069771, 47.564148894191604, null]}, {\"hoverinfo\": \"text\", \"line\": {\"color\": \"cornflowerblue\", \"width\": 0.005405405405405406}, \"mode\": \"lines\", \"text\": \"0.0002702702702702703\", \"type\": \"scatter\", \"x\": [-23.954915028125253, -23.454915028125253, null], \"y\": [48.05655277069771, 47.55655277069771, null]}, {\"hoverinfo\": \"text\", \"line\": {\"color\": \"cornflowerblue\", \"width\": 0.08648648648648649}, \"mode\": \"lines\", \"text\": \"0.004324324324324324\", \"type\": \"scatter\", \"x\": [-23.954915028125253, -22.954915028125253, null], \"y\": [48.05655277069771, 48.05655277069771, null]}, {\"hoverinfo\": \"text\", \"line\": {\"color\": \"cornflowerblue\", \"width\": 0.14054054054054055}, \"mode\": \"lines\", \"text\": \"0.007027027027027027\", \"type\": \"scatter\", \"x\": [-23.954915028125253, -23.071892806565764, null], \"y\": [48.05655277069771, 47.73515896585444, null]}, {\"hoverinfo\": \"text\", \"line\": {\"color\": \"cornflowerblue\", \"width\": 0.010810810810810811}, \"mode\": \"lines\", \"text\": \"0.0005405405405405405\", \"type\": \"scatter\", \"x\": [-23.954915028125253, -22.99297526186961, null], \"y\": [48.05655277069771, 47.865211054515164, null]}, {\"hoverinfo\": \"text\", \"line\": {\"color\": \"cornflowerblue\", \"width\": 0.010810810810810811}, \"mode\": \"lines\", \"text\": \"0.0005405405405405405\", \"type\": \"scatter\", \"x\": [-23.924761338518206, -23.071892806565764, null], \"y\": [47.88554269903487, 48.377946575540975, null]}, {\"hoverinfo\": \"text\", \"line\": {\"color\": \"cornflowerblue\", \"width\": 0.005405405405405406}, \"mode\": \"lines\", \"text\": \"0.0002702702702702703\", \"type\": \"scatter\", \"x\": [-23.924761338518206, -23.454915028125253, null], \"y\": [47.88554269903487, 47.55655277069771, null]}, {\"hoverinfo\": \"text\", \"line\": {\"color\": \"cornflowerblue\", \"width\": 0.005405405405405406}, \"mode\": \"lines\", \"text\": \"0.0002702702702702703\", \"type\": \"scatter\", \"x\": [-23.924761338518206, -22.954915028125253, null], \"y\": [47.88554269903487, 48.05655277069771, null]}, {\"hoverinfo\": \"text\", \"line\": {\"color\": \"cornflowerblue\", \"width\": 0.010810810810810811}, \"mode\": \"lines\", \"text\": \"0.0005405405405405405\", \"type\": \"scatter\", \"x\": [-23.924761338518206, -23.454915028125253, null], \"y\": [47.88554269903487, 47.55655277069771, null]}, {\"hoverinfo\": \"text\", \"line\": {\"color\": \"cornflowerblue\", \"width\": 0.005405405405405406}, \"mode\": \"lines\", \"text\": \"0.0002702702702702703\", \"type\": \"scatter\", \"x\": [-23.924761338518206, -22.954915028125253, null], \"y\": [47.88554269903487, 48.05655277069771, null]}, {\"hoverinfo\": \"text\", \"line\": {\"color\": \"cornflowerblue\", \"width\": 0.02702702702702703}, \"mode\": \"lines\", \"text\": \"0.0013513513513513514\", \"type\": \"scatter\", \"x\": [-23.924761338518206, -23.36809093929179, null], \"y\": [47.88554269903487, 47.564148894191604, null]}, {\"hoverinfo\": \"text\", \"line\": {\"color\": \"cornflowerblue\", \"width\": 0.07027027027027027}, \"mode\": \"lines\", \"text\": \"0.0035135135135135136\", \"type\": \"scatter\", \"x\": [-23.924761338518206, -22.954915028125253, null], \"y\": [47.88554269903487, 48.05655277069771, null]}, {\"hoverinfo\": \"text\", \"line\": {\"color\": \"cornflowerblue\", \"width\": 0.032432432432432434}, \"mode\": \"lines\", \"text\": \"0.0016216216216216215\", \"type\": \"scatter\", \"x\": [-23.924761338518206, -23.071892806565764, null], \"y\": [47.88554269903487, 47.73515896585444, null]}, {\"hoverinfo\": \"text\", \"line\": {\"color\": \"cornflowerblue\", \"width\": 0.010810810810810811}, \"mode\": \"lines\", \"text\": \"0.0005405405405405405\", \"type\": \"scatter\", \"x\": [-23.924761338518206, -22.954915028125253, null], \"y\": [47.88554269903487, 48.05655277069771, null]}, {\"hoverinfo\": \"text\", \"line\": {\"color\": \"cornflowerblue\", \"width\": 0.005405405405405406}, \"mode\": \"lines\", \"text\": \"0.0002702702702702703\", \"type\": \"scatter\", \"x\": [-23.454915028125253, -22.99297526186961, null], \"y\": [47.55655277069771, 48.24789448688025, null]}, {\"hoverinfo\": \"text\", \"line\": {\"color\": \"cornflowerblue\", \"width\": 0.010810810810810811}, \"mode\": \"lines\", \"text\": \"0.0005405405405405405\", \"type\": \"scatter\", \"x\": [-23.454915028125253, -22.954915028125253, null], \"y\": [47.55655277069771, 48.05655277069771, null]}, {\"hoverinfo\": \"text\", \"line\": {\"color\": \"cornflowerblue\", \"width\": 0.005405405405405406}, \"mode\": \"lines\", \"text\": \"0.0002702702702702703\", \"type\": \"scatter\", \"x\": [-23.454915028125253, -23.454915028125253, null], \"y\": [47.55655277069771, 47.55655277069771, null]}, {\"hoverinfo\": \"text\", \"line\": {\"color\": \"cornflowerblue\", \"width\": 0.005405405405405406}, \"mode\": \"lines\", \"text\": \"0.0002702702702702703\", \"type\": \"scatter\", \"x\": [-23.454915028125253, -22.954915028125253, null], \"y\": [47.55655277069771, 48.05655277069771, null]}, {\"hoverinfo\": \"text\", \"line\": {\"color\": \"cornflowerblue\", \"width\": 0.010810810810810811}, \"mode\": \"lines\", \"text\": \"0.0005405405405405405\", \"type\": \"scatter\", \"x\": [-23.454915028125253, -23.808468418718526, null], \"y\": [47.55655277069771, 47.70299938010443, null]}, {\"hoverinfo\": \"text\", \"line\": {\"color\": \"cornflowerblue\", \"width\": 0.016216216216216217}, \"mode\": \"lines\", \"text\": \"0.0008108108108108108\", \"type\": \"scatter\", \"x\": [-23.454915028125253, -22.954915028125253, null], \"y\": [47.55655277069771, 48.05655277069771, null]}, {\"hoverinfo\": \"text\", \"line\": {\"color\": \"cornflowerblue\", \"width\": 0.021621621621621623}, \"mode\": \"lines\", \"text\": \"0.001081081081081081\", \"type\": \"scatter\", \"x\": [-23.454915028125253, -23.071892806565764, null], \"y\": [47.55655277069771, 47.73515896585444, null]}, {\"hoverinfo\": \"text\", \"line\": {\"color\": \"cornflowerblue\", \"width\": 0.032432432432432434}, \"mode\": \"lines\", \"text\": \"0.0016216216216216215\", \"type\": \"scatter\", \"x\": [-23.454915028125253, -22.954915028125253, null], \"y\": [47.55655277069771, 48.05655277069771, null]}, {\"hoverinfo\": \"text\", \"line\": {\"color\": \"cornflowerblue\", \"width\": 0.005405405405405406}, \"mode\": \"lines\", \"text\": \"0.0002702702702702703\", \"type\": \"scatter\", \"x\": [-23.454915028125253, -23.10136163753198, null], \"y\": [47.55655277069771, 47.70299938010443, null]}, {\"hoverinfo\": \"text\", \"line\": {\"color\": \"cornflowerblue\", \"width\": 0.005405405405405406}, \"mode\": \"lines\", \"text\": \"0.0002702702702702703\", \"type\": \"scatter\", \"x\": [-22.954915028125253, -23.071892806565764, null], \"y\": [48.05655277069771, 48.377946575540975, null]}, {\"hoverinfo\": \"text\", \"line\": {\"color\": \"cornflowerblue\", \"width\": 0.005405405405405406}, \"mode\": \"lines\", \"text\": \"0.0002702702702702703\", \"type\": \"scatter\", \"x\": [-22.954915028125253, -23.10136163753198, null], \"y\": [48.05655277069771, 48.41010616129098, null]}, {\"hoverinfo\": \"text\", \"line\": {\"color\": \"cornflowerblue\", \"width\": 0.05405405405405406}, \"mode\": \"lines\", \"text\": \"0.002702702702702703\", \"type\": \"scatter\", \"x\": [-22.954915028125253, -23.859423525312728, null], \"y\": [48.05655277069771, 48.350445396843945, null]}, {\"hoverinfo\": \"text\", \"line\": {\"color\": \"cornflowerblue\", \"width\": 0.005405405405405406}, \"mode\": \"lines\", \"text\": \"0.0002702702702702703\", \"type\": \"scatter\", \"x\": [-22.954915028125253, -23.454915028125253, null], \"y\": [48.05655277069771, 47.55655277069771, null]}, {\"hoverinfo\": \"text\", \"line\": {\"color\": \"cornflowerblue\", \"width\": 0.005405405405405406}, \"mode\": \"lines\", \"text\": \"0.0002702702702702703\", \"type\": \"scatter\", \"x\": [-22.954915028125253, -22.954915028125253, null], \"y\": [48.05655277069771, 48.05655277069771, null]}, {\"hoverinfo\": \"text\", \"line\": {\"color\": \"cornflowerblue\", \"width\": 0.048648648648648644}, \"mode\": \"lines\", \"text\": \"0.0024324324324324323\", \"type\": \"scatter\", \"x\": [-22.954915028125253, -23.300406530937778, null], \"y\": [48.05655277069771, 47.58102451255013, null]}, {\"hoverinfo\": \"text\", \"line\": {\"color\": \"cornflowerblue\", \"width\": 0.021621621621621623}, \"mode\": \"lines\", \"text\": \"0.001081081081081081\", \"type\": \"scatter\", \"x\": [-22.954915028125253, -23.808468418718526, null], \"y\": [48.05655277069771, 47.70299938010443, null]}, {\"hoverinfo\": \"text\", \"line\": {\"color\": \"cornflowerblue\", \"width\": 0.005405405405405406}, \"mode\": \"lines\", \"text\": \"0.0002702702702702703\", \"type\": \"scatter\", \"x\": [-22.954915028125253, -22.954915028125253, null], \"y\": [48.05655277069771, 48.05655277069771, null]}, {\"hoverinfo\": \"text\", \"line\": {\"color\": \"cornflowerblue\", \"width\": 0.005405405405405406}, \"mode\": \"lines\", \"text\": \"0.0002702702702702703\", \"type\": \"scatter\", \"x\": [-22.954915028125253, -23.36809093929179, null], \"y\": [48.05655277069771, 47.564148894191604, null]}, {\"hoverinfo\": \"text\", \"line\": {\"color\": \"cornflowerblue\", \"width\": 0.010810810810810811}, \"mode\": \"lines\", \"text\": \"0.0005405405405405405\", \"type\": \"scatter\", \"x\": [-22.954915028125253, -23.454915028125253, null], \"y\": [48.05655277069771, 47.55655277069771, null]}, {\"hoverinfo\": \"text\", \"line\": {\"color\": \"cornflowerblue\", \"width\": 0.016216216216216217}, \"mode\": \"lines\", \"text\": \"0.0008108108108108108\", \"type\": \"scatter\", \"x\": [-22.954915028125253, -22.954915028125253, null], \"y\": [48.05655277069771, 48.05655277069771, null]}, {\"hoverinfo\": \"text\", \"line\": {\"color\": \"cornflowerblue\", \"width\": 0.07567567567567568}, \"mode\": \"lines\", \"text\": \"0.0037837837837837837\", \"type\": \"scatter\", \"x\": [-22.954915028125253, -23.071892806565764, null], \"y\": [48.05655277069771, 47.73515896585444, null]}, {\"hoverinfo\": \"text\", \"line\": {\"color\": \"cornflowerblue\", \"width\": 0.02702702702702703}, \"mode\": \"lines\", \"text\": \"0.0013513513513513514\", \"type\": \"scatter\", \"x\": [-22.954915028125253, -22.954915028125253, null], \"y\": [48.05655277069771, 48.05655277069771, null]}, {\"hoverinfo\": \"text\", \"line\": {\"color\": \"cornflowerblue\", \"width\": 0.02702702702702703}, \"mode\": \"lines\", \"text\": \"0.0013513513513513514\", \"type\": \"scatter\", \"x\": [-22.954915028125253, -22.954915028125253, null], \"y\": [48.05655277069771, 48.05655277069771, null]}, {\"hoverinfo\": \"text\", \"line\": {\"color\": \"cornflowerblue\", \"width\": 0.005405405405405406}, \"mode\": \"lines\", \"text\": \"0.0002702702702702703\", \"type\": \"scatter\", \"x\": [-22.954915028125253, -23.10136163753198, null], \"y\": [48.05655277069771, 47.70299938010443, null]}, {\"hoverinfo\": \"text\", \"line\": {\"color\": \"cornflowerblue\", \"width\": 0.005405405405405406}, \"mode\": \"lines\", \"text\": \"0.0002702702702702703\", \"type\": \"scatter\", \"x\": [-22.954915028125253, -22.99297526186961, null], \"y\": [48.05655277069771, 47.865211054515164, null]}, {\"hoverinfo\": \"text\", \"line\": {\"color\": \"cornflowerblue\", \"width\": 0.010810810810810811}, \"mode\": \"lines\", \"text\": \"0.0005405405405405405\", \"type\": \"scatter\", \"x\": [-22.954915028125253, -23.10136163753198, null], \"y\": [48.05655277069771, 48.41010616129098, null]}, {\"hoverinfo\": \"text\", \"line\": {\"color\": \"cornflowerblue\", \"width\": 0.005405405405405406}, \"mode\": \"lines\", \"text\": \"0.0002702702702702703\", \"type\": \"scatter\", \"x\": [-22.954915028125253, -23.454915028125253, null], \"y\": [48.05655277069771, 48.55655277069771, null]}, {\"hoverinfo\": \"text\", \"line\": {\"color\": \"cornflowerblue\", \"width\": 0.2}, \"mode\": \"lines\", \"text\": \"0.01\", \"type\": \"scatter\", \"x\": [-22.954915028125253, -23.454915028125253, null], \"y\": [48.05655277069771, 47.55655277069771, null]}, {\"hoverinfo\": \"text\", \"line\": {\"color\": \"cornflowerblue\", \"width\": 0.010810810810810811}, \"mode\": \"lines\", \"text\": \"0.0005405405405405405\", \"type\": \"scatter\", \"x\": [-22.954915028125253, -22.954915028125253, null], \"y\": [48.05655277069771, 48.05655277069771, null]}, {\"hoverinfo\": \"text\", \"line\": {\"color\": \"cornflowerblue\", \"width\": 0.021621621621621623}, \"mode\": \"lines\", \"text\": \"0.001081081081081081\", \"type\": \"scatter\", \"x\": [-22.954915028125253, -23.071892806565764, null], \"y\": [48.05655277069771, 47.73515896585444, null]}, {\"hoverinfo\": \"text\", \"line\": {\"color\": \"cornflowerblue\", \"width\": 0.005405405405405406}, \"mode\": \"lines\", \"text\": \"0.0002702702702702703\", \"type\": \"scatter\", \"x\": [-23.454915028125253, -23.859423525312728, null], \"y\": [47.55655277069771, 48.350445396843945, null]}, {\"hoverinfo\": \"text\", \"line\": {\"color\": \"cornflowerblue\", \"width\": 0.2}, \"mode\": \"lines\", \"text\": \"0.01\", \"type\": \"scatter\", \"x\": [-23.454915028125253, -23.808468418718526, null], \"y\": [47.55655277069771, 48.41010616129098, null]}, {\"hoverinfo\": \"text\", \"line\": {\"color\": \"cornflowerblue\", \"width\": 0.016216216216216217}, \"mode\": \"lines\", \"text\": \"0.0008108108108108108\", \"type\": \"scatter\", \"x\": [-23.454915028125253, -23.954915028125253, null], \"y\": [47.55655277069771, 48.05655277069771, null]}, {\"hoverinfo\": \"text\", \"line\": {\"color\": \"cornflowerblue\", \"width\": 0.005405405405405406}, \"mode\": \"lines\", \"text\": \"0.0002702702702702703\", \"type\": \"scatter\", \"x\": [-23.454915028125253, -22.954915028125253, null], \"y\": [47.55655277069771, 48.05655277069771, null]}, {\"hoverinfo\": \"text\", \"line\": {\"color\": \"cornflowerblue\", \"width\": 0.048648648648648644}, \"mode\": \"lines\", \"text\": \"0.0024324324324324323\", \"type\": \"scatter\", \"x\": [-23.454915028125253, -23.808468418718526, null], \"y\": [47.55655277069771, 47.70299938010443, null]}, {\"hoverinfo\": \"text\", \"line\": {\"color\": \"cornflowerblue\", \"width\": 0.010810810810810811}, \"mode\": \"lines\", \"text\": \"0.0005405405405405405\", \"type\": \"scatter\", \"x\": [-23.454915028125253, -23.071892806565764, null], \"y\": [47.55655277069771, 47.73515896585444, null]}, {\"hoverinfo\": \"text\", \"line\": {\"color\": \"cornflowerblue\", \"width\": 0.010810810810810811}, \"mode\": \"lines\", \"text\": \"0.0005405405405405405\", \"type\": \"scatter\", \"x\": [-23.454915028125253, -22.954915028125253, null], \"y\": [47.55655277069771, 48.05655277069771, null]}, {\"hoverinfo\": \"text\", \"line\": {\"color\": \"cornflowerblue\", \"width\": 0.02702702702702703}, \"mode\": \"lines\", \"text\": \"0.0013513513513513514\", \"type\": \"scatter\", \"x\": [-23.454915028125253, -22.954915028125253, null], \"y\": [47.55655277069771, 48.05655277069771, null]}, {\"hoverinfo\": \"text\", \"line\": {\"color\": \"cornflowerblue\", \"width\": 0.048648648648648644}, \"mode\": \"lines\", \"text\": \"0.0024324324324324323\", \"type\": \"scatter\", \"x\": [-23.454915028125253, -23.10136163753198, null], \"y\": [47.55655277069771, 47.70299938010443, null]}, {\"hoverinfo\": \"text\", \"line\": {\"color\": \"cornflowerblue\", \"width\": 0.005405405405405406}, \"mode\": \"lines\", \"text\": \"0.0002702702702702703\", \"type\": \"scatter\", \"x\": [-22.954915028125253, -23.10136163753198, null], \"y\": [48.05655277069771, 48.41010616129098, null]}, {\"hoverinfo\": \"text\", \"line\": {\"color\": \"cornflowerblue\", \"width\": 0.021621621621621623}, \"mode\": \"lines\", \"text\": \"0.001081081081081081\", \"type\": \"scatter\", \"x\": [-22.954915028125253, -23.454915028125253, null], \"y\": [48.05655277069771, 47.55655277069771, null]}, {\"hoverinfo\": \"text\", \"line\": {\"color\": \"cornflowerblue\", \"width\": 0.005405405405405406}, \"mode\": \"lines\", \"text\": \"0.0002702702702702703\", \"type\": \"scatter\", \"x\": [-22.954915028125253, -23.263573311942707, null], \"y\": [48.05655277069771, 48.51849253695335, null]}, {\"hoverinfo\": \"text\", \"line\": {\"color\": \"cornflowerblue\", \"width\": 0.016216216216216217}, \"mode\": \"lines\", \"text\": \"0.0008108108108108108\", \"type\": \"scatter\", \"x\": [-22.954915028125253, -23.6462567443078, null], \"y\": [48.05655277069771, 48.51849253695335, null]}, {\"hoverinfo\": \"text\", \"line\": {\"color\": \"cornflowerblue\", \"width\": 0.016216216216216217}, \"mode\": \"lines\", \"text\": \"0.0008108108108108108\", \"type\": \"scatter\", \"x\": [-22.954915028125253, -23.808468418718526, null], \"y\": [48.05655277069771, 48.41010616129098, null]}, {\"hoverinfo\": \"text\", \"line\": {\"color\": \"cornflowerblue\", \"width\": 0.02702702702702703}, \"mode\": \"lines\", \"text\": \"0.0013513513513513514\", \"type\": \"scatter\", \"x\": [-22.954915028125253, -23.808468418718526, null], \"y\": [48.05655277069771, 47.70299938010443, null]}, {\"hoverinfo\": \"text\", \"line\": {\"color\": \"cornflowerblue\", \"width\": 0.005405405405405406}, \"mode\": \"lines\", \"text\": \"0.0002702702702702703\", \"type\": \"scatter\", \"x\": [-22.954915028125253, -23.808468418718526, null], \"y\": [48.05655277069771, 47.70299938010443, null]}, {\"hoverinfo\": \"text\", \"line\": {\"color\": \"cornflowerblue\", \"width\": 0.005405405405405406}, \"mode\": \"lines\", \"text\": \"0.0002702702702702703\", \"type\": \"scatter\", \"x\": [-22.954915028125253, -23.36809093929179, null], \"y\": [48.05655277069771, 47.564148894191604, null]}, {\"hoverinfo\": \"text\", \"line\": {\"color\": \"cornflowerblue\", \"width\": 0.010810810810810811}, \"mode\": \"lines\", \"text\": \"0.0005405405405405405\", \"type\": \"scatter\", \"x\": [-22.954915028125253, -23.454915028125253, null], \"y\": [48.05655277069771, 47.55655277069771, null]}, {\"hoverinfo\": \"text\", \"line\": {\"color\": \"cornflowerblue\", \"width\": 0.005405405405405406}, \"mode\": \"lines\", \"text\": \"0.0002702702702702703\", \"type\": \"scatter\", \"x\": [-22.954915028125253, -23.263573311942707, null], \"y\": [48.05655277069771, 47.59461300444206, null]}, {\"hoverinfo\": \"text\", \"line\": {\"color\": \"cornflowerblue\", \"width\": 0.005405405405405406}, \"mode\": \"lines\", \"text\": \"0.0002702702702702703\", \"type\": \"scatter\", \"x\": [-22.954915028125253, -23.10136163753198, null], \"y\": [48.05655277069771, 47.70299938010443, null]}, {\"hoverinfo\": \"text\", \"line\": {\"color\": \"cornflowerblue\", \"width\": 0.1837837837837838}, \"mode\": \"lines\", \"text\": \"0.009189189189189189\", \"type\": \"scatter\", \"x\": [-22.954915028125253, -23.071892806565764, null], \"y\": [48.05655277069771, 47.73515896585444, null]}, {\"hoverinfo\": \"text\", \"line\": {\"color\": \"cornflowerblue\", \"width\": 0.05405405405405406}, \"mode\": \"lines\", \"text\": \"0.002702702702702703\", \"type\": \"scatter\", \"x\": [-22.954915028125253, -22.954915028125253, null], \"y\": [48.05655277069771, 48.05655277069771, null]}, {\"hoverinfo\": \"text\", \"line\": {\"color\": \"cornflowerblue\", \"width\": 0.010810810810810811}, \"mode\": \"lines\", \"text\": \"0.0005405405405405405\", \"type\": \"scatter\", \"x\": [-22.954915028125253, -22.954915028125253, null], \"y\": [48.05655277069771, 48.05655277069771, null]}, {\"hoverinfo\": \"text\", \"line\": {\"color\": \"cornflowerblue\", \"width\": 0.02702702702702703}, \"mode\": \"lines\", \"text\": \"0.0013513513513513514\", \"type\": \"scatter\", \"x\": [-22.954915028125253, -23.916854794380896, null], \"y\": [48.05655277069771, 48.24789448688025, null]}, {\"hoverinfo\": \"text\", \"line\": {\"color\": \"cornflowerblue\", \"width\": 0.11351351351351352}, \"mode\": \"lines\", \"text\": \"0.005675675675675676\", \"type\": \"scatter\", \"x\": [-22.954915028125253, -22.99297526186961, null], \"y\": [48.05655277069771, 47.865211054515164, null]}, {\"hoverinfo\": \"text\", \"line\": {\"color\": \"cornflowerblue\", \"width\": 0.016216216216216217}, \"mode\": \"lines\", \"text\": \"0.0008108108108108108\", \"type\": \"scatter\", \"x\": [-23.071892806565764, -23.071892806565764, null], \"y\": [47.73515896585444, 48.377946575540975, null]}, {\"hoverinfo\": \"text\", \"line\": {\"color\": \"cornflowerblue\", \"width\": 0.016216216216216217}, \"mode\": \"lines\", \"text\": \"0.0008108108108108108\", \"type\": \"scatter\", \"x\": [-23.071892806565764, -23.704915028125253, null], \"y\": [47.73515896585444, 48.48956547258992, null]}, {\"hoverinfo\": \"text\", \"line\": {\"color\": \"cornflowerblue\", \"width\": 0.016216216216216217}, \"mode\": \"lines\", \"text\": \"0.0008108108108108108\", \"type\": \"scatter\", \"x\": [-23.071892806565764, -23.10136163753198, null], \"y\": [47.73515896585444, 48.41010616129098, null]}, {\"hoverinfo\": \"text\", \"line\": {\"color\": \"cornflowerblue\", \"width\": 0.005405405405405406}, \"mode\": \"lines\", \"text\": \"0.0002702702702702703\", \"type\": \"scatter\", \"x\": [-23.071892806565764, -23.454915028125253, null], \"y\": [47.73515896585444, 48.55655277069771, null]}, {\"hoverinfo\": \"text\", \"line\": {\"color\": \"cornflowerblue\", \"width\": 0.02702702702702703}, \"mode\": \"lines\", \"text\": \"0.0013513513513513514\", \"type\": \"scatter\", \"x\": [-23.071892806565764, -23.859423525312728, null], \"y\": [47.73515896585444, 48.350445396843945, null]}, {\"hoverinfo\": \"text\", \"line\": {\"color\": \"cornflowerblue\", \"width\": 0.02702702702702703}, \"mode\": \"lines\", \"text\": \"0.0013513513513513514\", \"type\": \"scatter\", \"x\": [-23.071892806565764, -23.454915028125253, null], \"y\": [47.73515896585444, 47.55655277069771, null]}, {\"hoverinfo\": \"text\", \"line\": {\"color\": \"cornflowerblue\", \"width\": 0.010810810810810811}, \"mode\": \"lines\", \"text\": \"0.0005405405405405405\", \"type\": \"scatter\", \"x\": [-23.071892806565764, -23.454915028125253, null], \"y\": [47.73515896585444, 47.55655277069771, null]}, {\"hoverinfo\": \"text\", \"line\": {\"color\": \"cornflowerblue\", \"width\": 0.005405405405405406}, \"mode\": \"lines\", \"text\": \"0.0002702702702702703\", \"type\": \"scatter\", \"x\": [-23.071892806565764, -22.954915028125253, null], \"y\": [47.73515896585444, 48.05655277069771, null]}, {\"hoverinfo\": \"text\", \"line\": {\"color\": \"cornflowerblue\", \"width\": 0.010810810810810811}, \"mode\": \"lines\", \"text\": \"0.0005405405405405405\", \"type\": \"scatter\", \"x\": [-23.071892806565764, -23.300406530937778, null], \"y\": [47.73515896585444, 47.58102451255013, null]}, {\"hoverinfo\": \"text\", \"line\": {\"color\": \"cornflowerblue\", \"width\": 0.043243243243243246}, \"mode\": \"lines\", \"text\": \"0.002162162162162162\", \"type\": \"scatter\", \"x\": [-23.071892806565764, -23.808468418718526, null], \"y\": [47.73515896585444, 47.70299938010443, null]}, {\"hoverinfo\": \"text\", \"line\": {\"color\": \"cornflowerblue\", \"width\": 0.016216216216216217}, \"mode\": \"lines\", \"text\": \"0.0008108108108108108\", \"type\": \"scatter\", \"x\": [-23.071892806565764, -23.6462567443078, null], \"y\": [47.73515896585444, 47.59461300444206, null]}, {\"hoverinfo\": \"text\", \"line\": {\"color\": \"cornflowerblue\", \"width\": 0.07027027027027027}, \"mode\": \"lines\", \"text\": \"0.0035135135135135136\", \"type\": \"scatter\", \"x\": [-23.071892806565764, -23.36809093929179, null], \"y\": [47.73515896585444, 47.564148894191604, null]}, {\"hoverinfo\": \"text\", \"line\": {\"color\": \"cornflowerblue\", \"width\": 0.021621621621621623}, \"mode\": \"lines\", \"text\": \"0.001081081081081081\", \"type\": \"scatter\", \"x\": [-23.071892806565764, -22.954915028125253, null], \"y\": [47.73515896585444, 48.05655277069771, null]}, {\"hoverinfo\": \"text\", \"line\": {\"color\": \"cornflowerblue\", \"width\": 0.005405405405405406}, \"mode\": \"lines\", \"text\": \"0.0002702702702702703\", \"type\": \"scatter\", \"x\": [-23.071892806565764, -22.954915028125253, null], \"y\": [47.73515896585444, 48.05655277069771, null]}, {\"hoverinfo\": \"text\", \"line\": {\"color\": \"cornflowerblue\", \"width\": 0.010810810810810811}, \"mode\": \"lines\", \"text\": \"0.0005405405405405405\", \"type\": \"scatter\", \"x\": [-23.071892806565764, -23.916854794380896, null], \"y\": [47.73515896585444, 48.24789448688025, null]}, {\"hoverinfo\": \"text\", \"line\": {\"color\": \"cornflowerblue\", \"width\": 0.021621621621621623}, \"mode\": \"lines\", \"text\": \"0.001081081081081081\", \"type\": \"scatter\", \"x\": [-23.071892806565764, -23.10136163753198, null], \"y\": [47.73515896585444, 47.70299938010443, null]}, {\"hoverinfo\": \"text\", \"line\": {\"color\": \"cornflowerblue\", \"width\": 0.010810810810810811}, \"mode\": \"lines\", \"text\": \"0.0005405405405405405\", \"type\": \"scatter\", \"x\": [-23.071892806565764, -22.99297526186961, null], \"y\": [47.73515896585444, 47.865211054515164, null]}, {\"hoverinfo\": \"text\", \"line\": {\"color\": \"cornflowerblue\", \"width\": 0.005405405405405406}, \"mode\": \"lines\", \"text\": \"0.0002702702702702703\", \"type\": \"scatter\", \"x\": [-22.954915028125253, -23.954915028125253, null], \"y\": [48.05655277069771, 48.05655277069771, null]}, {\"hoverinfo\": \"text\", \"line\": {\"color\": \"cornflowerblue\", \"width\": 0.005405405405405406}, \"mode\": \"lines\", \"text\": \"0.0002702702702702703\", \"type\": \"scatter\", \"x\": [-22.954915028125253, -22.954915028125253, null], \"y\": [48.05655277069771, 48.05655277069771, null]}, {\"hoverinfo\": \"text\", \"line\": {\"color\": \"cornflowerblue\", \"width\": 0.005405405405405406}, \"mode\": \"lines\", \"text\": \"0.0002702702702702703\", \"type\": \"scatter\", \"x\": [-22.954915028125253, -22.954915028125253, null], \"y\": [48.05655277069771, 48.05655277069771, null]}, {\"hoverinfo\": \"text\", \"line\": {\"color\": \"cornflowerblue\", \"width\": 0.005405405405405406}, \"mode\": \"lines\", \"text\": \"0.0002702702702702703\", \"type\": \"scatter\", \"x\": [-22.954915028125253, -23.300406530937778, null], \"y\": [48.05655277069771, 47.58102451255013, null]}, {\"hoverinfo\": \"text\", \"line\": {\"color\": \"cornflowerblue\", \"width\": 0.03783783783783784}, \"mode\": \"lines\", \"text\": \"0.0018918918918918919\", \"type\": \"scatter\", \"x\": [-22.954915028125253, -23.808468418718526, null], \"y\": [48.05655277069771, 47.70299938010443, null]}, {\"hoverinfo\": \"text\", \"line\": {\"color\": \"cornflowerblue\", \"width\": 0.005405405405405406}, \"mode\": \"lines\", \"text\": \"0.0002702702702702703\", \"type\": \"scatter\", \"x\": [-22.954915028125253, -23.36809093929179, null], \"y\": [48.05655277069771, 47.564148894191604, null]}, {\"hoverinfo\": \"text\", \"line\": {\"color\": \"cornflowerblue\", \"width\": 0.032432432432432434}, \"mode\": \"lines\", \"text\": \"0.0016216216216216215\", \"type\": \"scatter\", \"x\": [-22.954915028125253, -22.954915028125253, null], \"y\": [48.05655277069771, 48.05655277069771, null]}, {\"hoverinfo\": \"text\", \"line\": {\"color\": \"cornflowerblue\", \"width\": 0.016216216216216217}, \"mode\": \"lines\", \"text\": \"0.0008108108108108108\", \"type\": \"scatter\", \"x\": [-22.954915028125253, -22.99297526186961, null], \"y\": [48.05655277069771, 47.865211054515164, null]}, {\"hoverinfo\": \"text\", \"line\": {\"color\": \"cornflowerblue\", \"width\": 0.005405405405405406}, \"mode\": \"lines\", \"text\": \"0.0002702702702702703\", \"type\": \"scatter\", \"x\": [-22.954915028125253, -22.99297526186961, null], \"y\": [48.05655277069771, 48.24789448688025, null]}, {\"hoverinfo\": \"text\", \"line\": {\"color\": \"cornflowerblue\", \"width\": 0.032432432432432434}, \"mode\": \"lines\", \"text\": \"0.0016216216216216215\", \"type\": \"scatter\", \"x\": [-22.954915028125253, -23.808468418718526, null], \"y\": [48.05655277069771, 48.41010616129098, null]}, {\"hoverinfo\": \"text\", \"line\": {\"color\": \"cornflowerblue\", \"width\": 0.08648648648648649}, \"mode\": \"lines\", \"text\": \"0.004324324324324324\", \"type\": \"scatter\", \"x\": [-22.954915028125253, -23.954915028125253, null], \"y\": [48.05655277069771, 48.05655277069771, null]}, {\"hoverinfo\": \"text\", \"line\": {\"color\": \"cornflowerblue\", \"width\": 0.010810810810810811}, \"mode\": \"lines\", \"text\": \"0.0005405405405405405\", \"type\": \"scatter\", \"x\": [-22.954915028125253, -22.954915028125253, null], \"y\": [48.05655277069771, 48.05655277069771, null]}, {\"hoverinfo\": \"text\", \"line\": {\"color\": \"cornflowerblue\", \"width\": 0.048648648648648644}, \"mode\": \"lines\", \"text\": \"0.0024324324324324323\", \"type\": \"scatter\", \"x\": [-22.954915028125253, -23.808468418718526, null], \"y\": [48.05655277069771, 47.70299938010443, null]}, {\"hoverinfo\": \"text\", \"line\": {\"color\": \"cornflowerblue\", \"width\": 0.016216216216216217}, \"mode\": \"lines\", \"text\": \"0.0008108108108108108\", \"type\": \"scatter\", \"x\": [-22.954915028125253, -22.954915028125253, null], \"y\": [48.05655277069771, 48.05655277069771, null]}, {\"hoverinfo\": \"text\", \"line\": {\"color\": \"cornflowerblue\", \"width\": 0.005405405405405406}, \"mode\": \"lines\", \"text\": \"0.0002702702702702703\", \"type\": \"scatter\", \"x\": [-22.954915028125253, -23.36809093929179, null], \"y\": [48.05655277069771, 47.564148894191604, null]}, {\"hoverinfo\": \"text\", \"line\": {\"color\": \"cornflowerblue\", \"width\": 0.005405405405405406}, \"mode\": \"lines\", \"text\": \"0.0002702702702702703\", \"type\": \"scatter\", \"x\": [-22.954915028125253, -23.10136163753198, null], \"y\": [48.05655277069771, 47.70299938010443, null]}, {\"hoverinfo\": \"text\", \"line\": {\"color\": \"cornflowerblue\", \"width\": 0.021621621621621623}, \"mode\": \"lines\", \"text\": \"0.001081081081081081\", \"type\": \"scatter\", \"x\": [-22.954915028125253, -22.99297526186961, null], \"y\": [48.05655277069771, 47.865211054515164, null]}, {\"hoverinfo\": \"text\", \"line\": {\"color\": \"cornflowerblue\", \"width\": 0.005405405405405406}, \"mode\": \"lines\", \"text\": \"0.0002702702702702703\", \"type\": \"scatter\", \"x\": [-23.10136163753198, -23.808468418718526, null], \"y\": [47.70299938010443, 48.41010616129098, null]}, {\"hoverinfo\": \"text\", \"line\": {\"color\": \"cornflowerblue\", \"width\": 0.016216216216216217}, \"mode\": \"lines\", \"text\": \"0.0008108108108108108\", \"type\": \"scatter\", \"x\": [-23.10136163753198, -23.808468418718526, null], \"y\": [47.70299938010443, 47.70299938010443, null]}, {\"hoverinfo\": \"text\", \"line\": {\"color\": \"cornflowerblue\", \"width\": 0.005405405405405406}, \"mode\": \"lines\", \"text\": \"0.0002702702702702703\", \"type\": \"scatter\", \"x\": [-23.071892806565764, -23.704915028125253, null], \"y\": [48.377946575540975, 48.48956547258992, null]}, {\"hoverinfo\": \"text\", \"line\": {\"color\": \"cornflowerblue\", \"width\": 0.005405405405405406}, \"mode\": \"lines\", \"text\": \"0.0002702702702702703\", \"type\": \"scatter\", \"x\": [-23.704915028125253, -23.454915028125253, null], \"y\": [48.48956547258992, 47.55655277069771, null]}, {\"hoverinfo\": \"text\", \"line\": {\"color\": \"cornflowerblue\", \"width\": 0.005405405405405406}, \"mode\": \"lines\", \"text\": \"0.0002702702702702703\", \"type\": \"scatter\", \"x\": [-23.704915028125253, -23.36809093929179, null], \"y\": [48.48956547258992, 47.564148894191604, null]}, {\"hoverinfo\": \"text\", \"line\": {\"color\": \"cornflowerblue\", \"width\": 0.016216216216216217}, \"mode\": \"lines\", \"text\": \"0.0008108108108108108\", \"type\": \"scatter\", \"x\": [-23.071892806565764, -23.808468418718526, null], \"y\": [48.377946575540975, 48.41010616129098, null]}, {\"hoverinfo\": \"text\", \"line\": {\"color\": \"cornflowerblue\", \"width\": 0.010810810810810811}, \"mode\": \"lines\", \"text\": \"0.0005405405405405405\", \"type\": \"scatter\", \"x\": [-23.071892806565764, -22.954915028125253, null], \"y\": [48.377946575540975, 48.05655277069771, null]}, {\"hoverinfo\": \"text\", \"line\": {\"color\": \"cornflowerblue\", \"width\": 0.005405405405405406}, \"mode\": \"lines\", \"text\": \"0.0002702702702702703\", \"type\": \"scatter\", \"x\": [-23.071892806565764, -23.36809093929179, null], \"y\": [48.377946575540975, 47.564148894191604, null]}, {\"hoverinfo\": \"text\", \"line\": {\"color\": \"cornflowerblue\", \"width\": 0.005405405405405406}, \"mode\": \"lines\", \"text\": \"0.0002702702702702703\", \"type\": \"scatter\", \"x\": [-23.071892806565764, -23.204915028125253, null], \"y\": [48.377946575540975, 47.62354006880549, null]}, {\"hoverinfo\": \"text\", \"line\": {\"color\": \"cornflowerblue\", \"width\": 0.25405405405405407}, \"mode\": \"lines\", \"text\": \"0.012702702702702703\", \"type\": \"scatter\", \"x\": [-23.808468418718526, -23.10136163753198, null], \"y\": [48.41010616129098, 48.41010616129098, null]}, {\"hoverinfo\": \"text\", \"line\": {\"color\": \"cornflowerblue\", \"width\": 0.043243243243243246}, \"mode\": \"lines\", \"text\": \"0.002162162162162162\", \"type\": \"scatter\", \"x\": [-23.808468418718526, -23.454915028125253, null], \"y\": [48.41010616129098, 48.55655277069771, null]}, {\"hoverinfo\": \"text\", \"line\": {\"color\": \"cornflowerblue\", \"width\": 0.005405405405405406}, \"mode\": \"lines\", \"text\": \"0.0002702702702702703\", \"type\": \"scatter\", \"x\": [-23.808468418718526, -23.954915028125253, null], \"y\": [48.41010616129098, 48.05655277069771, null]}, {\"hoverinfo\": \"text\", \"line\": {\"color\": \"cornflowerblue\", \"width\": 0.043243243243243246}, \"mode\": \"lines\", \"text\": \"0.002162162162162162\", \"type\": \"scatter\", \"x\": [-23.808468418718526, -23.454915028125253, null], \"y\": [48.41010616129098, 47.55655277069771, null]}, {\"hoverinfo\": \"text\", \"line\": {\"color\": \"cornflowerblue\", \"width\": 0.016216216216216217}, \"mode\": \"lines\", \"text\": \"0.0008108108108108108\", \"type\": \"scatter\", \"x\": [-23.808468418718526, -23.10136163753198, null], \"y\": [48.41010616129098, 47.70299938010443, null]}, {\"hoverinfo\": \"text\", \"line\": {\"color\": \"cornflowerblue\", \"width\": 0.005405405405405406}, \"mode\": \"lines\", \"text\": \"0.0002702702702702703\", \"type\": \"scatter\", \"x\": [-23.808468418718526, -23.368090939291786, null], \"y\": [48.41010616129098, 48.54895664720381, null]}, {\"hoverinfo\": \"text\", \"line\": {\"color\": \"cornflowerblue\", \"width\": 0.005405405405405406}, \"mode\": \"lines\", \"text\": \"0.0002702702702702703\", \"type\": \"scatter\", \"x\": [-23.808468418718526, -23.704915028125253, null], \"y\": [48.41010616129098, 48.48956547258992, null]}, {\"hoverinfo\": \"text\", \"line\": {\"color\": \"cornflowerblue\", \"width\": 0.005405405405405406}, \"mode\": \"lines\", \"text\": \"0.0002702702702702703\", \"type\": \"scatter\", \"x\": [-23.808468418718526, -23.924761338518206, null], \"y\": [48.41010616129098, 47.88554269903487, null]}, {\"hoverinfo\": \"text\", \"line\": {\"color\": \"cornflowerblue\", \"width\": 0.005405405405405406}, \"mode\": \"lines\", \"text\": \"0.0002702702702702703\", \"type\": \"scatter\", \"x\": [-23.808468418718526, -23.6462567443078, null], \"y\": [48.41010616129098, 47.59461300444206, null]}, {\"hoverinfo\": \"text\", \"line\": {\"color\": \"cornflowerblue\", \"width\": 0.021621621621621623}, \"mode\": \"lines\", \"text\": \"0.001081081081081081\", \"type\": \"scatter\", \"x\": [-23.808468418718526, -23.54173911695872, null], \"y\": [48.41010616129098, 47.564148894191604, null]}, {\"hoverinfo\": \"text\", \"line\": {\"color\": \"cornflowerblue\", \"width\": 0.032432432432432434}, \"mode\": \"lines\", \"text\": \"0.0016216216216216215\", \"type\": \"scatter\", \"x\": [-23.808468418718526, -22.954915028125253, null], \"y\": [48.41010616129098, 48.05655277069771, null]}, {\"hoverinfo\": \"text\", \"line\": {\"color\": \"cornflowerblue\", \"width\": 0.010810810810810811}, \"mode\": \"lines\", \"text\": \"0.0005405405405405405\", \"type\": \"scatter\", \"x\": [-23.808468418718526, -23.36809093929179, null], \"y\": [48.41010616129098, 47.564148894191604, null]}, {\"hoverinfo\": \"text\", \"line\": {\"color\": \"cornflowerblue\", \"width\": 0.016216216216216217}, \"mode\": \"lines\", \"text\": \"0.0008108108108108108\", \"type\": \"scatter\", \"x\": [-23.808468418718526, -23.071892806565764, null], \"y\": [48.41010616129098, 47.73515896585444, null]}, {\"hoverinfo\": \"text\", \"line\": {\"color\": \"cornflowerblue\", \"width\": 0.010810810810810811}, \"mode\": \"lines\", \"text\": \"0.0005405405405405405\", \"type\": \"scatter\", \"x\": [-23.808468418718526, -22.9850687177323, null], \"y\": [48.41010616129098, 47.88554269903487, null]}, {\"hoverinfo\": \"text\", \"line\": {\"color\": \"cornflowerblue\", \"width\": 0.005405405405405406}, \"mode\": \"lines\", \"text\": \"0.0002702702702702703\", \"type\": \"scatter\", \"x\": [-22.954915028125253, -23.954915028125253, null], \"y\": [48.05655277069771, 48.05655277069771, null]}, {\"hoverinfo\": \"text\", \"line\": {\"color\": \"cornflowerblue\", \"width\": 0.005405405405405406}, \"mode\": \"lines\", \"text\": \"0.0002702702702702703\", \"type\": \"scatter\", \"x\": [-22.954915028125253, -23.454915028125253, null], \"y\": [48.05655277069771, 47.55655277069771, null]}, {\"hoverinfo\": \"text\", \"line\": {\"color\": \"cornflowerblue\", \"width\": 0.005405405405405406}, \"mode\": \"lines\", \"text\": \"0.0002702702702702703\", \"type\": \"scatter\", \"x\": [-22.954915028125253, -23.924761338518206, null], \"y\": [48.05655277069771, 48.22756284236054, null]}, {\"hoverinfo\": \"text\", \"line\": {\"color\": \"cornflowerblue\", \"width\": 0.005405405405405406}, \"mode\": \"lines\", \"text\": \"0.0002702702702702703\", \"type\": \"scatter\", \"x\": [-22.954915028125253, -23.924761338518206, null], \"y\": [48.05655277069771, 47.88554269903487, null]}, {\"hoverinfo\": \"text\", \"line\": {\"color\": \"cornflowerblue\", \"width\": 0.032432432432432434}, \"mode\": \"lines\", \"text\": \"0.0016216216216216215\", \"type\": \"scatter\", \"x\": [-22.954915028125253, -23.54173911695872, null], \"y\": [48.05655277069771, 47.564148894191604, null]}, {\"hoverinfo\": \"text\", \"line\": {\"color\": \"cornflowerblue\", \"width\": 0.016216216216216217}, \"mode\": \"lines\", \"text\": \"0.0008108108108108108\", \"type\": \"scatter\", \"x\": [-22.954915028125253, -23.36809093929179, null], \"y\": [48.05655277069771, 47.564148894191604, null]}, {\"hoverinfo\": \"text\", \"line\": {\"color\": \"cornflowerblue\", \"width\": 0.010810810810810811}, \"mode\": \"lines\", \"text\": \"0.0005405405405405405\", \"type\": \"scatter\", \"x\": [-22.954915028125253, -23.071892806565764, null], \"y\": [48.05655277069771, 47.73515896585444, null]}, {\"hoverinfo\": \"text\", \"line\": {\"color\": \"cornflowerblue\", \"width\": 0.016216216216216217}, \"mode\": \"lines\", \"text\": \"0.0008108108108108108\", \"type\": \"scatter\", \"x\": [-22.954915028125253, -22.9850687177323, null], \"y\": [48.05655277069771, 47.88554269903487, null]}, {\"hoverinfo\": \"text\", \"line\": {\"color\": \"cornflowerblue\", \"width\": 0.005405405405405406}, \"mode\": \"lines\", \"text\": \"0.0002702702702702703\", \"type\": \"scatter\", \"x\": [-23.36809093929179, -23.10136163753198, null], \"y\": [47.564148894191604, 48.41010616129098, null]}, {\"hoverinfo\": \"text\", \"line\": {\"color\": \"cornflowerblue\", \"width\": 0.005405405405405406}, \"mode\": \"lines\", \"text\": \"0.0002702702702702703\", \"type\": \"scatter\", \"x\": [-23.36809093929179, -23.704915028125253, null], \"y\": [47.564148894191604, 48.48956547258992, null]}, {\"hoverinfo\": \"text\", \"line\": {\"color\": \"cornflowerblue\", \"width\": 0.010810810810810811}, \"mode\": \"lines\", \"text\": \"0.0005405405405405405\", \"type\": \"scatter\", \"x\": [-23.36809093929179, -23.954915028125253, null], \"y\": [47.564148894191604, 48.05655277069771, null]}, {\"hoverinfo\": \"text\", \"line\": {\"color\": \"cornflowerblue\", \"width\": 0.005405405405405406}, \"mode\": \"lines\", \"text\": \"0.0002702702702702703\", \"type\": \"scatter\", \"x\": [-23.36809093929179, -23.924761338518206, null], \"y\": [47.564148894191604, 47.88554269903487, null]}, {\"hoverinfo\": \"text\", \"line\": {\"color\": \"cornflowerblue\", \"width\": 0.005405405405405406}, \"mode\": \"lines\", \"text\": \"0.0002702702702702703\", \"type\": \"scatter\", \"x\": [-23.36809093929179, -23.808468418718526, null], \"y\": [47.564148894191604, 47.70299938010443, null]}, {\"hoverinfo\": \"text\", \"line\": {\"color\": \"cornflowerblue\", \"width\": 0.005405405405405406}, \"mode\": \"lines\", \"text\": \"0.0002702702702702703\", \"type\": \"scatter\", \"x\": [-23.36809093929179, -23.54173911695872, null], \"y\": [47.564148894191604, 47.564148894191604, null]}, {\"hoverinfo\": \"text\", \"line\": {\"color\": \"cornflowerblue\", \"width\": 0.005405405405405406}, \"mode\": \"lines\", \"text\": \"0.0002702702702702703\", \"type\": \"scatter\", \"x\": [-23.36809093929179, -23.071892806565764, null], \"y\": [47.564148894191604, 47.73515896585444, null]}, {\"hoverinfo\": \"text\", \"line\": {\"color\": \"cornflowerblue\", \"width\": 0.005405405405405406}, \"mode\": \"lines\", \"text\": \"0.0002702702702702703\", \"type\": \"scatter\", \"x\": [-23.36809093929179, -22.9850687177323, null], \"y\": [47.564148894191604, 47.88554269903487, null]}, {\"hoverinfo\": \"text\", \"line\": {\"color\": \"cornflowerblue\", \"width\": 0.005405405405405406}, \"mode\": \"lines\", \"text\": \"0.0002702702702702703\", \"type\": \"scatter\", \"x\": [-23.36809093929179, -22.99297526186961, null], \"y\": [47.564148894191604, 47.865211054515164, null]}, {\"hoverinfo\": \"text\", \"line\": {\"color\": \"cornflowerblue\", \"width\": 0.005405405405405406}, \"mode\": \"lines\", \"text\": \"0.0002702702702702703\", \"type\": \"scatter\", \"x\": [-23.204915028125253, -22.99297526186961, null], \"y\": [47.62354006880549, 47.865211054515164, null]}, {\"hoverinfo\": \"text\", \"line\": {\"color\": \"cornflowerblue\", \"width\": 0.05405405405405406}, \"mode\": \"lines\", \"text\": \"0.002702702702702703\", \"type\": \"scatter\", \"x\": [-23.454915028125253, -23.10136163753198, null], \"y\": [47.55655277069771, 48.41010616129098, null]}, {\"hoverinfo\": \"text\", \"line\": {\"color\": \"cornflowerblue\", \"width\": 0.016216216216216217}, \"mode\": \"lines\", \"text\": \"0.0008108108108108108\", \"type\": \"scatter\", \"x\": [-23.454915028125253, -23.454915028125253, null], \"y\": [47.55655277069771, 48.55655277069771, null]}, {\"hoverinfo\": \"text\", \"line\": {\"color\": \"cornflowerblue\", \"width\": 0.010810810810810811}, \"mode\": \"lines\", \"text\": \"0.0005405405405405405\", \"type\": \"scatter\", \"x\": [-23.454915028125253, -23.954915028125253, null], \"y\": [47.55655277069771, 48.05655277069771, null]}, {\"hoverinfo\": \"text\", \"line\": {\"color\": \"cornflowerblue\", \"width\": 0.005405405405405406}, \"mode\": \"lines\", \"text\": \"0.0002702702702702703\", \"type\": \"scatter\", \"x\": [-23.454915028125253, -23.10136163753198, null], \"y\": [47.55655277069771, 47.70299938010443, null]}, {\"hoverinfo\": \"text\", \"line\": {\"color\": \"cornflowerblue\", \"width\": 0.005405405405405406}, \"mode\": \"lines\", \"text\": \"0.0002702702702702703\", \"type\": \"scatter\", \"x\": [-23.454915028125253, -23.837937249684742, null], \"y\": [47.55655277069771, 48.377946575540975, null]}, {\"hoverinfo\": \"text\", \"line\": {\"color\": \"cornflowerblue\", \"width\": 0.005405405405405406}, \"mode\": \"lines\", \"text\": \"0.0002702702702702703\", \"type\": \"scatter\", \"x\": [-23.454915028125253, -23.071892806565764, null], \"y\": [47.55655277069771, 47.73515896585444, null]}, {\"hoverinfo\": \"text\", \"line\": {\"color\": \"cornflowerblue\", \"width\": 0.005405405405405406}, \"mode\": \"lines\", \"text\": \"0.0002702702702702703\", \"type\": \"scatter\", \"x\": [-23.36809093929179, -23.10136163753198, null], \"y\": [47.564148894191604, 48.41010616129098, null]}, {\"hoverinfo\": \"text\", \"line\": {\"color\": \"cornflowerblue\", \"width\": 0.043243243243243246}, \"mode\": \"lines\", \"text\": \"0.002162162162162162\", \"type\": \"scatter\", \"x\": [-23.10136163753198, -23.454915028125253, null], \"y\": [48.41010616129098, 48.55655277069771, null]}, {\"hoverinfo\": \"text\", \"line\": {\"color\": \"cornflowerblue\", \"width\": 0.005405405405405406}, \"mode\": \"lines\", \"text\": \"0.0002702702702702703\", \"type\": \"scatter\", \"x\": [-23.10136163753198, -23.954915028125253, null], \"y\": [48.41010616129098, 48.05655277069771, null]}, {\"hoverinfo\": \"text\", \"line\": {\"color\": \"cornflowerblue\", \"width\": 0.07027027027027027}, \"mode\": \"lines\", \"text\": \"0.0035135135135135136\", \"type\": \"scatter\", \"x\": [-23.10136163753198, -23.10136163753198, null], \"y\": [48.41010616129098, 47.70299938010443, null]}, {\"hoverinfo\": \"text\", \"line\": {\"color\": \"cornflowerblue\", \"width\": 0.005405405405405406}, \"mode\": \"lines\", \"text\": \"0.0002702702702702703\", \"type\": \"scatter\", \"x\": [-23.10136163753198, -23.704915028125253, null], \"y\": [48.41010616129098, 48.48956547258992, null]}, {\"hoverinfo\": \"text\", \"line\": {\"color\": \"cornflowerblue\", \"width\": 0.043243243243243246}, \"mode\": \"lines\", \"text\": \"0.002162162162162162\", \"type\": \"scatter\", \"x\": [-23.454915028125253, -23.10136163753198, null], \"y\": [48.55655277069771, 47.70299938010443, null]}, {\"hoverinfo\": \"text\", \"line\": {\"color\": \"cornflowerblue\", \"width\": 0.005405405405405406}, \"mode\": \"lines\", \"text\": \"0.0002702702702702703\", \"type\": \"scatter\", \"x\": [-23.954915028125253, -23.10136163753198, null], \"y\": [48.05655277069771, 47.70299938010443, null]}, {\"hoverinfo\": \"text\", \"line\": {\"color\": \"cornflowerblue\", \"width\": 0.005405405405405406}, \"mode\": \"lines\", \"text\": \"0.0002702702702702703\", \"type\": \"scatter\", \"x\": [-23.204915028125253, -23.924761338518206, null], \"y\": [48.48956547258992, 47.88554269903487, null]}, {\"hoverinfo\": \"text\", \"line\": {\"color\": \"cornflowerblue\", \"width\": 0.005405405405405406}, \"mode\": \"lines\", \"text\": \"0.0002702702702702703\", \"type\": \"scatter\", \"x\": [-23.204915028125253, -23.54173911695872, null], \"y\": [48.48956547258992, 47.564148894191604, null]}, {\"hoverinfo\": \"text\", \"line\": {\"color\": \"cornflowerblue\", \"width\": 0.005405405405405406}, \"mode\": \"lines\", \"text\": \"0.0002702702702702703\", \"type\": \"scatter\", \"x\": [-23.204915028125253, -22.9850687177323, null], \"y\": [48.48956547258992, 47.88554269903487, null]}, {\"hoverinfo\": \"text\", \"line\": {\"color\": \"cornflowerblue\", \"width\": 0.005405405405405406}, \"mode\": \"lines\", \"text\": \"0.0002702702702702703\", \"type\": \"scatter\", \"x\": [-23.924761338518206, -23.837937249684742, null], \"y\": [47.88554269903487, 47.73515896585444, null]}, {\"hoverinfo\": \"text\", \"line\": {\"color\": \"cornflowerblue\", \"width\": 0.005405405405405406}, \"mode\": \"lines\", \"text\": \"0.0002702702702702703\", \"type\": \"scatter\", \"x\": [-23.924761338518206, -23.704915028125253, null], \"y\": [47.88554269903487, 47.62354006880549, null]}, {\"hoverinfo\": \"text\", \"line\": {\"color\": \"cornflowerblue\", \"width\": 0.02702702702702703}, \"mode\": \"lines\", \"text\": \"0.0013513513513513514\", \"type\": \"scatter\", \"x\": [-23.924761338518206, -23.54173911695872, null], \"y\": [47.88554269903487, 47.564148894191604, null]}, {\"hoverinfo\": \"text\", \"line\": {\"color\": \"cornflowerblue\", \"width\": 0.010810810810810811}, \"mode\": \"lines\", \"text\": \"0.0005405405405405405\", \"type\": \"scatter\", \"x\": [-23.924761338518206, -23.071892806565764, null], \"y\": [47.88554269903487, 47.73515896585444, null]}, {\"hoverinfo\": \"text\", \"line\": {\"color\": \"cornflowerblue\", \"width\": 0.010810810810810811}, \"mode\": \"lines\", \"text\": \"0.0005405405405405405\", \"type\": \"scatter\", \"x\": [-23.924761338518206, -22.9850687177323, null], \"y\": [47.88554269903487, 47.88554269903487, null]}, {\"hoverinfo\": \"text\", \"line\": {\"color\": \"cornflowerblue\", \"width\": 0.005405405405405406}, \"mode\": \"lines\", \"text\": \"0.0002702702702702703\", \"type\": \"scatter\", \"x\": [-23.54173911695872, -23.704915028125253, null], \"y\": [47.564148894191604, 47.62354006880549, null]}, {\"hoverinfo\": \"text\", \"line\": {\"color\": \"cornflowerblue\", \"width\": 0.010810810810810811}, \"mode\": \"lines\", \"text\": \"0.0005405405405405405\", \"type\": \"scatter\", \"x\": [-23.54173911695872, -23.071892806565764, null], \"y\": [47.564148894191604, 47.73515896585444, null]}, {\"hoverinfo\": \"text\", \"line\": {\"color\": \"cornflowerblue\", \"width\": 0.021621621621621623}, \"mode\": \"lines\", \"text\": \"0.001081081081081081\", \"type\": \"scatter\", \"x\": [-23.54173911695872, -22.9850687177323, null], \"y\": [47.564148894191604, 47.88554269903487, null]}, {\"hoverinfo\": \"text\", \"line\": {\"color\": \"cornflowerblue\", \"width\": 0.11891891891891893}, \"mode\": \"lines\", \"text\": \"0.005945945945945946\", \"type\": \"scatter\", \"x\": [-23.859423525312728, -23.300406530937778, null], \"y\": [48.350445396843945, 47.58102451255013, null]}, {\"hoverinfo\": \"text\", \"line\": {\"color\": \"cornflowerblue\", \"width\": 0.02702702702702703}, \"mode\": \"lines\", \"text\": \"0.0013513513513513514\", \"type\": \"scatter\", \"x\": [-23.808468418718526, -23.808468418718526, null], \"y\": [47.70299938010443, 48.41010616129098, null]}, {\"hoverinfo\": \"text\", \"line\": {\"color\": \"cornflowerblue\", \"width\": 0.010810810810810811}, \"mode\": \"lines\", \"text\": \"0.0005405405405405405\", \"type\": \"scatter\", \"x\": [-23.808468418718526, -23.954915028125253, null], \"y\": [47.70299938010443, 48.05655277069771, null]}, {\"hoverinfo\": \"text\", \"line\": {\"color\": \"cornflowerblue\", \"width\": 0.010810810810810811}, \"mode\": \"lines\", \"text\": \"0.0005405405405405405\", \"type\": \"scatter\", \"x\": [-23.808468418718526, -22.954915028125253, null], \"y\": [47.70299938010443, 48.05655277069771, null]}, {\"hoverinfo\": \"text\", \"line\": {\"color\": \"cornflowerblue\", \"width\": 0.005405405405405406}, \"mode\": \"lines\", \"text\": \"0.0002702702702702703\", \"type\": \"scatter\", \"x\": [-23.808468418718526, -23.263573311942707, null], \"y\": [47.70299938010443, 48.51849253695335, null]}, {\"hoverinfo\": \"text\", \"line\": {\"color\": \"cornflowerblue\", \"width\": 0.005405405405405406}, \"mode\": \"lines\", \"text\": \"0.0002702702702702703\", \"type\": \"scatter\", \"x\": [-23.808468418718526, -23.704915028125253, null], \"y\": [47.70299938010443, 47.62354006880549, null]}, {\"hoverinfo\": \"text\", \"line\": {\"color\": \"cornflowerblue\", \"width\": 0.005405405405405406}, \"mode\": \"lines\", \"text\": \"0.0002702702702702703\", \"type\": \"scatter\", \"x\": [-23.808468418718526, -22.99297526186961, null], \"y\": [47.70299938010443, 47.865211054515164, null]}, {\"hoverinfo\": \"text\", \"line\": {\"color\": \"cornflowerblue\", \"width\": 0.016216216216216217}, \"mode\": \"lines\", \"text\": \"0.0008108108108108108\", \"type\": \"scatter\", \"x\": [-23.6462567443078, -22.99297526186961, null], \"y\": [47.59461300444206, 47.865211054515164, null]}, {\"hoverinfo\": \"text\", \"line\": {\"color\": \"cornflowerblue\", \"width\": 0.005405405405405406}, \"mode\": \"lines\", \"text\": \"0.0002702702702702703\", \"type\": \"scatter\", \"x\": [-23.6462567443078, -23.916854794380896, null], \"y\": [47.59461300444206, 48.24789448688025, null]}, {\"hoverinfo\": \"text\", \"line\": {\"color\": \"cornflowerblue\", \"width\": 0.005405405405405406}, \"mode\": \"lines\", \"text\": \"0.0002702702702702703\", \"type\": \"scatter\", \"x\": [-22.954915028125253, -23.808468418718526, null], \"y\": [48.05655277069771, 48.41010616129098, null]}, {\"hoverinfo\": \"text\", \"line\": {\"color\": \"cornflowerblue\", \"width\": 0.05945945945945946}, \"mode\": \"lines\", \"text\": \"0.002972972972972973\", \"type\": \"scatter\", \"x\": [-22.954915028125253, -23.954915028125253, null], \"y\": [48.05655277069771, 48.05655277069771, null]}, {\"hoverinfo\": \"text\", \"line\": {\"color\": \"cornflowerblue\", \"width\": 0.005405405405405406}, \"mode\": \"lines\", \"text\": \"0.0002702702702702703\", \"type\": \"scatter\", \"x\": [-23.454915028125253, -23.916854794380896, null], \"y\": [47.55655277069771, 48.24789448688025, null]}, {\"hoverinfo\": \"text\", \"line\": {\"color\": \"cornflowerblue\", \"width\": 0.010810810810810811}, \"mode\": \"lines\", \"text\": \"0.0005405405405405405\", \"type\": \"scatter\", \"x\": [-23.454915028125253, -22.99297526186961, null], \"y\": [47.55655277069771, 47.865211054515164, null]}, {\"hoverinfo\": \"text\", \"line\": {\"color\": \"cornflowerblue\", \"width\": 0.005405405405405406}, \"mode\": \"lines\", \"text\": \"0.0002702702702702703\", \"type\": \"scatter\", \"x\": [-23.6462567443078, -23.10136163753198, null], \"y\": [48.51849253695335, 48.41010616129098, null]}, {\"hoverinfo\": \"text\", \"line\": {\"color\": \"cornflowerblue\", \"width\": 0.005405405405405406}, \"mode\": \"lines\", \"text\": \"0.0002702702702702703\", \"type\": \"scatter\", \"x\": [-23.6462567443078, -23.263573311942707, null], \"y\": [48.51849253695335, 47.59461300444206, null]}, {\"hoverinfo\": \"text\", \"line\": {\"color\": \"cornflowerblue\", \"width\": 0.005405405405405406}, \"mode\": \"lines\", \"text\": \"0.0002702702702702703\", \"type\": \"scatter\", \"x\": [-22.99297526186961, -23.454915028125253, null], \"y\": [47.865211054515164, 48.55655277069771, null]}, {\"hoverinfo\": \"text\", \"line\": {\"color\": \"cornflowerblue\", \"width\": 0.005405405405405406}, \"mode\": \"lines\", \"text\": \"0.0002702702702702703\", \"type\": \"scatter\", \"x\": [-22.99297526186961, -23.454915028125253, null], \"y\": [47.865211054515164, 48.55655277069771, null]}, {\"hoverinfo\": \"text\", \"line\": {\"color\": \"cornflowerblue\", \"width\": 0.010810810810810811}, \"mode\": \"lines\", \"text\": \"0.0005405405405405405\", \"type\": \"scatter\", \"x\": [-22.99297526186961, -23.808468418718526, null], \"y\": [47.865211054515164, 47.70299938010443, null]}, {\"hoverinfo\": \"text\", \"line\": {\"color\": \"cornflowerblue\", \"width\": 0.010810810810810811}, \"mode\": \"lines\", \"text\": \"0.0005405405405405405\", \"type\": \"scatter\", \"x\": [-22.99297526186961, -23.454915028125253, null], \"y\": [47.865211054515164, 47.55655277069771, null]}, {\"hoverinfo\": \"text\", \"line\": {\"color\": \"cornflowerblue\", \"width\": 0.005405405405405406}, \"mode\": \"lines\", \"text\": \"0.0002702702702702703\", \"type\": \"scatter\", \"x\": [-22.99297526186961, -23.10136163753198, null], \"y\": [47.865211054515164, 47.70299938010443, null]}, {\"hoverinfo\": \"text\", \"line\": {\"color\": \"cornflowerblue\", \"width\": 0.021621621621621623}, \"mode\": \"lines\", \"text\": \"0.001081081081081081\", \"type\": \"scatter\", \"x\": [-22.99297526186961, -23.916854794380896, null], \"y\": [47.865211054515164, 48.24789448688025, null]}, {\"hoverinfo\": \"text\", \"line\": {\"color\": \"cornflowerblue\", \"width\": 0.005405405405405406}, \"mode\": \"lines\", \"text\": \"0.0002702702702702703\", \"type\": \"scatter\", \"x\": [-22.99297526186961, -23.071892806565764, null], \"y\": [47.865211054515164, 47.73515896585444, null]}, {\"hoverinfo\": \"text\", \"line\": {\"color\": \"cornflowerblue\", \"width\": 0.016216216216216217}, \"mode\": \"lines\", \"text\": \"0.0008108108108108108\", \"type\": \"scatter\", \"x\": [-23.808468418718526, -23.954915028125253, null], \"y\": [48.41010616129098, 48.05655277069771, null]}, {\"hoverinfo\": \"text\", \"line\": {\"color\": \"cornflowerblue\", \"width\": 0.016216216216216217}, \"mode\": \"lines\", \"text\": \"0.0008108108108108108\", \"type\": \"scatter\", \"x\": [-23.263573311942707, -23.916854794380896, null], \"y\": [48.51849253695335, 48.24789448688025, null]}, {\"hoverinfo\": \"text\", \"line\": {\"color\": \"cornflowerblue\", \"width\": 0.005405405405405406}, \"mode\": \"lines\", \"text\": \"0.0002702702702702703\", \"type\": \"scatter\", \"x\": [-23.071892806565764, -23.837937249684742, null], \"y\": [47.73515896585444, 47.73515896585444, null]}, {\"hoverinfo\": \"text\", \"line\": {\"color\": \"cornflowerblue\", \"width\": 0.005405405405405406}, \"mode\": \"lines\", \"text\": \"0.0002702702702702703\", \"type\": \"scatter\", \"x\": [-23.916854794380896, -23.808468418718526, null], \"y\": [48.24789448688025, 47.70299938010443, null]}, {\"hoverinfo\": \"text\", \"line\": {\"color\": \"cornflowerblue\", \"width\": 0.005405405405405406}, \"mode\": \"lines\", \"text\": \"0.0002702702702702703\", \"type\": \"scatter\", \"x\": [-23.10136163753198, -23.808468418718526, null], \"y\": [48.41010616129098, 47.70299938010443, null]}, {\"hoverinfo\": \"text\", \"line\": {\"color\": \"cornflowerblue\", \"width\": 0.010810810810810811}, \"mode\": \"lines\", \"text\": \"0.0005405405405405405\", \"type\": \"scatter\", \"x\": [-23.54173911695872, -23.837937249684742, null], \"y\": [48.54895664720381, 47.73515896585444, null]}, {\"hoverinfo\": \"text\", \"line\": {\"color\": \"cornflowerblue\", \"width\": 0.005405405405405406}, \"mode\": \"lines\", \"text\": \"0.0002702702702702703\", \"type\": \"scatter\", \"x\": [-23.808468418718526, -23.10136163753198, null], \"y\": [48.41010616129098, 47.70299938010443, null]}, {\"hoverinfo\": \"text\", \"marker\": {\"color\": [24, 22, 33, 25, 33, 7, 20, 47, 23, 26, 14, 30, 6, 27, 20, 17, 20, 31, 11, 18, 33, 36, 23, 25, 13, 7, 10, 4, 17, 11, 14, 2, 16, 15, 16, 6, 4, 6, 3, 4, 3, 9, 8, 6, 9, 7, 22, 7, 17, 14, 6, 5, 4, 25, 10, 13, 7, 1, 2, 1, 8, 11, 6, 2, 8, 4, 1, 2, 1, 3, 2, 3, 1, 1, 2, 0, 0, 0, 0, 0, 0], \"colorbar\": {\"thickness\": 1, \"title\": {\"side\": \"right\", \"text\": \"Anzahl an Verbindungen\"}, \"xanchor\": \"left\"}, \"colorscale\": [[0.0, \"rgb(247,252,245)\"], [0.125, \"rgb(229,245,224)\"], [0.25, \"rgb(199,233,192)\"], [0.375, \"rgb(161,217,155)\"], [0.5, \"rgb(116,196,118)\"], [0.625, \"rgb(65,171,93)\"], [0.75, \"rgb(35,139,69)\"], [0.875, \"rgb(0,109,44)\"], [1.0, \"rgb(0,68,27)\"]], \"line\": {\"width\": 2}, \"reversescale\": true, \"showscale\": true, \"size\": [19.332717921666887, 1.6747988922590002, 0.013187392852433073, 0.17143610708162996, 0.22418567849136228, 1.3714888566530397, 6.554134247659238, 0.9890544639324806, 0.07912435711459845, 0.05274957140973229, 18.646973493340365, 54.87274165897402, 2.611103784781749, 21.28445206382698, 62.771989977581434, 0.17143610708162996, 0.8044309639984174, 1.252802320981142, 3.2045364631412365, 0.09231174996703152, 0.7253066068838191, 2.914413820387709, 53.303441909534484, 4.088091784254253, 6.422260319134907, 0.6989318211789529, 1.411051035210339, 9.587234603718844, 2.0440458921271265, 60.62244494263484, 0.013187392852433073, 0.039562178557299224, 0.013187392852433073, 0.10549914281946458, 0.17143610708162996, 18.726097850454966, 8.004747461426875, 1.8330476064881973, 3.4287221416325995, 0.13187392852433075, 0.013187392852433073, 0.527495714097323, 0.11868653567189767, 0.05274957140973229, 3.916655677172623, 0.05274957140973229, 0.013187392852433073, 0.07912435711459845, 0.17143610708162996, 0.013187392852433073, 2.4132928919952525, 0.05274957140973229, 0.3428722141632599, 0.013187392852433073, 24.10655413424766, 0.1582487142291969, 14.690755637610446, 0.5670578926546221, 0.013187392852433073, 0.3296848213108269, 0.4088091784254253, 3.2836608202558355, 1.9385467493076618, 0.1582487142291969, 0.05274957140973229, 5.077146248186733, 0.07912435711459845, 0.22418567849136228, 0.039562178557299224, 13.701701173677963, 100.01318739285243, 0.2637478570486615, 0.026374785704866146, 0.11868653567189767, 0.22418567849136228, 7.147566926018727, 3.8243439272055917, 0.013187392852433073, 0.5406831069497561, 2.5847289990768822, 1.6484241065541343]}, \"mode\": \"markers+text\", \"text\": [\"Agrarunternehmer\", \"Floristen (Blumenbinder und Blumeneinzelh\\u00e4ndler)\", \"Forstunternehmer\", \"Gartenpflege bzw. eingeschr\\u00e4nkte Gewerbeumf\\u00e4nge\", \"Gas- und Sanit\\u00e4rtechnik\", \"Gro\\u00dfhandel mit Spielwaren\", \"Handel mit Heiz\\u00f6len und Fl\\u00fcssiggas\", \"Handel mit Holz\", \"Handel mit Holzfabrikaten und Holzh\\u00e4usern\", \"Handel mit festen, mineralischen oder biogenen Brennstoffen\", \"Handel mit sonstigen Mineral\\u00f6lprodukten\", \"Heizungstechnik\", \"Hobelwerke\", \"Holzbau-Meister\", \"Holzbaugewerbetreibender, eingeschr. auf ausf\\u00fchrende T\\u00e4t.\", \"Holzgestalter\", \"Holzzerkleinerer\", \"Landschaftsg\\u00e4rtner (Garten- und Gr\\u00fcnfl\\u00e4chengestalter)\", \"Papiereinzelhandel im Rahmen einer Trafik\", \"Sanit\\u00e4rtechniker\", \"S\\u00e4gewerksunternehmungen\", \"Tischler\", \"W\\u00e4rmeversorgung unter 5 km und unter 5 MW\", \"W\\u00e4rmeversorgungsunternehmen\", \"sonstige Sanit\\u00e4r-, Heizungs- und L\\u00fcftungstechniker\", \"Bootbauer\", \"Drechsler\", \"B\\u00fcro- und Organisationsmittelindustrie\", \"Gro\\u00dfhandel mit Papier-, Schreibwaren und B\\u00fcrobedarf\", \"Papier-, Zellstoff-, Holzstoff- und Pappenindustrie\", \"Sonstige industrielle Papierverarbeitung\", \"Sonstige industrielle Verpackungsherstellung\", \"Handel mit Papier-, Schreibwaren und B\\u00fcrobedarf\", \"Parkettbodenleger\", \"Einzelhandel mit Papier-, Schreibwaren und B\\u00fcrobedarf\", \"Einzelhandel mit Romane, Zeitschriften und Magazine\", \"Gro\\u00dfhandel mit Romanen, Zeitschriften und Magazinen\", \"Handel mit Post- und Ansichtskarten\", \"Herstellung von Spielkarten und anderer Spielwaren aller Art\", \"Energieholzindustrie\", \"Faltschachtelindustrie\", \"Kartonagenindustrie\", \"Papier- und Kartonveredelungsindustrie\", \"Wellpappeindustrie\", \"Friedhofsg\\u00e4rtner\", \"Kleinhandel mit Schnittblumen\", \"L\\u00fcftungstechnik\", \"M\\u00f6belindustrie\", \"Handel mit Strom\", \"Holzbaugewerbetreibender, eingeschr\\u00e4nkt auf Teilbereiche\", \"Holzschindelerzeuger\", \"Holzverpackungs- und -packmittelindustrie\", \"Rahmen- und Leistenindustrie\", \"sonstige holzverarbeitende Industrie\", \"Gastechniker\", \"Gasversorgungsunternehmen\", \"Holzhaus- und Hallenbauindustrie\", \"Wurzelschnitzer\", \"Gaseinrichtungen in mobilen Fahrzeugen und Anlagen\", \"Herstellung von Dekorations- und Festartikeln\", \"Verpackungsindustrie\", \"industrielle Bautischlereien\", \"Hobelwarenindustrie\", \"Holzimpr\\u00e4gnier- und -veredelungsindustrie\", \"Leimholzindustrie\", \"Parkettindustrie\", \"Industrie flexibler Verpackungen\", \"Korb- und M\\u00f6belflechter\", \"Herstellung von Etiketten aller Art\", \"Konfektionierung Papier,Karton,Pappe zu Produkten aller Art\", \"Holzwerkstoffindustrie\", \"Ski- und Sportarktikelindustrie\", \"Industrie hygienischer Papierwaren\", \"Industrielle Buchbindereien\", \"Packstoffveredelungs- und Zurichteindustrie\", \"Briefumschlag- und Papierausstattungsindustrie\", \"B\\u00fcrsten- und Pinselmacher\", \"Klavierindustrie\", \"Kork- und Korkwarenindustrie\", \"Warmwasserbereitungsanlagen\", \"Zigarettenpapierkonfektion\"], \"textposition\": \"bottom center\", \"type\": \"scatter\", \"x\": [-23.454915028125253, -23.300406530937778, -23.954915028125253, -23.859423525312728, -23.10136163753198, -23.808468418718526, -23.954915028125253, -23.954915028125253, -22.954915028125253, -23.454915028125253, -23.454915028125253, -23.954915028125253, -23.924761338518206, -23.454915028125253, -23.954915028125253, -23.924761338518206, -23.454915028125253, -22.954915028125253, -22.954915028125253, -23.454915028125253, -22.954915028125253, -23.071892806565764, -22.954915028125253, -22.954915028125253, -23.10136163753198, -23.071892806565764, -23.704915028125253, -23.071892806565764, -23.808468418718526, -22.954915028125253, -23.36809093929179, -23.204915028125253, -23.454915028125253, -23.36809093929179, -23.10136163753198, -23.454915028125253, -23.954915028125253, -23.10136163753198, -23.704915028125253, -22.99297526186961, -23.204915028125253, -23.924761338518206, -23.54173911695872, -22.9850687177323, -23.859423525312728, -23.300406530937778, -23.808468418718526, -23.6462567443078, -22.954915028125253, -23.454915028125253, -22.954915028125253, -23.6462567443078, -23.263573311942707, -22.99297526186961, -23.808468418718526, -23.954915028125253, -23.263573311942707, -22.954915028125253, -23.454915028125253, -23.368090939291786, -23.071892806565764, -23.916854794380896, -23.10136163753198, -23.454915028125253, -23.808468418718526, -23.454915028125253, -23.837937249684742, -23.704915028125253, -23.54173911695872, -23.837937249684742, -23.808468418718526, -23.10136163753198, -23.924761338518206, -23.954915028125253, -23.704915028125253, -22.9850687177323, -23.368090939291786, -23.954915028125253, -23.916854794380896, -22.954915028125253, -22.954915028125253], \"y\": [48.55655277069771, 48.53208102884528, 48.05655277069771, 47.76266014455147, 48.41010616129098, 47.70299938010443, 48.05655277069771, 48.05655277069771, 48.05655277069771, 48.55655277069771, 47.55655277069771, 48.05655277069771, 48.22756284236054, 48.55655277069771, 48.05655277069771, 47.88554269903487, 47.55655277069771, 48.05655277069771, 48.05655277069771, 47.55655277069771, 48.05655277069771, 47.73515896585444, 48.05655277069771, 48.05655277069771, 47.70299938010443, 48.377946575540975, 48.48956547258992, 48.377946575540975, 48.41010616129098, 48.05655277069771, 47.564148894191604, 47.62354006880549, 47.55655277069771, 47.564148894191604, 48.41010616129098, 48.55655277069771, 48.05655277069771, 47.70299938010443, 48.48956547258992, 48.24789448688025, 48.48956547258992, 47.88554269903487, 47.564148894191604, 47.88554269903487, 48.350445396843945, 47.58102451255013, 47.70299938010443, 47.59461300444206, 48.05655277069771, 47.55655277069771, 48.05655277069771, 48.51849253695335, 47.59461300444206, 47.865211054515164, 48.41010616129098, 48.05655277069771, 48.51849253695335, 48.05655277069771, 48.55655277069771, 48.54895664720381, 47.73515896585444, 48.24789448688025, 48.41010616129098, 48.55655277069771, 47.70299938010443, 47.55655277069771, 48.377946575540975, 47.62354006880549, 48.54895664720381, 47.73515896585444, 48.41010616129098, 47.70299938010443, 48.22756284236054, 48.05655277069771, 47.62354006880549, 48.22756284236054, 48.54895664720381, 48.05655277069771, 47.865211054515164, 48.05655277069771, 48.05655277069771]}],\n",
       "                        {\"hovermode\": \"closest\", \"margin\": {\"b\": 20, \"l\": 5, \"r\": 5, \"t\": 20}, \"showlegend\": false, \"template\": {\"data\": {\"bar\": [{\"error_x\": {\"color\": \"#2a3f5f\"}, \"error_y\": {\"color\": \"#2a3f5f\"}, \"marker\": {\"line\": {\"color\": \"#E5ECF6\", \"width\": 0.5}}, \"type\": \"bar\"}], \"barpolar\": [{\"marker\": {\"line\": {\"color\": \"#E5ECF6\", \"width\": 0.5}}, \"type\": \"barpolar\"}], \"carpet\": [{\"aaxis\": {\"endlinecolor\": \"#2a3f5f\", \"gridcolor\": \"white\", \"linecolor\": \"white\", \"minorgridcolor\": \"white\", \"startlinecolor\": \"#2a3f5f\"}, \"baxis\": {\"endlinecolor\": \"#2a3f5f\", \"gridcolor\": \"white\", \"linecolor\": \"white\", \"minorgridcolor\": \"white\", \"startlinecolor\": \"#2a3f5f\"}, \"type\": \"carpet\"}], \"choropleth\": [{\"colorbar\": {\"outlinewidth\": 0, \"ticks\": \"\"}, \"type\": \"choropleth\"}], \"contour\": [{\"colorbar\": {\"outlinewidth\": 0, \"ticks\": \"\"}, \"colorscale\": [[0.0, \"#0d0887\"], [0.1111111111111111, \"#46039f\"], [0.2222222222222222, \"#7201a8\"], [0.3333333333333333, \"#9c179e\"], [0.4444444444444444, \"#bd3786\"], [0.5555555555555556, \"#d8576b\"], [0.6666666666666666, \"#ed7953\"], [0.7777777777777778, \"#fb9f3a\"], [0.8888888888888888, \"#fdca26\"], [1.0, \"#f0f921\"]], \"type\": \"contour\"}], \"contourcarpet\": [{\"colorbar\": {\"outlinewidth\": 0, \"ticks\": \"\"}, \"type\": \"contourcarpet\"}], \"heatmap\": [{\"colorbar\": {\"outlinewidth\": 0, \"ticks\": \"\"}, \"colorscale\": [[0.0, \"#0d0887\"], [0.1111111111111111, \"#46039f\"], [0.2222222222222222, \"#7201a8\"], [0.3333333333333333, \"#9c179e\"], [0.4444444444444444, \"#bd3786\"], [0.5555555555555556, \"#d8576b\"], [0.6666666666666666, \"#ed7953\"], [0.7777777777777778, \"#fb9f3a\"], [0.8888888888888888, \"#fdca26\"], [1.0, \"#f0f921\"]], \"type\": \"heatmap\"}], \"heatmapgl\": [{\"colorbar\": {\"outlinewidth\": 0, \"ticks\": \"\"}, \"colorscale\": [[0.0, \"#0d0887\"], [0.1111111111111111, \"#46039f\"], [0.2222222222222222, \"#7201a8\"], [0.3333333333333333, \"#9c179e\"], [0.4444444444444444, \"#bd3786\"], [0.5555555555555556, \"#d8576b\"], [0.6666666666666666, \"#ed7953\"], [0.7777777777777778, \"#fb9f3a\"], [0.8888888888888888, \"#fdca26\"], [1.0, \"#f0f921\"]], \"type\": \"heatmapgl\"}], \"histogram\": [{\"marker\": {\"colorbar\": {\"outlinewidth\": 0, \"ticks\": \"\"}}, \"type\": \"histogram\"}], \"histogram2d\": [{\"colorbar\": {\"outlinewidth\": 0, \"ticks\": \"\"}, \"colorscale\": [[0.0, \"#0d0887\"], [0.1111111111111111, \"#46039f\"], [0.2222222222222222, \"#7201a8\"], [0.3333333333333333, \"#9c179e\"], [0.4444444444444444, \"#bd3786\"], [0.5555555555555556, \"#d8576b\"], [0.6666666666666666, \"#ed7953\"], [0.7777777777777778, \"#fb9f3a\"], [0.8888888888888888, \"#fdca26\"], [1.0, \"#f0f921\"]], \"type\": \"histogram2d\"}], \"histogram2dcontour\": [{\"colorbar\": {\"outlinewidth\": 0, \"ticks\": \"\"}, \"colorscale\": [[0.0, \"#0d0887\"], [0.1111111111111111, \"#46039f\"], [0.2222222222222222, \"#7201a8\"], [0.3333333333333333, \"#9c179e\"], [0.4444444444444444, \"#bd3786\"], [0.5555555555555556, \"#d8576b\"], [0.6666666666666666, \"#ed7953\"], [0.7777777777777778, \"#fb9f3a\"], [0.8888888888888888, \"#fdca26\"], [1.0, \"#f0f921\"]], \"type\": \"histogram2dcontour\"}], \"mesh3d\": [{\"colorbar\": {\"outlinewidth\": 0, \"ticks\": \"\"}, \"type\": \"mesh3d\"}], \"parcoords\": [{\"line\": {\"colorbar\": {\"outlinewidth\": 0, \"ticks\": \"\"}}, \"type\": \"parcoords\"}], \"pie\": [{\"automargin\": true, \"type\": \"pie\"}], \"scatter\": [{\"marker\": {\"colorbar\": {\"outlinewidth\": 0, \"ticks\": \"\"}}, \"type\": \"scatter\"}], \"scatter3d\": [{\"line\": {\"colorbar\": {\"outlinewidth\": 0, \"ticks\": \"\"}}, \"marker\": {\"colorbar\": {\"outlinewidth\": 0, \"ticks\": \"\"}}, \"type\": \"scatter3d\"}], \"scattercarpet\": [{\"marker\": {\"colorbar\": {\"outlinewidth\": 0, \"ticks\": \"\"}}, \"type\": \"scattercarpet\"}], \"scattergeo\": [{\"marker\": {\"colorbar\": {\"outlinewidth\": 0, \"ticks\": \"\"}}, \"type\": \"scattergeo\"}], \"scattergl\": [{\"marker\": {\"colorbar\": {\"outlinewidth\": 0, \"ticks\": \"\"}}, \"type\": \"scattergl\"}], \"scattermapbox\": [{\"marker\": {\"colorbar\": {\"outlinewidth\": 0, \"ticks\": \"\"}}, \"type\": \"scattermapbox\"}], \"scatterpolar\": [{\"marker\": {\"colorbar\": {\"outlinewidth\": 0, \"ticks\": \"\"}}, \"type\": \"scatterpolar\"}], \"scatterpolargl\": [{\"marker\": {\"colorbar\": {\"outlinewidth\": 0, \"ticks\": \"\"}}, \"type\": \"scatterpolargl\"}], \"scatterternary\": [{\"marker\": {\"colorbar\": {\"outlinewidth\": 0, \"ticks\": \"\"}}, \"type\": \"scatterternary\"}], \"surface\": [{\"colorbar\": {\"outlinewidth\": 0, \"ticks\": \"\"}, \"colorscale\": [[0.0, \"#0d0887\"], [0.1111111111111111, \"#46039f\"], [0.2222222222222222, \"#7201a8\"], [0.3333333333333333, \"#9c179e\"], [0.4444444444444444, \"#bd3786\"], [0.5555555555555556, \"#d8576b\"], [0.6666666666666666, \"#ed7953\"], [0.7777777777777778, \"#fb9f3a\"], [0.8888888888888888, \"#fdca26\"], [1.0, \"#f0f921\"]], \"type\": \"surface\"}], \"table\": [{\"cells\": {\"fill\": {\"color\": \"#EBF0F8\"}, \"line\": {\"color\": \"white\"}}, \"header\": {\"fill\": {\"color\": \"#C8D4E3\"}, \"line\": {\"color\": \"white\"}}, \"type\": \"table\"}]}, \"layout\": {\"annotationdefaults\": {\"arrowcolor\": \"#2a3f5f\", \"arrowhead\": 0, \"arrowwidth\": 1}, \"coloraxis\": {\"colorbar\": {\"outlinewidth\": 0, \"ticks\": \"\"}}, \"colorscale\": {\"diverging\": [[0, \"#8e0152\"], [0.1, \"#c51b7d\"], [0.2, \"#de77ae\"], [0.3, \"#f1b6da\"], [0.4, \"#fde0ef\"], [0.5, \"#f7f7f7\"], [0.6, \"#e6f5d0\"], [0.7, \"#b8e186\"], [0.8, \"#7fbc41\"], [0.9, \"#4d9221\"], [1, \"#276419\"]], \"sequential\": [[0.0, \"#0d0887\"], [0.1111111111111111, \"#46039f\"], [0.2222222222222222, \"#7201a8\"], [0.3333333333333333, \"#9c179e\"], [0.4444444444444444, \"#bd3786\"], [0.5555555555555556, \"#d8576b\"], [0.6666666666666666, \"#ed7953\"], [0.7777777777777778, \"#fb9f3a\"], [0.8888888888888888, \"#fdca26\"], [1.0, \"#f0f921\"]], \"sequentialminus\": [[0.0, \"#0d0887\"], [0.1111111111111111, \"#46039f\"], [0.2222222222222222, \"#7201a8\"], [0.3333333333333333, \"#9c179e\"], [0.4444444444444444, \"#bd3786\"], [0.5555555555555556, \"#d8576b\"], [0.6666666666666666, \"#ed7953\"], [0.7777777777777778, \"#fb9f3a\"], [0.8888888888888888, \"#fdca26\"], [1.0, \"#f0f921\"]]}, \"colorway\": [\"#636efa\", \"#EF553B\", \"#00cc96\", \"#ab63fa\", \"#FFA15A\", \"#19d3f3\", \"#FF6692\", \"#B6E880\", \"#FF97FF\", \"#FECB52\"], \"font\": {\"color\": \"#2a3f5f\"}, \"geo\": {\"bgcolor\": \"white\", \"lakecolor\": \"white\", \"landcolor\": \"#E5ECF6\", \"showlakes\": true, \"showland\": true, \"subunitcolor\": \"white\"}, \"hoverlabel\": {\"align\": \"left\"}, \"hovermode\": \"closest\", \"mapbox\": {\"style\": \"light\"}, \"paper_bgcolor\": \"white\", \"plot_bgcolor\": \"#E5ECF6\", \"polar\": {\"angularaxis\": {\"gridcolor\": \"white\", \"linecolor\": \"white\", \"ticks\": \"\"}, \"bgcolor\": \"#E5ECF6\", \"radialaxis\": {\"gridcolor\": \"white\", \"linecolor\": \"white\", \"ticks\": \"\"}}, \"scene\": {\"xaxis\": {\"backgroundcolor\": \"#E5ECF6\", \"gridcolor\": \"white\", \"gridwidth\": 2, \"linecolor\": \"white\", \"showbackground\": true, \"ticks\": \"\", \"zerolinecolor\": \"white\"}, \"yaxis\": {\"backgroundcolor\": \"#E5ECF6\", \"gridcolor\": \"white\", \"gridwidth\": 2, \"linecolor\": \"white\", \"showbackground\": true, \"ticks\": \"\", \"zerolinecolor\": \"white\"}, \"zaxis\": {\"backgroundcolor\": \"#E5ECF6\", \"gridcolor\": \"white\", \"gridwidth\": 2, \"linecolor\": \"white\", \"showbackground\": true, \"ticks\": \"\", \"zerolinecolor\": \"white\"}}, \"shapedefaults\": {\"line\": {\"color\": \"#2a3f5f\"}}, \"ternary\": {\"aaxis\": {\"gridcolor\": \"white\", \"linecolor\": \"white\", \"ticks\": \"\"}, \"baxis\": {\"gridcolor\": \"white\", \"linecolor\": \"white\", \"ticks\": \"\"}, \"bgcolor\": \"#E5ECF6\", \"caxis\": {\"gridcolor\": \"white\", \"linecolor\": \"white\", \"ticks\": \"\"}}, \"title\": {\"x\": 0.05}, \"xaxis\": {\"automargin\": true, \"gridcolor\": \"white\", \"linecolor\": \"white\", \"ticks\": \"\", \"title\": {\"standoff\": 15}, \"zerolinecolor\": \"white\", \"zerolinewidth\": 2}, \"yaxis\": {\"automargin\": true, \"gridcolor\": \"white\", \"linecolor\": \"white\", \"ticks\": \"\", \"title\": {\"standoff\": 15}, \"zerolinecolor\": \"white\", \"zerolinewidth\": 2}}}, \"title\": {\"font\": {\"size\": 16}, \"text\": \"Cluster-Netzwerk Bio\\u00f6konomie\"}, \"xaxis\": {\"showgrid\": false, \"showticklabels\": false, \"zeroline\": false}, \"yaxis\": {\"showgrid\": false, \"showticklabels\": false, \"zeroline\": false}},\n",
       "                        {\"responsive\": true}\n",
       "                    ).then(function(){\n",
       "                            \n",
       "var gd = document.getElementById('2673538c-b1e2-4354-848c-2008b4662505');\n",
       "var x = new MutationObserver(function (mutations, observer) {{\n",
       "        var display = window.getComputedStyle(gd).display;\n",
       "        if (!display || display === 'none') {{\n",
       "            console.log([gd, 'removed!']);\n",
       "            Plotly.purge(gd);\n",
       "            observer.disconnect();\n",
       "        }}\n",
       "}});\n",
       "\n",
       "// Listen for the removal of the full notebook cells\n",
       "var notebookContainer = gd.closest('#notebook-container');\n",
       "if (notebookContainer) {{\n",
       "    x.observe(notebookContainer, {childList: true});\n",
       "}}\n",
       "\n",
       "// Listen for the clearing of the current output cell\n",
       "var outputEl = gd.closest('.output');\n",
       "if (outputEl) {{\n",
       "    x.observe(outputEl, {childList: true});\n",
       "}}\n",
       "\n",
       "                        })\n",
       "                };\n",
       "                });\n",
       "            </script>\n",
       "        </div>"
      ]
     },
     "metadata": {},
     "output_type": "display_data"
    }
   ],
   "source": [
    "def make_edge(x, y, label, width):\n",
    "    #print('make_edge passed_', label)\n",
    "    return go.Scatter(x=x,\n",
    "                      y=y,\n",
    "                      line=dict(width=width,\n",
    "                                color='cornflowerblue'),\n",
    "                      text=label,\n",
    "                      hoverinfo='text',\n",
    "                      mode='lines')\n",
    "\n",
    "G = nx.Graph()\n",
    "G = nx.from_pandas_edgelist(edge_info, 'A', 'B', ['weight'])\n",
    "G.add_nodes_from(layer_3['branche_layer_3'])\n",
    "\n",
    "pos = {}\n",
    "\n",
    "#pos = nx.circular_layout(G)\n",
    "#nx.draw(G)\n",
    "\n",
    "r_L1 = 50\n",
    "r_L2 = 5\n",
    "r_L3 = 0.5\n",
    "\n",
    "\n",
    "fig = go.Figure(\n",
    "    layout=go.Layout(\n",
    "        title='Cluster-Netzwerk Bioökonomie',\n",
    "        titlefont_size=16,\n",
    "        showlegend=False,\n",
    "        hovermode='closest',\n",
    "        margin=dict(b=20, l=5, r=5, t=20),\n",
    "        xaxis=dict(showgrid=False, zeroline=False, showticklabels=False),\n",
    "        yaxis=dict(showgrid=False, zeroline=False, showticklabels=False)))\n",
    "\n",
    "\n",
    "for L1 in angs_L1_dict.keys():\n",
    "    pos[L1] = np.array([r_L1 * np.cos(angs_L1_dict[L1]),\n",
    "                                 r_L1 * np.sin(angs_L1_dict[L1])])\n",
    "    for L2 in angs_L2_dict.keys():\n",
    "        if L3 in pos:\n",
    "            continue\n",
    "        else:        \n",
    "            pos[L2] = np.array([r_L1 * np.cos(angs_L1_dict[L1]) + r_L2 * np.cos(angs_L2_dict[L2]),\n",
    "                                 r_L1 * np.sin(angs_L1_dict[L1]) + r_L2 * np.sin(angs_L2_dict[L2])])\n",
    "        for L3 in angs_L3_dict:\n",
    "            if L3 in pos:\n",
    "                #print('Skipped L3', L3)\n",
    "                continue\n",
    "            else:\n",
    "                print(L3, ' angs = ', angs_L3_dict[L3])\n",
    "                pos[L3] = np.array([r_L1 * np.cos(angs_L1_dict[L1]) + r_L2 * np.cos(angs_L2_dict[L2]) + r_L3 * np.cos(angs_L3_dict[L3]),\n",
    "                                r_L1 * np.sin(angs_L1_dict[L1]) + r_L2 * np.sin(angs_L2_dict[L2]) + r_L3 * np.sin(angs_L3_dict[L3])])\n",
    "\n",
    "            print(L3, pos[L3])\n",
    "            \n",
    "#         fig.add_annotation(\n",
    "#             x=pos[L3][0] - r_L3,\n",
    "#             y=pos[L3][1] + r_L3 * 2,\n",
    "#             text=L2)\n",
    "#     fig.add_annotation(\n",
    "#         x=pos[L2][0] - r_L1,\n",
    "#         y=pos[L2][1] + r_L1 * 2,\n",
    "#         text=L2)\n",
    "\n",
    "# fig.add_annotation(\n",
    "#     x=pos[L1][0] - r_L1,\n",
    "#     y=pos[L1][1] + r_L1 * 2,\n",
    "#     text=L1)\n",
    "\n",
    "fig.update_annotations(\n",
    "        dict(\n",
    "            xref=\"x\",\n",
    "            yref=\"y\",\n",
    "            font_size=15,\n",
    "            bgcolor ='honeydew',\n",
    "            showarrow=False,\n",
    "            arrowhead=7,\n",
    "            ax=0,\n",
    "            ay=-40\n",
    "            ))\n",
    "\n",
    "edge_x = []\n",
    "edge_y = []\n",
    "edge_trace = []\n",
    "\n",
    "for edge in G.edges():\n",
    "    print(edge, pos[edge[0]][0], pos[edge[0]][1], G.edges()[edge]['weight'])\n",
    "    x0, y0 = pos[edge[0]][0], pos[edge[0]][1]\n",
    "    x1, y1 = pos[edge[1]][0], pos[edge[1]][1]\n",
    "    edge_x.append(x0)\n",
    "    edge_x.append(x1)\n",
    "    edge_x.append(None)\n",
    "    edge_y.append(y0)\n",
    "    edge_y.append(y1)\n",
    "    edge_y.append(None)\n",
    "    label = G.edges()[edge]['weight']\n",
    "\n",
    "    trace = make_edge([x0, x1, None], [y0, y1, None], label=label, width=20*G.edges()[edge]['weight'])\n",
    "\n",
    "    edge_trace.append(trace)\n",
    "    \n",
    "    \n",
    "node_x = []\n",
    "node_y = []\n",
    "labels_node = []\n",
    "for node in G.nodes():\n",
    "    #print(pos[node])\n",
    "    x, y = pos[node]\n",
    "    node_x.append(x)\n",
    "    node_y.append(y)\n",
    "    labels_node.append(node)\n",
    "    \n",
    "\n",
    "node_trace = go.Scatter(\n",
    "    x=node_x, y=node_y,\n",
    "    text=labels_node,\n",
    "    mode='markers+text',\n",
    "    hoverinfo='text',\n",
    "    textposition='bottom center',\n",
    "    marker=dict(\n",
    "        showscale=True,\n",
    "        size=dups['weight']*100,\n",
    "        # colorscale options\n",
    "        # 'Greys' | 'YlGnBu' | 'Greens' | 'YlOrRd' | 'Bluered' | 'RdBu' |\n",
    "        # 'Reds' | 'Blues' | 'Picnic' | 'Rainbow' | 'Portland' | 'Jet' |\n",
    "        # 'Hot' | 'Blackbody' | 'Earth' | 'Electric' | 'Viridis' |\n",
    "        colorscale='Greens',\n",
    "        reversescale=True,\n",
    "        color=[],\n",
    "        colorbar=dict(\n",
    "            thickness=1,\n",
    "            title='Anzahl an Verbindungen',\n",
    "            xanchor='left',\n",
    "            titleside='right'\n",
    "        ),\n",
    "        line_width=2))\n",
    "\n",
    "node_adjacencies = []\n",
    "node_text = []\n",
    "for node, adjacencies in enumerate(G.adjacency()):\n",
    "    node_adjacencies.append(len(adjacencies[1]))\n",
    "node_trace.marker.color = node_adjacencies\n",
    "\n",
    "\n",
    "for trace in edge_trace:\n",
    "    fig.add_trace(trace)\n",
    "fig.add_trace(node_trace)\n",
    "fig.show()"
   ]
  },
  {
   "cell_type": "code",
   "execution_count": 221,
   "metadata": {},
   "outputs": [
    {
     "data": {
      "text/plain": [
       "EdgeView([('Agrarunternehmer', 'Floristen (Blumenbinder und Blumeneinzelhändler)'), ('Agrarunternehmer', 'Forstunternehmer'), ('Agrarunternehmer', 'Gartenpflege bzw. eingeschränkte Gewerbeumfänge'), ('Agrarunternehmer', 'Gas- und Sanitärtechnik'), ('Agrarunternehmer', 'Großhandel mit Spielwaren'), ('Agrarunternehmer', 'Handel mit Heizölen und Flüssiggas'), ('Agrarunternehmer', 'Handel mit Holz'), ('Agrarunternehmer', 'Handel mit Holzfabrikaten und Holzhäusern'), ('Agrarunternehmer', 'Handel mit festen, mineralischen oder biogenen Brennstoffen'), ('Agrarunternehmer', 'Handel mit sonstigen Mineralölprodukten'), ('Agrarunternehmer', 'Heizungstechnik'), ('Agrarunternehmer', 'Hobelwerke'), ('Agrarunternehmer', 'Holzbau-Meister'), ('Agrarunternehmer', 'Holzbaugewerbetreibender, eingeschr. auf ausführende Tät.'), ('Agrarunternehmer', 'Holzgestalter'), ('Agrarunternehmer', 'Holzzerkleinerer'), ('Agrarunternehmer', 'Landschaftsgärtner (Garten- und Grünflächengestalter)'), ('Agrarunternehmer', 'Papiereinzelhandel im Rahmen einer Trafik'), ('Agrarunternehmer', 'Sanitärtechniker'), ('Agrarunternehmer', 'Sägewerksunternehmungen'), ('Agrarunternehmer', 'Tischler'), ('Agrarunternehmer', 'Wärmeversorgung unter 5 km und unter 5 MW'), ('Agrarunternehmer', 'Wärmeversorgungsunternehmen'), ('Agrarunternehmer', 'sonstige Sanitär-, Heizungs- und Lüftungstechniker'), ('Floristen (Blumenbinder und Blumeneinzelhändler)', 'Einzelhandel mit Papier-, Schreibwaren und Bürobedarf'), ('Floristen (Blumenbinder und Blumeneinzelhändler)', 'Forstunternehmer'), ('Floristen (Blumenbinder und Blumeneinzelhändler)', 'Friedhofsgärtner'), ('Floristen (Blumenbinder und Blumeneinzelhändler)', 'Gartenpflege bzw. eingeschränkte Gewerbeumfänge'), ('Floristen (Blumenbinder und Blumeneinzelhändler)', 'Gas- und Sanitärtechnik'), ('Floristen (Blumenbinder und Blumeneinzelhändler)', 'Handel mit Heizölen und Flüssiggas'), ('Floristen (Blumenbinder und Blumeneinzelhändler)', 'Handel mit Holz'), ('Floristen (Blumenbinder und Blumeneinzelhändler)', 'Handel mit Papier-, Schreibwaren und Bürobedarf'), ('Floristen (Blumenbinder und Blumeneinzelhändler)', 'Handel mit festen, mineralischen oder biogenen Brennstoffen'), ('Floristen (Blumenbinder und Blumeneinzelhändler)', 'Handel mit sonstigen Mineralölprodukten'), ('Floristen (Blumenbinder und Blumeneinzelhändler)', 'Heizungstechnik'), ('Floristen (Blumenbinder und Blumeneinzelhändler)', 'Holzbau-Meister'), ('Floristen (Blumenbinder und Blumeneinzelhändler)', 'Holzgestalter'), ('Floristen (Blumenbinder und Blumeneinzelhändler)', 'Holzzerkleinerer'), ('Floristen (Blumenbinder und Blumeneinzelhändler)', 'Kleinhandel mit Schnittblumen'), ('Floristen (Blumenbinder und Blumeneinzelhändler)', 'Landschaftsgärtner (Garten- und Grünflächengestalter)'), ('Floristen (Blumenbinder und Blumeneinzelhändler)', 'Lüftungstechnik'), ('Floristen (Blumenbinder und Blumeneinzelhändler)', 'Möbelindustrie'), ('Floristen (Blumenbinder und Blumeneinzelhändler)', 'Papiereinzelhandel im Rahmen einer Trafik'), ('Floristen (Blumenbinder und Blumeneinzelhändler)', 'Sägewerksunternehmungen'), ('Floristen (Blumenbinder und Blumeneinzelhändler)', 'Tischler'), ('Forstunternehmer', 'Bootbauer'), ('Forstunternehmer', 'Drechsler'), ('Forstunternehmer', 'Friedhofsgärtner'), ('Forstunternehmer', 'Gartenpflege bzw. eingeschränkte Gewerbeumfänge'), ('Forstunternehmer', 'Gas- und Sanitärtechnik'), ('Forstunternehmer', 'Handel mit Heizölen und Flüssiggas'), ('Forstunternehmer', 'Handel mit Holz'), ('Forstunternehmer', 'Handel mit Holzfabrikaten und Holzhäusern'), ('Forstunternehmer', 'Handel mit Strom'), ('Forstunternehmer', 'Handel mit festen, mineralischen oder biogenen Brennstoffen'), ('Forstunternehmer', 'Handel mit sonstigen Mineralölprodukten'), ('Forstunternehmer', 'Heizungstechnik'), ('Forstunternehmer', 'Holzbau-Meister'), ('Forstunternehmer', 'Holzbaugewerbetreibender, eingeschr. auf ausführende Tät.'), ('Forstunternehmer', 'Holzbaugewerbetreibender, eingeschränkt auf Teilbereiche'), ('Forstunternehmer', 'Holzgestalter'), ('Forstunternehmer', 'Holzschindelerzeuger'), ('Forstunternehmer', 'Holzverpackungs- und -packmittelindustrie'), ('Forstunternehmer', 'Holzzerkleinerer'), ('Forstunternehmer', 'Landschaftsgärtner (Garten- und Grünflächengestalter)'), ('Forstunternehmer', 'Lüftungstechnik'), ('Forstunternehmer', 'Papiereinzelhandel im Rahmen einer Trafik'), ('Forstunternehmer', 'Parkettbodenleger'), ('Forstunternehmer', 'Rahmen- und Leistenindustrie'), ('Forstunternehmer', 'Sanitärtechniker'), ('Forstunternehmer', 'Sägewerksunternehmungen'), ('Forstunternehmer', 'Tischler'), ('Forstunternehmer', 'Wärmeversorgung unter 5 km und unter 5 MW'), ('Forstunternehmer', 'Wärmeversorgungsunternehmen'), ('Forstunternehmer', 'sonstige Sanitär-, Heizungs- und Lüftungstechniker'), ('Forstunternehmer', 'sonstige holzverarbeitende Industrie'), ('Gartenpflege bzw. eingeschränkte Gewerbeumfänge', 'Drechsler'), ('Gartenpflege bzw. eingeschränkte Gewerbeumfänge', 'Friedhofsgärtner'), ('Gartenpflege bzw. eingeschränkte Gewerbeumfänge', 'Gas- und Sanitärtechnik'), ('Gartenpflege bzw. eingeschränkte Gewerbeumfänge', 'Handel mit Holz'), ('Gartenpflege bzw. eingeschränkte Gewerbeumfänge', 'Handel mit Holzfabrikaten und Holzhäusern'), ('Gartenpflege bzw. eingeschränkte Gewerbeumfänge', 'Handel mit Papier-, Schreibwaren und Bürobedarf'), ('Gartenpflege bzw. eingeschränkte Gewerbeumfänge', 'Handel mit Strom'), ('Gartenpflege bzw. eingeschränkte Gewerbeumfänge', 'Handel mit festen, mineralischen oder biogenen Brennstoffen'), ('Gartenpflege bzw. eingeschränkte Gewerbeumfänge', 'Heizungstechnik'), ('Gartenpflege bzw. eingeschränkte Gewerbeumfänge', 'Holzbau-Meister'), ('Gartenpflege bzw. eingeschränkte Gewerbeumfänge', 'Holzbaugewerbetreibender, eingeschr. auf ausführende Tät.'), ('Gartenpflege bzw. eingeschränkte Gewerbeumfänge', 'Holzbaugewerbetreibender, eingeschränkt auf Teilbereiche'), ('Gartenpflege bzw. eingeschränkte Gewerbeumfänge', 'Holzzerkleinerer'), ('Gartenpflege bzw. eingeschränkte Gewerbeumfänge', 'Kleinhandel mit Schnittblumen'), ('Gartenpflege bzw. eingeschränkte Gewerbeumfänge', 'Landschaftsgärtner (Garten- und Grünflächengestalter)'), ('Gartenpflege bzw. eingeschränkte Gewerbeumfänge', 'Papiereinzelhandel im Rahmen einer Trafik'), ('Gartenpflege bzw. eingeschränkte Gewerbeumfänge', 'Sanitärtechniker'), ('Gartenpflege bzw. eingeschränkte Gewerbeumfänge', 'Sägewerksunternehmungen'), ('Gartenpflege bzw. eingeschränkte Gewerbeumfänge', 'Tischler'), ('Gartenpflege bzw. eingeschränkte Gewerbeumfänge', 'Wärmeversorgung unter 5 km und unter 5 MW'), ('Gartenpflege bzw. eingeschränkte Gewerbeumfänge', 'Wärmeversorgungsunternehmen'), ('Gartenpflege bzw. eingeschränkte Gewerbeumfänge', 'sonstige Sanitär-, Heizungs- und Lüftungstechniker'), ('Gas- und Sanitärtechnik', 'Bootbauer'), ('Gas- und Sanitärtechnik', 'Drechsler'), ('Gas- und Sanitärtechnik', 'Friedhofsgärtner'), ('Gas- und Sanitärtechnik', 'Gastechniker'), ('Gas- und Sanitärtechnik', 'Gasversorgungsunternehmen'), ('Gas- und Sanitärtechnik', 'Handel mit Heizölen und Flüssiggas'), ('Gas- und Sanitärtechnik', 'Handel mit Holz'), ('Gas- und Sanitärtechnik', 'Handel mit Holzfabrikaten und Holzhäusern'), ('Gas- und Sanitärtechnik', 'Handel mit Strom'), ('Gas- und Sanitärtechnik', 'Handel mit festen, mineralischen oder biogenen Brennstoffen'), ('Gas- und Sanitärtechnik', 'Handel mit sonstigen Mineralölprodukten'), ('Gas- und Sanitärtechnik', 'Heizungstechnik'), ('Gas- und Sanitärtechnik', 'Holzbau-Meister'), ('Gas- und Sanitärtechnik', 'Holzbaugewerbetreibender, eingeschr. auf ausführende Tät.'), ('Gas- und Sanitärtechnik', 'Holzbaugewerbetreibender, eingeschränkt auf Teilbereiche'), ('Gas- und Sanitärtechnik', 'Holzhaus- und Hallenbauindustrie'), ('Gas- und Sanitärtechnik', 'Holzzerkleinerer'), ('Gas- und Sanitärtechnik', 'Landschaftsgärtner (Garten- und Grünflächengestalter)'), ('Gas- und Sanitärtechnik', 'Lüftungstechnik'), ('Gas- und Sanitärtechnik', 'Möbelindustrie'), ('Gas- und Sanitärtechnik', 'Parkettbodenleger'), ('Gas- und Sanitärtechnik', 'Sanitärtechniker'), ('Gas- und Sanitärtechnik', 'Sägewerksunternehmungen'), ('Gas- und Sanitärtechnik', 'Tischler'), ('Gas- und Sanitärtechnik', 'Wurzelschnitzer'), ('Gas- und Sanitärtechnik', 'Wärmeversorgung unter 5 km und unter 5 MW'), ('Gas- und Sanitärtechnik', 'Wärmeversorgungsunternehmen'), ('Gas- und Sanitärtechnik', 'sonstige Sanitär-, Heizungs- und Lüftungstechniker'), ('Gas- und Sanitärtechnik', 'sonstige holzverarbeitende Industrie'), ('Großhandel mit Spielwaren', 'Einzelhandel mit Papier-, Schreibwaren und Bürobedarf'), ('Großhandel mit Spielwaren', 'Großhandel mit Papier-, Schreibwaren und Bürobedarf'), ('Großhandel mit Spielwaren', 'Handel mit Papier-, Schreibwaren und Bürobedarf'), ('Großhandel mit Spielwaren', 'Holzgestalter'), ('Großhandel mit Spielwaren', 'Tischler'), ('Großhandel mit Spielwaren', 'industrielle Bautischlereien'), ('Handel mit Heizölen und Flüssiggas', 'Einzelhandel mit Papier-, Schreibwaren und Bürobedarf'), ('Handel mit Heizölen und Flüssiggas', 'Energieholzindustrie'), ('Handel mit Heizölen und Flüssiggas', 'Gaseinrichtungen in mobilen Fahrzeugen und Anlagen'), ('Handel mit Heizölen und Flüssiggas', 'Gastechniker'), ('Handel mit Heizölen und Flüssiggas', 'Gasversorgungsunternehmen'), ('Handel mit Heizölen und Flüssiggas', 'Handel mit Holz'), ('Handel mit Heizölen und Flüssiggas', 'Handel mit Holzfabrikaten und Holzhäusern'), ('Handel mit Heizölen und Flüssiggas', 'Handel mit Post- und Ansichtskarten'), ('Handel mit Heizölen und Flüssiggas', 'Handel mit Strom'), ('Handel mit Heizölen und Flüssiggas', 'Handel mit sonstigen Mineralölprodukten'), ('Handel mit Heizölen und Flüssiggas', 'Heizungstechnik'), ('Handel mit Heizölen und Flüssiggas', 'Holzbau-Meister'), ('Handel mit Heizölen und Flüssiggas', 'Holzzerkleinerer'), ('Handel mit Heizölen und Flüssiggas', 'Landschaftsgärtner (Garten- und Grünflächengestalter)'), ('Handel mit Heizölen und Flüssiggas', 'Sägewerksunternehmungen'), ('Handel mit Heizölen und Flüssiggas', 'Handel mit festen, mineralischen oder biogenen Brennstoffen'), ('Handel mit Holz', 'Bootbauer'), ('Handel mit Holz', 'Drechsler'), ('Handel mit Holz', 'Einzelhandel mit Papier-, Schreibwaren und Bürobedarf'), ('Handel mit Holz', 'Friedhofsgärtner'), ('Handel mit Holz', 'Gasversorgungsunternehmen'), ('Handel mit Holz', 'Großhandel mit Papier-, Schreibwaren und Bürobedarf'), ('Handel mit Holz', 'Handel mit Holzfabrikaten und Holzhäusern'), ('Handel mit Holz', 'Handel mit Papier-, Schreibwaren und Bürobedarf'), ('Handel mit Holz', 'Handel mit Strom'), ('Handel mit Holz', 'Handel mit sonstigen Mineralölprodukten'), ('Handel mit Holz', 'Heizungstechnik'), ('Handel mit Holz', 'Hobelwarenindustrie'), ('Handel mit Holz', 'Hobelwerke'), ('Handel mit Holz', 'Holzbau-Meister'), ('Handel mit Holz', 'Holzbaugewerbetreibender, eingeschr. auf ausführende Tät.'), ('Handel mit Holz', 'Holzbaugewerbetreibender, eingeschränkt auf Teilbereiche'), ('Handel mit Holz', 'Holzgestalter'), ('Handel mit Holz', 'Holzhaus- und Hallenbauindustrie'), ('Handel mit Holz', 'Holzimprägnier- und -veredelungsindustrie'), ('Handel mit Holz', 'Holzschindelerzeuger'), ('Handel mit Holz', 'Holzverpackungs- und -packmittelindustrie'), ('Handel mit Holz', 'Holzzerkleinerer'), ('Handel mit Holz', 'Kleinhandel mit Schnittblumen'), ('Handel mit Holz', 'Landschaftsgärtner (Garten- und Grünflächengestalter)'), ('Handel mit Holz', 'Leimholzindustrie'), ('Handel mit Holz', 'Lüftungstechnik'), ('Handel mit Holz', 'Möbelindustrie'), ('Handel mit Holz', 'Papiereinzelhandel im Rahmen einer Trafik'), ('Handel mit Holz', 'Parkettbodenleger'), ('Handel mit Holz', 'Parkettindustrie'), ('Handel mit Holz', 'Rahmen- und Leistenindustrie'), ('Handel mit Holz', 'Sanitärtechniker'), ('Handel mit Holz', 'Sonstige industrielle Papierverarbeitung'), ('Handel mit Holz', 'Sägewerksunternehmungen'), ('Handel mit Holz', 'Tischler'), ('Handel mit Holz', 'Wärmeversorgung unter 5 km und unter 5 MW'), ('Handel mit Holz', 'Wärmeversorgungsunternehmen'), ('Handel mit Holz', 'industrielle Bautischlereien'), ('Handel mit Holz', 'sonstige Sanitär-, Heizungs- und Lüftungstechniker'), ('Handel mit Holz', 'sonstige holzverarbeitende Industrie'), ('Handel mit Holz', 'Handel mit festen, mineralischen oder biogenen Brennstoffen'), ('Handel mit Holzfabrikaten und Holzhäusern', 'Handel mit Strom'), ('Handel mit Holzfabrikaten und Holzhäusern', 'Heizungstechnik'), ('Handel mit Holzfabrikaten und Holzhäusern', 'Hobelwarenindustrie'), ('Handel mit Holzfabrikaten und Holzhäusern', 'Holzbau-Meister'), ('Handel mit Holzfabrikaten und Holzhäusern', 'Holzbaugewerbetreibender, eingeschr. auf ausführende Tät.'), ('Handel mit Holzfabrikaten und Holzhäusern', 'Holzbaugewerbetreibender, eingeschränkt auf Teilbereiche'), ('Handel mit Holzfabrikaten und Holzhäusern', 'Landschaftsgärtner (Garten- und Grünflächengestalter)'), ('Handel mit Holzfabrikaten und Holzhäusern', 'Leimholzindustrie'), ('Handel mit Holzfabrikaten und Holzhäusern', 'Parkettbodenleger'), ('Handel mit Holzfabrikaten und Holzhäusern', 'Parkettindustrie'), ('Handel mit Holzfabrikaten und Holzhäusern', 'Sägewerksunternehmungen'), ('Handel mit Holzfabrikaten und Holzhäusern', 'Tischler'), ('Handel mit Holzfabrikaten und Holzhäusern', 'Wärmeversorgung unter 5 km und unter 5 MW'), ('Handel mit Holzfabrikaten und Holzhäusern', 'Wärmeversorgungsunternehmen'), ('Handel mit Holzfabrikaten und Holzhäusern', 'industrielle Bautischlereien'), ('Handel mit Holzfabrikaten und Holzhäusern', 'sonstige holzverarbeitende Industrie'), ('Handel mit Holzfabrikaten und Holzhäusern', 'Handel mit festen, mineralischen oder biogenen Brennstoffen'), ('Handel mit festen, mineralischen oder biogenen Brennstoffen', 'Energieholzindustrie'), ('Handel mit festen, mineralischen oder biogenen Brennstoffen', 'Gastechniker'), ('Handel mit festen, mineralischen oder biogenen Brennstoffen', 'Gasversorgungsunternehmen'), ('Handel mit festen, mineralischen oder biogenen Brennstoffen', 'Handel mit Strom'), ('Handel mit festen, mineralischen oder biogenen Brennstoffen', 'Handel mit sonstigen Mineralölprodukten'), ('Handel mit festen, mineralischen oder biogenen Brennstoffen', 'Heizungstechnik'), ('Handel mit festen, mineralischen oder biogenen Brennstoffen', 'Holzbau-Meister'), ('Handel mit festen, mineralischen oder biogenen Brennstoffen', 'Holzbaugewerbetreibender, eingeschr. auf ausführende Tät.'), ('Handel mit festen, mineralischen oder biogenen Brennstoffen', 'Holzgestalter'), ('Handel mit festen, mineralischen oder biogenen Brennstoffen', 'Holzzerkleinerer'), ('Handel mit festen, mineralischen oder biogenen Brennstoffen', 'Landschaftsgärtner (Garten- und Grünflächengestalter)'), ('Handel mit festen, mineralischen oder biogenen Brennstoffen', 'Lüftungstechnik'), ('Handel mit festen, mineralischen oder biogenen Brennstoffen', 'Sanitärtechniker'), ('Handel mit festen, mineralischen oder biogenen Brennstoffen', 'Sägewerksunternehmungen'), ('Handel mit festen, mineralischen oder biogenen Brennstoffen', 'Tischler'), ('Handel mit festen, mineralischen oder biogenen Brennstoffen', 'Wärmeversorgung unter 5 km und unter 5 MW'), ('Handel mit festen, mineralischen oder biogenen Brennstoffen', 'Wärmeversorgungsunternehmen'), ('Handel mit festen, mineralischen oder biogenen Brennstoffen', 'sonstige holzverarbeitende Industrie'), ('Handel mit sonstigen Mineralölprodukten', 'Gasversorgungsunternehmen'), ('Handel mit sonstigen Mineralölprodukten', 'Handel mit Strom'), ('Handel mit sonstigen Mineralölprodukten', 'Heizungstechnik'), ('Handel mit sonstigen Mineralölprodukten', 'Holzzerkleinerer'), ('Handel mit sonstigen Mineralölprodukten', 'Landschaftsgärtner (Garten- und Grünflächengestalter)'), ('Handel mit sonstigen Mineralölprodukten', 'Wärmeversorgung unter 5 km und unter 5 MW'), ('Handel mit sonstigen Mineralölprodukten', 'Wärmeversorgungsunternehmen'), ('Heizungstechnik', 'Drechsler'), ('Heizungstechnik', 'Gastechniker'), ('Heizungstechnik', 'Gasversorgungsunternehmen'), ('Heizungstechnik', 'Handel mit Strom'), ('Heizungstechnik', 'Holzbau-Meister'), ('Heizungstechnik', 'Holzbaugewerbetreibender, eingeschr. auf ausführende Tät.'), ('Heizungstechnik', 'Holzbaugewerbetreibender, eingeschränkt auf Teilbereiche'), ('Heizungstechnik', 'Holzhaus- und Hallenbauindustrie'), ('Heizungstechnik', 'Holzzerkleinerer'), ('Heizungstechnik', 'Korb- und Möbelflechter'), ('Heizungstechnik', 'Landschaftsgärtner (Garten- und Grünflächengestalter)'), ('Heizungstechnik', 'Lüftungstechnik'), ('Heizungstechnik', 'Parkettbodenleger'), ('Heizungstechnik', 'Sanitärtechniker'), ('Heizungstechnik', 'Sägewerksunternehmungen'), ('Heizungstechnik', 'Tischler'), ('Heizungstechnik', 'Wärmeversorgung unter 5 km und unter 5 MW'), ('Heizungstechnik', 'Wärmeversorgungsunternehmen'), ('Heizungstechnik', 'sonstige Sanitär-, Heizungs- und Lüftungstechniker'), ('Heizungstechnik', 'sonstige holzverarbeitende Industrie'), ('Hobelwerke', 'Holzbau-Meister'), ('Hobelwerke', 'Parkettbodenleger'), ('Hobelwerke', 'Sägewerksunternehmungen'), ('Hobelwerke', 'Tischler'), ('Holzbau-Meister', 'Drechsler'), ('Holzbau-Meister', 'Hobelwarenindustrie'), ('Holzbau-Meister', 'Holzbaugewerbetreibender, eingeschr. auf ausführende Tät.'), ('Holzbau-Meister', 'Holzbaugewerbetreibender, eingeschränkt auf Teilbereiche'), ('Holzbau-Meister', 'Holzgestalter'), ('Holzbau-Meister', 'Holzhaus- und Hallenbauindustrie'), ('Holzbau-Meister', 'Landschaftsgärtner (Garten- und Grünflächengestalter)'), ('Holzbau-Meister', 'Leimholzindustrie'), ('Holzbau-Meister', 'Lüftungstechnik'), ('Holzbau-Meister', 'Parkettbodenleger'), ('Holzbau-Meister', 'Sägewerksunternehmungen'), ('Holzbau-Meister', 'Tischler'), ('Holzbau-Meister', 'Wärmeversorgung unter 5 km und unter 5 MW'), ('Holzbau-Meister', 'Wärmeversorgungsunternehmen'), ('Holzbau-Meister', 'industrielle Bautischlereien'), ('Holzbau-Meister', 'sonstige holzverarbeitende Industrie'), ('Holzbaugewerbetreibender, eingeschr. auf ausführende Tät.', 'Einzelhandel mit Papier-, Schreibwaren und Bürobedarf'), ('Holzbaugewerbetreibender, eingeschr. auf ausführende Tät.', 'Holzbaugewerbetreibender, eingeschränkt auf Teilbereiche'), ('Holzbaugewerbetreibender, eingeschr. auf ausführende Tät.', 'Holzgestalter'), ('Holzbaugewerbetreibender, eingeschr. auf ausführende Tät.', 'Holzschindelerzeuger'), ('Holzbaugewerbetreibender, eingeschr. auf ausführende Tät.', 'Landschaftsgärtner (Garten- und Grünflächengestalter)'), ('Holzbaugewerbetreibender, eingeschr. auf ausführende Tät.', 'Lüftungstechnik'), ('Holzbaugewerbetreibender, eingeschr. auf ausführende Tät.', 'Parkettbodenleger'), ('Holzbaugewerbetreibender, eingeschr. auf ausführende Tät.', 'Sanitärtechniker'), ('Holzbaugewerbetreibender, eingeschr. auf ausführende Tät.', 'Sägewerksunternehmungen'), ('Holzbaugewerbetreibender, eingeschr. auf ausführende Tät.', 'Tischler'), ('Holzbaugewerbetreibender, eingeschr. auf ausführende Tät.', 'sonstige holzverarbeitende Industrie'), ('Holzgestalter', 'Bootbauer'), ('Holzgestalter', 'Holzbaugewerbetreibender, eingeschränkt auf Teilbereiche'), ('Holzgestalter', 'Holzschindelerzeuger'), ('Holzgestalter', 'Holzzerkleinerer'), ('Holzgestalter', 'Landschaftsgärtner (Garten- und Grünflächengestalter)'), ('Holzgestalter', 'Parkettbodenleger'), ('Holzgestalter', 'Sägewerksunternehmungen'), ('Holzgestalter', 'Tischler'), ('Holzgestalter', 'Wärmeversorgungsunternehmen'), ('Holzzerkleinerer', 'Energieholzindustrie'), ('Holzzerkleinerer', 'Handel mit Strom'), ('Holzzerkleinerer', 'Holzbaugewerbetreibender, eingeschränkt auf Teilbereiche'), ('Holzzerkleinerer', 'Landschaftsgärtner (Garten- und Grünflächengestalter)'), ('Holzzerkleinerer', 'Lüftungstechnik'), ('Holzzerkleinerer', 'Sägewerksunternehmungen'), ('Holzzerkleinerer', 'Tischler'), ('Holzzerkleinerer', 'Wärmeversorgung unter 5 km und unter 5 MW'), ('Holzzerkleinerer', 'sonstige Sanitär-, Heizungs- und Lüftungstechniker'), ('Landschaftsgärtner (Garten- und Grünflächengestalter)', 'Bootbauer'), ('Landschaftsgärtner (Garten- und Grünflächengestalter)', 'Einzelhandel mit Papier-, Schreibwaren und Bürobedarf'), ('Landschaftsgärtner (Garten- und Grünflächengestalter)', 'Friedhofsgärtner'), ('Landschaftsgärtner (Garten- und Grünflächengestalter)', 'Handel mit Papier-, Schreibwaren und Bürobedarf'), ('Landschaftsgärtner (Garten- und Grünflächengestalter)', 'Handel mit Strom'), ('Landschaftsgärtner (Garten- und Grünflächengestalter)', 'Kleinhandel mit Schnittblumen'), ('Landschaftsgärtner (Garten- und Grünflächengestalter)', 'Lüftungstechnik'), ('Landschaftsgärtner (Garten- und Grünflächengestalter)', 'Papiereinzelhandel im Rahmen einer Trafik'), ('Landschaftsgärtner (Garten- und Grünflächengestalter)', 'Parkettbodenleger'), ('Landschaftsgärtner (Garten- und Grünflächengestalter)', 'Sanitärtechniker'), ('Landschaftsgärtner (Garten- und Grünflächengestalter)', 'Sägewerksunternehmungen'), ('Landschaftsgärtner (Garten- und Grünflächengestalter)', 'Tischler'), ('Landschaftsgärtner (Garten- und Grünflächengestalter)', 'Wärmeversorgung unter 5 km und unter 5 MW'), ('Landschaftsgärtner (Garten- und Grünflächengestalter)', 'Wärmeversorgungsunternehmen'), ('Landschaftsgärtner (Garten- und Grünflächengestalter)', 'sonstige Sanitär-, Heizungs- und Lüftungstechniker'), ('Landschaftsgärtner (Garten- und Grünflächengestalter)', 'sonstige holzverarbeitende Industrie'), ('Papiereinzelhandel im Rahmen einer Trafik', 'Einzelhandel mit Papier-, Schreibwaren und Bürobedarf'), ('Papiereinzelhandel im Rahmen einer Trafik', 'Einzelhandel mit Romane, Zeitschriften und Magazine'), ('Papiereinzelhandel im Rahmen einer Trafik', 'Handel mit Papier-, Schreibwaren und Bürobedarf'), ('Papiereinzelhandel im Rahmen einer Trafik', 'Sägewerksunternehmungen'), ('Papiereinzelhandel im Rahmen einer Trafik', 'Tischler'), ('Sanitärtechniker', 'Friedhofsgärtner'), ('Sanitärtechniker', 'Gastechniker'), ('Sanitärtechniker', 'Gasversorgungsunternehmen'), ('Sanitärtechniker', 'Handel mit Strom'), ('Sanitärtechniker', 'Lüftungstechnik'), ('Sanitärtechniker', 'Tischler'), ('Sanitärtechniker', 'Wärmeversorgung unter 5 km und unter 5 MW'), ('Sanitärtechniker', 'Wärmeversorgungsunternehmen'), ('Sanitärtechniker', 'sonstige Sanitär-, Heizungs- und Lüftungstechniker'), ('Sägewerksunternehmungen', 'Hobelwarenindustrie'), ('Sägewerksunternehmungen', 'Holzbaugewerbetreibender, eingeschränkt auf Teilbereiche'), ('Sägewerksunternehmungen', 'Holzhaus- und Hallenbauindustrie'), ('Sägewerksunternehmungen', 'Holzverpackungs- und -packmittelindustrie'), ('Sägewerksunternehmungen', 'Holzwerkstoffindustrie'), ('Sägewerksunternehmungen', 'Leimholzindustrie'), ('Sägewerksunternehmungen', 'Lüftungstechnik'), ('Sägewerksunternehmungen', 'Parkettbodenleger'), ('Sägewerksunternehmungen', 'Parkettindustrie'), ('Sägewerksunternehmungen', 'Rahmen- und Leistenindustrie'), ('Sägewerksunternehmungen', 'Ski- und Sportarktikelindustrie'), ('Sägewerksunternehmungen', 'Tischler'), ('Sägewerksunternehmungen', 'Wärmeversorgung unter 5 km und unter 5 MW'), ('Sägewerksunternehmungen', 'Wärmeversorgungsunternehmen'), ('Sägewerksunternehmungen', 'industrielle Bautischlereien'), ('Sägewerksunternehmungen', 'sonstige holzverarbeitende Industrie'), ('Tischler', 'Bootbauer'), ('Tischler', 'Drechsler'), ('Tischler', 'Einzelhandel mit Papier-, Schreibwaren und Bürobedarf'), ('Tischler', 'Einzelhandel mit Romane, Zeitschriften und Magazine'), ('Tischler', 'Friedhofsgärtner'), ('Tischler', 'Handel mit Papier-, Schreibwaren und Bürobedarf'), ('Tischler', 'Holzbaugewerbetreibender, eingeschränkt auf Teilbereiche'), ('Tischler', 'Holzschindelerzeuger'), ('Tischler', 'Kleinhandel mit Schnittblumen'), ('Tischler', 'Lüftungstechnik'), ('Tischler', 'Möbelindustrie'), ('Tischler', 'Parkettbodenleger'), ('Tischler', 'Wärmeversorgung unter 5 km und unter 5 MW'), ('Tischler', 'Wärmeversorgungsunternehmen'), ('Tischler', 'industrielle Bautischlereien'), ('Tischler', 'sonstige Sanitär-, Heizungs- und Lüftungstechniker'), ('Tischler', 'sonstige holzverarbeitende Industrie'), ('Wärmeversorgung unter 5 km und unter 5 MW', 'Gasversorgungsunternehmen'), ('Wärmeversorgung unter 5 km und unter 5 MW', 'Handel mit Strom'), ('Wärmeversorgung unter 5 km und unter 5 MW', 'Holzschindelerzeuger'), ('Wärmeversorgung unter 5 km und unter 5 MW', 'Kleinhandel mit Schnittblumen'), ('Wärmeversorgung unter 5 km und unter 5 MW', 'Lüftungstechnik'), ('Wärmeversorgung unter 5 km und unter 5 MW', 'Parkettbodenleger'), ('Wärmeversorgung unter 5 km und unter 5 MW', 'Wärmeversorgungsunternehmen'), ('Wärmeversorgung unter 5 km und unter 5 MW', 'sonstige holzverarbeitende Industrie'), ('Wärmeversorgungsunternehmen', 'Energieholzindustrie'), ('Wärmeversorgungsunternehmen', 'Gastechniker'), ('Wärmeversorgungsunternehmen', 'Gasversorgungsunternehmen'), ('Wärmeversorgungsunternehmen', 'Handel mit Strom'), ('Wärmeversorgungsunternehmen', 'Lüftungstechnik'), ('Wärmeversorgungsunternehmen', 'Papier-, Zellstoff-, Holzstoff- und Pappenindustrie'), ('Wärmeversorgungsunternehmen', 'Sonstige industrielle Papierverarbeitung'), ('Wärmeversorgungsunternehmen', 'sonstige Sanitär-, Heizungs- und Lüftungstechniker'), ('Wärmeversorgungsunternehmen', 'sonstige holzverarbeitende Industrie'), ('sonstige Sanitär-, Heizungs- und Lüftungstechniker', 'Gastechniker'), ('sonstige Sanitär-, Heizungs- und Lüftungstechniker', 'Lüftungstechnik'), ('Bootbauer', 'Drechsler'), ('Drechsler', 'Handel mit Papier-, Schreibwaren und Bürobedarf'), ('Drechsler', 'Parkettbodenleger'), ('Büro- und Organisationsmittelindustrie', 'Großhandel mit Papier-, Schreibwaren und Bürobedarf'), ('Büro- und Organisationsmittelindustrie', 'Papier-, Zellstoff-, Holzstoff- und Pappenindustrie'), ('Büro- und Organisationsmittelindustrie', 'Sonstige industrielle Papierverarbeitung'), ('Büro- und Organisationsmittelindustrie', 'Sonstige industrielle Verpackungsherstellung'), ('Großhandel mit Papier-, Schreibwaren und Bürobedarf', 'Einzelhandel mit Papier-, Schreibwaren und Bürobedarf'), ('Großhandel mit Papier-, Schreibwaren und Bürobedarf', 'Einzelhandel mit Romane, Zeitschriften und Magazine'), ('Großhandel mit Papier-, Schreibwaren und Bürobedarf', 'Großhandel mit Romanen, Zeitschriften und Magazinen'), ('Großhandel mit Papier-, Schreibwaren und Bürobedarf', 'Handel mit Papier-, Schreibwaren und Bürobedarf'), ('Großhandel mit Papier-, Schreibwaren und Bürobedarf', 'Handel mit Post- und Ansichtskarten'), ('Großhandel mit Papier-, Schreibwaren und Bürobedarf', 'Herstellung von Dekorations- und Festartikeln'), ('Großhandel mit Papier-, Schreibwaren und Bürobedarf', 'Herstellung von Spielkarten und anderer Spielwaren aller Art'), ('Großhandel mit Papier-, Schreibwaren und Bürobedarf', 'Kartonagenindustrie'), ('Großhandel mit Papier-, Schreibwaren und Bürobedarf', 'Möbelindustrie'), ('Großhandel mit Papier-, Schreibwaren und Bürobedarf', 'Papier- und Kartonveredelungsindustrie'), ('Großhandel mit Papier-, Schreibwaren und Bürobedarf', 'Papier-, Zellstoff-, Holzstoff- und Pappenindustrie'), ('Großhandel mit Papier-, Schreibwaren und Bürobedarf', 'Sonstige industrielle Papierverarbeitung'), ('Großhandel mit Papier-, Schreibwaren und Bürobedarf', 'Verpackungsindustrie'), ('Großhandel mit Papier-, Schreibwaren und Bürobedarf', 'Wellpappeindustrie'), ('Papier-, Zellstoff-, Holzstoff- und Pappenindustrie', 'Gasversorgungsunternehmen'), ('Papier-, Zellstoff-, Holzstoff- und Pappenindustrie', 'Handel mit Papier-, Schreibwaren und Bürobedarf'), ('Papier-, Zellstoff-, Holzstoff- und Pappenindustrie', 'Industrie hygienischer Papierwaren'), ('Papier-, Zellstoff-, Holzstoff- und Pappenindustrie', 'Kartonagenindustrie'), ('Papier-, Zellstoff-, Holzstoff- und Pappenindustrie', 'Papier- und Kartonveredelungsindustrie'), ('Papier-, Zellstoff-, Holzstoff- und Pappenindustrie', 'Sonstige industrielle Papierverarbeitung'), ('Papier-, Zellstoff-, Holzstoff- und Pappenindustrie', 'Verpackungsindustrie'), ('Papier-, Zellstoff-, Holzstoff- und Pappenindustrie', 'Wellpappeindustrie'), ('Sonstige industrielle Papierverarbeitung', 'Einzelhandel mit Papier-, Schreibwaren und Bürobedarf'), ('Sonstige industrielle Papierverarbeitung', 'Herstellung von Spielkarten und anderer Spielwaren aller Art'), ('Sonstige industrielle Papierverarbeitung', 'Industrielle Buchbindereien'), ('Sonstige industrielle Papierverarbeitung', 'Kartonagenindustrie'), ('Sonstige industrielle Papierverarbeitung', 'Leimholzindustrie'), ('Sonstige industrielle Papierverarbeitung', 'Papier- und Kartonveredelungsindustrie'), ('Sonstige industrielle Papierverarbeitung', 'Verpackungsindustrie'), ('Sonstige industrielle Papierverarbeitung', 'Wellpappeindustrie'), ('Sonstige industrielle Papierverarbeitung', 'sonstige holzverarbeitende Industrie'), ('Sonstige industrielle Verpackungsherstellung', 'sonstige holzverarbeitende Industrie'), ('Handel mit Papier-, Schreibwaren und Bürobedarf', 'Einzelhandel mit Papier-, Schreibwaren und Bürobedarf'), ('Handel mit Papier-, Schreibwaren und Bürobedarf', 'Einzelhandel mit Romane, Zeitschriften und Magazine'), ('Handel mit Papier-, Schreibwaren und Bürobedarf', 'Großhandel mit Romanen, Zeitschriften und Magazinen'), ('Handel mit Papier-, Schreibwaren und Bürobedarf', 'Handel mit Post- und Ansichtskarten'), ('Handel mit Papier-, Schreibwaren und Bürobedarf', 'Industrie flexibler Verpackungen'), ('Handel mit Papier-, Schreibwaren und Bürobedarf', 'Verpackungsindustrie'), ('Parkettbodenleger', 'Einzelhandel mit Papier-, Schreibwaren und Bürobedarf'), ('Einzelhandel mit Papier-, Schreibwaren und Bürobedarf', 'Einzelhandel mit Romane, Zeitschriften und Magazine'), ('Einzelhandel mit Papier-, Schreibwaren und Bürobedarf', 'Großhandel mit Romanen, Zeitschriften und Magazinen'), ('Einzelhandel mit Papier-, Schreibwaren und Bürobedarf', 'Handel mit Post- und Ansichtskarten'), ('Einzelhandel mit Papier-, Schreibwaren und Bürobedarf', 'Herstellung von Spielkarten und anderer Spielwaren aller Art'), ('Einzelhandel mit Romane, Zeitschriften und Magazine', 'Handel mit Post- und Ansichtskarten'), ('Großhandel mit Romanen, Zeitschriften und Magazinen', 'Handel mit Post- und Ansichtskarten'), ('Faltschachtelindustrie', 'Kartonagenindustrie'), ('Faltschachtelindustrie', 'Papier- und Kartonveredelungsindustrie'), ('Faltschachtelindustrie', 'Wellpappeindustrie'), ('Kartonagenindustrie', 'Konfektionierung Papier,Karton,Pappe zu Produkten aller Art'), ('Kartonagenindustrie', 'Packstoffveredelungs- und Zurichteindustrie'), ('Kartonagenindustrie', 'Papier- und Kartonveredelungsindustrie'), ('Kartonagenindustrie', 'Verpackungsindustrie'), ('Kartonagenindustrie', 'Wellpappeindustrie'), ('Papier- und Kartonveredelungsindustrie', 'Packstoffveredelungs- und Zurichteindustrie'), ('Papier- und Kartonveredelungsindustrie', 'Verpackungsindustrie'), ('Papier- und Kartonveredelungsindustrie', 'Wellpappeindustrie'), ('Friedhofsgärtner', 'Kleinhandel mit Schnittblumen'), ('Lüftungstechnik', 'Gastechniker'), ('Lüftungstechnik', 'Gasversorgungsunternehmen'), ('Lüftungstechnik', 'Handel mit Strom'), ('Lüftungstechnik', 'Holzhaus- und Hallenbauindustrie'), ('Lüftungstechnik', 'Korb- und Möbelflechter'), ('Lüftungstechnik', 'sonstige holzverarbeitende Industrie'), ('Möbelindustrie', 'sonstige holzverarbeitende Industrie'), ('Möbelindustrie', 'industrielle Bautischlereien'), ('Handel mit Strom', 'Gastechniker'), ('Handel mit Strom', 'Gasversorgungsunternehmen'), ('Holzbaugewerbetreibender, eingeschränkt auf Teilbereiche', 'industrielle Bautischlereien'), ('Holzbaugewerbetreibender, eingeschränkt auf Teilbereiche', 'sonstige holzverarbeitende Industrie'), ('Holzverpackungs- und -packmittelindustrie', 'Hobelwarenindustrie'), ('Holzverpackungs- und -packmittelindustrie', 'Rahmen- und Leistenindustrie'), ('sonstige holzverarbeitende Industrie', 'Gaseinrichtungen in mobilen Fahrzeugen und Anlagen'), ('sonstige holzverarbeitende Industrie', 'Holzimprägnier- und -veredelungsindustrie'), ('sonstige holzverarbeitende Industrie', 'Leimholzindustrie'), ('sonstige holzverarbeitende Industrie', 'Parkettindustrie'), ('sonstige holzverarbeitende Industrie', 'Ski- und Sportarktikelindustrie'), ('sonstige holzverarbeitende Industrie', 'industrielle Bautischlereien'), ('sonstige holzverarbeitende Industrie', 'Verpackungsindustrie'), ('Gastechniker', 'Gasversorgungsunternehmen'), ('Holzhaus- und Hallenbauindustrie', 'industrielle Bautischlereien'), ('Verpackungsindustrie', 'Konfektionierung Papier,Karton,Pappe zu Produkten aller Art'), ('industrielle Bautischlereien', 'Leimholzindustrie'), ('Hobelwarenindustrie', 'Leimholzindustrie'), ('Herstellung von Etiketten aller Art', 'Konfektionierung Papier,Karton,Pappe zu Produkten aller Art'), ('Holzwerkstoffindustrie', 'Ski- und Sportarktikelindustrie')])"
      ]
     },
     "execution_count": 221,
     "metadata": {},
     "output_type": "execute_result"
    }
   ],
   "source": [
    "G.edges()"
   ]
  }
 ],
 "metadata": {
  "kernelspec": {
   "display_name": "Python 3",
   "language": "python",
   "name": "python3"
  },
  "language_info": {
   "codemirror_mode": {
    "name": "ipython",
    "version": 3
   },
   "file_extension": ".py",
   "mimetype": "text/x-python",
   "name": "python",
   "nbconvert_exporter": "python",
   "pygments_lexer": "ipython3",
   "version": "3.7.6"
  }
 },
 "nbformat": 4,
 "nbformat_minor": 4
}
